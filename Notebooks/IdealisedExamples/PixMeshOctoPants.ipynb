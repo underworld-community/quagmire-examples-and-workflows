{
 "cells": [
  {
   "cell_type": "markdown",
   "metadata": {},
   "source": [
    "# PixMeshes and the Octopants Landscape\n",
    "\n"
   ]
  },
  {
   "cell_type": "code",
   "execution_count": 1,
   "metadata": {},
   "outputs": [],
   "source": [
    "import matplotlib.pyplot as plt\n",
    "import numpy as np\n",
    "from scipy.ndimage import imread\n",
    "from quagmire import tools as meshtools\n",
    "%matplotlib inline"
   ]
  },
  {
   "cell_type": "markdown",
   "metadata": {
    "collapsed": true
   },
   "source": [
    "## PixMesh\n",
    "\n"
   ]
  },
  {
   "cell_type": "code",
   "execution_count": 2,
   "metadata": {},
   "outputs": [],
   "source": [
    "from quagmire import FlatMesh \n",
    "from quagmire import TopoMesh # all routines we need are within this class\n",
    "from quagmire import SurfaceProcessMesh\n",
    "\n",
    "meshX = 1000\n",
    "meshY = 1000\n",
    "\n",
    "DM = meshtools.create_DMDA(-5.0, 5.0, -5.0, 5.0, meshX, meshY )\n"
   ]
  },
  {
   "cell_type": "code",
   "execution_count": 3,
   "metadata": {},
   "outputs": [
    {
     "name": "stdout",
     "output_type": "stream",
     "text": [
      " - Construct neighbour array 2.789649s\n",
      " - cKDTree 1.8030210000000002s\n",
      " - Find boundaries 0.006092999999999904s\n",
      " - Build smoothing matrix 0.37116799999999994s\n",
      " - Construct neighbour cloud array 4.528817s\n",
      " - Construct rbf weights 13.385676s\n"
     ]
    },
    {
     "ename": "AttributeError",
     "evalue": "'SurfaceProcessMeshClass' object has no attribute 'add_variable'",
     "output_type": "error",
     "traceback": [
      "\u001b[0;31m---------------------------------------------------------------------------\u001b[0m",
      "\u001b[0;31mAttributeError\u001b[0m                            Traceback (most recent call last)",
      "\u001b[0;32m<ipython-input-3-54501945a007>\u001b[0m in \u001b[0;36m<module>\u001b[0;34m\u001b[0m\n\u001b[0;32m----> 1\u001b[0;31m \u001b[0mmesh\u001b[0m \u001b[0;34m=\u001b[0m \u001b[0mSurfaceProcessMesh\u001b[0m\u001b[0;34m(\u001b[0m\u001b[0mDM\u001b[0m\u001b[0;34m)\u001b[0m  \u001b[0;31m## cloud array etc can surely be done better ...\u001b[0m\u001b[0;34m\u001b[0m\u001b[0m\n\u001b[0m\u001b[1;32m      2\u001b[0m \u001b[0mmesh_noise\u001b[0m \u001b[0;34m=\u001b[0m \u001b[0mSurfaceProcessMesh\u001b[0m\u001b[0;34m(\u001b[0m\u001b[0mDM\u001b[0m\u001b[0;34m)\u001b[0m\u001b[0;34m\u001b[0m\u001b[0m\n",
      "\u001b[0;32m~/.local/lib/python3.5/site-packages/quagmire/__init__.py\u001b[0m in \u001b[0;36mSurfaceProcessMesh\u001b[0;34m(DM, *args, **kwargs)\u001b[0m\n\u001b[1;32m    174\u001b[0m                 \u001b[0;31m# super(SurfaceProcessMeshClass, self).__init__(dm, *args, **kwargs)\u001b[0m\u001b[0;34m\u001b[0m\u001b[0;34m\u001b[0m\u001b[0m\n\u001b[1;32m    175\u001b[0m \u001b[0;34m\u001b[0m\u001b[0m\n\u001b[0;32m--> 176\u001b[0;31m         \u001b[0;32mreturn\u001b[0m \u001b[0mSurfaceProcessMeshClass\u001b[0m\u001b[0;34m(\u001b[0m\u001b[0mDM\u001b[0m\u001b[0;34m,\u001b[0m \u001b[0;34m*\u001b[0m\u001b[0margs\u001b[0m\u001b[0;34m,\u001b[0m \u001b[0;34m**\u001b[0m\u001b[0mkwargs\u001b[0m\u001b[0;34m)\u001b[0m\u001b[0;34m\u001b[0m\u001b[0m\n\u001b[0m\u001b[1;32m    177\u001b[0m \u001b[0;34m\u001b[0m\u001b[0m\n\u001b[1;32m    178\u001b[0m     \u001b[0;32melse\u001b[0m\u001b[0;34m:\u001b[0m\u001b[0;34m\u001b[0m\u001b[0m\n",
      "\u001b[0;32m~/.local/lib/python3.5/site-packages/quagmire/__init__.py\u001b[0m in \u001b[0;36m__init__\u001b[0;34m(self, dm, *args, **kwargs)\u001b[0m\n\u001b[1;32m    170\u001b[0m             \u001b[0;32mdef\u001b[0m \u001b[0m__init__\u001b[0m\u001b[0;34m(\u001b[0m\u001b[0mself\u001b[0m\u001b[0;34m,\u001b[0m \u001b[0mdm\u001b[0m\u001b[0;34m,\u001b[0m \u001b[0;34m*\u001b[0m\u001b[0margs\u001b[0m\u001b[0;34m,\u001b[0m \u001b[0;34m**\u001b[0m\u001b[0mkwargs\u001b[0m\u001b[0;34m)\u001b[0m\u001b[0;34m:\u001b[0m\u001b[0;34m\u001b[0m\u001b[0m\n\u001b[1;32m    171\u001b[0m                 \u001b[0mknown_basemesh_classes\u001b[0m\u001b[0;34m[\u001b[0m\u001b[0mBaseMeshType\u001b[0m\u001b[0;34m]\u001b[0m\u001b[0;34m.\u001b[0m\u001b[0m__init__\u001b[0m\u001b[0;34m(\u001b[0m\u001b[0mself\u001b[0m\u001b[0;34m,\u001b[0m \u001b[0mdm\u001b[0m\u001b[0;34m,\u001b[0m \u001b[0;34m*\u001b[0m\u001b[0margs\u001b[0m\u001b[0;34m,\u001b[0m \u001b[0;34m**\u001b[0m\u001b[0mkwargs\u001b[0m\u001b[0;34m)\u001b[0m\u001b[0;34m\u001b[0m\u001b[0m\n\u001b[0;32m--> 172\u001b[0;31m                 \u001b[0m_TopoMeshClass\u001b[0m\u001b[0;34m.\u001b[0m\u001b[0m__init__\u001b[0m\u001b[0;34m(\u001b[0m\u001b[0mself\u001b[0m\u001b[0;34m,\u001b[0m \u001b[0;34m*\u001b[0m\u001b[0margs\u001b[0m\u001b[0;34m,\u001b[0m \u001b[0;34m**\u001b[0m\u001b[0mkwargs\u001b[0m\u001b[0;34m)\u001b[0m\u001b[0;34m\u001b[0m\u001b[0m\n\u001b[0m\u001b[1;32m    173\u001b[0m                 \u001b[0m_SurfaceProcessMeshClass\u001b[0m\u001b[0;34m.\u001b[0m\u001b[0m__init__\u001b[0m\u001b[0;34m(\u001b[0m\u001b[0mself\u001b[0m\u001b[0;34m,\u001b[0m \u001b[0;34m*\u001b[0m\u001b[0margs\u001b[0m\u001b[0;34m,\u001b[0m \u001b[0;34m**\u001b[0m\u001b[0mkwargs\u001b[0m\u001b[0;34m)\u001b[0m\u001b[0;34m\u001b[0m\u001b[0m\n\u001b[1;32m    174\u001b[0m                 \u001b[0;31m# super(SurfaceProcessMeshClass, self).__init__(dm, *args, **kwargs)\u001b[0m\u001b[0;34m\u001b[0m\u001b[0;34m\u001b[0m\u001b[0m\n",
      "\u001b[0;32m~/.local/lib/python3.5/site-packages/quagmire/topomesh/topomesh.py\u001b[0m in \u001b[0;36m__init__\u001b[0;34m(self, downhill_neighbours, *args, **kwargs)\u001b[0m\n\u001b[1;32m     46\u001b[0m         \u001b[0;31m## this variable, but for now we just use the array\u001b[0m\u001b[0;34m\u001b[0m\u001b[0;34m\u001b[0m\u001b[0m\n\u001b[1;32m     47\u001b[0m \u001b[0;34m\u001b[0m\u001b[0m\n\u001b[0;32m---> 48\u001b[0;31m         \u001b[0mself\u001b[0m\u001b[0;34m.\u001b[0m\u001b[0mheightVariable\u001b[0m \u001b[0;34m=\u001b[0m \u001b[0mself\u001b[0m\u001b[0;34m.\u001b[0m\u001b[0madd_variable\u001b[0m\u001b[0;34m(\u001b[0m\u001b[0mname\u001b[0m\u001b[0;34m=\u001b[0m\u001b[0;34m\"height\"\u001b[0m\u001b[0;34m)\u001b[0m\u001b[0;34m\u001b[0m\u001b[0m\n\u001b[0m\u001b[1;32m     49\u001b[0m         \u001b[0mself\u001b[0m\u001b[0;34m.\u001b[0m\u001b[0mslopeVariable\u001b[0m  \u001b[0;34m=\u001b[0m \u001b[0mself\u001b[0m\u001b[0;34m.\u001b[0m\u001b[0madd_variable\u001b[0m\u001b[0;34m(\u001b[0m\u001b[0mname\u001b[0m\u001b[0;34m=\u001b[0m\u001b[0;34m\"slope\"\u001b[0m\u001b[0;34m)\u001b[0m\u001b[0;34m\u001b[0m\u001b[0m\n\u001b[1;32m     50\u001b[0m \u001b[0;34m\u001b[0m\u001b[0m\n",
      "\u001b[0;31mAttributeError\u001b[0m: 'SurfaceProcessMeshClass' object has no attribute 'add_variable'"
     ]
    }
   ],
   "source": [
    "mesh = SurfaceProcessMesh(DM)  ## cloud array etc can surely be done better ... \n",
    "mesh_noise = SurfaceProcessMesh(DM)"
   ]
  },
  {
   "cell_type": "code",
   "execution_count": null,
   "metadata": {},
   "outputs": [],
   "source": [
    "x = mesh.coords[:,0]\n",
    "y = mesh.coords[:,1]\n",
    "\n",
    "radius  = np.sqrt((x**2 + y**2))\n",
    "theta   = np.arctan2(y,x)\n",
    "\n",
    "height  = np.exp(-0.025*(x**2 + y**2)**2) + 0.25 * (0.2*radius)**4  * np.cos(10.0*theta)**2 ## Less so\n",
    "height  += 0.5 * (1.0-0.2*radius)\n",
    "height_noise = height + np.random.random(height.size) * 0.001 # random noise\n",
    "\n",
    "# height[np.where( radius > 5.0)] = 0.0 \n",
    "# height_noise[np.where( radius> 5.0)] = 0.0 \n",
    "\n",
    "rainfall = np.ones_like(height)\n",
    "rainfall[np.where( radius > 5.0)] = 0.0 \n",
    "\n",
    "mesh.downhill_neighbours = 2\n",
    "mesh_noise.downhill_neighbours = 2\n",
    "\n",
    "mesh.update_height(height)\n",
    "mesh_noise.update_height(height_noise)\n"
   ]
  },
  {
   "cell_type": "code",
   "execution_count": null,
   "metadata": {},
   "outputs": [],
   "source": [
    "mo1 = mesh.identify_outflow_points()\n",
    "i = np.argsort(theta[mo1])\n",
    "outflows = mo1[i]\n",
    "\n",
    "mo1n = mesh_noise.identify_outflow_points()\n",
    "i = np.argsort(theta[mo1n])\n",
    "outflows_noise = mo1n[i]"
   ]
  },
  {
   "cell_type": "code",
   "execution_count": null,
   "metadata": {},
   "outputs": [],
   "source": []
  },
  {
   "cell_type": "code",
   "execution_count": null,
   "metadata": {},
   "outputs": [],
   "source": [
    "mesh.downhill_neighbours = 2\n",
    "mesh_noise.downhill_neighbours = 2\n",
    "mesh.update_height(height)\n",
    "mesh_noise.update_height(height_noise)\n",
    "\n",
    "flowpaths = mesh.cumulative_flow(rainfall*mesh.area)\n",
    "logpaths = np.log10(flowpaths)\n",
    "sqrtpaths = np.sqrt(flowpaths)\n",
    "\n",
    "flowpaths_noise = mesh_noise.cumulative_flow(rainfall*mesh.area)\n",
    "logpaths_noise = np.log10(flowpaths_noise)\n",
    "sqrtpaths_noise = np.sqrt(flowpaths_noise)\n",
    "\n",
    "mesh.downhill_neighbours = 3\n",
    "mesh_noise.downhill_neighbours = 3\n",
    "mesh.update_height(height)\n",
    "mesh_noise.update_height(height_noise)\n",
    "\n",
    "flowpaths3 = mesh.cumulative_flow(rainfall*mesh.area)\n",
    "logpaths3 = np.log10(flowpaths3)\n",
    "sqrtpaths3 = np.sqrt(flowpaths3)\n",
    "\n",
    "flowpaths_noise3 = mesh_noise.cumulative_flow(rainfall*mesh.area)\n",
    "logpaths_noise3 = np.log10(flowpaths_noise3)\n",
    "sqrtpaths_noise3 = np.sqrt(flowpaths_noise3)\n",
    "\n",
    "mesh.downhill_neighbours = 1\n",
    "mesh_noise.downhill_neighbours = 1\n",
    "mesh.update_height(height)\n",
    "mesh_noise.update_height(height_noise)\n",
    "\n",
    "flowpaths1 = mesh.cumulative_flow(rainfall*mesh.area)\n",
    "logpaths1 = np.log10(flowpaths1)\n",
    "sqrtpaths1 = np.sqrt(flowpaths1)\n",
    "\n",
    "flowpaths_noise1 = mesh_noise.cumulative_flow(rainfall*mesh.area)\n",
    "logpaths_noise1 = np.log10(flowpaths_noise1)\n",
    "sqrtpaths_noise1 = np.sqrt(flowpaths_noise1)\n",
    "\n"
   ]
  },
  {
   "cell_type": "code",
   "execution_count": null,
   "metadata": {},
   "outputs": [],
   "source": [
    "## What's happening with the outflow points - how to find them ? \n",
    "\"\"\"\n",
    "circum_points = np.where( np.abs(radius-4.9) <= 0.001 )[0]\n",
    "circum_angle = theta[circum_points]\n",
    "\n",
    "circum_flow_1 = flowpaths1[circum_points]\n",
    "circum_flow_2 = flowpaths[circum_points]\n",
    "circum_flow_3 = flowpaths3[circum_points]\n",
    "\n",
    "circum_flow_1n = flowpaths_noise1[circum_points]\n",
    "circum_flow_2n = flowpaths_noise[circum_points]\n",
    "circum_flow_3n = flowpaths_noise3[circum_points]\n",
    "\"\"\"\n",
    "pass"
   ]
  },
  {
   "cell_type": "code",
   "execution_count": null,
   "metadata": {},
   "outputs": [],
   "source": [
    "# Choose a scale to plot all six flow results\n",
    "fmax = 1.0"
   ]
  },
  {
   "cell_type": "code",
   "execution_count": null,
   "metadata": {},
   "outputs": [],
   "source": [
    "fig = plt.figure(1, figsize=(15,7.5))\n",
    "ax = fig.add_subplot(1,2,1)\n",
    "ax2 = fig.add_subplot(1,2,2)\n",
    "\n",
    "ax.axis('off')\n",
    "ax2.axis('off')\n",
    "\n",
    "im = ax.imshow(sqrtpaths.reshape((meshX,meshY)),   extent=[-5.0,5.0,-5.0,5.0], \n",
    "               cmap='Blues', origin='upper', alpha=1.0, vmax=fmax)\n",
    "im2  = ax.imshow(mesh.height.reshape((meshX,meshY)), extent=[-5.0,5.0,-5.0,5.0], \n",
    "                 cmap=plt.cm.bone_r, origin='upper', alpha=0.1)\n",
    "\n",
    "im3 = ax2.imshow(sqrtpaths_noise.reshape((meshX,meshY)),  extent=[-5.0,5.0,-5.0,5.0], \n",
    "                 cmap='Blues', origin='upper', alpha=1.0, vmax=fmax)\n",
    "im4  = ax2.imshow(mesh.height.reshape((meshX,meshY)), extent=[-5.0,5.0,-5.0,5.0], \n",
    "                  cmap=plt.cm.bone_r, origin='upper', alpha=0.1)\n",
    "\n",
    "ax.scatter(mesh.coords[outflows, 0], mesh.coords[outflows, 1])\n",
    "ax2.scatter(mesh.coords[outflows_noise, 0], mesh.coords[outflows_noise, 1])\n",
    "\n",
    "# fig.savefig(\"PixMesh_FlowPaths_N2.png\", dpi=300)"
   ]
  },
  {
   "cell_type": "code",
   "execution_count": null,
   "metadata": {},
   "outputs": [],
   "source": [
    "fig = plt.figure(1, figsize=(15,7.5))\n",
    "ax = fig.add_subplot(1,2,1)\n",
    "ax2 = fig.add_subplot(1,2,2)\n",
    "\n",
    "ax.axis('off')\n",
    "ax2.axis('off')\n",
    "\n",
    "im = ax.imshow(sqrtpaths3.reshape((meshX,meshY)), extent=[-5.0,5.0,-5.0,5.0], \n",
    "               cmap='Blues', origin='upper', alpha=1.0, vmax=fmax)\n",
    "im2  = ax.imshow(mesh.height.reshape((meshX,meshY)), extent=[-5.0,5.0,-5.0,5.0],\n",
    "                 cmap=plt.cm.bone_r, origin='upper', alpha=0.1)\n",
    "\n",
    "im3 = ax2.imshow(sqrtpaths_noise3.reshape((meshX,meshY)), extent=[-5.0,5.0,-5.0,5.0], \n",
    "                 cmap='Blues', origin='upper', alpha=1.0, vmax=fmax)\n",
    "im4  = ax2.imshow(mesh.height.reshape((meshX,meshY)), extent=[-5.0,5.0,-5.0,5.0], \n",
    "                  cmap=plt.cm.bone_r, origin='upper', alpha=0.1)\n",
    "\n",
    "ax.scatter(mesh.coords[outflows, 0], mesh.coords[outflows, 1])\n",
    "ax2.scatter(mesh.coords[outflows_noise, 0], mesh.coords[outflows_noise, 1])\n",
    "\n",
    "\n",
    "# fig.savefig(\"PixMesh_FlowPaths_N3.png\", dpi=300)"
   ]
  },
  {
   "cell_type": "code",
   "execution_count": null,
   "metadata": {},
   "outputs": [],
   "source": [
    "fig = plt.figure(1, figsize=(15,7.5))\n",
    "ax = fig.add_subplot(1,2,1)\n",
    "ax2 = fig.add_subplot(1,2,2)\n",
    "\n",
    "ax.axis('off')\n",
    "ax2.axis('off')\n",
    "\n",
    "im = ax.imshow(sqrtpaths1.reshape((meshX,meshY)),   extent=[-5.0,5.0,-5.0,5.0], \n",
    "               cmap='Blues', origin='upper', alpha=1.0, vmax=fmax)\n",
    "im2  = ax.imshow(mesh.height.reshape((meshX,meshY)), extent=[-5.0,5.0,-5.0,5.0], \n",
    "                 cmap=plt.cm.bone_r, origin='upper', alpha=0.1)\n",
    "\n",
    "im3 = ax2.imshow(sqrtpaths_noise1.reshape((meshX,meshY)),  extent=[-5.0,5.0,-5.0,5.0], \n",
    "                 cmap='Blues', origin='upper', alpha=1.0, vmax=fmax)\n",
    "im4  = ax2.imshow(mesh.height.reshape((meshX,meshY)), extent=[-5.0,5.0,-5.0,5.0], \n",
    "                  cmap=plt.cm.bone_r, origin='upper', alpha=0.1)\n",
    "\n",
    "ax.scatter(mesh.coords[outflows, 0], mesh.coords[outflows, 1])\n",
    "ax2.scatter(mesh.coords[outflows_noise, 0], mesh.coords[outflows_noise, 1])\n",
    "\n",
    "# fig.savefig(\"PixMesh_FlowPaths_N1.png\", dpi=300)"
   ]
  },
  {
   "cell_type": "code",
   "execution_count": null,
   "metadata": {},
   "outputs": [],
   "source": [
    "\n",
    "\n"
   ]
  },
  {
   "cell_type": "code",
   "execution_count": null,
   "metadata": {},
   "outputs": [],
   "source": [
    "# The following may not matter but noise can break up the outflows\n",
    "\n",
    "theta_vals = np.radians(np.linspace(-180,180,21))\n",
    "outflow_bins = np.digitize(theta[outflows_noise], theta_vals)\n",
    "theta_bins = theta_vals[1:] - np.pi / 20\n",
    "\n",
    "raw_flowsN1 = flowpaths_noise1[outflows_noise]\n",
    "raw_flowsN2 = flowpaths_noise[outflows_noise]\n",
    "raw_flowsN3 = flowpaths_noise3[outflows_noise]\n",
    "\n",
    "bin_flowsN1 = np.zeros(20)\n",
    "bin_flowsN2 = np.zeros(20)\n",
    "bin_flowsN3 = np.zeros(20)\n",
    "\n",
    "for i in range(0,len(outflows_noise)):\n",
    "    bin_flowsN1[outflow_bins[i]-1] += raw_flowsN1[i]\n",
    "    bin_flowsN2[outflow_bins[i]-1] += raw_flowsN2[i]\n",
    "    bin_flowsN3[outflow_bins[i]-1] += raw_flowsN1[i]\n",
    "\n",
    "\n",
    "# print bin_flowsN1, bin_flowsN1.sum()\n",
    "# print bin_flowsN2, bin_flowsN2.sum()\n",
    "# print bin_flowsN3, bin_flowsN3.sum()\n",
    "\n"
   ]
  },
  {
   "cell_type": "code",
   "execution_count": null,
   "metadata": {},
   "outputs": [],
   "source": []
  },
  {
   "cell_type": "code",
   "execution_count": null,
   "metadata": {},
   "outputs": [],
   "source": [
    "\n",
    "fig = plt.figure(1, figsize=(15,7.5))\n",
    "ax = fig.add_subplot(2,1,1)\n",
    "ax2 = fig.add_subplot(2,1,2)\n",
    "\n",
    "reference = 25 *np.pi / 20.0 \n",
    "\n",
    "ax.set_xlim(-180,180)\n",
    "ax.set_xticks(np.arange(-180,200,60))\n",
    "ax2.set_xlim(-180,180)\n",
    "ax2.set_xticks(np.arange(-180,200,60))\n",
    "\n",
    "ax.axhline(y=0.0, linestyle=':', color=\"Black\")\n",
    "ax2.axhline(y=0.0, linestyle=':', color=\"Black\")\n",
    "\n",
    "\n",
    "#ax.set_ylim(0.0, 100.0)\n",
    "\n",
    "ax.bar( np.degrees(theta[outflows])+0.0, (flowpaths1[outflows]-reference),  linewidth=1, edgecolor=\"Black\",\n",
    "                                            width=3, color=\"#00FFCC\")\n",
    "\n",
    "ax.bar( np.degrees(theta[outflows])+4.0,     (flowpaths[outflows]-reference), linewidth=1, edgecolor=\"Black\",\n",
    "                                           width=3, color=\"#CC4400\")\n",
    "\n",
    "ax.bar( np.degrees(theta[outflows])+8.0, (flowpaths3[outflows]-reference),  linewidth=1, edgecolor=\"Black\",\n",
    "                                           width=3, color=\"#004400\")\n",
    "\n",
    "\n",
    "\n",
    "ax2.bar( np.degrees(theta_bins)+2.0, (bin_flowsN1-reference),  linewidth=1, edgecolor=\"Black\",\n",
    "                                            width=3, color=\"#00FFCC\")\n",
    "\n",
    "ax2.bar( np.degrees(theta_bins)+6.0, (bin_flowsN2-reference),  linewidth=1, edgecolor=\"Black\", \n",
    "                                           width=3, color=\"#CC4400\")\n",
    "\n",
    "\n",
    "ax2.bar( np.degrees(theta_bins)+10.0, (bin_flowsN3-reference),  linewidth=1, edgecolor=\"Black\",\n",
    "                                           width=3, color=\"#004400\")\n",
    "\n",
    "\n",
    "\n",
    "\n",
    "# ax.bar( np.arange(0,20),  flowpaths[outflows], width = 0.05)\n",
    "# ax.bar( 0.2 + np.arange(0,20),  flowpaths_noise[outflows_noise] , width = 0.05 )\n",
    "\n",
    "# ax.bar( 0.4 + np.arange(0,20),  flowpaths1[outflows], width = 0.05)\n",
    "# ax.bar( 0.6 + np.arange(0,20),  flowpaths_noise1[outflows_noise] , width = 0.05 )\n",
    "\n"
   ]
  },
  {
   "cell_type": "code",
   "execution_count": null,
   "metadata": {},
   "outputs": [],
   "source": [
    "def cumulative_flow_smoothed(vector):\n",
    "\n",
    "    self = mesh\n",
    "\n",
    "    downhillMat = mesh.downhillMat\n",
    "\n",
    "    self.lvec.setArray(vector)\n",
    "    self.dm.localToGlobal(self.lvec, self.gvec)\n",
    "\n",
    "    DX0 = self.gvec.copy()\n",
    "    DX1 = self.gvec.copy()\n",
    "    DX1s = self.gvec.copy()\n",
    "\n",
    "    DX1_sum = DX1.sum()\n",
    "\n",
    "    niter = 0\n",
    "    equal = False\n",
    "\n",
    "    tolerance = 1.0e-8 * DX1_sum\n",
    "\n",
    "    while not equal:\n",
    "\n",
    "        DX1_isum = DX1_sum\n",
    "        DX1 = downhillMat * DX1\n",
    "        DX1_sum = DX1.sum()\n",
    "        DX0 += mesh.rbfMat * DX1\n",
    "\n",
    "        equal = (DX1_sum < tolerance)\n",
    "        niter += 1\n",
    "\n",
    "    self.dm.globalToLocal(DX0, self.lvec)\n",
    "\n",
    "    return self.lvec.array.copy()\n",
    "\n"
   ]
  },
  {
   "cell_type": "code",
   "execution_count": null,
   "metadata": {},
   "outputs": [],
   "source": [
    "mesh.downhill_neighbours=3\n",
    "mesh.update_height(mesh.height)"
   ]
  },
  {
   "cell_type": "code",
   "execution_count": null,
   "metadata": {},
   "outputs": [],
   "source": [
    "cum1 = mesh.cumulative_flow(rainfall*mesh.area)\n"
   ]
  },
  {
   "cell_type": "code",
   "execution_count": null,
   "metadata": {},
   "outputs": [],
   "source": [
    "cum2 = cumulative_flow_smoothed(rainfall*mesh.area)"
   ]
  },
  {
   "cell_type": "code",
   "execution_count": null,
   "metadata": {},
   "outputs": [],
   "source": [
    "\n",
    "cum3 = mesh.rbf_smoother(cum1)"
   ]
  },
  {
   "cell_type": "code",
   "execution_count": null,
   "metadata": {},
   "outputs": [],
   "source": [
    "fmax = 1.0\n",
    "fig = plt.figure(1, figsize=(15,7.5))\n",
    "ax = fig.add_subplot(1,2,1)\n",
    "ax2 = fig.add_subplot(1,2,2)\n",
    "\n",
    "ax.axis('off')\n",
    "ax2.axis('off')\n",
    "\n",
    "im = ax.imshow(np.sqrt(cum3).reshape((meshX,meshY)),   extent=[-5.0,5.0,-5.0,5.0], \n",
    "               cmap='Blues', origin='upper', alpha=1.0, vmax=fmax)\n",
    "im2  = ax.imshow(mesh.height.reshape((meshX,meshY)), extent=[-5.0,5.0,-5.0,5.0], \n",
    "                 cmap=plt.cm.bone_r, origin='upper', alpha=0.1)\n",
    "\n",
    "im3 = ax2.imshow(np.sqrt(cum1).reshape((meshX,meshY)),  extent=[-5.0,5.0,-5.0,5.0], \n",
    "                 cmap='Blues', origin='upper', alpha=1.0, vmax=fmax)\n",
    "im4  = ax2.imshow(mesh.height.reshape((meshX,meshY)), extent=[-5.0,5.0,-5.0,5.0], \n",
    "                  cmap=plt.cm.bone_r, origin='upper', alpha=0.1)\n",
    "\n",
    "# ax.scatter(mesh.coords[outflows, 0], mesh.coords[outflows, 1])\n",
    "# ax2.scatter(mesh.coords[outflows_noise, 0], mesh.coords[outflows_noise, 1])\n",
    "\n",
    "# fig.savefig(\"PixMesh_FlowPaths_N2_Averages.png\", dpi=300)"
   ]
  }
 ],
 "metadata": {
  "kernelspec": {
   "display_name": "Python 3",
   "language": "python",
   "name": "python3"
  },
  "language_info": {
   "codemirror_mode": {
    "name": "ipython",
    "version": 3
   },
   "file_extension": ".py",
   "mimetype": "text/x-python",
   "name": "python",
   "nbconvert_exporter": "python",
   "pygments_lexer": "ipython3",
   "version": "3.5.3"
  }
 },
 "nbformat": 4,
 "nbformat_minor": 2
}
