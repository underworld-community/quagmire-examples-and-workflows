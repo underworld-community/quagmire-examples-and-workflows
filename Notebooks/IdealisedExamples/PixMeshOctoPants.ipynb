{
 "cells": [
  {
   "cell_type": "markdown",
   "metadata": {},
   "source": [
    "# PixMeshes and the Octopants Landscape\n",
    "\n"
   ]
  },
  {
   "cell_type": "code",
   "execution_count": null,
   "metadata": {},
   "outputs": [],
   "source": [
    "import matplotlib.pyplot as plt\n",
    "import numpy as np\n",
    "from scipy.ndimage import imread\n",
    "from quagmire import tools as meshtools\n",
    "%matplotlib inline"
   ]
  },
  {
   "cell_type": "markdown",
   "metadata": {
    "collapsed": true
   },
   "source": [
    "## PixMesh\n",
    "\n"
   ]
  },
  {
   "cell_type": "code",
   "execution_count": null,
   "metadata": {},
   "outputs": [],
   "source": [
    "from quagmire import FlatMesh \n",
    "from quagmire import TopoMesh # all routines we need are within this class\n",
    "from quagmire import SurfaceProcessMesh\n",
    "\n",
    "meshX = 1000\n",
    "meshY = 1000\n",
    "\n",
    "DM = meshtools.create_DMDA(-5.0, 5.0, -5.0, 5.0, meshX, meshY )\n"
   ]
  },
  {
   "cell_type": "code",
   "execution_count": null,
   "metadata": {},
   "outputs": [],
   "source": [
    "mesh = SurfaceProcessMesh(DM)  ## cloud array etc can surely be done better ... \n",
    "mesh_noise = SurfaceProcessMesh(DM)"
   ]
  },
  {
   "cell_type": "code",
   "execution_count": null,
   "metadata": {},
   "outputs": [],
   "source": [
    "x = mesh.coords[:,0]\n",
    "y = mesh.coords[:,1]\n",
    "\n",
    "radius  = np.sqrt((x**2 + y**2))\n",
    "theta   = np.arctan2(y,x)\n",
    "\n",
    "height  = np.exp(-0.025*(x**2 + y**2)**2) + 0.25 * (0.2*radius)**4  * np.cos(10.0*theta)**2 ## Less so\n",
    "height  += 0.5 * (1.0-0.2*radius)\n",
    "height_noise = height + np.random.random(height.size) * 0.001 # random noise\n",
    "\n",
    "# height[np.where( radius > 5.0)] = 0.0 \n",
    "# height_noise[np.where( radius> 5.0)] = 0.0 \n",
    "\n",
    "rainfall = np.ones_like(height)\n",
    "rainfall[np.where( radius > 5.0)] = 0.0 \n",
    "fn_rainfall = mesh.add_variable(\"rainfall\")\n",
    "fn_rainfall.data = rainfall\n",
    "\n",
    "mesh.downhill_neighbours = 2\n",
    "mesh_noise.downhill_neighbours = 2\n",
    "\n",
    "with mesh.deform_topography():\n",
    "    mesh.topography.data = height\n",
    "\n",
    "with mesh_noise.deform_topography():\n",
    "    mesh_noise.topography.data = height_noise\n"
   ]
  },
  {
   "cell_type": "code",
   "execution_count": null,
   "metadata": {},
   "outputs": [],
   "source": [
    "mo1 = mesh.identify_outflow_points()\n",
    "i = np.argsort(theta[mo1])\n",
    "outflows = mo1[i]\n",
    "\n",
    "mo1n = mesh_noise.identify_outflow_points()\n",
    "i = np.argsort(theta[mo1n])\n",
    "outflows_noise = mo1n[i]"
   ]
  },
  {
   "cell_type": "code",
   "execution_count": null,
   "metadata": {},
   "outputs": [],
   "source": [
    "flowpaths = mesh.upstream_integral_fn(fn_rainfall).evaluate(mesh)\n",
    "logpaths = np.log10(flowpaths)\n",
    "sqrtpaths = np.sqrt(flowpaths)\n",
    "\n",
    "flowpaths_noise = mesh_noise.upstream_integral_fn(fn_rainfall).evaluate(mesh)\n",
    "logpaths_noise = np.log10(flowpaths_noise)\n",
    "sqrtpaths_noise = np.sqrt(flowpaths_noise)\n",
    "\n",
    "mesh.downhill_neighbours = 3\n",
    "mesh_noise.downhill_neighbours = 3\n",
    "# flow pathways are automatically updated\n",
    "\n",
    "flowpaths3 = mesh.upstream_integral_fn(fn_rainfall).evaluate(mesh)\n",
    "logpaths3 = np.log10(flowpaths3)\n",
    "sqrtpaths3 = np.sqrt(flowpaths3)\n",
    "\n",
    "flowpaths_noise3 = mesh_noise.upstream_integral_fn(fn_rainfall).evaluate(mesh)\n",
    "logpaths_noise3 = np.log10(flowpaths_noise3)\n",
    "sqrtpaths_noise3 = np.sqrt(flowpaths_noise3)\n",
    "\n",
    "mesh.downhill_neighbours = 1\n",
    "mesh_noise.downhill_neighbours = 1\n",
    "# flow pathways are automatically updated\n",
    "\n",
    "flowpaths1 = mesh.upstream_integral_fn(fn_rainfall).evaluate(mesh)\n",
    "logpaths1 = np.log10(flowpaths1)\n",
    "sqrtpaths1 = np.sqrt(flowpaths1)\n",
    "\n",
    "flowpaths_noise1 = mesh_noise.upstream_integral_fn(fn_rainfall).evaluate(mesh)\n",
    "logpaths_noise1 = np.log10(flowpaths_noise1)\n",
    "sqrtpaths_noise1 = np.sqrt(flowpaths_noise1)\n",
    "\n"
   ]
  },
  {
   "cell_type": "code",
   "execution_count": null,
   "metadata": {},
   "outputs": [],
   "source": [
    "## What's happening with the outflow points - how to find them ? \n",
    "\"\"\"\n",
    "circum_points = np.where( np.abs(radius-4.9) <= 0.001 )[0]\n",
    "circum_angle = theta[circum_points]\n",
    "\n",
    "circum_flow_1 = flowpaths1[circum_points]\n",
    "circum_flow_2 = flowpaths[circum_points]\n",
    "circum_flow_3 = flowpaths3[circum_points]\n",
    "\n",
    "circum_flow_1n = flowpaths_noise1[circum_points]\n",
    "circum_flow_2n = flowpaths_noise[circum_points]\n",
    "circum_flow_3n = flowpaths_noise3[circum_points]\n",
    "\"\"\"\n",
    "pass"
   ]
  },
  {
   "cell_type": "code",
   "execution_count": null,
   "metadata": {},
   "outputs": [],
   "source": [
    "# Choose a scale to plot all six flow results\n",
    "fmax = 1.0"
   ]
  },
  {
   "cell_type": "code",
   "execution_count": null,
   "metadata": {},
   "outputs": [],
   "source": [
    "fig = plt.figure(1, figsize=(15,7.5))\n",
    "ax = fig.add_subplot(1,2,1)\n",
    "ax2 = fig.add_subplot(1,2,2)\n",
    "\n",
    "ax.axis('off')\n",
    "ax2.axis('off')\n",
    "\n",
    "im = ax.imshow(sqrtpaths.reshape((meshX,meshY)),   extent=[-5.0,5.0,-5.0,5.0], \n",
    "               cmap='Blues', origin='upper', alpha=1.0, vmax=fmax)\n",
    "im2  = ax.imshow(mesh.topography.data.reshape((meshX,meshY)), extent=[-5.0,5.0,-5.0,5.0], \n",
    "                 cmap=plt.cm.bone_r, origin='upper', alpha=0.1)\n",
    "\n",
    "im3 = ax2.imshow(sqrtpaths_noise.reshape((meshX,meshY)),  extent=[-5.0,5.0,-5.0,5.0], \n",
    "                 cmap='Blues', origin='upper', alpha=1.0, vmax=fmax)\n",
    "im4  = ax2.imshow(mesh.topography.data.reshape((meshX,meshY)), extent=[-5.0,5.0,-5.0,5.0], \n",
    "                  cmap=plt.cm.bone_r, origin='upper', alpha=0.1)\n",
    "\n",
    "ax.scatter(mesh.coords[outflows, 0], mesh.coords[outflows, 1])\n",
    "ax2.scatter(mesh.coords[outflows_noise, 0], mesh.coords[outflows_noise, 1])\n",
    "\n",
    "# fig.savefig(\"PixMesh_FlowPaths_N2.png\", dpi=300)"
   ]
  },
  {
   "cell_type": "code",
   "execution_count": null,
   "metadata": {},
   "outputs": [],
   "source": [
    "fig = plt.figure(1, figsize=(15,7.5))\n",
    "ax = fig.add_subplot(1,2,1)\n",
    "ax2 = fig.add_subplot(1,2,2)\n",
    "\n",
    "ax.axis('off')\n",
    "ax2.axis('off')\n",
    "\n",
    "im = ax.imshow(sqrtpaths3.reshape((meshX,meshY)), extent=[-5.0,5.0,-5.0,5.0], \n",
    "               cmap='Blues', origin='upper', alpha=1.0, vmax=fmax)\n",
    "im2  = ax.imshow(mesh.topography.data.reshape((meshX,meshY)), extent=[-5.0,5.0,-5.0,5.0],\n",
    "                 cmap=plt.cm.bone_r, origin='upper', alpha=0.1)\n",
    "\n",
    "im3 = ax2.imshow(sqrtpaths_noise3.reshape((meshX,meshY)), extent=[-5.0,5.0,-5.0,5.0], \n",
    "                 cmap='Blues', origin='upper', alpha=1.0, vmax=fmax)\n",
    "im4  = ax2.imshow(mesh.topography.data.reshape((meshX,meshY)), extent=[-5.0,5.0,-5.0,5.0], \n",
    "                  cmap=plt.cm.bone_r, origin='upper', alpha=0.1)\n",
    "\n",
    "ax.scatter(mesh.coords[outflows, 0], mesh.coords[outflows, 1])\n",
    "ax2.scatter(mesh.coords[outflows_noise, 0], mesh.coords[outflows_noise, 1])\n",
    "\n",
    "\n",
    "# fig.savefig(\"PixMesh_FlowPaths_N3.png\", dpi=300)"
   ]
  },
  {
   "cell_type": "code",
   "execution_count": null,
   "metadata": {},
   "outputs": [],
   "source": [
    "fig = plt.figure(1, figsize=(15,7.5))\n",
    "ax = fig.add_subplot(1,2,1)\n",
    "ax2 = fig.add_subplot(1,2,2)\n",
    "\n",
    "ax.axis('off')\n",
    "ax2.axis('off')\n",
    "\n",
    "im = ax.imshow(sqrtpaths1.reshape((meshX,meshY)),   extent=[-5.0,5.0,-5.0,5.0], \n",
    "               cmap='Blues', origin='upper', alpha=1.0, vmax=fmax)\n",
    "im2  = ax.imshow(mesh.topography.data.reshape((meshX,meshY)), extent=[-5.0,5.0,-5.0,5.0], \n",
    "                 cmap=plt.cm.bone_r, origin='upper', alpha=0.1)\n",
    "\n",
    "im3 = ax2.imshow(sqrtpaths_noise1.reshape((meshX,meshY)),  extent=[-5.0,5.0,-5.0,5.0], \n",
    "                 cmap='Blues', origin='upper', alpha=1.0, vmax=fmax)\n",
    "im4  = ax2.imshow(mesh.topography.data.reshape((meshX,meshY)), extent=[-5.0,5.0,-5.0,5.0], \n",
    "                  cmap=plt.cm.bone_r, origin='upper', alpha=0.1)\n",
    "\n",
    "ax.scatter(mesh.coords[outflows, 0], mesh.coords[outflows, 1])\n",
    "ax2.scatter(mesh.coords[outflows_noise, 0], mesh.coords[outflows_noise, 1])\n",
    "\n",
    "# fig.savefig(\"PixMesh_FlowPaths_N1.png\", dpi=300)"
   ]
  },
  {
   "cell_type": "code",
   "execution_count": null,
   "metadata": {},
   "outputs": [],
   "source": [
    "# The following may not matter but noise can break up the outflows\n",
    "\n",
    "theta_vals = np.radians(np.linspace(-180,180,21))\n",
    "outflow_bins = np.digitize(theta[outflows_noise], theta_vals)\n",
    "theta_bins = theta_vals[1:] - np.pi / 20\n",
    "\n",
    "raw_flowsN1 = flowpaths_noise1[outflows_noise]\n",
    "raw_flowsN2 = flowpaths_noise[outflows_noise]\n",
    "raw_flowsN3 = flowpaths_noise3[outflows_noise]\n",
    "\n",
    "bin_flowsN1 = np.zeros(20)\n",
    "bin_flowsN2 = np.zeros(20)\n",
    "bin_flowsN3 = np.zeros(20)\n",
    "\n",
    "for i in range(0,len(outflows_noise)):\n",
    "    bin_flowsN1[outflow_bins[i]-1] += raw_flowsN1[i]\n",
    "    bin_flowsN2[outflow_bins[i]-1] += raw_flowsN2[i]\n",
    "    bin_flowsN3[outflow_bins[i]-1] += raw_flowsN1[i]\n",
    "\n",
    "\n",
    "# print bin_flowsN1, bin_flowsN1.sum()\n",
    "# print bin_flowsN2, bin_flowsN2.sum()\n",
    "# print bin_flowsN3, bin_flowsN3.sum()\n",
    "\n"
   ]
  },
  {
   "cell_type": "code",
   "execution_count": null,
   "metadata": {},
   "outputs": [],
   "source": []
  },
  {
   "cell_type": "code",
   "execution_count": null,
   "metadata": {},
   "outputs": [],
   "source": [
    "\n",
    "fig = plt.figure(1, figsize=(15,7.5))\n",
    "ax = fig.add_subplot(2,1,1)\n",
    "ax2 = fig.add_subplot(2,1,2)\n",
    "\n",
    "reference = 25 *np.pi / 20.0 \n",
    "\n",
    "ax.set_xlim(-180,180)\n",
    "ax.set_xticks(np.arange(-180,200,60))\n",
    "ax2.set_xlim(-180,180)\n",
    "ax2.set_xticks(np.arange(-180,200,60))\n",
    "\n",
    "ax.axhline(y=0.0, linestyle=':', color=\"Black\")\n",
    "ax2.axhline(y=0.0, linestyle=':', color=\"Black\")\n",
    "\n",
    "\n",
    "#ax.set_ylim(0.0, 100.0)\n",
    "\n",
    "ax.bar( np.degrees(theta[outflows])+0.0, (flowpaths1[outflows]-reference),  linewidth=1, edgecolor=\"Black\",\n",
    "                                            width=3, color=\"#00FFCC\")\n",
    "\n",
    "ax.bar( np.degrees(theta[outflows])+4.0,     (flowpaths[outflows]-reference), linewidth=1, edgecolor=\"Black\",\n",
    "                                           width=3, color=\"#CC4400\")\n",
    "\n",
    "ax.bar( np.degrees(theta[outflows])+8.0, (flowpaths3[outflows]-reference),  linewidth=1, edgecolor=\"Black\",\n",
    "                                           width=3, color=\"#004400\")\n",
    "\n",
    "\n",
    "\n",
    "ax2.bar( np.degrees(theta_bins)+2.0, (bin_flowsN1-reference),  linewidth=1, edgecolor=\"Black\",\n",
    "                                            width=3, color=\"#00FFCC\")\n",
    "\n",
    "ax2.bar( np.degrees(theta_bins)+6.0, (bin_flowsN2-reference),  linewidth=1, edgecolor=\"Black\", \n",
    "                                           width=3, color=\"#CC4400\")\n",
    "\n",
    "\n",
    "ax2.bar( np.degrees(theta_bins)+10.0, (bin_flowsN3-reference),  linewidth=1, edgecolor=\"Black\",\n",
    "                                           width=3, color=\"#004400\")\n",
    "\n",
    "\n",
    "\n",
    "\n",
    "# ax.bar( np.arange(0,20),  flowpaths[outflows], width = 0.05)\n",
    "# ax.bar( 0.2 + np.arange(0,20),  flowpaths_noise[outflows_noise] , width = 0.05 )\n",
    "\n",
    "# ax.bar( 0.4 + np.arange(0,20),  flowpaths1[outflows], width = 0.05)\n",
    "# ax.bar( 0.6 + np.arange(0,20),  flowpaths_noise1[outflows_noise] , width = 0.05 )\n",
    "\n"
   ]
  },
  {
   "cell_type": "code",
   "execution_count": null,
   "metadata": {},
   "outputs": [],
   "source": [
    "mesh.downhill_neighbours=3"
   ]
  },
  {
   "cell_type": "code",
   "execution_count": null,
   "metadata": {},
   "outputs": [],
   "source": [
    "cum1 = mesh.upstream_integral_fn(fn_rainfall).evaluate(mesh)"
   ]
  },
  {
   "cell_type": "code",
   "execution_count": null,
   "metadata": {},
   "outputs": [],
   "source": [
    "cum3 = mesh.rbf_smoother(cum1)"
   ]
  },
  {
   "cell_type": "code",
   "execution_count": null,
   "metadata": {},
   "outputs": [],
   "source": [
    "fmax = 1.0\n",
    "fig = plt.figure(1, figsize=(15,7.5))\n",
    "ax = fig.add_subplot(1,2,1)\n",
    "ax2 = fig.add_subplot(1,2,2)\n",
    "\n",
    "ax.axis('off')\n",
    "ax2.axis('off')\n",
    "\n",
    "im = ax.imshow(np.sqrt(cum3).reshape((meshX,meshY)),   extent=[-5.0,5.0,-5.0,5.0], \n",
    "               cmap='Blues', origin='upper', alpha=1.0, vmax=fmax)\n",
    "im2  = ax.imshow(mesh.topography.data.reshape((meshX,meshY)), extent=[-5.0,5.0,-5.0,5.0], \n",
    "                 cmap=plt.cm.bone_r, origin='upper', alpha=0.1)\n",
    "\n",
    "im3 = ax2.imshow(np.sqrt(cum1).reshape((meshX,meshY)),  extent=[-5.0,5.0,-5.0,5.0], \n",
    "                 cmap='Blues', origin='upper', alpha=1.0, vmax=fmax)\n",
    "im4  = ax2.imshow(mesh.topography.data.reshape((meshX,meshY)), extent=[-5.0,5.0,-5.0,5.0], \n",
    "                  cmap=plt.cm.bone_r, origin='upper', alpha=0.1)\n",
    "\n",
    "# ax.scatter(mesh.coords[outflows, 0], mesh.coords[outflows, 1])\n",
    "# ax2.scatter(mesh.coords[outflows_noise, 0], mesh.coords[outflows_noise, 1])\n",
    "\n",
    "# fig.savefig(\"PixMesh_FlowPaths_N2_Averages.png\", dpi=300)"
   ]
  },
  {
   "cell_type": "code",
   "execution_count": null,
   "metadata": {},
   "outputs": [],
   "source": []
  }
 ],
 "metadata": {
  "kernelspec": {
   "display_name": "Python 3",
   "language": "python",
   "name": "python3"
  },
  "language_info": {
   "codemirror_mode": {
    "name": "ipython",
    "version": 3
   },
   "file_extension": ".py",
   "mimetype": "text/x-python",
   "name": "python",
   "nbconvert_exporter": "python",
   "pygments_lexer": "ipython3",
   "version": "3.6.9"
  }
 },
 "nbformat": 4,
 "nbformat_minor": 2
}
