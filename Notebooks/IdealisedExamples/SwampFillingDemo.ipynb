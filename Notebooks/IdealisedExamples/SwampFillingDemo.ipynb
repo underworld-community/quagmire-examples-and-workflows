{
 "cells": [
  {
   "cell_type": "markdown",
   "metadata": {},
   "source": [
    "## Swamp filling of local minima\n",
    "\n",
    "This notebook illustrates the strategy that the swamp-filling algorithm takes and shows why multiple iterations are needed.\n",
    "\n",
    "We start with a simple, semi-circular channel (gutter) and introduce nested hemispherical depressions (local minima).\n",
    "\n",
    "\n",
    "\n",
    "<!-- #### Contents\n",
    "\n",
    "- [Rosenbrock function](#Rosenbrock-function)\n",
    "- [Compare one and two downhill pathways](#Compare-one-and-two-downhill-pathways)\n",
    "- [Probability densities](#Probability-densities)\n",
    "- [Animation of stream flow](#Animation-of-stream-flow) -->"
   ]
  },
  {
   "cell_type": "code",
   "execution_count": null,
   "metadata": {},
   "outputs": [],
   "source": [
    "import numpy as np\n",
    "import matplotlib\n",
    "import matplotlib.pyplot as plt\n",
    "from quagmire import QuagMesh\n",
    "from quagmire import tools as meshtools\n",
    "from quagmire import function as fn\n",
    "import scipy\n",
    "\n",
    "%matplotlib inline"
   ]
  },
  {
   "cell_type": "code",
   "execution_count": null,
   "metadata": {
    "lines_to_next_cell": 2
   },
   "outputs": [],
   "source": [
    "minX, maxX = -1.0, 1.0\n",
    "minY, maxY =  0.0, 3.0\n",
    "\n",
    "x, y, bmask = meshtools.generate_square_points(minX, maxX, minY, maxY, 0.01, 0.01, samples=50000, boundary_samples=500)\n",
    "x, y = meshtools.lloyd_mesh_improvement(x, y, bmask, 5)\n",
    "\n",
    "DM = meshtools.create_DMPlex_from_points(x, y, bmask)\n",
    "sp = QuagMesh(DM)\n",
    "catchments0 = sp.add_variable(name=\"low_point_catchments0\")\n",
    "\n",
    "x = sp.tri.points[:,0]\n",
    "y = sp.tri.points[:,1]"
   ]
  },
  {
   "cell_type": "code",
   "execution_count": null,
   "metadata": {},
   "outputs": [],
   "source": [
    "sp.npoints"
   ]
  },
  {
   "cell_type": "markdown",
   "metadata": {},
   "source": [
    "## Semi-circular gutter with incline\n",
    "\n",
    "$$\n",
    "h(x,y) = (1-x)^2 \n",
    "$$\n",
    "\n",
    "we introduce a small incline to ensure the streams terminate at the boundary."
   ]
  },
  {
   "cell_type": "code",
   "execution_count": null,
   "metadata": {},
   "outputs": [],
   "source": [
    "height = 1.0 - np.sin(np.arccos((0.5*x)/abs(x).max()))  \n",
    "\n",
    "with sp.deform_topography():\n",
    "    sp.topography.data = height\n",
    "\n",
    "gradient = sp.slope.evaluate(sp)"
   ]
  },
  {
   "cell_type": "code",
   "execution_count": null,
   "metadata": {},
   "outputs": [],
   "source": [
    "## Add hemispherical blisters\n",
    "\n",
    "blisters = [(0.0,2.4,0.3,0.5),(0.0,1.9, 0.4, 0.5), (0.0, 1.5, 0.3, 0.5), (0.2, 1.0, 0.2, 0.75), \n",
    "            (0.5, 0.95, 0.1, 0.5), (0.65, 0.9, 0.1, 1.0), (0.8, 0.8, 0.1, 1.5),]\n",
    "\n",
    "\n",
    "height = sp.topography.data.copy()\n",
    "dh = np.zeros_like(height)\n",
    "\n",
    "for blis in blisters:\n",
    "    x0  = blis[0]\n",
    "    y0  = blis[1]\n",
    "    r0  = blis[2]\n",
    "    s0  = blis[3]\n",
    "    \n",
    "    points = sp.cKDTree.query_ball_point((x0,y0), r0)   \n",
    "    r  = np.hypot(sp.data[points][:,0] - x0, sp.data[points][:,1] - y0)\n",
    "    dh[points] = np.maximum(dh[points], s0 * np.sqrt(r0**2 - r**2))\n",
    "    \n",
    "\n",
    "height -= dh"
   ]
  },
  {
   "cell_type": "code",
   "execution_count": null,
   "metadata": {},
   "outputs": [],
   "source": [
    "height += 0.05 * y # make a small incline\n",
    "height.min()"
   ]
  },
  {
   "cell_type": "code",
   "execution_count": null,
   "metadata": {},
   "outputs": [],
   "source": [
    "ones = fn.parameter(1.0, mesh=sp)"
   ]
  },
  {
   "cell_type": "code",
   "execution_count": null,
   "metadata": {},
   "outputs": [],
   "source": [
    "with sp.deform_topography():\n",
    "    sp.topography.data = height\n",
    "    \n",
    "# Compute a flow ... \n",
    "\n",
    "cumulative_flow_0 = np.log10(1.0e-6 + sp.upstream_integral_fn(ones).evaluate(sp))\n",
    "lowpts0 = sp.identify_low_points()\n",
    "height0 = sp.topography.data.copy()\n",
    "\n",
    "print(\"Low points - {}\".format(lowpts0))"
   ]
  },
  {
   "cell_type": "code",
   "execution_count": null,
   "metadata": {
    "lines_to_next_cell": 2
   },
   "outputs": [],
   "source": [
    "catchments0.data = sp.uphill_propagation(points = lowpts0, values=np.indices((lowpts0.shape)), fill=-1.0, its=1000)"
   ]
  },
  {
   "cell_type": "code",
   "execution_count": null,
   "metadata": {},
   "outputs": [],
   "source": [
    "catchments0.max()"
   ]
  },
  {
   "cell_type": "code",
   "execution_count": null,
   "metadata": {},
   "outputs": [],
   "source": []
  },
  {
   "cell_type": "code",
   "execution_count": null,
   "metadata": {},
   "outputs": [],
   "source": [
    "sp.low_points_swamp_fill(its=1000, ref_height=-0.01)\n",
    "\n",
    "cumulative_flow_1 = np.log10(1.0e-6 + sp.upstream_integral_fn(ones).evaluate(sp))\n",
    "lowpts1 = sp.identify_low_points()\n",
    "height1 = sp.topography.data.copy()\n",
    "print(\"Low points - {}\".format(lowpts1))"
   ]
  },
  {
   "cell_type": "code",
   "execution_count": null,
   "metadata": {},
   "outputs": [],
   "source": []
  },
  {
   "cell_type": "code",
   "execution_count": null,
   "metadata": {},
   "outputs": [],
   "source": [
    "sp.low_points_swamp_fill(its=1000, ref_height=-0.01)\n",
    "cumulative_flow_2 = np.log10(1.0e-6 + sp.upstream_integral_fn(ones).evaluate(sp))\n",
    "lowpts2 = sp.identify_low_points()\n",
    "height2 = sp.topography.data.copy()\n",
    "print(\"Low points - {}\".format(lowpts2))"
   ]
  },
  {
   "cell_type": "code",
   "execution_count": null,
   "metadata": {
    "lines_to_next_cell": 2
   },
   "outputs": [],
   "source": [
    "import lavavu\n",
    "\n",
    "lv = lavavu.Viewer(border=False, resolution=[1000,600], background=\"#FFFFFF\")\n",
    "lv[\"axis\"]=False\n",
    "lv['specular'] = 0.0\n",
    "\n",
    "verts = np.reshape(sp.tri.points, (-1,2))\n",
    "verts = np.insert(verts, 2, values=height0 , axis=1)\n",
    "\n",
    "verts_s1 = np.reshape(sp.tri.points, (-1,2))\n",
    "verts_s1 = np.insert(verts_s1, 2, values=np.where(height1>height0, height1, height0-0.01), axis=1)\n",
    "\n",
    "verts_s2 = np.reshape(sp.tri.points, (-1,2))\n",
    "verts_s2 = np.insert(verts_s2, 2, values=np.where(height2>height0, height2, height0-0.01), axis=1)\n",
    "\n",
    "tris  = lv.triangles(\"spmesh\", wireframe=False,  logScale=False, opacity=0.9)\n",
    "tris.vertices(verts)\n",
    "tris.indices(sp.tri.simplices)\n",
    "tris.values(cumulative_flow_0, label=\"flow0\")\n",
    "tris.values(cumulative_flow_1, label=\"flow1\")\n",
    "tris.values(cumulative_flow_2, label=\"flow2\")\n",
    "tris.values(ones.evaluate(sp), label=\"blank\")\n",
    "tris.colourmap(\"Grey #335599\", range=[-2, -1])\n",
    "\n",
    "trisW  = lv.triangles(\"spwire\", wireframe=True,  colour=\"#335599\")\n",
    "trisW.vertices(verts+(0.0,0.0,0.001))\n",
    "trisW.indices(sp.tri.simplices)\n",
    "\n",
    "trisC = lv.triangles(\"spcatch\", wireframe=False,  colour=\"#335599\", opacity=0.95)\n",
    "trisC.vertices(verts)\n",
    "trisC.indices(sp.tri.simplices)\n",
    "trisC.values(catchments0.evaluate(sp), label=\"catchment\")\n",
    "trisC.colourmap(\"#BBBBBB #AA5522 #8899FF #00FF66 #FFFF55 #999999\")\n",
    "\n",
    "tris_s1  = lv.triangles(\"spmesh_s1\", wireframe=False,  logScale=False, colour=\"#88BBAA\", opacity=0.95)\n",
    "tris_s1.vertices(verts_s1)\n",
    "tris_s1.indices(sp.tri.simplices)\n",
    "# tris_s1.values(cumulative_flow_1, label=\"flow\")\n",
    "# tris_s1.values(ones.evaluate(sp), label=\"blank\")\n",
    "# tris_s1.colourmap(\"Grey Blue\", range=[-2, -1])\n",
    "\n",
    "tris_s2  = lv.triangles(\"spmesh_s2\", wireframe=False,  logScale=False, colour=\"#88BBAA\", opacity=0.95)\n",
    "tris_s2.vertices(verts_s2)\n",
    "tris_s2.indices(sp.tri.simplices)\n",
    "# tris_s2.values(ones.evaluate(sp), label=\"blank\")\n",
    "# tris_s2.colourmap(\"Grey Blue\", range=[-2, 0])\n",
    "\n",
    "\n",
    "nodes = lv.points(\"vertices\", pointsize=2.0, colour=\"#666677\", opacity=0.5)\n",
    "nodes.vertices(verts+(0.0,0.0,0.001))\n",
    "nodes.values(sp.bmask)\n",
    "\n",
    "lownodes = lv.points(\"lows1\", pointsize=15.0, colour=\"Green\")\n",
    "lownodes.vertices(verts_s1[lowpts1]+(0.0,0.0,0.01))\n",
    "\n",
    "lownodes0 = lv.points(\"lows\", pointsize=15.0, colour=\"Red\")\n",
    "lownodes0.vertices(verts[lowpts0]+(0.0,0.0,0.01))\n",
    "\n",
    "lv.translation(0.348, 0.304, -3.403)\n",
    "lv.rotation(-46.218, 0.0, 0.0)\n",
    "\n",
    "lv.control.Panel()\n",
    "lv.control.ObjectList()\n",
    "\n",
    "tris.control.List(options=[\"blank\", \"flow0\", \"flow1\", \"flow2\", \"catch\"],    value=\"blank\", property=\"colourby\", command=\"redraw\", label=\"0\")\n",
    "\n",
    "lv.control.show()"
   ]
  },
  {
   "cell_type": "markdown",
   "metadata": {},
   "source": [
    "\n"
   ]
  },
  {
   "cell_type": "code",
   "execution_count": null,
   "metadata": {},
   "outputs": [],
   "source": [
    "## Figure: Mesh plus low points \n",
    "\n",
    "lv.translation(0.348, 0.304, -3.403)\n",
    "lv.rotation(-46.218, 0.0, 0.0)\n",
    "\n",
    "tris[\"visible\"] = False\n",
    "trisC[\"visible\"] = False\n",
    "tris_s1[\"visible\"] = False\n",
    "tris_s2[\"visible\"] = False\n",
    "lownodes[\"visible\"] = False\n",
    "lownodes0[\"visible\"] = True\n",
    "\n",
    "lv.redraw()\n",
    "lv.image('NodesAndLows0.png', resolution=(3000,1500))"
   ]
  },
  {
   "cell_type": "code",
   "execution_count": null,
   "metadata": {},
   "outputs": [],
   "source": [
    "## Figure: Initial flow and lows\n",
    "\n",
    "lv.translation(0.348, 0.304, -3.403)\n",
    "lv.rotation(-46.218, 0.0, 0.0)\n",
    "\n",
    "tris[\"visible\"] = True\n",
    "trisW[\"visible\"] = False\n",
    "trisC[\"visible\"] = False\n",
    "tris_s1[\"visible\"] = False\n",
    "tris_s2[\"visible\"] = False\n",
    "lownodes[\"visible\"] = False\n",
    "lownodes0[\"visible\"] = True\n",
    "tris[\"colourby\"] = \"flow0\"\n",
    "\n",
    "\n",
    "lv.redraw()\n",
    "lv.image('FlowsAndLows0.png', resolution=(3000,1500))"
   ]
  },
  {
   "cell_type": "code",
   "execution_count": null,
   "metadata": {},
   "outputs": [],
   "source": [
    "## Figure: One Iteration flow and lows\n",
    "\n",
    "lv.translation(0.348, 0.304, -3.403)\n",
    "lv.rotation(-46.218, 0.0, 0.0)\n",
    "\n",
    "tris[\"visible\"] = True\n",
    "trisC[\"visible\"] = False\n",
    "trisW[\"visible\"] = False\n",
    "tris_s1[\"visible\"] = True\n",
    "tris_s2[\"visible\"] = False\n",
    "lownodes[\"visible\"] = True\n",
    "lownodes0[\"visible\"] = False\n",
    "tris[\"colourby\"] = \"flow1\"\n",
    "\n",
    "lv.redraw()\n",
    "lv.image('FlowsAndLows1.png', resolution=(3000,1500))"
   ]
  },
  {
   "cell_type": "code",
   "execution_count": null,
   "metadata": {},
   "outputs": [],
   "source": [
    "## Figure: Two iterations flow and lows\n",
    "\n",
    "lv.translation(0.348, 0.304, -3.403)\n",
    "lv.rotation(-46.218, 0.0, 0.0)\n",
    "\n",
    "tris[\"visible\"] = True\n",
    "tris_s1[\"visible\"] = True\n",
    "tris_s2[\"visible\"] = True\n",
    "lownodes[\"visible\"] = False\n",
    "lownodes0[\"visible\"] = False\n",
    "tris[\"colourby\"] = \"flow2\"\n",
    "\n",
    "lv.redraw()\n",
    "lv.image('FlowsAndLows2.png', resolution=(3000,1500))"
   ]
  },
  {
   "cell_type": "code",
   "execution_count": null,
   "metadata": {},
   "outputs": [],
   "source": [
    "! open ."
   ]
  },
  {
   "cell_type": "code",
   "execution_count": null,
   "metadata": {},
   "outputs": [],
   "source": [
    "lv.camera()"
   ]
  },
  {
   "cell_type": "code",
   "execution_count": null,
   "metadata": {},
   "outputs": [],
   "source": [
    "## Close up view of the catchment boundary - perhaps the catchment information for the low nodes here too ... \n",
    "\n",
    "lv.translation(0.476, 0.414, -1.211)\n",
    "lv.rotation(-2.026, -30.0, -90.587)\n",
    "tris[\"visible\"] = False\n",
    "trisC[\"visible\"] = True\n",
    "trisW[\"visible\"] = True\n",
    "tris_s1[\"visible\"] = False\n",
    "tris_s2[\"visible\"] = False\n",
    "nodes[\"visible\"] = True\n",
    "lownodes[\"visible\"] = False\n",
    "lownodes0[\"visible\"] = True\n",
    "lv.redraw()\n",
    "lv.image(\"CatchmentCloseUp.png\", resolution=(3000,1500))"
   ]
  },
  {
   "cell_type": "code",
   "execution_count": null,
   "metadata": {},
   "outputs": [],
   "source": []
  },
  {
   "cell_type": "code",
   "execution_count": null,
   "metadata": {},
   "outputs": [],
   "source": []
  }
 ],
 "metadata": {
  "jupytext": {
   "formats": "../../Notebooks/IdealisedExamples//ipynb,py:light"
  },
  "kernelspec": {
   "display_name": "Python 2",
   "language": "python",
   "name": "python2"
  }
 },
 "nbformat": 4,
 "nbformat_minor": 4
}
