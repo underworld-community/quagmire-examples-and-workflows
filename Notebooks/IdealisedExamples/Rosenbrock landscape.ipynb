{
 "cells": [
  {
   "cell_type": "markdown",
   "metadata": {},
   "source": [
    "## Rosenbrock landscape\n",
    "\n",
    "The Rosenbrock function is a typical non-convex bivariate that is commonly used to benchmark optimisation routines. It parameratises two minimas where streams diverge around a saddle point. This showcases Quagmire's ability to direct flow to multiple downhill neighbours.\n",
    "\n",
    "Here we explore 1 and 2 downhill neighbour pathways on an unstructured mesh using this function.\n",
    "\n",
    "#### Contents\n",
    "\n",
    "- [Rosenbrock function](#Rosenbrock-function)\n",
    "- [Compare one and two downhill pathways](#Compare-one-and-two-downhill-pathways)\n",
    "- [Probability densities](#Probability-densities)\n",
    "- [Animation of stream flow](#Animation-of-stream-flow)"
   ]
  },
  {
   "cell_type": "code",
   "execution_count": null,
   "metadata": {},
   "outputs": [],
   "source": [
    "import numpy as np\n",
    "import matplotlib.pyplot as plt\n",
    "from quagmire import SurfaceProcessMesh\n",
    "from quagmire import tools as meshtools\n",
    "import scipy as sp\n",
    "%matplotlib inline"
   ]
  },
  {
   "cell_type": "code",
   "execution_count": null,
   "metadata": {
    "scrolled": true
   },
   "outputs": [],
   "source": [
    "minX, maxX = -2.0, 2.0\n",
    "minY, maxY = -2.0, 3.0\n",
    "\n",
    "x, y, bmask = meshtools.generate_square_points(minX, maxX, minY, maxY, 0.05, 0.05, samples=10000, boundary_samples=1000)\n",
    "x, y = meshtools.lloyd_mesh_improvement(x, y, bmask, 5)\n",
    "\n",
    "DM = meshtools.create_DMPlex_from_points(x, y, bmask)\n",
    "sp = SurfaceProcessMesh(DM)\n",
    "\n",
    "x = sp.tri.points[:,0]\n",
    "y = sp.tri.points[:,1]"
   ]
  },
  {
   "cell_type": "markdown",
   "metadata": {},
   "source": [
    "## Rosenbrock function\n",
    "\n",
    "The height field is defined by the Rosenbrock function:\n",
    "\n",
    "$$\n",
    "h(x,y) = (1-x)^2 + 100(y-x^2)^2\n",
    "$$\n",
    "\n",
    "we introduce a small incline to ensure the streams terminate at the boundary."
   ]
  },
  {
   "cell_type": "code",
   "execution_count": null,
   "metadata": {},
   "outputs": [],
   "source": [
    "height = (1.0 - x)**2 + 100.0*(y - x**2)**2 # Rosenbrock function\n",
    "height -= 100*y # make a small incline\n",
    "sp.update_height(height)\n",
    "\n",
    "gradient = sp.slope"
   ]
  },
  {
   "cell_type": "code",
   "execution_count": null,
   "metadata": {},
   "outputs": [],
   "source": [
    "import lavavu\n",
    "\n",
    "lv = lavavu.Viewer(border=False, resolution=[666,666], background=\"#FFFFFF\")\n",
    "lv[\"axis\"]=True\n",
    "lv['specular'] = 0.5\n",
    "\n",
    "verts = np.reshape(sp.tri.points, (-1,2))\n",
    "verts = np.insert(verts, 2, values=sp.height / 1000.0, axis=1)\n",
    "\n",
    "tris  = lv.triangles(\"spmesh\", wireframe=True,  logScale=False, colour=\"Red\")\n",
    "tris.vertices(verts)\n",
    "tris.indices(sp.tri.simplices)\n",
    "tris.values(sp.height / 1000.0, label=\"height\")\n",
    "tris.values(gradient / 1000.0, label=\"slope\")\n",
    "tris.colourmap([\"(-1.0)Blue (-0.5)Green (0.0)Yellow (1.0)Brown (5.0)White\"])\n",
    "\n",
    "\n",
    "nodes = lv.points(\"vertices\", pointsize=1.0)\n",
    "nodes.vertices(verts)\n",
    "nodes.values(sp.bmask)\n",
    "\n",
    "lv.control.Panel()\n",
    "tris.control.List([\"height\", \"slope\"], property=\"colourby\", value=\"height\", command=\"redraw\", label=\"Display:\")\n",
    "lv.control.show()\n"
   ]
  },
  {
   "cell_type": "code",
   "execution_count": null,
   "metadata": {},
   "outputs": [],
   "source": [
    "tris[\"colourby\"]=\"slope\"\n",
    "lv.commands(\"redraw\")"
   ]
  },
  {
   "cell_type": "markdown",
   "metadata": {},
   "source": [
    "## Compare one and two downhill pathways\n",
    "\n",
    "The Rosenbrock function encapsulates a Y-junction where a river splits in two."
   ]
  },
  {
   "cell_type": "code",
   "execution_count": null,
   "metadata": {
    "scrolled": true
   },
   "outputs": [],
   "source": [
    "sp.downhill_neighbours = 2\n",
    "sp.update_height(height)\n",
    "down2 = sp.downhillMat.copy() # 2 downhill neighbours\n",
    "\n",
    "sp.downhill_neighbours = 1\n",
    "sp.update_height(height)\n",
    "down1 = sp.downhillMat.copy() # 1 downhill neighbour\n",
    "\n",
    "\n",
    "# compute upstream area for each downhill matrix\n",
    "\n",
    "sp.downhillMat = down1\n",
    "upstream_area1 = sp.cumulative_flow(sp.area)\n",
    "\n",
    "sp.downhillMat = down2\n",
    "upstream_area2 = sp.cumulative_flow(sp.area)"
   ]
  },
  {
   "cell_type": "code",
   "execution_count": null,
   "metadata": {},
   "outputs": [],
   "source": [
    "lv = lavavu.Viewer(border=False, resolution=[666,666], background=\"#FFFFFF\")\n",
    "lv[\"axis\"]=True\n",
    "lv['specular'] = 0.5\n",
    "\n",
    "\n",
    "tris  = lv.triangles(\"spmesh\", wireframe=False,  logScale=False, colour=\"Red\")\n",
    "tris.vertices(verts)\n",
    "tris.indices(sp.tri.simplices)\n",
    "tris.values(upstream_area1, \"upstream1\")\n",
    "tris.values(upstream_area2, \"upstream2\")\n",
    "tris.colourmap([\"drywet\"])\n",
    "\n",
    "\n",
    "nodes = lv.points(\"vertices\", pointsize=1.0)\n",
    "nodes.vertices(verts)\n",
    "nodes.values(sp.bmask)\n",
    "\n",
    "lv.control.Panel()\n",
    "tris.control.List([\"upstream1\", \"upstream2\"], property=\"colourby\", value=\"height\", command=\"redraw\", label=\"Display:\")\n",
    "lv.control.show()"
   ]
  },
  {
   "cell_type": "markdown",
   "metadata": {},
   "source": [
    "## Probability densities\n",
    "\n",
    "The downhill matrix is well suited to probability analysis. The parcel of water from a donor node is split across recipient nodes based on slope. The ratio of all recipient nodes must sum to 1, which is an identical characteristic of a probability tree. The cumulative flow routine sums the flow at each increment, the same as a cumulative probability density. A wider probability tree can be cast with more downhill neighbours:\n",
    "\n",
    "```python\n",
    "sp.downhill_neighbours = 3\n",
    "sp.update_height(height)\n",
    "```\n",
    "\n",
    "Here we track the cumulative probability of a particle appearing (i) upstream and (ii) downstream. This is useful to explore provenance relationships of water packets. In practise, we drop a scalar value of 1 at a selected vertex and use the `cumulative_flow` routine to propogate this across the mesh."
   ]
  },
  {
   "cell_type": "code",
   "execution_count": null,
   "metadata": {},
   "outputs": [],
   "source": [
    "def cumulative_probability_upstream(self, vertex):\n",
    "    P = np.zeros(self.npoints)\n",
    "    P[vertex] = 1.0\n",
    "    nit, Pall = self.cumulative_flow_verbose(P, uphill=True)\n",
    "    return Pall\n",
    "\n",
    "def cumulative_probability_downstream(self, vertex):\n",
    "    P = np.zeros(self.npoints)\n",
    "    P[vertex] = 1.0\n",
    "    nit, Pall = self.cumulative_flow_verbose(P, uphill=False)\n",
    "    return Pall\n",
    "\n",
    "\n",
    "# Choose a vertex to analyse\n",
    "vertex = 3520\n",
    "\n",
    "Pdownstream = cumulative_probability_downstream(sp, vertex)\n",
    "Pupstream   = cumulative_probability_upstream(sp, vertex)\n"
   ]
  },
  {
   "cell_type": "code",
   "execution_count": null,
   "metadata": {},
   "outputs": [],
   "source": [
    "lv = lavavu.Viewer(border=False, resolution=[666,666], background=\"#FFFFFF\")\n",
    "lv[\"axis\"]=True\n",
    "lv['specular'] = 0.5\n",
    "\n",
    "\n",
    "tris  = lv.triangles(\"spmesh\", wireframe=False,  logScale=False, colour=\"Red\")\n",
    "tris.vertices(verts)\n",
    "tris.indices(sp.tri.simplices)\n",
    "tris.values(Pupstream, \"upstream\")\n",
    "tris.values(Pdownstream, \"downstream\")\n",
    "tris.colourmap([\"drywet\"])\n",
    "\n",
    "\n",
    "nodes = lv.points(\"vertices\", pointsize=1.0)\n",
    "nodes.vertices(verts)\n",
    "nodes.values(sp.bmask)\n",
    "\n",
    "vert = lv.points(\"vertices\", pointsize=50.0, colour=\"Red\")\n",
    "vert.vertices(verts[vertex])\n",
    "\n",
    "lv.control.Panel()\n",
    "tris.control.List([\"upstream\", \"downstream\"], property=\"colourby\", value=\"height\", command=\"redraw\", label=\"Display:\")\n",
    "lv.control.show()"
   ]
  },
  {
   "cell_type": "markdown",
   "metadata": {},
   "source": [
    "## Animation of stream flow\n",
    "\n",
    "A finite volume of water is propagated downstream where a single stream meets a saddle point and the river must diverge. Downstream flow is better represented using 2 downhill pathways in this example."
   ]
  },
  {
   "cell_type": "code",
   "execution_count": null,
   "metadata": {},
   "outputs": [],
   "source": [
    "rain = np.zeros_like(height)\n",
    "rain[np.logical_and(x > -0.1, x < 0.1)] = 10.\n",
    "rain[y > 0.] = 0.0\n",
    "\n",
    "sp.downhill_neighbours = 2\n",
    "sp.update_height(height)\n",
    "smooth_rain = sp.local_area_smoothing(rain, its=10)"
   ]
  },
  {
   "cell_type": "code",
   "execution_count": null,
   "metadata": {},
   "outputs": [],
   "source": [
    "# Create an animation\n",
    "lv = lavavu.Viewer(border=False, resolution=[666,666], background=\"#FFFFFF\")\n",
    "lv[\"axis\"]=True\n",
    "lv['specular'] = 0.5\n",
    "\n",
    "\n",
    "tris  = lv.triangles(\"spmesh\", wireframe=False,  logScale=False, colour=\"Red\")\n",
    "tris.vertices(verts)\n",
    "tris.indices(sp.tri.simplices)\n",
    "tris.colourmap([\"drywet\"])\n",
    "\n",
    "\n",
    "nodes = lv.points(\"vertices\", pointsize=1.0)\n",
    "nodes.vertices(verts)\n",
    "nodes.values(sp.bmask)\n",
    "\n",
    "\n",
    "DX0 = sp.gvec.duplicate()\n",
    "DX1 = sp.gvec.duplicate()\n",
    "DX0.set(0.0)\n",
    "DX1.setArray(smooth_rain)\n",
    "\n",
    "step = 0\n",
    "values = []\n",
    "while DX1.array.any():\n",
    "#     values.append(DX1.array.copy())\n",
    "    \n",
    "    tris.values(DX1.array.copy(), \"stream flow\")\n",
    "    lv.addstep()\n",
    "    \n",
    "    step += 1\n",
    "    DX1 = sp.downhillMat*DX1\n",
    "    DX0 += DX1\n",
    "    "
   ]
  },
  {
   "cell_type": "code",
   "execution_count": null,
   "metadata": {
    "scrolled": false
   },
   "outputs": [],
   "source": [
    "\n",
    "lv.control.Panel()\n",
    "lv.control.TimeStepper()\n",
    "lv.control.Range(\"scalepoints\", range=(0.1,5), step=0.1)\n",
    "lv.control.ObjectList()\n",
    "lv.control.show()\n"
   ]
  },
  {
   "cell_type": "code",
   "execution_count": null,
   "metadata": {},
   "outputs": [],
   "source": [
    "lv.timestep(0)\n",
    "total_steps = lv.timesteps()\n",
    "\n",
    "print(\"number of timesteps: {}\".format(len(total_steps)))"
   ]
  }
 ],
 "metadata": {
  "kernelspec": {
   "display_name": "Python 2",
   "language": "python",
   "name": "python2"
  },
  "language_info": {
   "codemirror_mode": {
    "name": "ipython",
    "version": 2
   },
   "file_extension": ".py",
   "mimetype": "text/x-python",
   "name": "python",
   "nbconvert_exporter": "python",
   "pygments_lexer": "ipython2",
   "version": "2.7.14"
  }
 },
 "nbformat": 4,
 "nbformat_minor": 2
}
