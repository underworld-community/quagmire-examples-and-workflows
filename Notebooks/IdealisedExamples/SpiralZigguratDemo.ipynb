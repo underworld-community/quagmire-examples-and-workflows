{
 "cells": [
  {
   "cell_type": "code",
   "execution_count": null,
   "metadata": {},
   "outputs": [],
   "source": [
    "import numpy as np\n",
    "# import matplotlib.pyplot as plt\n",
    "from quagmire import QuagMesh \n",
    "from quagmire import tools as meshtools\n",
    "from mpi4py import MPI\n",
    "comm = MPI.COMM_WORLD"
   ]
  },
  {
   "cell_type": "code",
   "execution_count": null,
   "metadata": {},
   "outputs": [],
   "source": [
    "minX, maxX = -5., 5.\n",
    "minY, maxY = -5., 5.\n",
    "spacing = 0.01\n",
    "\n",
    "ptsx, ptsy, simplices = meshtools.elliptical_mesh(minX, maxX, minY, maxY, spacing, spacing)\n",
    "dm = meshtools.create_DMPlex_from_points(ptsx, ptsy, bmask=None, refinement_levels=0)"
   ]
  },
  {
   "cell_type": "code",
   "execution_count": null,
   "metadata": {},
   "outputs": [],
   "source": [
    "mesh = QuagMesh(dm, downhill_neighbours=2)\n",
    "\n",
    "#if comm.rank == 0:\n",
    "print(\"Number of nodes in mesh - {}: {}\".format(comm.rank, mesh.npoints))\n",
    "\n",
    "# retrieve local mesh\n",
    "x = mesh.tri.x\n",
    "y = mesh.tri.y\n",
    "\n",
    "# dm generated bmask\n",
    "\n",
    "bmask = mesh.bmask"
   ]
  },
  {
   "cell_type": "code",
   "execution_count": null,
   "metadata": {},
   "outputs": [],
   "source": [
    "import scipy.interpolate as interpolate\n",
    "\n",
    "# create height field - make 2 spirals as strings of points and interpolate between them\n",
    "# to make a smooth surface for the model. \n",
    "\n",
    "#  \n",
    "theta = np.linspace(0.0000001, 66.6*np.pi, 10000)\n",
    "s1 = 0.30 * theta \n",
    "s2 = 0.25 * theta \n",
    "x1 = s1 * np.cos(theta)\n",
    "y1 = s1 * np.sin(theta)\n",
    "x2 = s2 * np.cos(theta)\n",
    "y2 = s2 * np.sin(theta)\n",
    "\n",
    "rmean = (s1 + s2) / 2.0\n",
    "z = np.exp(-rmean**2.0 / 20.0)\n",
    "\n",
    "h2 = (1.0 - s1 / s1.max()) * z\n",
    "h1 = (1.0 - s2 / s1.max()) * z + 0.05 \n",
    "\n",
    "x0 = np.hstack( [x1,x2] )\n",
    "y0 = np.hstack( [y1,y2] )\n",
    "h0 = np.hstack( [h1,h2] )\n",
    "shade = np.hstack( [np.zeros_like(h1), np.ones_like(h2)])\n",
    "\n",
    "points = np.transpose(np.array( [x0,y0] ))\n",
    "newpoints = np.transpose(np.array([x,y]))\n",
    "\n",
    "interp = interpolate.LinearNDInterpolator(points, h0)\n",
    "height = interp(newpoints)\n",
    "\n",
    "interp = interpolate.LinearNDInterpolator(points, shade)\n",
    "shade  = interp(newpoints)\n",
    "\n",
    "height = height + 0.01 * np.random.random(size=height.shape)"
   ]
  },
  {
   "cell_type": "code",
   "execution_count": null,
   "metadata": {
    "lines_to_next_cell": 2
   },
   "outputs": [],
   "source": [
    "rank = np.ones_like(height)*comm.rank\n",
    "shadow = np.zeros_like(height)\n",
    "\n",
    "# get shadow zones\n",
    "shadow_zones = mesh.lgmap_row.indices < 0\n",
    "shadow[shadow_zones] = 1\n",
    "shadow_vec = mesh.gvec.duplicate()\n",
    "\n",
    "mesh.lvec.setArray(shadow)\n",
    "mesh.dm.localToGlobal(mesh.lvec, shadow_vec, addv=True)"
   ]
  },
  {
   "cell_type": "code",
   "execution_count": null,
   "metadata": {
    "lines_to_next_cell": 2
   },
   "outputs": [],
   "source": [
    "import lavavu\n",
    "import stripy\n",
    "\n",
    "vertices = np.column_stack([x, y, 3 * height])\n",
    "tri = mesh.tri\n",
    "\n",
    "lv = lavavu.Viewer(border=False, background=\"#FFFFFF\", resolution=[600,600], near=-10.0)\n",
    "\n",
    "# sa = lv.points(\"subaerial\", colour=\"red\", pointsize=0.2, opacity=0.75)\n",
    "# sa.vertices(vertices[subaerial])\n",
    "\n",
    "tris = lv.triangles(\"mesh\",  wireframe=False, colour=\"#77ff88\", opacity=1.0)\n",
    "tris.vertices(vertices)\n",
    "tris.indices(tri.simplices)\n",
    "tris.values(height, label=\"elevation\")\n",
    "#tris.values(shade, label=\"shade\")\n",
    "tris.colourmap('dem3')\n",
    "cb = tris.colourbar()\n",
    "\n",
    "# sm = lv.points(\"submarine\", colour=\"blue\", pointsize=0.5, opacity=0.75)\n",
    "# sm.vertices(vertices[submarine])\n",
    "\n",
    "lv.control.Panel()\n",
    "lv.control.ObjectList()\n",
    "# tris.control.Checkbox(property=\"wireframe\")\n",
    "lv.control.show()"
   ]
  },
  {
   "cell_type": "code",
   "execution_count": null,
   "metadata": {},
   "outputs": [],
   "source": [
    "with mesh.deform_topography():\n",
    "    mesh.topography.data = height\n",
    "    \n",
    "gradient = mesh.slope.evaluate(mesh)"
   ]
  },
  {
   "cell_type": "code",
   "execution_count": null,
   "metadata": {
    "lines_to_next_cell": 2
   },
   "outputs": [],
   "source": [
    "for repeat in range(0,20):\n",
    "    \n",
    "    mesh.low_points_local_patch_fill(its=2, smoothing_steps=2)\n",
    "    low_points2 = mesh.identify_global_low_points(ref_height=0.0)\n",
    "    \n",
    "    if low_points2[0] == 0:\n",
    "        break\n",
    "    \n",
    "    for i in range(0,2):\n",
    " \n",
    "        mesh.low_points_swamp_fill(ref_height=0.0, its=5000, saddles=False, ref_gradient=0.0001)\n",
    "\n",
    "        # In parallel, we can't break if ANY processor has work to do (barrier / sync issue)\n",
    "        low_points3 = mesh.identify_global_low_points(ref_height=0.0)\n",
    "\n",
    "        print(\"{} : {}\".format(i,low_points3[0]))\n",
    "        if low_points3[0] == 0:\n",
    "            break"
   ]
  },
  {
   "cell_type": "code",
   "execution_count": null,
   "metadata": {},
   "outputs": [],
   "source": [
    "outflow_points = mesh.identify_outflow_points()\n",
    "low_points     = mesh.identify_low_points()"
   ]
  },
  {
   "cell_type": "code",
   "execution_count": null,
   "metadata": {
    "lines_to_next_cell": 2
   },
   "outputs": [],
   "source": [
    "from quagmire import function as fn\n",
    "\n",
    "ones = fn.parameter(1.0, mesh=mesh)\n",
    "rain = fn.misc.levelset(mesh.topography, alpha=0.99)\n",
    "\n",
    "cumulative_flow_0 = np.log10(1.0e-10 + mesh.upstream_integral_fn(ones).evaluate(mesh))"
   ]
  },
  {
   "cell_type": "code",
   "execution_count": null,
   "metadata": {},
   "outputs": [],
   "source": [
    "## Smoothing is purely for the purpose of visualisation\n",
    "\n",
    "rbf_smoother = mesh.build_rbf_smoother(0.015)\n",
    "smoothed_flow = rbf_smoother.smooth_fn(mesh.upstream_integral_fn(ones))\n",
    "cumulative_flow_1 = np.log10(1.0e-10 + smoothed_flow.evaluate(mesh))"
   ]
  },
  {
   "cell_type": "code",
   "execution_count": null,
   "metadata": {},
   "outputs": [],
   "source": [
    "cumulative_flow_0.min(), cumulative_flow_1.min()\n",
    "cumulative_flow_0.max(), cumulative_flow_1.max()"
   ]
  },
  {
   "cell_type": "code",
   "execution_count": null,
   "metadata": {},
   "outputs": [],
   "source": [
    "import lavavu\n",
    "import stripy\n",
    "\n",
    "vertices = np.column_stack([x, y, 3 * height])\n",
    "tri = mesh.tri\n",
    "\n",
    "lv = lavavu.Viewer(border=False, background=\"#FFFFFF\", resolution=[1200,600], near=-10.0)\n",
    "\n",
    "outs = lv.points(\"outflows\", colour=\"green\", pointsize=5.0, opacity=0.75)\n",
    "outs.vertices(vertices[outflow_points])\n",
    "\n",
    "lows = lv.points(\"lows\", colour=\"red\", pointsize=5.0, opacity=0.75)\n",
    "lows.vertices(vertices[low_points])\n",
    "\n",
    "flowball = lv.points(\"flowballs\", pointsize=2.0)\n",
    "flowball.vertices(vertices+(0.0,0.0,0.001))\n",
    "flowball.values(cumulative_flow_1, label=\"flow1\")\n",
    "flowball.colourmap(\"rgba(255,255,255,0.0) rgba(128,128,255,0.5) rgba(0,50,200,1.0)\")\n",
    "\n",
    "heightball = lv.points(\"heightballs\", pointsize=2.0, opacity=1.0)\n",
    "heightball.vertices(vertices)\n",
    "heightball.values(height, label=\"height\")\n",
    "heightball.colourmap('dem3')\n",
    "\n",
    "lv.translation(-1.012, 2.245, -13.352)\n",
    "lv.rotation(53.217, 18.104, 161.927)\n",
    "\n",
    "lv.control.Panel()\n",
    "lv.control.ObjectList()\n",
    "lv.control.show()\n",
    "\n"
   ]
  },
  {
   "cell_type": "code",
   "execution_count": null,
   "metadata": {},
   "outputs": [],
   "source": [
    "lv.image(filename=\"SpiralZiggurat.png\", resolution=(1500,750), quality=4)"
   ]
  },
  {
   "cell_type": "code",
   "execution_count": null,
   "metadata": {},
   "outputs": [],
   "source": [
    "! open ."
   ]
  },
  {
   "cell_type": "code",
   "execution_count": null,
   "metadata": {},
   "outputs": [],
   "source": []
  }
 ],
 "metadata": {
  "jupytext": {
   "formats": "../../Notebooks/IdealisedExamples//ipynb,py:light"
  },
  "kernelspec": {
   "display_name": "Python 3",
   "language": "python",
   "name": "python3"
  }
 },
 "nbformat": 4,
 "nbformat_minor": 4
}
