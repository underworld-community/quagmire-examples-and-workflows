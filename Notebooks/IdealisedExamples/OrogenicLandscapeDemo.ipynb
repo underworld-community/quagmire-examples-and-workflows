{
 "cells": [
  {
   "cell_type": "markdown",
   "metadata": {},
   "source": [
    "# Orogenic Landscape Modelling"
   ]
  },
  {
   "cell_type": "markdown",
   "metadata": {},
   "source": [
    "We investigate the drainage network dynamics and the steady-state drainage patterns that emerge from erosion of an uplifting mountain."
   ]
  },
  {
   "cell_type": "code",
   "execution_count": 1,
   "metadata": {},
   "outputs": [],
   "source": [
    "import quagmire as qg"
   ]
  },
  {
   "cell_type": "code",
   "execution_count": 2,
   "metadata": {},
   "outputs": [],
   "source": [
    "qg.nd = qg.scaling.non_dimensionalise"
   ]
  },
  {
   "cell_type": "code",
   "execution_count": 3,
   "metadata": {},
   "outputs": [],
   "source": [
    "u = qg.scaling._scaling.u"
   ]
  },
  {
   "cell_type": "code",
   "execution_count": 4,
   "metadata": {},
   "outputs": [],
   "source": [
    "scaling_coefficients = qg.scaling._scaling.get_coefficients()"
   ]
  },
  {
   "cell_type": "code",
   "execution_count": 5,
   "metadata": {},
   "outputs": [],
   "source": [
    "scaling_coefficients[\"[length]\"] = 80 * u.km\n",
    "scaling_coefficients[\"[time]\"] = 1000 * u.years"
   ]
  },
  {
   "cell_type": "markdown",
   "metadata": {},
   "source": [
    "## Utilities"
   ]
  },
  {
   "cell_type": "code",
   "execution_count": null,
   "metadata": {},
   "outputs": [],
   "source": []
  },
  {
   "cell_type": "markdown",
   "metadata": {},
   "source": [
    "# Create Mesh"
   ]
  },
  {
   "cell_type": "code",
   "execution_count": 6,
   "metadata": {},
   "outputs": [],
   "source": [
    "from quagmire import SurfaceProcessMesh\n",
    "from quagmire import tools as meshtools\n",
    "from quagmire import function as fn\n",
    "from quagmire import equation_systems as systems\n",
    "import quagmire\n",
    "import numpy as np\n",
    "import matplotlib.pyplot as plt\n",
    "from time import time\n",
    "\n",
    "%matplotlib inline"
   ]
  },
  {
   "cell_type": "code",
   "execution_count": 7,
   "metadata": {},
   "outputs": [
    {
     "name": "stdout",
     "output_type": "stream",
     "text": [
      "0 - Delaunay triangulation 0.02382347799721174s\n",
      "0 - Calculate node weights and area 0.0013009700051043183s\n",
      "0 - Find boundaries 0.0003773589851334691s\n",
      "0 - cKDTree 0.001887164980871603s\n",
      "0 - Construct neighbour cloud array 0.043750832992373034s\n",
      "0 - Construct rbf weights 0.011492349993204698s\n"
     ]
    }
   ],
   "source": [
    "minX, maxX = 0.0, qg.nd(80. * u.km)\n",
    "minY, maxY = 0.0, qg.nd(40. * u.km)\n",
    "dx, dy = qg.nd(500 * u.m), qg.nd(500 * u.m)\n",
    "\n",
    "x1, y1, simplices = meshtools.square_mesh(minX, maxX, minY, maxY, dx, dy, random_scale=1.0)\n",
    "DM = meshtools.create_DMPlex(x1, y1, simplices, boundary_vertices=None)\n",
    "mesh = SurfaceProcessMesh(DM, verbose=True, tree=True)"
   ]
  },
  {
   "cell_type": "code",
   "execution_count": 8,
   "metadata": {},
   "outputs": [
    {
     "name": "stdout",
     "output_type": "stream",
     "text": [
      "\n",
      "Number of points in the triangulation: 13041\n",
      "Downhill neighbour paths: 2\n"
     ]
    }
   ],
   "source": [
    "print( \"\\nNumber of points in the triangulation: {}\".format(mesh.npoints))\n",
    "print( \"Downhill neighbour paths: {}\".format(mesh.downhill_neighbours))"
   ]
  },
  {
   "cell_type": "code",
   "execution_count": 9,
   "metadata": {},
   "outputs": [],
   "source": [
    "boundary_mask_fn = fn.misc.levelset(mesh.mask)"
   ]
  },
  {
   "cell_type": "markdown",
   "metadata": {},
   "source": [
    "### Initial topography"
   ]
  },
  {
   "cell_type": "code",
   "execution_count": 10,
   "metadata": {},
   "outputs": [
    {
     "name": "stdout",
     "output_type": "stream",
     "text": [
      "0 - Build downhill matrices 0.02269772201543674s\n",
      "0 - Build upstream areas 0.0010379340092185885s\n"
     ]
    }
   ],
   "source": [
    "with mesh.deform_topography():\n",
    "    mesh.topography.data = 0."
   ]
  },
  {
   "cell_type": "code",
   "execution_count": 11,
   "metadata": {},
   "outputs": [
    {
     "name": "stdout",
     "output_type": "stream",
     "text": [
      "0 - Build downhill matrices 0.01952939500915818s\n",
      "0 - Build upstream areas 0.001286560989683494s\n"
     ]
    }
   ],
   "source": [
    "with mesh.deform_topography():\n",
    "    new_elevation = qg.nd(100.*u.meter) * mesh.mask\n",
    "    mesh.topography.data = new_elevation.evaluate(mesh)"
   ]
  },
  {
   "cell_type": "markdown",
   "metadata": {},
   "source": [
    "### Rainfall Function"
   ]
  },
  {
   "cell_type": "code",
   "execution_count": 12,
   "metadata": {},
   "outputs": [],
   "source": [
    "rainfall_fn = mesh.add_variable(name=\"rainfall\")\n",
    "rainfall_fn.data = qg.nd(1.*u.m / u.year)"
   ]
  },
  {
   "cell_type": "markdown",
   "metadata": {},
   "source": [
    "### Uplift function"
   ]
  },
  {
   "cell_type": "code",
   "execution_count": 13,
   "metadata": {},
   "outputs": [],
   "source": [
    "uplift_rate_fn = mesh.add_variable(name=\"uplift\")\n",
    "uplift_rate_fn = qg.nd(1.0 * u.mm / u.year) * mesh.mask"
   ]
  },
  {
   "cell_type": "markdown",
   "metadata": {},
   "source": [
    "### Stream Power Law"
   ]
  },
  {
   "cell_type": "code",
   "execution_count": 14,
   "metadata": {},
   "outputs": [],
   "source": [
    "# vary these and visualise difference\n",
    "m = fn.parameter(0.5)\n",
    "n = fn.parameter(1.0)\n",
    "K = fn.parameter(qg.nd(5.0e-6 / u.year))\n",
    "\n",
    "# create stream power function\n",
    "upstream_precipitation_integral_fn = mesh.upstream_integral_fn(rainfall_fn)\n",
    "stream_power_fn = K*upstream_precipitation_integral_fn**m * mesh.slope**n * boundary_mask_fn\n",
    "\n",
    "# evaluate on the mesh\n",
    "sp = stream_power_fn.evaluate(mesh)"
   ]
  },
  {
   "cell_type": "markdown",
   "metadata": {},
   "source": [
    "### Diffusion and Transport Solvers"
   ]
  },
  {
   "cell_type": "code",
   "execution_count": 15,
   "metadata": {},
   "outputs": [],
   "source": [
    "import quagmire.equation_systems as systems\n",
    "\n",
    "## Set up diffusion solver\n",
    "diffusion_solver = systems.DiffusionEquation(mesh=mesh)\n",
    "diffusion_solver.neumann_x_mask = fn.misc.levelset(mesh.mask, invert=True)\n",
    "diffusion_solver.neumann_y_mask = fn.misc.levelset(mesh.mask, invert=True)\n",
    "diffusion_solver.dirichlet_mask = fn.parameter(0.0)\n",
    "diffusion_solver.diffusivity = fn.parameter(qg.nd(0.8 * u.m**2 / u.year))\n",
    "diffusion_solver.verify() # Does nothing but is supposed to check we have everything necessary\n",
    "\n",
    "# not needed to run\n",
    "hillslope = diffusion_solver.phi\n",
    "hillslope.data = mesh.topography.data\n",
    "\n",
    "## Set up transport solver\n",
    "transport_solver = systems.ErosionDepositionEquation(mesh=mesh, m=0.5, n=1.0)\n",
    "transport_solver.rainfall = rainfall_fn\n",
    "transport_solver.verify()"
   ]
  },
  {
   "cell_type": "markdown",
   "metadata": {},
   "source": [
    "## Timestepping"
   ]
  },
  {
   "cell_type": "code",
   "execution_count": 16,
   "metadata": {},
   "outputs": [
    {
     "name": "stdout",
     "output_type": "stream",
     "text": [
      "Step 0000 | dt 1.64654 | time 1646.5372 year | min/mean/max height 0.011 meter/97.922 meter/102.727 meter | step walltime 0.445\n",
      "Step 0002 | dt 1.64654 | time 4939.6116 year | min/mean/max height 0.032 meter/101.124 meter/108.189 meter | step walltime 0.484\n",
      "Step 0004 | dt 1.64654 | time 8232.6861 year | min/mean/max height 0.051 meter/104.326 meter/113.661 meter | step walltime 0.474\n",
      "Step 0006 | dt 1.64654 | time 11525.7605 year | min/mean/max height 0.068 meter/107.528 meter/119.143 meter | step walltime 0.492\n",
      "Step 0008 | dt 1.64654 | time 14818.8349 year | min/mean/max height 0.083 meter/110.730 meter/124.635 meter | step walltime 0.436\n",
      "Step 0010 | dt 1.64654 | time 18111.9093 year | min/mean/max height 0.096 meter/113.932 meter/130.135 meter | step walltime 0.481\n",
      "Step 0012 | dt 1.64654 | time 21404.9838 year | min/mean/max height 0.107 meter/117.134 meter/135.643 meter | step walltime 0.447\n",
      "Step 0014 | dt 1.64654 | time 24698.0582 year | min/mean/max height 0.117 meter/120.336 meter/141.159 meter | step walltime 0.456\n",
      "Step 0016 | dt 1.64654 | time 27991.1327 year | min/mean/max height 0.124 meter/123.539 meter/146.682 meter | step walltime 0.477\n",
      "Step 0018 | dt 1.64654 | time 31284.2071 year | min/mean/max height 0.130 meter/126.741 meter/152.212 meter | step walltime 0.511\n"
     ]
    }
   ],
   "source": [
    "mesh.verbose = False\n",
    "save_fields = True\n",
    "\n",
    "efficiency = fn.parameter(qg.nd(5.0e-6 / u.year))\n",
    "\n",
    "h5_filename = \"fields_{:06d}.h5\"\n",
    "stats = \"Step {:04d} | dt {:.5f} | time {:.4f} | min/mean/max height {:.3f}/{:.3f}/{:.3f} | step walltime {:.3f}\"\n",
    "sim_time = 0.0\n",
    "steps = 20\n",
    "\n",
    "for i in range(steps):\n",
    "    \n",
    "    t = time()\n",
    "    \n",
    "    topography0 = mesh.topography.copy()\n",
    "    \n",
    "    # get timestep size   \n",
    "    dt = min(diffusion_solver.diffusion_timestep(), transport_solver.erosion_deposition_timestep())\n",
    "    \n",
    "    # build diffusion, erosion + deposition\n",
    "    diffusion_rate = diffusion_solver.diffusion_rate_fn(mesh.topography).evaluate(mesh)\n",
    "    erosion_rate, deposition_rate = transport_solver.erosion_deposition_local_equilibrium(efficiency)\n",
    "    uplift_rate = uplift_rate_fn.evaluate(mesh)\n",
    "    dhdt = diffusion_rate - erosion_rate + uplift_rate #+ deposition_rate\n",
    "    \n",
    "    # do not rebuilt downhill matrix at half timestep\n",
    "    mesh.topography.unlock()\n",
    "    mesh.topography.data = mesh.topography.data + 0.5*dt*dhdt\n",
    "    mesh.topography.lock()\n",
    "    \n",
    "    # get timestep size\n",
    "    dt = min(diffusion_solver.diffusion_timestep(), transport_solver.erosion_deposition_timestep())\n",
    "    \n",
    "    # build diffusion, erosion + deposition\n",
    "    diffusion_rate = diffusion_solver.diffusion_rate_fn(mesh.topography).evaluate(mesh)\n",
    "    erosion_rate, deposition_rate = transport_solver.erosion_deposition_local_equilibrium(efficiency)\n",
    "    uplift_rate = uplift_rate_fn.evaluate(mesh)\n",
    "    dhdt = diffusion_rate - erosion_rate + uplift_rate#+ deposition_rate\n",
    "    \n",
    "    # now take full timestep\n",
    "    with mesh.deform_topography():\n",
    "        mesh.topography.data = topography0.data + dt*dhdt\n",
    "        \n",
    "    if save_fields:\n",
    "        mesh.save_mesh_to_hdf5(h5_filename.format(i))\n",
    "        mesh.save_field_to_hdf5(h5_filename.format(i), topo=mesh.topography.data)\n",
    "        quagmire.tools.generate_xdmf(h5_filename.format(i))\n",
    "        \n",
    "    sim_time += dt\n",
    "    \n",
    "    if i/steps*100 in list(range(0,100,10)):\n",
    "        topo_scaled = qg.scaling.dimensionalise(mesh.topography.data, u.meter)\n",
    "        simulation_time = qg.scaling.dimensionalise(sim_time, u.year)\n",
    "        print(stats.format(i, dt, simulation_time, topo_scaled.min(), topo_scaled.mean(),\n",
    "                           topo_scaled.max(), time() - t))"
   ]
  }
 ],
 "metadata": {
  "kernelspec": {
   "display_name": "quagmire",
   "language": "python",
   "name": "quagmire"
  },
  "language_info": {
   "codemirror_mode": {
    "name": "ipython",
    "version": 3
   },
   "file_extension": ".py",
   "mimetype": "text/x-python",
   "name": "python",
   "nbconvert_exporter": "python",
   "pygments_lexer": "ipython3",
   "version": "3.8.2"
  }
 },
 "nbformat": 4,
 "nbformat_minor": 2
}
