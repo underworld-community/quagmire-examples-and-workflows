{
 "cells": [
  {
   "cell_type": "markdown",
   "metadata": {},
   "source": [
    "# Orogenic Landscape Modelling"
   ]
  },
  {
   "cell_type": "markdown",
   "metadata": {},
   "source": [
    "We investigate the drainage network dynamics and the steady-state drainage patterns that emerge from erosion of an uplifting mountain."
   ]
  },
  {
   "cell_type": "code",
   "execution_count": null,
   "metadata": {},
   "outputs": [],
   "source": [
    "import quagmire as qg"
   ]
  },
  {
   "cell_type": "code",
   "execution_count": null,
   "metadata": {},
   "outputs": [],
   "source": [
    "qg.nd = qg.scaling.non_dimensionalise"
   ]
  },
  {
   "cell_type": "code",
   "execution_count": null,
   "metadata": {},
   "outputs": [],
   "source": [
    "u = qg.scaling._scaling.u"
   ]
  },
  {
   "cell_type": "code",
   "execution_count": null,
   "metadata": {},
   "outputs": [],
   "source": [
    "scaling_coefficients = qg.scaling._scaling.get_coefficients()"
   ]
  },
  {
   "cell_type": "code",
   "execution_count": null,
   "metadata": {},
   "outputs": [],
   "source": [
    "scaling_coefficients[\"[length]\"] = 80 * u.km\n",
    "scaling_coefficients[\"[time]\"] = 1000 * u.years"
   ]
  },
  {
   "cell_type": "markdown",
   "metadata": {},
   "source": [
    "## Utilities"
   ]
  },
  {
   "cell_type": "code",
   "execution_count": null,
   "metadata": {},
   "outputs": [],
   "source": []
  },
  {
   "cell_type": "markdown",
   "metadata": {},
   "source": [
    "# Create Mesh"
   ]
  },
  {
   "cell_type": "code",
   "execution_count": null,
   "metadata": {},
   "outputs": [],
   "source": [
    "from quagmire import QuagMesh\n",
    "from quagmire import tools as meshtools\n",
    "from quagmire import function as fn\n",
    "from quagmire import equation_systems as systems\n",
    "import quagmire\n",
    "import numpy as np\n",
    "import matplotlib.pyplot as plt\n",
    "from time import time\n",
    "\n",
    "%matplotlib inline"
   ]
  },
  {
   "cell_type": "code",
   "execution_count": null,
   "metadata": {},
   "outputs": [],
   "source": [
    "minX, maxX = 0.0, qg.nd(80. * u.km)\n",
    "minY, maxY = 0.0, qg.nd(40. * u.km)\n",
    "dx, dy = qg.nd(500 * u.m), qg.nd(500 * u.m)\n",
    "\n",
    "x1, y1, simplices = meshtools.square_mesh(minX, maxX, minY, maxY, dx, dy, random_scale=1.0)\n",
    "DM = meshtools.create_DMPlex(x1, y1, simplices, boundary_vertices=None)\n",
    "mesh = QuagMesh(DM, verbose=True, tree=True)"
   ]
  },
  {
   "cell_type": "code",
   "execution_count": null,
   "metadata": {},
   "outputs": [],
   "source": [
    "print( \"\\nNumber of points in the triangulation: {}\".format(mesh.npoints))\n",
    "print( \"Downhill neighbour paths: {}\".format(mesh.downhill_neighbours))"
   ]
  },
  {
   "cell_type": "code",
   "execution_count": null,
   "metadata": {},
   "outputs": [],
   "source": [
    "boundary_mask_fn = fn.misc.levelset(mesh.mask)"
   ]
  },
  {
   "cell_type": "markdown",
   "metadata": {},
   "source": [
    "### Initial topography"
   ]
  },
  {
   "cell_type": "code",
   "execution_count": null,
   "metadata": {},
   "outputs": [],
   "source": [
    "with mesh.deform_topography():\n",
    "    mesh.topography.data = 0."
   ]
  },
  {
   "cell_type": "code",
   "execution_count": null,
   "metadata": {},
   "outputs": [],
   "source": [
    "with mesh.deform_topography():\n",
    "    new_elevation = qg.nd(100.*u.meter) * mesh.mask\n",
    "    mesh.topography.data = new_elevation.evaluate(mesh)"
   ]
  },
  {
   "cell_type": "markdown",
   "metadata": {},
   "source": [
    "### Rainfall Function"
   ]
  },
  {
   "cell_type": "code",
   "execution_count": null,
   "metadata": {},
   "outputs": [],
   "source": [
    "rainfall_fn = mesh.add_variable(name=\"rainfall\")\n",
    "rainfall_fn.data = qg.nd(1.*u.m / u.year)"
   ]
  },
  {
   "cell_type": "markdown",
   "metadata": {},
   "source": [
    "### Uplift function"
   ]
  },
  {
   "cell_type": "code",
   "execution_count": null,
   "metadata": {},
   "outputs": [],
   "source": [
    "uplift_rate_fn = mesh.add_variable(name=\"uplift\")\n",
    "uplift_rate_fn = qg.nd(1.0 * u.mm / u.year) * mesh.mask"
   ]
  },
  {
   "cell_type": "markdown",
   "metadata": {},
   "source": [
    "### Stream Power Law"
   ]
  },
  {
   "cell_type": "code",
   "execution_count": null,
   "metadata": {},
   "outputs": [],
   "source": [
    "# vary these and visualise difference\n",
    "m = fn.parameter(0.5)\n",
    "n = fn.parameter(1.0)\n",
    "K = fn.parameter(qg.nd(5.0e-6 / u.year))\n",
    "\n",
    "# create stream power function\n",
    "upstream_precipitation_integral_fn = mesh.upstream_integral_fn(rainfall_fn)\n",
    "stream_power_fn = K*upstream_precipitation_integral_fn**m * mesh.slope**n * boundary_mask_fn\n",
    "\n",
    "# evaluate on the mesh\n",
    "sp = stream_power_fn.evaluate(mesh)"
   ]
  },
  {
   "cell_type": "markdown",
   "metadata": {},
   "source": [
    "### Diffusion and Transport Solvers"
   ]
  },
  {
   "cell_type": "code",
   "execution_count": null,
   "metadata": {},
   "outputs": [],
   "source": [
    "import quagmire.equation_systems as systems\n",
    "\n",
    "## Set up diffusion solver\n",
    "diffusion_solver = systems.DiffusionEquation(mesh=mesh)\n",
    "diffusion_solver.neumann_x_mask = fn.misc.levelset(mesh.mask, invert=True)\n",
    "diffusion_solver.neumann_y_mask = fn.misc.levelset(mesh.mask, invert=True)\n",
    "diffusion_solver.dirichlet_mask = fn.parameter(0.0)\n",
    "diffusion_solver.diffusivity = fn.parameter(qg.nd(0.8 * u.m**2 / u.year))\n",
    "diffusion_solver.verify() # Does nothing but is supposed to check we have everything necessary\n",
    "\n",
    "# not needed to run\n",
    "hillslope = diffusion_solver.phi\n",
    "hillslope.data = mesh.topography.data\n",
    "\n",
    "## Set up transport solver\n",
    "transport_solver = systems.ErosionDepositionEquation(mesh=mesh, m=0.5, n=1.0)\n",
    "transport_solver.rainfall = rainfall_fn\n",
    "transport_solver.verify()"
   ]
  },
  {
   "cell_type": "markdown",
   "metadata": {},
   "source": [
    "## Timestepping"
   ]
  },
  {
   "cell_type": "code",
   "execution_count": null,
   "metadata": {},
   "outputs": [],
   "source": [
    "mesh.verbose = False\n",
    "save_fields = True\n",
    "\n",
    "efficiency = fn.parameter(qg.nd(5.0e-6 / u.year))\n",
    "\n",
    "h5_filename = \"fields_{:06d}.h5\"\n",
    "stats = \"Step {:04d} | dt {:.5f} | time {:.4f} | min/mean/max height {:.3f}/{:.3f}/{:.3f} | step walltime {:.3f}\"\n",
    "sim_time = 0.0\n",
    "steps = 20\n",
    "\n",
    "for i in range(steps):\n",
    "    \n",
    "    t = time()\n",
    "    \n",
    "    topography0 = mesh.topography.copy()\n",
    "    \n",
    "    # get timestep size   \n",
    "    dt = min(diffusion_solver.diffusion_timestep(), transport_solver.erosion_deposition_timestep())\n",
    "    \n",
    "    # build diffusion, erosion + deposition\n",
    "    diffusion_rate = diffusion_solver.diffusion_rate_fn(mesh.topography).evaluate(mesh)\n",
    "    erosion_rate, deposition_rate = transport_solver.erosion_deposition_local_equilibrium(efficiency)\n",
    "    uplift_rate = uplift_rate_fn.evaluate(mesh)\n",
    "    dhdt = diffusion_rate - erosion_rate + uplift_rate #+ deposition_rate\n",
    "    \n",
    "    # do not rebuilt downhill matrix at half timestep\n",
    "    mesh.topography.unlock()\n",
    "    mesh.topography.data = mesh.topography.data + 0.5*dt*dhdt\n",
    "    mesh.topography.lock()\n",
    "    \n",
    "    # get timestep size\n",
    "    dt = min(diffusion_solver.diffusion_timestep(), transport_solver.erosion_deposition_timestep())\n",
    "    \n",
    "    # build diffusion, erosion + deposition\n",
    "    diffusion_rate = diffusion_solver.diffusion_rate_fn(mesh.topography).evaluate(mesh)\n",
    "    erosion_rate, deposition_rate = transport_solver.erosion_deposition_local_equilibrium(efficiency)\n",
    "    uplift_rate = uplift_rate_fn.evaluate(mesh)\n",
    "    dhdt = diffusion_rate - erosion_rate + uplift_rate#+ deposition_rate\n",
    "    \n",
    "    # now take full timestep\n",
    "    with mesh.deform_topography():\n",
    "        mesh.topography.data = topography0.data + dt*dhdt\n",
    "        \n",
    "    if save_fields:\n",
    "        mesh.save_mesh_to_hdf5(h5_filename.format(i))\n",
    "        mesh.save_field_to_hdf5(h5_filename.format(i), topo=mesh.topography.data)\n",
    "        quagmire.tools.generate_xdmf(h5_filename.format(i))\n",
    "        \n",
    "    sim_time += dt\n",
    "    \n",
    "    if i/steps*100 in list(range(0,100,10)):\n",
    "        topo_scaled = qg.scaling.dimensionalise(mesh.topography.data, u.meter)\n",
    "        simulation_time = qg.scaling.dimensionalise(sim_time, u.year)\n",
    "        print(stats.format(i, dt, simulation_time, topo_scaled.min(), topo_scaled.mean(),\n",
    "                           topo_scaled.max(), time() - t))"
   ]
  }
 ],
 "metadata": {
  "jupytext": {
   "formats": "../../Notebooks/IdealisedExamples//ipynb,py:light"
  },
  "kernelspec": {
   "display_name": "quagmire",
   "language": "python",
   "name": "quagmire"
  }
 },
 "nbformat": 4,
 "nbformat_minor": 4
}
