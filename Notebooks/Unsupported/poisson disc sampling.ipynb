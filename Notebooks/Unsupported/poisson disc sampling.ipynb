{
 "cells": [
  {
   "cell_type": "markdown",
   "metadata": {
    "deletable": true,
    "editable": true
   },
   "source": [
    "# Poisson disc sampling\n",
    "\n",
    "Quality meshes are important for producing reliable solution in surface process modelling. For any given node in an unstructured mesh, its neighbours should be spaced more or less at an equal radius. For this we turn to Poisson disc sampling using an efficient $O(N)$ [algorithm](http://www.cs.ubc.ca/~rbridson/docs/bridson-siggraph07-poissondisk.pdf).\n",
    "\n",
    "The premise of this algorithm is to ensure that points are tightly packed together, but no closer than a specified minimum distance. This distance can be uniform across the entire domain, or alternatively a 2D numpy array of radius lengths can be used to bunch and relax the spacing of nodes."
   ]
  },
  {
   "cell_type": "code",
   "execution_count": null,
   "metadata": {
    "collapsed": false,
    "deletable": true,
    "editable": true
   },
   "outputs": [],
   "source": [
    "import matplotlib.pyplot as plt\n",
    "import numpy as np\n",
    "from scipy.ndimage import imread\n",
    "from quagmire import tools as meshtools\n",
    "%matplotlib inline"
   ]
  },
  {
   "cell_type": "markdown",
   "metadata": {
    "deletable": true,
    "editable": true
   },
   "source": [
    "## Uniform spacing"
   ]
  },
  {
   "cell_type": "code",
   "execution_count": null,
   "metadata": {
    "collapsed": false,
    "deletable": true,
    "editable": true
   },
   "outputs": [],
   "source": [
    "minX, maxX = -1.0, 1.0\n",
    "minY, maxY = 0.0, 1.0\n",
    "\n",
    "x, y, bmask = meshtools.poisson_square_mesh(minX, maxX, minY, maxY, 0.02, 80)\n",
    "print(\"{} points\".format(x.size))\n",
    "\n",
    "fig = plt.figure(1, figsize=(8,4))\n",
    "ax = fig.add_subplot(111)\n",
    "ax.axis('off')\n",
    "ax.scatter(x[bmask], y[bmask], s=1)\n",
    "ax.scatter(x[~bmask], y[~bmask], s=2)\n",
    "plt.show()"
   ]
  },
  {
   "cell_type": "code",
   "execution_count": null,
   "metadata": {
    "collapsed": false,
    "deletable": true,
    "editable": true
   },
   "outputs": [],
   "source": [
    "x, y, bmask = meshtools.poisson_elliptical_mesh(minX, maxX, minY, maxY, 0.02, 200)\n",
    "print(\"{} points\".format(x.size))\n",
    "\n",
    "fig = plt.figure(1, figsize=(8,4))\n",
    "ax = fig.add_subplot(111)\n",
    "ax.axis('off')\n",
    "ax.scatter(x[bmask], y[bmask], s=1)\n",
    "ax.scatter(x[~bmask], y[~bmask], s=2)\n",
    "plt.show()"
   ]
  },
  {
   "cell_type": "markdown",
   "metadata": {
    "deletable": true,
    "editable": true
   },
   "source": [
    "## Variable spacing\n",
    "\n",
    "This is a *Poisson* disc sampler, so we sample fish..."
   ]
  },
  {
   "cell_type": "code",
   "execution_count": null,
   "metadata": {
    "collapsed": false,
    "deletable": true,
    "editable": true
   },
   "outputs": [],
   "source": [
    "img = imread('data/fish.jpg', mode='F')\n",
    "img = np.flipud(img)\n",
    "\n",
    "height, width = img.shape\n",
    "\n",
    "fig = plt.figure(1, figsize=(8,4))\n",
    "ax = fig.add_subplot(111)\n",
    "ax.axis('off')\n",
    "ax.imshow(img, cmap='bone', origin='lower')\n",
    "plt.show()"
   ]
  },
  {
   "cell_type": "markdown",
   "metadata": {
    "deletable": true,
    "editable": true
   },
   "source": [
    "We adjust the numpy array to create sensible radii"
   ]
  },
  {
   "cell_type": "code",
   "execution_count": null,
   "metadata": {
    "collapsed": false,
    "deletable": true,
    "editable": true
   },
   "outputs": [],
   "source": [
    "radius = img - img.min()\n",
    "radius /= img.max()\n",
    "radius = 0.015*radius + 0.001\n",
    "\n",
    "fig = plt.figure(1, figsize=(10,4))\n",
    "ax = fig.add_subplot(111)\n",
    "ax.axis('off')\n",
    "im = ax.imshow(radius, cmap='bone', origin='lower')\n",
    "fig.colorbar(im, ax=ax, label='radius')\n",
    "plt.show()"
   ]
  },
  {
   "cell_type": "code",
   "execution_count": null,
   "metadata": {
    "collapsed": false,
    "deletable": true,
    "editable": true
   },
   "outputs": [],
   "source": [
    "# weight.fill(10.)\n",
    "x, y, bmask = meshtools.poisson_disc_sampler(minX, maxX, minY, maxY, None, r_grid=radius)\n",
    "print(\"number of points is {}\".format(x.size))\n",
    "\n",
    "fig = plt.figure(1, figsize=(8,4))\n",
    "ax = fig.add_subplot(111)\n",
    "ax.axis('off')\n",
    "ax.scatter(x, y, s=1, c='k')\n",
    "plt.show()"
   ]
  },
  {
   "cell_type": "markdown",
   "metadata": {
    "deletable": true,
    "editable": true
   },
   "source": [
    "This is good, but what if we do not want to sample the area outside the fish?\n",
    "\n",
    "Poisson disc sampling is a flood-fill algorithm, thus we can feed the sampler an array of points that reside on the boundary between the fish and the ocean, and initiate a seed point within the fish shape."
   ]
  },
  {
   "cell_type": "code",
   "execution_count": null,
   "metadata": {
    "collapsed": false,
    "deletable": true,
    "editable": true
   },
   "outputs": [],
   "source": [
    "from scipy.ndimage.filters import gaussian_filter\n",
    "\n",
    "silhouette = (radius > 0.015).astype(float)\n",
    "silhouette = gaussian_filter(silhouette, sigma=1.)\n",
    "\n",
    "# gradient will be high across the border\n",
    "gradX, gradY = np.gradient(silhouette)\n",
    "gradS = np.hypot(gradX, gradY)\n",
    "\n",
    "# Plot border\n",
    "fig = plt.figure(1, figsize=(8,4))\n",
    "ax = fig.add_subplot(111)\n",
    "# ax.axis('off')\n",
    "im = ax.imshow(gradS, origin='lower', cmap='Greys')\n",
    "fig.colorbar(im)\n",
    "plt.show()"
   ]
  },
  {
   "cell_type": "code",
   "execution_count": null,
   "metadata": {
    "collapsed": false,
    "deletable": true,
    "editable": true
   },
   "outputs": [],
   "source": [
    "def transform_to_coords(points, minX, maxX, minY, maxY, width, height):\n",
    "    coords = np.empty_like(points)\n",
    "    coords[:,0] = (maxX-minX)*(points[:,0]/width) + minX\n",
    "    coords[:,1] = (maxY-minY)*(points[:,1]/height) + minY\n",
    "    return coords\n",
    "\n",
    "Xcoords = np.linspace(minX, maxX, gradS.shape[1])\n",
    "Ycoords = np.linspace(minY, maxY, gradS.shape[0])\n",
    "xq, yq = np.meshgrid(Xcoords, Ycoords)\n",
    "\n",
    "j, i = np.where(gradS > 0.2)\n",
    "border = np.column_stack([xq[j,i], yq[j,i]])\n",
    "border = np.vstack([border,border+0.01]) # slightly thicker boundary\n",
    "\n",
    "originX = 0.5*(maxX + minX)\n",
    "originY = 0.5*(maxY + minY)\n",
    "\n",
    "seed = np.array([originX, originY]) # centre"
   ]
  },
  {
   "cell_type": "code",
   "execution_count": null,
   "metadata": {
    "collapsed": false,
    "deletable": true,
    "editable": true
   },
   "outputs": [],
   "source": [
    "x, y, bmask = meshtools.poisson_disc_sampler(minX, maxX, minY, maxY, None, r_grid=radius,\n",
    "                                             cpts=border, spts=seed)\n",
    "\n",
    "print(\"number of points is {}\".format(x.size))\n",
    "\n",
    "fig = plt.figure(1, figsize=(8,4))\n",
    "ax = fig.add_subplot(111)\n",
    "ax.axis('off')\n",
    "ax.scatter(x, y, s=1, c='k')\n",
    "plt.show()"
   ]
  },
  {
   "cell_type": "markdown",
   "metadata": {
    "collapsed": true,
    "deletable": true,
    "editable": true
   },
   "source": [
    "### Landscape\n",
    "\n",
    "In this example we create higher resolution where the slope is steeper."
   ]
  },
  {
   "cell_type": "code",
   "execution_count": null,
   "metadata": {
    "collapsed": false,
    "deletable": true,
    "editable": true,
    "scrolled": false
   },
   "outputs": [],
   "source": [
    "dem = imread('data/port_macquarie.tif', mode='F')\n",
    "\n",
    "rows, columns = dem.shape\n",
    "aspect_ratio = float(columns) / float(rows)\n",
    "\n",
    "spacing = 5.0\n",
    "\n",
    "minX, maxX = 0.0, spacing*dem.shape[1]\n",
    "minY, maxY = 0.0, spacing*dem.shape[0]\n",
    "\n",
    "\n",
    "fig = plt.figure(1, figsize=(10*aspect_ratio,10))\n",
    "ax = fig.add_subplot(111)\n",
    "ax.axis('off')\n",
    "im = ax.imshow(dem, cmap='terrain_r', origin='lower', aspect=aspect_ratio)\n",
    "fig.colorbar(im, ax=ax, label='height')"
   ]
  },
  {
   "cell_type": "code",
   "execution_count": null,
   "metadata": {
    "collapsed": false,
    "deletable": true,
    "editable": true
   },
   "outputs": [],
   "source": [
    "gradX, gradY = np.gradient(dem, 5., 5.) # 5m resolution in each direction\n",
    "slope = np.hypot(gradX, gradY)\n",
    "\n",
    "print(\"min/max slope {}\".format((slope.min(), slope.max())))"
   ]
  },
  {
   "cell_type": "code",
   "execution_count": null,
   "metadata": {
    "collapsed": false,
    "deletable": true,
    "editable": true,
    "scrolled": false
   },
   "outputs": [],
   "source": [
    "height, width = slope.shape\n",
    "\n",
    "radius_min = 50.0\n",
    "radius_max = 100.0\n",
    "\n",
    "radius = 1.0/(slope + 0.02)\n",
    "radius = (radius - radius.min()) / (radius.max() - radius.min()) \n",
    "radius = radius * (radius_max-radius_min) + radius_min\n",
    "\n",
    "# apply gaussian filter for better results\n",
    "from scipy.ndimage import gaussian_filter\n",
    "radius2 = gaussian_filter(radius, 5.)\n",
    "\n",
    "# radius -= slope.min()\n",
    "# radius /= slope.max()/100\n",
    "# radius += 1e-8\n",
    "\n",
    "fig = plt.figure(1, figsize=(10*aspect_ratio, 10))\n",
    "ax = fig.add_subplot(111)\n",
    "ax.axis('off')\n",
    "im = ax.imshow((radius2), cmap='jet', origin='lower', aspect=aspect_ratio)\n",
    "fig.colorbar(im, ax=ax, label='radius2')\n",
    "\n",
    "plt.show()"
   ]
  },
  {
   "cell_type": "code",
   "execution_count": null,
   "metadata": {
    "collapsed": false,
    "deletable": true,
    "editable": true
   },
   "outputs": [],
   "source": [
    "x, y, bmask = meshtools.poisson_square_mesh(minX, maxX, minY, maxY, spacing, boundary_samples=1000, r_grid=radius2)\n",
    "print(\"{} samples\".format(x.size))"
   ]
  },
  {
   "cell_type": "code",
   "execution_count": null,
   "metadata": {
    "collapsed": false,
    "deletable": true,
    "editable": true
   },
   "outputs": [],
   "source": [
    "from scipy import ndimage\n",
    "\n",
    "coords = np.stack((y, x)).T / spacing\n",
    "meshheights = ndimage.map_coordinates(dem, coords.T, order=3, mode='nearest')\n",
    "\n",
    "\n",
    "fig = plt.figure(1, figsize=(10*aspect_ratio, 10))\n",
    "ax = fig.add_subplot(111)\n",
    "ax.axis('off')\n",
    "sc = ax.scatter(x[bmask], y[bmask], s=1, c=meshheights[bmask])\n",
    "sc = ax.scatter(x[~bmask], y[~bmask], s=5, c=meshheights[~bmask])\n",
    "\n",
    "fig.colorbar(sc, ax=ax, label='height')\n",
    "plt.show()"
   ]
  },
  {
   "cell_type": "markdown",
   "metadata": {
    "collapsed": true,
    "deletable": true,
    "editable": true
   },
   "source": [
    "## TriMesh\n",
    "\n",
    "Now the points can be triangulated to become a quality unstructured mesh.\n",
    "\n",
    "Triangulation reorders x,y points - be careful!"
   ]
  },
  {
   "cell_type": "code",
   "execution_count": null,
   "metadata": {
    "collapsed": false,
    "deletable": true,
    "editable": true
   },
   "outputs": [],
   "source": [
    "from quagmire import TopoMesh # all routines we need are within this class\n",
    "from quagmire import SurfaceProcessMesh\n",
    "\n",
    "dm = meshtools.create_DMPlex_from_points(x, y, bmask, refinement_steps=0)\n",
    "mesh = SurfaceProcessMesh(dm)\n",
    "\n",
    "# Triangulation reorders points\n",
    "coords = np.stack((mesh.tri.points[:,1], mesh.tri.points[:,0])).T / spacing\n",
    "meshheights = ndimage.map_coordinates(dem, coords.T, order=3, mode='nearest')\n",
    "\n",
    "mesh.update_height(meshheights)"
   ]
  },
  {
   "cell_type": "code",
   "execution_count": null,
   "metadata": {
    "collapsed": false,
    "deletable": true,
    "editable": true
   },
   "outputs": [],
   "source": [
    "fig = plt.figure(1, figsize=(10*aspect_ratio,10))\n",
    "ax = fig.add_subplot(111)\n",
    "ax.axis('off')\n",
    "im1 = ax.tripcolor(mesh.tri.x, mesh.tri.y, mesh.tri.simplices, mesh.slope, linewidth=0.1, cmap='jet')\n",
    "fig.colorbar(im1, ax=ax, label='slope')\n",
    "plt.show()"
   ]
  },
  {
   "cell_type": "markdown",
   "metadata": {
    "deletable": true,
    "editable": true
   },
   "source": [
    "Landscape analysis statistics"
   ]
  },
  {
   "cell_type": "code",
   "execution_count": null,
   "metadata": {
    "collapsed": false,
    "deletable": true,
    "editable": true
   },
   "outputs": [],
   "source": [
    "gradient_max = mesh.slope.max()\n",
    "gradient_mean = mesh.slope.mean()\n",
    "flat_spots = np.where(mesh.slope < gradient_mean*0.01)[0]\n",
    "low_points = mesh.identify_low_points()\n",
    "\n",
    "nodes = np.arange(0, mesh.npoints)\n",
    "lows =  np.where(mesh.down_neighbour1 == nodes)[0]\n",
    "\n",
    "# print statistics\n",
    "print(\"mean gradient {}\\nnumber of flat spots {}\\nnumber of low points {}\".format(gradient_mean,\n",
    "                                                                                  flat_spots.size,\n",
    "                                                                                  low_points.shape[0]))"
   ]
  },
  {
   "cell_type": "code",
   "execution_count": null,
   "metadata": {
    "collapsed": false,
    "deletable": true,
    "editable": true
   },
   "outputs": [],
   "source": [
    "filename = 'port_macquarie_mesh.h5'\n",
    "\n",
    "mesh.save_mesh_to_hdf5(filename)\n",
    "mesh.save_field_to_hdf5(filename, height=mesh.height, slope=mesh.slope)\n",
    "\n",
    "# to view in Paraview\n",
    "meshtools.generate_xdmf(filename)"
   ]
  }
 ],
 "metadata": {
  "kernelspec": {
   "display_name": "Python 2",
   "language": "python",
   "name": "python2"
  },
  "language_info": {
   "codemirror_mode": {
    "name": "ipython",
    "version": 2
   },
   "file_extension": ".py",
   "mimetype": "text/x-python",
   "name": "python",
   "nbconvert_exporter": "python",
   "pygments_lexer": "ipython2",
   "version": "2.7.13"
  }
 },
 "nbformat": 4,
 "nbformat_minor": 2
}
