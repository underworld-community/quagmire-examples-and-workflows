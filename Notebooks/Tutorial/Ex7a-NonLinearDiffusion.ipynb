{
 "cells": [
  {
   "cell_type": "markdown",
   "metadata": {
    "slideshow": {
     "slide_type": "slide"
    }
   },
   "source": [
    "# Non-Linear diffusion - a critical-slope diffusion implementation\n",
    "\n",
    "This is a simple diffusion model that has a high diffusivity when the slope is above the critical value and low diffusion rates below this value. It should clip the slope over a timescale given by the chosen maximum diffusivity. This is non-linear because the topopographic gradient controls the topographic diffusivity."
   ]
  },
  {
   "cell_type": "code",
   "execution_count": null,
   "metadata": {
    "slideshow": {
     "slide_type": "slide"
    }
   },
   "outputs": [],
   "source": [
    "from quagmire import QuagMesh, QuagMesh\n",
    "from quagmire import tools as meshtools\n",
    "from quagmire import function as fn\n",
    "from quagmire import mesh as qmesh\n",
    "import numpy as np\n",
    "import matplotlib.pyplot as plt\n",
    "\n",
    "%matplotlib inline"
   ]
  },
  {
   "cell_type": "code",
   "execution_count": null,
   "metadata": {
    "slideshow": {
     "slide_type": "fragment"
    }
   },
   "outputs": [],
   "source": [
    "minX, maxX = 0.0, 1.0\n",
    "minY, maxY = 0.0, 1.0,\n",
    "dx, dy = 0.02, 0.02\n",
    "\n",
    "x1, y1, simplices = meshtools.square_mesh(minX, maxX, minY, maxY, dx, dy, random_scale=0.0)\n",
    "DM = meshtools.create_DMPlex(x1, y1, simplices, boundary_vertices=None)\n",
    "mesh = QuagMesh(DM, verbose=False, tree=True)\n",
    "\n",
    "# boundary_mask_fn = fn.misc.levelset(mesh.mask, 0.5)"
   ]
  },
  {
   "cell_type": "code",
   "execution_count": null,
   "metadata": {},
   "outputs": [],
   "source": []
  },
  {
   "cell_type": "code",
   "execution_count": null,
   "metadata": {
    "slideshow": {
     "slide_type": "fragment"
    }
   },
   "outputs": [],
   "source": [
    "from scipy.special import erf, erfc\n",
    "\n",
    "def halfspace_cooling(kappa, y, t):\n",
    "    \n",
    "    T = 1.0-erfc(0.5 * y / np.sqrt(kappa * t))\n",
    "    return T\n",
    "\n",
    "# Avoid the singular value in T(y,t) when t=0.0\n",
    "\n",
    "time0 = 0.0001"
   ]
  },
  {
   "cell_type": "code",
   "execution_count": null,
   "metadata": {
    "slideshow": {
     "slide_type": "slide"
    }
   },
   "outputs": [],
   "source": [
    "import matplotlib.pyplot as plt\n",
    "\n",
    "Zs = np.linspace(0.0,1.0,250)\n",
    "Ts = halfspace_cooling(1.0, Zs, time0)\n",
    "\n",
    "figure = plt.figure(figsize=(5,3))\n",
    "ax1 = figure.add_axes((0.0, 0.0, 1.0, 1.0))\n",
    "\n",
    "ax1.plot(Zs, Ts)"
   ]
  },
  {
   "cell_type": "code",
   "execution_count": null,
   "metadata": {
    "slideshow": {
     "slide_type": "slide"
    }
   },
   "outputs": [],
   "source": [
    "cold_boundary_mask_fn = fn.misc.levelset( fn.misc.coord(dirn=1),  0.99)\n",
    "hot_boundary_mask_fn  = fn.misc.levelset( fn.misc.coord(dirn=1),  0.01, invert=True)\n",
    "non_boundary_mask     = (fn.parameter(1.0) - cold_boundary_mask_fn - hot_boundary_mask_fn)\n",
    "\n",
    "dirichlet_mask = cold_boundary_mask_fn + hot_boundary_mask_fn\n",
    "neumann_x_mask = fn.misc.levelset( fn.misc.coord(dirn=0),  0.01, invert=True) + fn.misc.levelset( fn.misc.coord(dirn=0),  0.99, invert=False)\n",
    "neumann_y_mask = fn.parameter(0.0)\n",
    "\n",
    "kappa = fn.parameter(1.0)"
   ]
  },
  {
   "cell_type": "code",
   "execution_count": null,
   "metadata": {},
   "outputs": [],
   "source": []
  },
  {
   "cell_type": "markdown",
   "metadata": {
    "slideshow": {
     "slide_type": "slide"
    }
   },
   "source": [
    "## Diffusion solver"
   ]
  },
  {
   "cell_type": "code",
   "execution_count": null,
   "metadata": {
    "slideshow": {
     "slide_type": "fragment"
    }
   },
   "outputs": [],
   "source": [
    "time = time0\n",
    "experiment_name = \"TemperatureDiffusion_K=1\""
   ]
  },
  {
   "cell_type": "code",
   "execution_count": null,
   "metadata": {
    "slideshow": {
     "slide_type": "fragment"
    }
   },
   "outputs": [],
   "source": [
    "import quagmire.equation_systems as systems\n",
    "\n",
    "diffusion_solver = systems.DiffusionEquation(mesh=mesh)\n",
    "\n",
    "# What the diffusion solver needs to run \n",
    "\n",
    "diffusion_solver.neumann_x_mask = neumann_x_mask\n",
    "diffusion_solver.neumann_y_mask = neumann_y_mask\n",
    "diffusion_solver.dirichlet_mask = dirichlet_mask\n",
    "diffusion_solver.diffusivity = kappa\n",
    "\n",
    "diffusion_solver.verify() # Does nothing but is supposed to check we have everything necessary\n",
    "\n",
    "temperature = diffusion_solver.phi\n",
    "temperature.data = halfspace_cooling(1.0, 1.0-mesh.tri.y, time0)\n",
    "temp0 = temperature.copy()"
   ]
  },
  {
   "cell_type": "markdown",
   "metadata": {
    "slideshow": {
     "slide_type": "slide"
    }
   },
   "source": [
    "## Diffusion time limit"
   ]
  },
  {
   "cell_type": "code",
   "execution_count": null,
   "metadata": {
    "slideshow": {
     "slide_type": "fragment"
    }
   },
   "outputs": [],
   "source": [
    "diff_timestep = diffusion_solver.diffusion_timestep()\n",
    "print(\"Diffusion timestep limit = {}\".format(diff_timestep))"
   ]
  },
  {
   "cell_type": "markdown",
   "metadata": {
    "slideshow": {
     "slide_type": "slide"
    }
   },
   "source": [
    "## Diffusion solver / time integration"
   ]
  },
  {
   "cell_type": "code",
   "execution_count": null,
   "metadata": {
    "slideshow": {
     "slide_type": "fragment"
    }
   },
   "outputs": [],
   "source": [
    "## Solve this and keep some intermediate results\n",
    "\n",
    "print(\"Integrate t -> t + 0.01\")\n",
    "diffusion_solver.time_integration(diff_timestep, Delta_t=0.01)\n",
    "temp001 = temperature.copy()\n",
    "\n",
    "print(\"Integrate t -> t + 0.04\")\n",
    "diffusion_solver.time_integration(diff_timestep, Delta_t=0.04)\n",
    "temp005 = temperature.copy()\n",
    "\n",
    "print(\"Integrate t -> t + 0.05\")\n",
    "diffusion_solver.time_integration(diff_timestep, Delta_t=0.05)\n",
    "temp01 = temperature.copy()\n",
    "\n",
    "print(\"Integration ... complete\")\n"
   ]
  },
  {
   "cell_type": "markdown",
   "metadata": {
    "slideshow": {
     "slide_type": "slide"
    }
   },
   "source": [
    "## Compare to analytic solutions"
   ]
  },
  {
   "cell_type": "code",
   "execution_count": null,
   "metadata": {
    "hide_input": true,
    "slideshow": {
     "slide_type": "fragment"
    }
   },
   "outputs": [],
   "source": [
    "## Obtain horizontal profiles\n",
    "\n",
    "Zs = np.linspace(0.0,1.0,250)\n",
    "Ts0001 = halfspace_cooling(1.0, Zs, time0)\n",
    "Ts001 = halfspace_cooling(1.0, Zs, 0.01)\n",
    "Ts005 = halfspace_cooling(1.0, Zs, 0.05)\n",
    "Ts01  = halfspace_cooling(1.0, Zs, 0.1)\n",
    "\n",
    "\n",
    "TsN001 = temp001.evaluate(0.0*Zs, 1.0-Zs)\n",
    "TsN005 = temp005.evaluate(0.0*Zs, 1.0-Zs)\n",
    "TsN01  = temp01.evaluate(0.0*Zs, 1.0-Zs)\n",
    "\n",
    "figure = plt.figure(figsize=(10,8))\n",
    "ax1 = figure.add_axes((0.0, 0.0, 1.0, 1.0))\n",
    "\n",
    "ax1.plot(Zs, Ts0001)\n",
    "ax1.plot(Zs, Ts001)\n",
    "ax1.plot(Zs, Ts005)\n",
    "ax1.plot(Zs, Ts01)\n",
    "\n",
    "ax1.scatter(Zs, TsN001, marker=\"+\")\n",
    "ax1.scatter(Zs, TsN005, marker=\"+\")\n",
    "ax1.scatter(Zs, TsN01,  marker=\"+\")\n",
    "\n",
    "pass"
   ]
  },
  {
   "cell_type": "markdown",
   "metadata": {
    "slideshow": {
     "slide_type": "slide"
    }
   },
   "source": [
    "## Browse "
   ]
  },
  {
   "cell_type": "code",
   "execution_count": null,
   "metadata": {
    "hide_input": true,
    "slideshow": {
     "slide_type": "fragment"
    }
   },
   "outputs": [],
   "source": [
    "import lavavu\n",
    "\n",
    "points = np.column_stack([mesh.tri.points, np.zeros(mesh.npoints)])\n",
    "\n",
    "lv = lavavu.Viewer(border=False, background=\"#FFFFFF\", resolution=[666,666], near=-10.0)\n",
    "\n",
    "tri1 = lv.triangles(\"triangles\", wireframe=False)\n",
    "tri1.vertices(points)\n",
    "tri1.indices(mesh.tri.simplices)\n",
    "tri1.values( temp0.evaluate(mesh) , \"T0001\")\n",
    "tri1.values( temp001.evaluate(mesh) ,  \"T001\")\n",
    "tri1.values( temp005.evaluate(mesh) ,  \"T005\")\n",
    "tri1.values( temp01.evaluate(mesh) ,  \"T01\")\n",
    "\n",
    "\n",
    "tri1.colourmap(\"coolwarm\")\n",
    "tri1.colourbar(visible=True)\n",
    "\n",
    "lv.control.Window()\n",
    "tri1.control.List(options=\n",
    "                  [\"T0001\",\"T001\", \"T005\", \"T01\"], \n",
    "                   property=\"colourby\", value=\"T0001\", command=\"redraw\")\n",
    "lv.control.show()\n",
    "\n",
    "\n"
   ]
  },
  {
   "cell_type": "markdown",
   "metadata": {},
   "source": [
    "# Spatially variable diffusivity (circular \"inclusion\")\n",
    "\n",
    "Re-define the diffusivity and load into the equation solver. This is obviously not the optimal way to solve this problem - explicit timestepping is slow with the jump in diffusivity - but it is illustrative.\n",
    "\n",
    "It would also be straightforward to add points close to the boundary to improve the resolution at the interface. Stripy does not offer contrained triangulations at this stage so we are not able to mesh the boundary itself.\n"
   ]
  },
  {
   "cell_type": "code",
   "execution_count": null,
   "metadata": {},
   "outputs": [],
   "source": [
    "kappa1 = fn.parameter(1.0) + fn. parameter(99.0) * fn.misc.levelset(\n",
    "                                 (fn.misc.coord(0) - fn.parameter(0.5))**2 + \n",
    "                                 (fn.misc.coord(1) - fn.parameter(0.5))**2, 0.04)\n",
    "\n",
    "diffusion_solver.diffusivity = kappa1\n",
    "diff_timestep = diffusion_solver.diffusion_timestep()\n",
    "\n",
    "time0 = 0.0\n",
    "print(\"Diffusive timestep = {}\".format(diff_timestep))"
   ]
  },
  {
   "cell_type": "markdown",
   "metadata": {},
   "source": [
    "Also reset the initial temperature - let's start from kappa=1.0 steady state case \n",
    "(i.e. a linear temperature gradient)"
   ]
  },
  {
   "cell_type": "code",
   "execution_count": null,
   "metadata": {},
   "outputs": [],
   "source": [
    "temperature.data = (fn.parameter(1.0) - fn.misc.coord(1)).evaluate(mesh)\n",
    "temp0 = temperature.copy()"
   ]
  },
  {
   "cell_type": "code",
   "execution_count": null,
   "metadata": {},
   "outputs": [],
   "source": [
    "## Solve this and keep some intermediate results\n",
    "\n",
    "print(\"Integrate t -> t + 0.001\")\n",
    "steps, dt = diffusion_solver.time_integration(diff_timestep, Delta_t=0.001, feedback=500)\n",
    "temp001 = temperature.copy()\n",
    "\n",
    "print(\"Integrate t -> t + 0.004\")\n",
    "steps, dt = diffusion_solver.time_integration(diff_timestep, Delta_t=0.004, feedback=500)\n",
    "temp005 = temperature.copy()\n",
    "\n",
    "print(\"Integrate t -> t + 0.005\")\n",
    "steps, dt = diffusion_solver.time_integration(diff_timestep, Delta_t=0.005, feedback=500)\n",
    "temp01 = temperature.copy()\n"
   ]
  },
  {
   "cell_type": "code",
   "execution_count": null,
   "metadata": {},
   "outputs": [],
   "source": [
    "dTdx_fn = temperature.fn_gradient[0] * (fn.parameter(1.0)-neumann_x_mask)\n",
    "dTdy_fn = temperature.fn_gradient[1] * (fn.parameter(1.0)-neumann_y_mask)\n",
    "\n",
    "flux = np.zeros((mesh.npoints, 3))\n",
    "flux[:,0] = dTdx_fn.evaluate(mesh)\n",
    "flux[:,1] = dTdy_fn.evaluate(mesh)"
   ]
  },
  {
   "cell_type": "code",
   "execution_count": null,
   "metadata": {},
   "outputs": [],
   "source": [
    "\n"
   ]
  },
  {
   "cell_type": "code",
   "execution_count": null,
   "metadata": {},
   "outputs": [],
   "source": [
    "import lavavu\n",
    "\n",
    "points = np.column_stack([mesh.tri.points, np.zeros(mesh.npoints)])\n",
    "\n",
    "lv = lavavu.Viewer(border=False, background=\"#FFFFFF\", resolution=[666,666], near=-10.0)\n",
    "\n",
    "vec1 = lv.vectors(\"flux_arrows\", visible=True, colour=\"Blue\" )\n",
    "vec1.vertices(points)\n",
    "vec1.vectors(flux)\n",
    "vec1.colourmap(\"coolwarm\")\n",
    "\n",
    "tri0 = lv.triangles(\"Mesh\", wireframe=True, colour=\"Grey\")\n",
    "tri0.vertices(points)\n",
    "tri0.indices(mesh.tri.simplices)\n",
    "\n",
    "tri1 = lv.triangles(\"triangles\", wireframe=False)\n",
    "tri1.vertices(points)\n",
    "tri1.indices(mesh.tri.simplices)\n",
    "tri1.values( kappa1.evaluate(mesh) , \"kappa\")\n",
    "tri1.values( temperature.evaluate(mesh) , \"T\")\n",
    "tri1.values( (temp01-temp0).evaluate(mesh) , \"dT01\")\n",
    "tri1.values( (temp001-temp0).evaluate(mesh) , \"dT001\")\n",
    "\n",
    "\n",
    "tri1.colourmap(\"coolwarm\")\n",
    "tri1.colourbar(visible=True)\n",
    "\n",
    "lv.control.Panel()\n",
    "vec1.control.Checkbox(property=\"visible\", command=\"redraw\", label=\"Flux\")\n",
    "tri0.control.Checkbox(property=\"visible\", command=\"redraw\", label=\"Mesh\")\n",
    "tri1.control.Checkbox(property=\"visible\", command=\"redraw\", label=\"T\")\n",
    "tri1.control.List(options=\n",
    "                 [\"kappa\",\"T\", \"dT01\", \"dT001\"], \n",
    "                  property=\"colourby\", value=\"kappa\", command=\"redraw\")\n",
    "lv.control.show()\n",
    "\n"
   ]
  },
  {
   "cell_type": "code",
   "execution_count": null,
   "metadata": {},
   "outputs": [],
   "source": [
    "## Mesh refinement\n",
    "##\n",
    "## Add a bunch of mesh points at the (known) interface location\n",
    "\n",
    "\n"
   ]
  },
  {
   "cell_type": "code",
   "execution_count": null,
   "metadata": {},
   "outputs": [],
   "source": [
    "temperature.data = (fn.parameter(1.0) - fn.misc.coord(1)).evaluate(mesh)\n",
    "\n",
    "print(\"Integrate t -> t + 0.01\")\n",
    "steps, dt = diffusion_solver.time_integration(5.0*diff_timestep, Delta_t=0.01, feedback=500)\n",
    "temp015 = temperature.copy()\n"
   ]
  },
  {
   "cell_type": "code",
   "execution_count": null,
   "metadata": {},
   "outputs": [],
   "source": [
    "import lavavu\n",
    "\n",
    "points = np.column_stack([mesh.tri.points, np.zeros(mesh.npoints)])\n",
    "\n",
    "lv = lavavu.Viewer(border=False, background=\"#FFFFFF\", resolution=[666,666], near=-10.0)\n",
    "\n",
    "vec1 = lv.vectors(\"flux_arrows\", visible=True, colour=\"Blue\" )\n",
    "vec1.vertices(points)\n",
    "vec1.vectors(flux)\n",
    "vec1.colourmap(\"coolwarm\")\n",
    "\n",
    "tri0 = lv.triangles(\"Mesh\", wireframe=True, colour=\"Grey\")\n",
    "tri0.vertices(points)\n",
    "tri0.indices(mesh.tri.simplices)\n",
    "\n",
    "tri1 = lv.triangles(\"triangles\", wireframe=False)\n",
    "tri1.vertices(points)\n",
    "tri1.indices(mesh.tri.simplices)\n",
    "tri1.values( kappa1.evaluate(mesh) , \"kappa\")\n",
    "tri1.values( temperature.evaluate(mesh) , \"T\")\n",
    "tri1.values( (temp015-temp0).evaluate(mesh) , \"dT015\")\n",
    "tri1.values( (temp01-temp0).evaluate(mesh) , \"dT01\")\n",
    "\n",
    "\n",
    "tri1.colourmap(\"coolwarm\")\n",
    "tri1.colourbar(visible=True)\n",
    "\n",
    "lv.control.Panel()\n",
    "vec1.control.Checkbox(property=\"visible\", command=\"redraw\", label=\"Flux\")\n",
    "tri0.control.Checkbox(property=\"visible\", command=\"redraw\", label=\"Mesh\")\n",
    "tri1.control.Checkbox(property=\"visible\", command=\"redraw\", label=\"T\")\n",
    "tri1.control.List(options=\n",
    "                 [\"kappa\",\"T\", \"dT015\", \"dT01\"], \n",
    "                  property=\"colourby\", value=\"kappa\", command=\"redraw\")\n",
    "lv.control.show()\n",
    "\n"
   ]
  },
  {
   "cell_type": "raw",
   "metadata": {
    "slideshow": {
     "slide_type": "skip"
    }
   },
   "source": [
    "def diffusion_time_integration(timestep, \n",
    "                               phi, \n",
    "                               kappa_fn, \n",
    "                               dirichlet_mask, \n",
    "                               neumann_x_mask, \n",
    "                               neumann_y_mask,\n",
    "                               steps=1,\n",
    "                               Delta_t=None):\n",
    "    \n",
    "    \n",
    "    if Delta_t is not None:\n",
    "        steps = Delta_t // timestep\n",
    "        timestep = Delta_t / steps\n",
    "        \n",
    "    elapsed_time = 0.0\n",
    " \n",
    "    for step in range(0, int(steps)):\n",
    "    \n",
    "        dx_fn, dy_fn = fn.math.grad(phi) \n",
    "        kappa_dx_fn  = fn.misc.where(neumann_x_mask, kappa  * dx_fn, fn.parameter(0.0))\n",
    "        kappa_dy_fn  = fn.misc.where(neumann_y_mask, kappa  * dy_fn, fn.parameter(0.0))\n",
    "        dPhi_dt_fn   = fn.misc.where(dirichlet_mask, fn.math.div(kappa_dx_fn, kappa_dy_fn), fn.parameter(0.0))\n",
    "\n",
    "\n",
    "        phi0 = phi.copy()\n",
    "        phi.data = phi.data  +  0.5 * timestep * dPhi_dt_fn.evaluate(mesh)\n",
    "        phi.data = phi0.data +  timestep * dPhi_dt_fn.evaluate(mesh)\n",
    "        \n",
    "        elapsed_time += diff_timestep\n",
    "        \n",
    "    return steps, elapsed_time\n",
    "\n",
    "\n",
    "diff_timestep = (0.5 * mesh.area / kappa.value ).min() # FIX FOR PARALLEL !!\n",
    "steps, dt     = diffusion_time_integration(diff_timestep, temperature, \n",
    "                                    kappa, \n",
    "                                    dirichlet_mask, \n",
    "                                    neumann_x_mask, neumann_y_mask, Delta_t = 0.01 )\n",
    "time += dt\n",
    "\n",
    "\n",
    "temp001 = temperature.copy()\n",
    "\n",
    "\n",
    "diff_timestep = (0.5 * mesh.area / kappa.value ).min() # FIX FOR PARALLEL !!\n",
    "steps, dt     = diffusion_time_integration(diff_timestep, temperature, \n",
    "                                    kappa, \n",
    "                                    dirichlet_mask, \n",
    "                                    neumann_x_mask, neumann_y_mask, Delta_t = 0.04 )\n",
    "time += dt"
   ]
  },
  {
   "cell_type": "raw",
   "metadata": {
    "slideshow": {
     "slide_type": "skip"
    }
   },
   "source": [
    "def bf_gradient(xx, yy, meshVariable):\n",
    "    \n",
    "    d, node = mesh.cKDTree.query(location, k=1)\n",
    "\n",
    "    return bf_gradient_node(node, meshVariable)\n",
    "\n",
    "\n",
    "def bf_gradient_node(node, meshVariable):\n",
    "    \n",
    "    from scipy.optimize import curve_fit\n",
    "\n",
    "    def linear_fit_2D(X, a, b, c):\n",
    "        # (1+x) * (1+y) etc\n",
    "        x,y = X\n",
    "        fit = a + b * x + c * y \n",
    "        return fit\n",
    "    \n",
    "    mesh = meshVariable._mesh\n",
    "    patch_points = mesh.neighbour_cloud[node, 0:mesh.near_neighbours[node]]\n",
    "\n",
    "    x,y = mesh.coords[patch_points].T\n",
    "    data = meshVariable.evaluate(x, y)\n",
    "    popt, pcov = curve_fit(linear_fit_2D, (x,y), data)\n",
    "    ddx = popt[1]\n",
    "    ddy = popt[2]\n",
    "\n",
    "    return(ddx, ddy)\n",
    "\n",
    "\n",
    "def bf_gradienty_node(node, meshVariable):\n",
    "    \n",
    "    from scipy.optimize import curve_fit\n",
    "\n",
    "    def linear_fit_2D(X, a, b):\n",
    "        # (1+x) * (1+y) etc\n",
    "        x,y = X\n",
    "        fit = a + b * y \n",
    "        return fit\n",
    "    \n",
    "    mesh = meshVariable._mesh\n",
    "    patch_points = mesh.neighbour_cloud[node, 0:mesh.near_neighbours[node]]\n",
    "\n",
    "    x,y = mesh.coords[patch_points].T\n",
    "    data = meshVariable.evaluate(x, y)\n",
    "    popt, pcov = curve_fit(linear_fit_2D, (x,y), data)\n",
    "    ddy = popt[1]\n",
    "    # ddy = popt[2]\n",
    "\n",
    "    return(ddy)\n",
    "\n",
    "ddx  = np.empty(mesh.npoints)\n",
    "ddy  = np.empty(mesh.npoints)\n",
    "ddy1 = np.empty(mesh.npoints)\n",
    "\n",
    "for i in range(0, mesh.npoints):\n",
    "    ddx[i],ddy[i]  = bf_gradient_node(i, temperature)\n",
    "    ddy1[i]        = bf_gradienty_node(i, temperature)\n",
    "    \n"
   ]
  }
 ],
 "metadata": {
  "celltoolbar": "Slideshow",
  "kernelspec": {
   "display_name": "Python 3",
   "language": "python",
   "name": "python3"
  },
  "language_info": {
   "codemirror_mode": {
    "name": "ipython",
    "version": 3
   },
   "file_extension": ".py",
   "mimetype": "text/x-python",
   "name": "python",
   "nbconvert_exporter": "python",
   "pygments_lexer": "ipython3",
   "version": "3.6.9"
  }
 },
 "nbformat": 4,
 "nbformat_minor": 2
}
