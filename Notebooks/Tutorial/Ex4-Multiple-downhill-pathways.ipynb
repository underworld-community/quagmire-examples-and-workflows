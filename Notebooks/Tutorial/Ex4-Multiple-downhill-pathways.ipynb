{
 "cells": [
  {
   "cell_type": "markdown",
   "metadata": {},
   "source": [
    "## Example 4 - Matrix approaches - multiple paths\n",
    "\n",
    "`Quagmire` allows the user to specify the number of downhill pathways to model flow in regions where diverging flow does not naturally fit the single-path-downhill view of the converging tributary view of stream flow. This also has some interesting effects on the numerical / discretisation errors.\n",
    "\n",
    "```python\n",
    "mesh.downhill_neighbours = 1\n",
    "mesh.update_height(height)\n",
    "```\n",
    "where an integer specifies the number of downhill neighbour nodes (recipients) that will receive information of information from a donor node (1, 2 or 3 are usual, but the routine is general and will use second-nearest neighbours if they can be found at lower elevations). The `QuagMesh` object can also be initialised with:\n",
    "\n",
    "```python\n",
    "mesh = QuagMesh(DM, downhill_neighbours=1)\n",
    "```\n",
    "\n",
    "to specify the number of downhill neighbours (default is 2).\n",
    "\n",
    "In this notebook we use a landscape function with many outflow points to examine the effect of varying the number of recipient nodes on catchment area, stream lengths, and outflow fluxes.\n",
    "\n",
    "We also consider how expensive it is to use multiple path approaches.\n",
    "\n",
    "\n",
    "#### Notebook contents\n",
    "\n",
    "- [Meshing](#Build-a-test-mesh)\n",
    "- [1-2-3 downhill neighbours](#1-2-3-downhill-neighbours)\n",
    "- [Computational efficiency](#Computational-Efficiency)\n",
    "- [Dense downhill matrices](#Dense-downhill-matrices)"
   ]
  },
  {
   "cell_type": "code",
   "execution_count": null,
   "metadata": {},
   "outputs": [],
   "source": [
    "import matplotlib.pyplot as plt\n",
    "import numpy as np\n",
    "from quagmire import tools as meshtools\n",
    "%matplotlib inline"
   ]
  },
  {
   "cell_type": "markdown",
   "metadata": {},
   "source": [
    "## Build a test mesh\n",
    "\n",
    "We use a circular, triangulated domain with a height that represents a _crenulated sombrero_ topography. No noise is added - any irregularities are the result of discretisation. "
   ]
  },
  {
   "cell_type": "code",
   "execution_count": null,
   "metadata": {},
   "outputs": [],
   "source": [
    "from quagmire import QuagMesh \n",
    "from quagmire import QuagMesh # all routines we need are within this class\n",
    "from quagmire import QuagMesh\n",
    "\n",
    "\n",
    "minX, maxX = -5.0, 5.0\n",
    "minY, maxY = -5.0, 5.0,\n",
    "\n",
    "spacingX = 0.02\n",
    "spacingY = 0.02\n",
    "\n",
    "x, y, simplices = meshtools.elliptical_mesh(minX, maxX, minY, maxY, spacingX, spacingY, random_scale=1.0)\n",
    "DM = meshtools.create_DMPlex(x, y, simplices)\n",
    "\n",
    "mesh = QuagMesh(DM)\n",
    "\n",
    "print( \"\\nNumber of points in the triangulation: {}\".format(mesh.npoints))\n",
    "print( \"Downhill neighbour paths: {}\".format(mesh.downhill_neighbours))"
   ]
  },
  {
   "cell_type": "code",
   "execution_count": null,
   "metadata": {},
   "outputs": [],
   "source": [
    "x = mesh.coords[:,0]\n",
    "y = mesh.coords[:,1]\n",
    "bmask = mesh.bmask\n",
    "\n",
    "radius  = np.sqrt((x**2 + y**2))\n",
    "theta   = np.arctan2(y,x) + 0.1\n",
    "\n",
    "height  = np.exp(-0.025*(x**2 + y**2)**2) + 0.25 * (0.2*radius)**4  * np.cos(5.0*theta)**2 ## Less so\n",
    "height  += 0.5 * (1.0-0.2*radius)\n",
    "\n",
    "with mesh.deform_topography():\n",
    "    mesh.downhill_neighbours = 2\n",
    "    mesh.topography.data = height\n",
    "\n",
    "rainfall_fn = mesh.topography ** 2.0\n"
   ]
  },
  {
   "cell_type": "code",
   "execution_count": null,
   "metadata": {},
   "outputs": [],
   "source": [
    "import lavavu\n",
    "\n",
    "xyz_points = np.column_stack([mesh.tri.points, height])\n",
    "\n",
    "lv = lavavu.Viewer(border=False, background=\"#FFFFEE\", resolution=[800,600], near=-10.0)\n",
    "\n",
    "nodes = lv.points(\"nodes\", pointsize=1.0, colour=\"#444040\", opacity=0.75)\n",
    "nodes.vertices(xyz_points)\n",
    "\n",
    "tris = lv.triangles(\"triangles\",  wireframe=False, colour=\"#77ff88\", opacity=1.0)\n",
    "tris.vertices(xyz_points)\n",
    "tris.indices(mesh.tri.simplices)\n",
    "tris.values(mesh.topography.evaluate(mesh), label=\"height\")\n",
    "tris.values(rainfall_fn.evaluate(mesh), label=\"rainfall\")\n",
    "\n",
    "# tris.colourmap(\"#990000 #FFFFFF #000099\")\n",
    "tris.colourmap(\"elevation\")\n",
    "cb = tris.colourbar()\n",
    "\n",
    "# view the pole\n",
    "\n",
    "# lv.translation(0.0, 0.0, -3.0)\n",
    "# lv.rotation(-20, 0.0, 0.0)\n",
    "\n",
    "lv.control.Panel()\n",
    "lv.control.Range('specular', range=(0,1), step=0.1, value=0.4)\n",
    "lv.control.Checkbox(property='axis')\n",
    "lv.control.ObjectList()\n",
    "tris.control.Checkbox(property=\"wireframe\")\n",
    "tris.control.List(options=[\"height\", \"rainfall\"], property=\"colourby\", value=\"orginal\", command=\"redraw\", label=\"Display:\")\n",
    "lv.control.show()"
   ]
  },
  {
   "cell_type": "code",
   "execution_count": null,
   "metadata": {},
   "outputs": [],
   "source": [
    "mo1 = mesh.identify_outflow_points()\n",
    "i = np.argsort(theta[mo1])\n",
    "outflows = mo1[i]"
   ]
  },
  {
   "cell_type": "markdown",
   "metadata": {},
   "source": [
    "## 1-2-3 downhill neighbours\n",
    "\n",
    "In the case of 1 downhill neighbour, all of the water (information) from the parent node is given to a single recipient node. For more than one downhill neighbour, the water is partitioned based on the slope from the parent to recipient nodes.\n",
    "\n",
    "From [Tucker *et al.* (2010)](http://doi.wiley.com/10.1002/esp.1952), the algorithm that controls this is:\n",
    "\n",
    "$$\n",
    "\\frac{Q_i}{Q_{\\mathrm{total}}} = \\frac{S_i^{\\alpha}}{\\sum_{i=1}^{N} S_i^{\\alpha}}\n",
    "$$\n",
    "\n",
    "where $\\alpha = 0.5$."
   ]
  },
  {
   "cell_type": "code",
   "execution_count": null,
   "metadata": {},
   "outputs": [],
   "source": [
    "flowpaths = mesh.upstream_integral_fn(rainfall_fn)\n",
    "\n",
    "print(\"--- 2 downhill neighbours ---\")\n",
    "mesh.downhill_neighbours = 2\n",
    "# mesh.update_height(height)\n",
    "\n",
    "mo2 = mesh.identify_outflow_points()\n",
    "flowpaths2 = flowpaths.evaluate(mesh)\n",
    "outflow2   = flowpaths2[mo2]\n",
    "\n",
    "# logpaths = np.log10(flowpaths)\n",
    "# sqrtpaths = np.sqrt(flowpaths)\n",
    "\n",
    "print(\"--- 3 downhill neighbour ---\")\n",
    "mesh.downhill_neighbours = 3\n",
    "# mesh.update_height(height)\n",
    "\n",
    "mo3 = mesh.identify_outflow_points()\n",
    "flowpaths3 = flowpaths.evaluate(mesh)\n",
    "outflow3   = flowpaths3[mo3]\n",
    "\n",
    "# logpaths3 = np.log10(flowpaths3)\n",
    "# sqrtpaths3 = np.sqrt(flowpaths3)\n",
    "\n",
    "print(\"--- 1 downhill neighbour---\")\n",
    "mesh.downhill_neighbours = 1\n",
    "# mesh.update_height(height)\n",
    "\n",
    "mo1 = mesh.identify_outflow_points()\n",
    "flowpaths1 = flowpaths.evaluate(mesh)\n",
    "outflow1   = flowpaths1[mo1]\n",
    "\n",
    "\n",
    "# logpaths1 = np.log10(flowpaths1)\n",
    "# sqrtpaths1 = np.sqrt(flowpaths1)\n"
   ]
  },
  {
   "cell_type": "code",
   "execution_count": null,
   "metadata": {},
   "outputs": [],
   "source": [
    "lv = lavavu.Viewer(border=False, background=\"#FFFFFF\", resolution=[800,600], near=-10.0)\n",
    "\n",
    "tri1 = lv.triangles(\"triangles\", wireframe=True)\n",
    "tri1.vertices(xyz_points)\n",
    "tri1.indices(mesh.tri.simplices)\n",
    "tri1.values(flowpaths1, \"stream power 1\")\n",
    "tri1.values(flowpaths2, \"stream power 2\")\n",
    "tri1.values(flowpaths3, \"stream_power 3\")\n",
    "tri1.colourmap(\"drywet\")\n",
    "tri1.colourbar()\n",
    "\n",
    "lv.control.Panel()\n",
    "lv.control.ObjectList()\n",
    "tri1.control.List(options=[\"stream power 1\", \"stream power 2\", \"stream_power 3\"], property=\"colourby\", value=\"stream power 1\", command=\"redraw\")\n",
    "lv.control.show()"
   ]
  },
  {
   "cell_type": "code",
   "execution_count": null,
   "metadata": {},
   "outputs": [],
   "source": [
    "import matplotlib.pyplot as plt\n",
    "%matplotlib inline\n",
    "\n",
    "\n",
    "# plot bar graph of cumulative rain for each outflow point\n",
    "\n",
    "outflow_range = np.arange(0, len(outflow1), dtype=np.float)\n",
    "\n",
    "fig = plt.figure(figsize=(10,6))\n",
    "ax1 = fig.add_subplot(111, xlabel='outflow node', ylabel='cumulative rain')\n",
    "ax1.bar(outflow_range, width=0.3, height=outflow1, label='outflow 1')\n",
    "ax1.bar(outflow_range+0.3, width=0.3, height=outflow2, label='outflow 2')\n",
    "ax1.bar(outflow_range+0.6, width=0.3, height=outflow3, label='outflow 3')\n",
    "\n",
    "ax1.legend(ncol=3)\n",
    "plt.show()\n"
   ]
  },
  {
   "cell_type": "markdown",
   "metadata": {},
   "source": [
    "## Computational Efficiency\n",
    "\n",
    "Compare metrics of the downhill matrix...\n",
    "\n",
    "The number of nonzero elements in the matrix increases with more downhill neighbours as does the construction time. The difference in solution converges after 3 downhill neighbours."
   ]
  },
  {
   "cell_type": "code",
   "execution_count": null,
   "metadata": {},
   "outputs": [],
   "source": [
    "flowpaths_fn = mesh.upstream_integral_fn(rainfall_fn)\n",
    "flowpaths = flowpaths_fn.evaluate(mesh)\n",
    "# storage vectors\n",
    "nz = []\n",
    "max_diff = []\n",
    "\n",
    "\n",
    "max_downhill_neighbours = 10\n",
    "\n",
    "for n in range(2, max_downhill_neighbours):\n",
    "    flowpaths_old = flowpaths.copy()\n",
    "    \n",
    "    mesh.downhill_neighbours = n\n",
    "    # mesh.update_height(height)\n",
    "    downhillMat_info = mesh.downhillMat.getInfo()\n",
    "    \n",
    "    flowpaths = flowpaths_fn.evaluate(mesh)\n",
    "    # flowpaths = mesh.streamwise_smoothing(flowpaths, 2)\n",
    "    \n",
    "    nz.append( downhillMat_info['nz_allocated'] )\n",
    "    max_diff.append( np.abs(flowpaths - flowpaths_old).max() )"
   ]
  },
  {
   "cell_type": "code",
   "execution_count": null,
   "metadata": {},
   "outputs": [],
   "source": [
    "n_range = list(range(1, len(max_diff)+1))\n",
    "\n",
    "fig, (ax1, ax2) = plt.subplots(1,2, figsize=(12,4))\n",
    "\n",
    "ax1.plot(n_range, nz)\n",
    "ax1.set_title('nonzeros allocated')\n",
    "ax2.plot(n_range, max_diff)\n",
    "ax2.set_title('max difference in stream power')\n",
    "plt.show()"
   ]
  },
  {
   "cell_type": "markdown",
   "metadata": {},
   "source": [
    "## Dense downhill matrices\n",
    "\n",
    "The cumulative flow routine can (potentially) be sped up by multiplying the downhill matrix $\\mathbf{D}$ by itself, which increases the number of nodes a parcel of information is moved to its downhill neighbours.\n",
    "\n",
    "$$\n",
    "\\mathbf{D}_N = \\mathbf{I} + \\mathbf{D} + \\mathbf{D}^2 + \\mathbf{D}^3 + \\ldots + \\mathbf{D}^N\n",
    "$$\n",
    "\n",
    "where $N$ is the length of the graph. This can be repeated any number of times and is only limited by the available system memory ($N=3$ is already a very dense matrix). In this section we examine tradeoff between density of the matrix and cumulative flow iterations."
   ]
  },
  {
   "cell_type": "code",
   "execution_count": null,
   "metadata": {},
   "outputs": [],
   "source": [
    "D1 = mesh.downhillMat\n",
    "D2 = D1*D1\n",
    "D4 = D2*D2\n",
    "D8 = D4*D4"
   ]
  },
  {
   "cell_type": "code",
   "execution_count": null,
   "metadata": {},
   "outputs": [],
   "source": [
    "\n",
    "its = []\n",
    "nz = []\n",
    "\n",
    "rainfall = rainfall_fn.evaluate(mesh)\n",
    "\n",
    "for i, downMat in enumerate([D1, D2, D4, D8]):\n",
    "    downMatInfo = downMat.getInfo()\n",
    "    \n",
    "    mesh.downhillMat = downMat\n",
    "    niter, flowpaths = mesh._cumulative_flow_verbose(mesh.area*rainfall)\n",
    "    \n",
    "    its.append(niter)\n",
    "    nz.append(downMatInfo['nz_allocated'])\n",
    "    "
   ]
  },
  {
   "cell_type": "code",
   "execution_count": null,
   "metadata": {},
   "outputs": [],
   "source": [
    "n_range = list(range(1, 5))\n",
    "\n",
    "fig, (ax1, ax2) = plt.subplots(1,2, figsize=(12,4))\n",
    "\n",
    "ax1.plot(n_range, nz)\n",
    "ax1.set_title('nonzeros allocated')\n",
    "ax2.plot(n_range, its)\n",
    "ax2.set_title('number of cumulative flow iterations')\n",
    "plt.show()"
   ]
  },
  {
   "cell_type": "markdown",
   "metadata": {},
   "source": [
    "---\n",
    "\n",
    "[Ex5-PreprocessingSurfaces](Ex5-PreprocessingSurfaces.ipynb)\n"
   ]
  }
 ],
 "metadata": {
  "kernelspec": {
   "display_name": "Python 3",
   "language": "python",
   "name": "python3"
  },
  "language_info": {
   "codemirror_mode": {
    "name": "ipython",
    "version": 3
   },
   "file_extension": ".py",
   "mimetype": "text/x-python",
   "name": "python",
   "nbconvert_exporter": "python",
   "pygments_lexer": "ipython3",
   "version": "3.6.9"
  }
 },
 "nbformat": 4,
 "nbformat_minor": 2
}
