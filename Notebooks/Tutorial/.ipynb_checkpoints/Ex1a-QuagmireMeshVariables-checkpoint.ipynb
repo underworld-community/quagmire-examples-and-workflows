{
 "cells": [
  {
   "cell_type": "markdown",
   "metadata": {},
   "source": [
    "## quagmire.mesh MeshVariable\n",
    "\n",
    "Like Underworld, quagmire provides the concept of a \"variable\" which is associated with a mesh. These are parallel data structures on distributed meshes that support various capabilities such as interpolation, gradients, save and load, as well as supporting a number of mathematical operators through the `quagmire.function` interface (examples in the next notebook). \n",
    "\n"
   ]
  },
  {
   "cell_type": "code",
   "execution_count": null,
   "metadata": {},
   "outputs": [],
   "source": [
    "from quagmire.tools import meshtools\n",
    "from quagmire import QuagMesh\n",
    "from quagmire.mesh import MeshVariable\n",
    "import numpy as np"
   ]
  },
  {
   "cell_type": "markdown",
   "metadata": {},
   "source": [
    "### Working mesh\n",
    "\n",
    "First we create a basic mesh so that we can define mesh variables and obtain gradients etc."
   ]
  },
  {
   "cell_type": "code",
   "execution_count": null,
   "metadata": {},
   "outputs": [],
   "source": [
    "minX, maxX = -5.0, 5.0\n",
    "minY, maxY = -5.0, 5.0,\n",
    "dx, dy = 0.02, 0.02\n",
    "\n",
    "x,y, bound = meshtools.generate_elliptical_points(minX, maxX, minY, maxY, dx, dy, 60000, 300)\n",
    "DM = meshtools.create_DMPlex_from_points(x, y, bmask=bound)\n",
    "mesh = QuagMesh(DM, downhill_neighbours=1)"
   ]
  },
  {
   "cell_type": "markdown",
   "metadata": {},
   "source": [
    "### Basic usage\n",
    "\n",
    "Mesh variables can be instantiated directly or by adding a new variable to an existing mesh. \n"
   ]
  },
  {
   "cell_type": "code",
   "execution_count": null,
   "metadata": {},
   "outputs": [],
   "source": [
    "phi = mesh.add_variable(name=\"PHI(X,Y)\")\n",
    "psi = mesh.add_variable(name=\"PSI(X,Y)\")\n",
    "\n",
    "# is equivalent to\n",
    "\n",
    "phi1 = MeshVariable(name=\"PSI(X,Y)\", mesh=mesh)\n",
    "psi1 = MeshVariable(name=\"PHI(X,Y)\", mesh=mesh)"
   ]
  },
  {
   "cell_type": "markdown",
   "metadata": {},
   "source": [
    "Mesh variables store their data in a PETSc distributed vector with values on the local mesh accessible through a numpy interface (via to petsc4py). For consistency with `underworld`, the numpy array is accessed as the `data` property on the variable as follows"
   ]
  },
  {
   "cell_type": "code",
   "execution_count": null,
   "metadata": {},
   "outputs": [],
   "source": [
    "phi.data = np.sin(mesh.coords[:,0])**2.0 \n",
    "psi.data = np.cos(mesh.coords[:,0])**2.0 * np.sin(mesh.coords[:,1])**2.0 "
   ]
  },
  {
   "cell_type": "markdown",
   "metadata": {},
   "source": [
    "Note that the following is not allowed\n",
    "\n",
    "```python\n",
    "phi.data[0] = 1.0\n",
    "```\n",
    "\n",
    "and nor is any other change to a single value in the array. This is done so that we can be sure that\n",
    "the values in the array are always synchronised across processors at the end of an assignment. It is also\n",
    "done to control cases where there are dependencies on the variable that go beyond synchronisation (for example,\n",
    "changing the topography variable rebuilds the flow pathways in a surface process context). \n",
    "\n",
    "You can work with a local copy of the vector and update all at once if you need to build incremental changes to values, work without synchronisation across processors or avoid rebuilding of dependent quantities. "
   ]
  },
  {
   "cell_type": "markdown",
   "metadata": {},
   "source": [
    "A MeshVariable object responds to a `print` statement by stating what it is and its name. To print the contents of the variable (locally), access the values through the data property:"
   ]
  },
  {
   "cell_type": "code",
   "execution_count": null,
   "metadata": {},
   "outputs": [],
   "source": [
    "print(phi, \"|\", psi)\n",
    "print(phi.data)"
   ]
  },
  {
   "cell_type": "markdown",
   "metadata": {},
   "source": [
    "Mesh variables can be read only (locked). The RO (read only) and RW (read / write) markers are shown when the variable is printed. \n",
    "\n",
    "```python\n",
    "phi.lock()\n",
    "print(phi)\n",
    "phi.unlock()\n",
    "print(phi)\n",
    "```\n",
    "\n",
    "Generally locking is done to prevent changes to a variable's data because additional updates depend on controlling when changes are made. Access to `lock` and `unlock` is "
   ]
  },
  {
   "cell_type": "code",
   "execution_count": null,
   "metadata": {},
   "outputs": [],
   "source": [
    "phi.lock()\n",
    "print(phi)\n",
    "phi.unlock()\n",
    "print(phi)"
   ]
  },
  {
   "cell_type": "markdown",
   "metadata": {},
   "source": [
    "### Parallel support\n",
    "\n",
    "The `MeshVariable` class has a `sync` method that, when called, will replace shadow information with values from adjacent sections of the decomposition (or optionally, merge values in the shadow zone - an operation that should be used with caution for global reduction type operations). \n",
    "\n",
    "If you alter data in the shadow zone in a way that cannot be guaranteed to be the same on another processor, then some form of synchronisation is required when you are done. This is not fully automated as there may be several stages to your updates that you only want to synchronise at the end. But, still, be careful !\n"
   ]
  },
  {
   "cell_type": "code",
   "execution_count": null,
   "metadata": {},
   "outputs": [],
   "source": [
    "phi.sync()\n",
    "\n",
    "phi.sync(mergeShadow=True) # this will add the values from each processor in parallel"
   ]
  },
  {
   "cell_type": "markdown",
   "metadata": {},
   "source": [
    "These kinds of parallel operations must be called on every processor or they will block while waiting for everyone to finish. Be careful not to call sync inside a conditional which may be executed differently \n",
    "\n",
    "```python\n",
    "\n",
    "import quagmire\n",
    "\n",
    "# Don't do this (obviously)\n",
    "if quagmire.rank == 0:\n",
    "    phi.sync()   \n",
    "   \n",
    "# or something a little bit less obvious\n",
    "if delta_phi > 0.0:\n",
    "    phi.sync()\n",
    "    \n",
    "# This might be OK but it is not required\n",
    "if quagmire.size > 1:\n",
    "    phi.sync()\n",
    "\n",
    "```"
   ]
  },
  {
   "cell_type": "markdown",
   "metadata": {},
   "source": [
    "### Evaluate method and fn_gradient\n",
    "\n",
    "MeshVariables support the `evaluate` method (because they are `quagmire.functions`) which is useful as it generalises various interfaces that are available to access the data. If a mesh is supplied, then evaluate checks to see if this corresponds to the mesh associated with the mesh variable and returns the raw data if it does. Otherwise the mesh coordinates are used for interpolation. If two coordinate arrays are supplied then these are passed to the interpolator. \n",
    "\n",
    "NOTE: the interpolator will also extrapolate and may (is likely to) produce poor results for off-processor coordinates. If this is a problem, the `MeshVariable.interpolate` method can be accessed directly with the `err` optional argument. \n"
   ]
  },
  {
   "cell_type": "code",
   "execution_count": null,
   "metadata": {
    "lines_to_next_cell": 2
   },
   "outputs": [],
   "source": [
    "## Raw nodal point data for the local domain\n",
    "\n",
    "print(phi.data)\n",
    "print(phi.evaluate(mesh))\n",
    "print(phi.evaluate(phi._mesh)) \n",
    "\n",
    "## interpolation at a point \n",
    "\n",
    "print(phi.interpolate(0.01,1.0))\n",
    "print(phi.evaluate(0.01, 1.0))"
   ]
  },
  {
   "cell_type": "markdown",
   "metadata": {},
   "source": [
    "Mesh based variables can be differentiated in (X,Y). There is a `gradient` method that supplies the coefficients of the derivative surface at the nodal points (these may then need to be interpolated). A more general interface is also provided in the form of a function which can be evaluated (as above):\n"
   ]
  },
  {
   "cell_type": "code",
   "execution_count": null,
   "metadata": {},
   "outputs": [],
   "source": [
    "dpsidx_nodes, dpsidy_nodes = psi.gradient()\n",
    "print(dpsidx_nodes)\n",
    "print(dpsidy_nodes)\n",
    "\n",
    "dpsidx_fn = psi.fn_gradient[0] # (0) for X derivative, (1) for Y\n",
    "print(dpsidx_fn.evaluate(mesh))\n",
    "print(dpsidx_fn.evaluate(0.01, 1.0))\n",
    "\n",
    "dpsidx_fn"
   ]
  },
  {
   "cell_type": "markdown",
   "metadata": {},
   "source": [
    "### Visualisation"
   ]
  },
  {
   "cell_type": "markdown",
   "metadata": {},
   "source": [
    "The following should all evaluate to zero everywhere and so act as a test on the accuracy of the gradient operator "
   ]
  },
  {
   "cell_type": "code",
   "execution_count": null,
   "metadata": {
    "lines_to_next_cell": 0
   },
   "outputs": [],
   "source": [
    "import lavavu\n",
    "\n",
    "xyz = np.column_stack([mesh.tri.points, np.zeros_like(phi.data)])\n",
    "\n",
    "lv = lavavu.Viewer(border=False, background=\"#FFFFFF\", resolution=[1000,600], near=-10.0)\n",
    "\n",
    "tris = lv.triangles(\"triangles\",  wireframe=False, colour=\"#77ff88\", opacity=1.0)\n",
    "tris.vertices(xyz)\n",
    "tris.indices(mesh.tri.simplices)\n",
    "tris.values(phi.evaluate(mesh), label=\"phi\")\n",
    "tris.values(psi.evaluate(mesh), label=\"psi\")\n",
    "tris.values(dpsidx_nodes, label=\"dpsidx_nodes\")\n",
    "\n",
    "\n",
    "\n",
    "tris.colourmap(\"elevation\")\n",
    "cb = tris.colourbar()\n",
    "\n",
    "lv.control.Panel()\n",
    "lv.control.Range('specular', range=(0,1), step=0.1, value=0.4)\n",
    "lv.control.Checkbox(property='axis')\n",
    "lv.control.ObjectList()\n",
    "tris.control.Checkbox(property=\"wireframe\")\n",
    "tris.control.List(options = [\"phi\", \"psi\", \"dpsidx_nodes\"], property=\"colourby\", value=\"psi\", command=\"redraw\", label=\"Display:\")\n",
    "lv.control.show()"
   ]
  },
  {
   "cell_type": "code",
   "execution_count": null,
   "metadata": {
    "lines_to_next_cell": 2
   },
   "outputs": [],
   "source": []
  }
 ],
 "metadata": {
  "jupytext": {
   "formats": "../../Notebooks/Tutorial//ipynb,py:light"
  },
  "kernelspec": {
   "display_name": "Python 3",
   "language": "python",
   "name": "python3"
  },
  "language_info": {
   "codemirror_mode": {
    "name": "ipython",
    "version": 3
   },
   "file_extension": ".py",
   "mimetype": "text/x-python",
   "name": "python",
   "nbconvert_exporter": "python",
   "pygments_lexer": "ipython3",
   "version": "3.7.6"
  }
 },
 "nbformat": 4,
 "nbformat_minor": 4
}
