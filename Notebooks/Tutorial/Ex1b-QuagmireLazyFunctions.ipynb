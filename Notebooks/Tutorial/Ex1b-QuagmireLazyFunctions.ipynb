{
 "cells": [
  {
   "cell_type": "markdown",
   "metadata": {},
   "source": [
    "## Quagmire.function\n",
    "\n",
    "Like Underworld, quagmire provides a function interface that can be used to compose data and operations on the fly in order to construct model equations independent of whatever approach is used for solution. \n",
    "\n",
    "Noteably, these are _lazy_ function that are only evaluated when needed. More importantly, when evaluated, they also use the current state of any variables in their definition and so can be placed within timestepping loops where they will always use the information of the current timestep.\n",
    "\n",
    "There are three kinds of lazy functions available in quagmire:\n",
    "\n",
    "  - `MeshVariable` data containers that hold information on the mesh and can return that information at any point by interpolation (or, less reliably by extrapolation) and can also provide the gradient of the data using a cubic spline interpolant (see the documentation for `stripy` for details).\n",
    "  \n",
    "  - `parameter` is a floating point value that can be used for coefficients in an equation. The value of the parameter can be updated.\n",
    "  \n",
    "  - `virtual` variables which are operations on `MeshVariables` and `parameters` and contain no data record. \n",
    "  \n",
    "  \n",
    "These lazy functions are members of the `LazyEvaluation` class that defines the following methods / data\n",
    "\n",
    "  - `evaluate(mesh | X, Y)` computes a snapshot of the value(s) at the mesh points of `mesh` or at the points given by X and Y\n",
    "  \n",
    "  - `fn_gradient(dir)` is a lazy function that can be evaluated to obtain the gradient in the direction `dir=(0|1)`\n",
    "  \n",
    "  - `description` is a string describing the result returned by `evaluate`. This is helpful because the function may be a cascade of operations. It very much helps to provide short, useful names for your mesh variables to get back reasonable descriptions. \n",
    "  \n",
    "Note: at present no error checking is done for consistency between the mesh provided to evaluate and the one used to store the original data. This is very bad on our part !"
   ]
  },
  {
   "cell_type": "code",
   "execution_count": 1,
   "metadata": {},
   "outputs": [
    {
     "name": "stderr",
     "output_type": "stream",
     "text": [
      "/Users/lmoresi/opt/anaconda3/envs/quagmire/lib/python3.7/site-packages/h5py/__init__.py:40: UserWarning: h5py is running against HDF5 1.10.6 when it was built against 1.10.5, this may cause problems\n",
      "  '{0}.{1}.{2}'.format(*version.hdf5_built_version_tuple)\n"
     ]
    }
   ],
   "source": [
    "from quagmire.tools import meshtools\n",
    "from quagmire import QuagMesh\n",
    "from quagmire.mesh import MeshVariable\n",
    "from quagmire import function as fn\n",
    "import numpy as np"
   ]
  },
  {
   "cell_type": "code",
   "execution_count": null,
   "metadata": {},
   "outputs": [],
   "source": []
  },
  {
   "cell_type": "markdown",
   "metadata": {},
   "source": [
    "### Working mesh\n",
    "\n",
    "First we create a basic mesh so that we can define mesh variables and obbtain gradients etc."
   ]
  },
  {
   "cell_type": "code",
   "execution_count": 2,
   "metadata": {},
   "outputs": [
    {
     "name": "stdout",
     "output_type": "stream",
     "text": [
      "Underlying Mesh type: TriMesh\n",
      "0 - Delaunay triangulation 0.046281945000000047s\n",
      "0 - Calculate node weights and area 0.0033590239999998772s\n",
      "0 - Find boundaries 0.001281907000000082s\n",
      "0 - cKDTree 0.0034505270000000365s\n",
      "0 - Construct neighbour cloud arrays 0.14244955800000003s, (0.08487833s + 0.05753818399999977s)\n",
      "0 - Construct rbf weights 0.02186099600000002s\n"
     ]
    }
   ],
   "source": [
    "minX, maxX = -5.0, 5.0\n",
    "minY, maxY = -5.0, 5.0,\n",
    "dx, dy = 0.02, 0.02\n",
    "\n",
    "from stripy.cartesian_meshes import elliptical_base_mesh_points\n",
    "epointsx, epointsy, ebmask = elliptical_base_mesh_points(10.0, 7.5, 0.25, remove_artifacts=True)\n",
    "dm = meshtools.create_DMPlex_from_points(epointsx, epointsy, bmask=ebmask, refinement_levels=1)\n",
    "\n",
    "mesh = QuagMesh(dm, downhill_neighbours=1)\n"
   ]
  },
  {
   "cell_type": "markdown",
   "metadata": {},
   "source": [
    "### Basic usage\n",
    "\n",
    "The functions can be demonstrated on the most basic example the `parameter` which is constant everywhere in the mesh. In fact, these operations work without any reference to the mesh since they are the same at all locations and their gradient is zero everywhere. "
   ]
  },
  {
   "cell_type": "code",
   "execution_count": 3,
   "metadata": {},
   "outputs": [
    {
     "name": "stdout",
     "output_type": "stream",
     "text": [
      "Exp(10.0) = [22026.46579481]\n",
      "Exp(100.0) = [2.68811714e+43]\n",
      "Exp([10.]) = [22026.46579481]\n",
      "Exp([100.]) = [2.68811714e+43]\n",
      "Exp([101.]) = [7.30705998e+43]\n",
      "[1.]\n"
     ]
    }
   ],
   "source": [
    "A = fn.parameter(10.0)\n",
    "B = fn.parameter(100.0)\n",
    "\n",
    "print(\"Exp({}) = {}\".format(A.value, fn.math.exp(A).evaluate(0.0,0.0)))\n",
    "print(\"Exp({}) = {}\".format(B.value, fn.math.exp(B).evaluate(0.0,0.0)))\n",
    "\n",
    "## A is a proper lazy variable too so this is required to work\n",
    "\n",
    "print(\"Exp({}) = {}\".format(A.evaluate(0.0,0.0), fn.math.exp(A).evaluate(0.0,0.0)))\n",
    "\n",
    "## And this is how to update A\n",
    "\n",
    "A.value = 100.0\n",
    "print(\"Exp({}) = {}\".format(A.evaluate(0.0,0.0), fn.math.exp(A).evaluate(0.0,0.0)))\n",
    "\n",
    "## This works too ... and note the floating point conversion\n",
    "A(101)\n",
    "print(\"Exp({}) = {}\".format(A.evaluate(0.0,0.0), fn.math.exp(A).evaluate(0.0,0.0)))\n",
    "\n",
    "## More complicated examples\n",
    "print((fn.math.sin(A)**2.0 + fn.math.cos(A)**2.0).evaluate(0.0,0.0))"
   ]
  },
  {
   "cell_type": "markdown",
   "metadata": {},
   "source": [
    "### Descriptions\n",
    "\n",
    "The lazy function carries a description string that tells you approximately what will happen when the function is evaluated.\n",
    "There is also a `.math()` method that gives a $\\LaTeX$ string which displays nicely in a jupyter notebook. The `quagmire.function.display` \n",
    "function tries to make this notebook display easy for a variety of cases.\n",
    "\n",
    "Examples:\n"
   ]
  },
  {
   "cell_type": "code",
   "execution_count": 4,
   "metadata": {
    "lines_to_end_of_cell_marker": 2
   },
   "outputs": [
    {
     "name": "stdout",
     "output_type": "stream",
     "text": [
      "101\n",
      "sin(101) + cos(100)\n",
      "sin(101)^2 + cos(101)^2\n",
      "quagmire.fn: sin(101)^2 + cos(101)^2\n"
     ]
    },
    {
     "data": {
      "text/latex": [
       "$\\displaystyle \\sin\\left(101\\right) \\, + \\, \\cos\\left(100\\right)$"
      ],
      "text/plain": [
       "<IPython.core.display.Math object>"
      ]
     },
     "metadata": {},
     "output_type": "display_data"
    },
    {
     "data": {
      "text/latex": [
       "$\\displaystyle \\sin\\left(101\\right)^{2} \\, + \\, \\cos\\left(101\\right)^{2}$"
      ],
      "text/plain": [
       "<IPython.core.display.Math object>"
      ]
     },
     "metadata": {},
     "output_type": "display_data"
    }
   ],
   "source": [
    "print(A.description)\n",
    "print((fn.math.sin(A)+fn.math.cos(B)).description)\n",
    "print((fn.math.sin(A)**2.0 + fn.math.cos(A)**2.0).description)\n",
    "\n",
    "## the description is printed by default if you call print on the function \n",
    "\n",
    "print((fn.math.sin(A)**2.0 + fn.math.cos(A)**2.0))\n",
    "\n",
    "## the latex version is accessed like this:\n",
    "\n",
    "fn.display(fn.math.sin(A)+fn.math.cos(B))\n",
    "fn.display(fn.math.sin(A)**2.0 + fn.math.cos(A)**2.0)"
   ]
  },
  {
   "cell_type": "markdown",
   "metadata": {},
   "source": [
    "### Predefined Mesh Functions\n",
    "\n",
    "There are some predefined mesh functions that we can use in building more complicated functions that depend \n",
    "on the mesh geometry. The details are described in the Ex1c-QuagmireCoordinateGeometry.py notebook.\n",
    "\n",
    "The `mesh.coordinates.xi0/1` functions are symbols representing the coordinate directions and can be evaluated\n",
    "to extract the relevant mesh directions. That means we can do this:\n"
   ]
  },
  {
   "cell_type": "code",
   "execution_count": 5,
   "metadata": {},
   "outputs": [
    {
     "data": {
      "text/latex": [
       "$\\displaystyle \\sin\\left(x\\right)$"
      ],
      "text/plain": [
       "<IPython.core.display.Math object>"
      ]
     },
     "metadata": {},
     "output_type": "display_data"
    },
    {
     "name": "stdout",
     "output_type": "stream",
     "text": [
      "[0.         0.22880579 0.45757098 ... 0.80595038 0.80581189 0.69079118]\n"
     ]
    },
    {
     "data": {
      "text/latex": [
       "$\\displaystyle \\sin\\left(x \\, + \\, y\\right) - \\cos\\left(x \\;y\\right)$"
      ],
      "text/plain": [
       "<IPython.core.display.Math object>"
      ]
     },
     "metadata": {},
     "output_type": "display_data"
    },
    {
     "name": "stdout",
     "output_type": "stream",
     "text": [
      "[-0.06200002  1.13622105  1.95463295 ...  1.48634716  1.44985318\n",
      "  1.69599746]\n"
     ]
    },
    {
     "data": {
      "text/plain": [
       "array([0.        , 0.22880579, 0.45757098, ..., 0.80595038, 0.80581189,\n",
       "       0.69079118])"
      ]
     },
     "execution_count": 5,
     "metadata": {},
     "output_type": "execute_result"
    }
   ],
   "source": [
    "X = mesh.coordinates.xi0\n",
    "Y = mesh.coordinates.xi1\n",
    "\n",
    "display(fn.math.sin(X))\n",
    "print(X.evaluate(mesh))\n",
    "\n",
    "S = fn.math.sin(X+Y) - fn.math.cos(X*Y)\n",
    "display(S)\n",
    "print(S.evaluate(mesh))\n",
    "\n",
    "X.evaluate(mesh)"
   ]
  },
  {
   "cell_type": "markdown",
   "metadata": {},
   "source": [
    "### Mesh Variables as functions\n",
    "\n",
    "Mesh variables (`MeshVariables`) are also members of the `LazyEvaluation` class. They can be evaluated exactly as the parameters can, but it is also possible to obtain numerical derivatives. Of course, they also have other properties beyond those of simple functions (see the MeshVariables examples in the previous (Ex1a-QuagmireMeshVariables.py) notebook for details).\n",
    "\n",
    "Let us first define a mesh variable ... "
   ]
  },
  {
   "cell_type": "code",
   "execution_count": 6,
   "metadata": {},
   "outputs": [
    {
     "name": "stdout",
     "output_type": "stream",
     "text": [
      "quagmire.MeshVariable: h(X,Y) - RW\n"
     ]
    },
    {
     "data": {
      "text/latex": [
       "$\\displaystyle h\\left(x,y\\right)$"
      ],
      "text/plain": [
       "<IPython.core.display.Math object>"
      ]
     },
     "metadata": {},
     "output_type": "display_data"
    },
    {
     "data": {
      "text/plain": [
       "'h\\\\left(x,y\\\\right)'"
      ]
     },
     "execution_count": 6,
     "metadata": {},
     "output_type": "execute_result"
    }
   ],
   "source": [
    "height = mesh.add_variable(name=\"h(X,Y)\", lname=\"h\")\n",
    "height.data = np.ones(mesh.npoints)\n",
    "print(height)\n",
    "display(height)\n",
    "height.math()"
   ]
  },
  {
   "cell_type": "markdown",
   "metadata": {},
   "source": [
    "We might introduce a universal scaling for the height variable. This could be useful if, say, the offset is something that we might want to change programmatically within a timestepping loop. "
   ]
  },
  {
   "cell_type": "code",
   "execution_count": 7,
   "metadata": {},
   "outputs": [
    {
     "data": {
      "text/latex": [
       "$\\displaystyle 2 \\;h\\left(x,y\\right) \\, + \\, 1$"
      ],
      "text/plain": [
       "<IPython.core.display.Math object>"
      ]
     },
     "metadata": {},
     "output_type": "display_data"
    },
    {
     "name": "stdout",
     "output_type": "stream",
     "text": [
      "[1. 1. 1. ... 1. 1. 1.]\n",
      "[3. 3. 3. ... 3. 3. 3.]\n",
      "[12. 12. 12. ... 12. 12. 12.]\n"
     ]
    }
   ],
   "source": [
    "h_scale = fn.parameter(2.0)\n",
    "h_offset = fn.parameter(1.0)\n",
    "\n",
    "scaled_height = h_scale * height + h_offset\n",
    "\n",
    "display(scaled_height)\n",
    "\n",
    "print(height.evaluate(mesh))\n",
    "print(scaled_height.evaluate(mesh))\n",
    "\n",
    "h_offset.value = 10.0\n",
    "print(scaled_height.evaluate(mesh))"
   ]
  },
  {
   "cell_type": "code",
   "execution_count": 8,
   "metadata": {},
   "outputs": [
    {
     "data": {
      "text/latex": [
       "$\\displaystyle h\\left(x,y\\right) \\;2$"
      ],
      "text/plain": [
       "<IPython.core.display.Math object>"
      ]
     },
     "metadata": {},
     "output_type": "display_data"
    }
   ],
   "source": [
    "height * h_scale"
   ]
  },
  {
   "cell_type": "markdown",
   "metadata": {},
   "source": [
    "We might wish to define a rainfall parameter that is a function of height that can be passed in to some existing code. The use of functions is perfect for this. "
   ]
  },
  {
   "cell_type": "code",
   "execution_count": 9,
   "metadata": {},
   "outputs": [
    {
     "data": {
      "text/latex": [
       "$\\displaystyle \\left(2 \\;h\\left(x,y\\right) \\, + \\, 10\\right)^{2.2}$"
      ],
      "text/plain": [
       "<IPython.core.display.Math object>"
      ]
     },
     "metadata": {},
     "output_type": "display_data"
    },
    {
     "name": "stdout",
     "output_type": "stream",
     "text": [
      "[236.70026345 236.70026345 236.70026345 ... 236.70026345 236.70026345\n",
      " 236.70026345]\n"
     ]
    }
   ],
   "source": [
    "rainfall_exponent = fn.parameter(2.2)\n",
    "rainfall = scaled_height**rainfall_exponent\n",
    "fn.display(rainfall)\n",
    "print(rainfall.evaluate(mesh))"
   ]
  },
  {
   "cell_type": "markdown",
   "metadata": {},
   "source": [
    "The rainfall definition is live to any changes in the height but we can also adjust the rainfall parameters on the fly.\n",
    "This allows us to define operators with coefficients that can be supplied as mutable parameters."
   ]
  },
  {
   "cell_type": "code",
   "execution_count": 10,
   "metadata": {},
   "outputs": [
    {
     "name": "stdout",
     "output_type": "stream",
     "text": [
      "Height: [0.         0.2268146  0.44177027 ... 0.72148904 0.72139313 0.63714718]\n",
      "Rainfall Fn evaluation: [158.48931925 174.73809632 190.93890947 ... 213.1993837  213.19152168\n",
      " 206.34626548]\n",
      "Rainfall Direct       : [158.48931925 174.73809632 190.93890947 ... 213.1993837  213.19152168\n",
      " 206.34626548]\n",
      "Rainfall Fn evaluation: [10.         10.45362919 10.88354053 ... 11.44297808 11.44278627\n",
      " 11.27429436]\n",
      "Rainfall Direct       : [158.48931925 174.73809632 190.93890947 ... 213.1993837  213.19152168\n",
      " 206.34626548]\n"
     ]
    }
   ],
   "source": [
    "height.data = np.sin(mesh.coords[:,0])\n",
    "print(\"Height:\", height.data)\n",
    "print(\"Rainfall Fn evaluation:\",rainfall.evaluate(mesh))\n",
    "print(\"Rainfall Direct       :\",(height.data*2.0+10.0)**2.2)\n",
    "\n",
    "# change definition of rainfall coefficient but not functional form\n",
    "\n",
    "rainfall_exponent.value = 1.0\n",
    "print(\"Rainfall Fn evaluation:\",rainfall.evaluate(mesh))\n",
    "print(\"Rainfall Direct       :\",(height.data*2.0+10.0)**2.2)"
   ]
  },
  {
   "cell_type": "markdown",
   "metadata": {},
   "source": [
    "While functions are most useful because they are not computed once and for all, it is also possible to compute their values and assign to a variable. Just be aware that, at this point, numpy has  a greater richness of operators than `quagmire.function`. We can rewrite the above assignment to the height variable using the `coord` function that extracts values of the x or y ( 0 or 1 ) coordinate direction from the locations given as arguments to `evaluate`. Note that the rainfall function always used the updated height values."
   ]
  },
  {
   "cell_type": "code",
   "execution_count": 11,
   "metadata": {},
   "outputs": [
    {
     "name": "stdout",
     "output_type": "stream",
     "text": [
      "Height:   [1.         0.97393795 0.89712821 ... 0.69242586 0.69252577 0.77074216]\n",
      "Height =  cos(X)\n"
     ]
    },
    {
     "data": {
      "text/plain": [
       "array([12.        , 11.94787591, 11.79425643, ..., 11.38485171,\n",
       "       11.38505155, 11.54148431])"
      ]
     },
     "execution_count": 11,
     "metadata": {},
     "output_type": "execute_result"
    }
   ],
   "source": [
    "height.data = fn.math.cos(fn.misc.coord(0)).evaluate(mesh)\n",
    "print(\"Height:  \", height.data)\n",
    "print(\"Height = \", fn.math.cos(fn.misc.coord(0)).description)\n",
    "\n",
    "rainfall.evaluate(mesh)"
   ]
  },
  {
   "cell_type": "markdown",
   "metadata": {},
   "source": [
    "### Operator overloading for +, - , *, **, /\n",
    "\n",
    "We define addition / subtraction (negation), multiplication, division, and raising to arbitrary power for mesh variables and parameters and the meaning is carried over from `numpy` - i.e. generally these are element-by-element operations on the underlying data vector and require the data structures to have compatible sizes.\n",
    "\n"
   ]
  },
  {
   "cell_type": "code",
   "execution_count": 12,
   "metadata": {
    "lines_to_next_cell": 2
   },
   "outputs": [
    {
     "data": {
      "text/latex": [
       "$\\displaystyle \\sqrt{ \\left. \\nabla(h\\left(x,y\\right))\\right|_0^{2} \\, + \\, \\left. \\nabla(h\\left(x,y\\right))\\right|_1^{2} }$"
      ],
      "text/plain": [
       "<IPython.core.display.Math object>"
      ]
     },
     "metadata": {},
     "output_type": "display_data"
    },
    {
     "data": {
      "text/latex": [
       "$\\displaystyle \\left| \\nabla h\\left(x,y\\right) \\right|$"
      ],
      "text/plain": [
       "<IPython.core.display.Math object>"
      ]
     },
     "metadata": {},
     "output_type": "display_data"
    },
    {
     "data": {
      "text/latex": [
       "$\\displaystyle \\sqrt{ \\left. \\nabla(h\\left(x,y\\right))\\right|_0^{2} \\, + \\, \\left. \\nabla(h\\left(x,y\\right))\\right|_1^{2} }^{1.3}$"
      ],
      "text/plain": [
       "<IPython.core.display.Math object>"
      ]
     },
     "metadata": {},
     "output_type": "display_data"
    },
    {
     "data": {
      "text/latex": [
       "$\\displaystyle \\left| \\nabla h\\left(x,y\\right) \\right|^{1.3}$"
      ],
      "text/plain": [
       "<IPython.core.display.Math object>"
      ]
     },
     "metadata": {},
     "output_type": "display_data"
    },
    {
     "name": "stdout",
     "output_type": "stream",
     "text": [
      "[0.0008064  0.14990449 0.33872572 ... 0.65414561 0.65404486 0.55664154]\n",
      "[0.0008064  0.14990449 0.33872572 ... 0.65414561 0.65404486 0.55664154]\n"
     ]
    }
   ],
   "source": [
    "dhdx, dhdy = mesh.geometry.grad(height)\n",
    "slope = fn.math.sqrt((dhdx**2 + dhdy**2))\n",
    "\n",
    "native_slope = mesh.geometry.slope(height)  # This actually just returns the height.slope function\n",
    "\n",
    "a = fn.parameter(1.3)\n",
    "k = slope**a\n",
    "k2 = native_slope ** a\n",
    "\n",
    "display(slope)\n",
    "display(native_slope)\n",
    "\n",
    "display(k)\n",
    "display(k2)\n",
    "\n",
    "## Numerical equivalence\n",
    "\n",
    "print(k.evaluate(mesh))\n",
    "print(k2.evaluate(mesh))"
   ]
  },
  {
   "cell_type": "markdown",
   "metadata": {},
   "source": [
    "### Gradients\n",
    "\n",
    "Variables associated with a mesh also have the capacity to form spatial derivatives anywhere. This is provided by the `stripy` gradient routines in the case of triangulations. The gradient can be formed from any lazy function by evaluating it at the mesh points and then obtaining values of derivatives anywhere via stripy. In the case of the spatially invariant `parameter` objects, the derivatives are identically zero.\n"
   ]
  },
  {
   "cell_type": "code",
   "execution_count": 13,
   "metadata": {},
   "outputs": [
    {
     "data": {
      "text/latex": [
       "$\\displaystyle \\left. \\nabla(h\\left(x,y\\right))\\right|_0$"
      ],
      "text/plain": [
       "<IPython.core.display.Math object>"
      ]
     },
     "metadata": {},
     "output_type": "display_data"
    },
    {
     "data": {
      "text/latex": [
       "$\\displaystyle 2 \\;\\left. \\nabla(h\\left(x,y\\right))\\right|_1$"
      ],
      "text/plain": [
       "<IPython.core.display.Math object>"
      ]
     },
     "metadata": {},
     "output_type": "display_data"
    }
   ],
   "source": [
    "gradx = height.fn_gradient(0)\n",
    "display(gradx)\n",
    "grady = scaled_height.fn_gradient(1)\n",
    "display(grady)"
   ]
  },
  {
   "cell_type": "markdown",
   "metadata": {},
   "source": [
    "\n",
    "**Example:** It is a common operation to compute a power law of the magnitude of the local slope. In Cartesian geometry, the slope is defined this way\n",
    "\n",
    "$$\n",
    "    \\left| \\nabla h \\right| \\equiv \\sqrt{  \\frac{\\partial h}{\\partial x}^2 + \\frac{\\partial h}{\\partial y}^2  }\n",
    "$$ \n",
    "\n",
    "On the sphere, this expression is a little more complicated and this is why the expression is written in terms of components of the gradient operator in the `display` below\n",
    "\n",
    "$$\n",
    " k = \\left| \\nabla h \\right|^a\n",
    "$$\n",
    "\n",
    "Mesh variables have an optimised numerical shortcut for calculating slopes.\n",
    "\n",
    "**NOTE:** The gradient operators are dependent upon the coordinate system itself. \n",
    "This is ususally inherited from a mesh but it can be defined independently of the mesh."
   ]
  },
  {
   "cell_type": "code",
   "execution_count": 14,
   "metadata": {},
   "outputs": [
    {
     "data": {
      "text/latex": [
       "$\\displaystyle \\sqrt{ \\left. \\nabla(h\\left(x,y\\right))\\right|_0^{2} \\, + \\, \\left. \\nabla(h\\left(x,y\\right))\\right|_1^{2} }$"
      ],
      "text/plain": [
       "<IPython.core.display.Math object>"
      ]
     },
     "metadata": {},
     "output_type": "display_data"
    },
    {
     "data": {
      "text/latex": [
       "$\\displaystyle \\left| \\nabla h\\left(x,y\\right) \\right|$"
      ],
      "text/plain": [
       "<IPython.core.display.Math object>"
      ]
     },
     "metadata": {},
     "output_type": "display_data"
    },
    {
     "data": {
      "text/latex": [
       "$\\displaystyle \\sqrt{ \\left. \\nabla(h\\left(x,y\\right))\\right|_0^{2} \\, + \\, \\left. \\nabla(h\\left(x,y\\right))\\right|_1^{2} }^{1.3}$"
      ],
      "text/plain": [
       "<IPython.core.display.Math object>"
      ]
     },
     "metadata": {},
     "output_type": "display_data"
    },
    {
     "data": {
      "text/latex": [
       "$\\displaystyle \\left| \\nabla h\\left(x,y\\right) \\right|^{1.3}$"
      ],
      "text/plain": [
       "<IPython.core.display.Math object>"
      ]
     },
     "metadata": {},
     "output_type": "display_data"
    },
    {
     "name": "stdout",
     "output_type": "stream",
     "text": [
      "[0.0008064  0.14990449 0.33872572 ... 0.65414561 0.65404486 0.55664154]\n",
      "[0.0008064  0.14990449 0.33872572 ... 0.65414561 0.65404486 0.55664154]\n"
     ]
    }
   ],
   "source": [
    "dhdx, dhdy = mesh.geometry.grad(height)\n",
    "slope = fn.math.sqrt((dhdx**2 + dhdy**2))\n",
    "\n",
    "native_slope = mesh.geometry.slope(height)  # This actually just returns the height.slope function\n",
    "\n",
    "a = fn.parameter(1.3)\n",
    "k = slope**a\n",
    "k2 = native_slope ** a\n",
    "\n",
    "display(slope)\n",
    "display(native_slope)\n",
    "\n",
    "display(k)\n",
    "display(k2)\n",
    "\n",
    "## Numerical equivalence\n",
    "\n",
    "print(k.evaluate(mesh))\n",
    "print(k2.evaluate(mesh))"
   ]
  },
  {
   "cell_type": "markdown",
   "metadata": {},
   "source": [
    "## Vector functions\n",
    "\n",
    "The gradient operator above returns a tuple of quagmire functions that can be thought of as a vector field. \n",
    "They are a special form of tuple object that understands some of the operations that can be applied to functions.\n",
    "\n",
    "**Note**: The vector is a tuple (hence immutable) because we consider the components of the vector should not be changed\n",
    "independently and that it is better to build a new vector instead. We may relax this when we implement vector mesh variables. \n"
   ]
  },
  {
   "cell_type": "code",
   "execution_count": 26,
   "metadata": {},
   "outputs": [
    {
     "data": {
      "text/latex": [
       "$\\displaystyle \\left( \\frac{ 1 }{ y  } , \\frac{ 1 }{ x  } \\right)$"
      ],
      "text/plain": [
       "<IPython.core.display.Math object>"
      ]
     },
     "metadata": {},
     "output_type": "display_data"
    },
    {
     "data": {
      "text/latex": [
       "$\\displaystyle \\nabla \\cdot \\left( \\frac{ 1 }{ y  } , \\frac{ 1 }{ x  } \\right)$"
      ],
      "text/plain": [
       "<IPython.core.display.Math object>"
      ]
     },
     "metadata": {},
     "output_type": "display_data"
    },
    {
     "data": {
      "text/latex": [
       "$\\displaystyle 0$"
      ],
      "text/plain": [
       "<IPython.core.display.Math object>"
      ]
     },
     "metadata": {},
     "output_type": "display_data"
    },
    {
     "name": "stdout",
     "output_type": "stream",
     "text": [
      "TypeError: 'vector_field' object does not support item assignment\n"
     ]
    }
   ],
   "source": [
    "V = fn.vector_field(1/Y, 1/X)\n",
    "V.display()\n",
    "V.div(expand=False).display()\n",
    "V.div(expand=True).display()\n",
    "(V * fn.math.sin(X)).div(expand=True)\n",
    "\n",
    "# We \n",
    "try:\n",
    "    V[1] = 0\n",
    "except TypeError:\n",
    "    print(\"TypeError: 'vector_field' object does not support item assignment\")\n",
    "    "
   ]
  },
  {
   "cell_type": "markdown",
   "metadata": {},
   "source": [
    "### Numerical accuracy\n",
    "\n",
    "The following should all evaluate to zero everywhere and so act as a test on the accuracy of the gradient operator "
   ]
  },
  {
   "cell_type": "code",
   "execution_count": null,
   "metadata": {},
   "outputs": [],
   "source": [
    "print(\"dhdX (error) = \", (gradh[0]+fn.math.sin(X)).evaluate(mesh))\n",
    "print(\"dhdY (error) = \",  gradh[1].evaluate(mesh))\n"
   ]
  },
  {
   "cell_type": "code",
   "execution_count": null,
   "metadata": {},
   "outputs": [],
   "source": [
    "import lavavu\n",
    "\n",
    "xyz     = np.column_stack([mesh.tri.points, height.data])\n",
    "\n",
    "lv = lavavu.Viewer(border=False, background=\"#FFFFFF\", resolution=[1000,600], near=-10.0)\n",
    "\n",
    "tris = lv.triangles(\"triangles\",  wireframe=False, colour=\"#77ff88\", opacity=1.0)\n",
    "tris.vertices(xyz)\n",
    "tris.indices(mesh.tri.simplices)\n",
    "tris.values(height.data, label=\"height\")\n",
    "tris.values(slope.evaluate(mesh), label=\"slope\")\n",
    "tris.values(gradh[1].evaluate(mesh), label=\"dh/dy\")\n",
    "\n",
    "tris.colourmap(\"elevation\")\n",
    "cb = tris.colourbar()\n",
    "\n",
    "lv.control.Panel()\n",
    "lv.control.Range('specular', range=(0,1), step=0.1, value=0.4)\n",
    "lv.control.Checkbox(property='axis')\n",
    "lv.control.ObjectList()\n",
    "tris.control.Checkbox(property=\"wireframe\")\n",
    "tris.control.List(options=[\"height\", \"slope\", \"dh/dy\"], property=\"colourby\", value=\"slope\", command=\"redraw\", label=\"Display:\")\n",
    "lv.control.show()"
   ]
  },
  {
   "cell_type": "markdown",
   "metadata": {},
   "source": [
    "### Functions for conditional behaviour\n",
    "\n",
    "We provide `quagmire.function.misc.where` to produce simple mask functions that can be used to create conditionals. \n",
    "This is how to pick out a flat area in the mesh:\n",
    "\n",
    "```python\n",
    "flat_area_mask = fn.misc.where(mesh.slope-0.01, fn.parameter(1.0), fn.parameter(0.0)\n",
    "```\n",
    "\n",
    "The mesh has a mesh.mask variable that is used to identify boundary points. Others could be added (by you) to identify regions such as internal drainages that require special treatment or exclusion from some equations. The levelset function can be applied to a mask to ensure that interpolation does not produce anomalies. It could also be used to clip out a value in a field between certain ranges (e.g. to capture regions in a specific height interval or with a specific catchment identifier). \n"
   ]
  },
  {
   "cell_type": "code",
   "execution_count": null,
   "metadata": {},
   "outputs": [],
   "source": [
    "masked_height = fn.misc.where(Y, height, 0.0)\n",
    "masked_height.display()\n",
    "masked_height.derivative(1)\n",
    "print(masked_height)"
   ]
  },
  {
   "cell_type": "code",
   "execution_count": null,
   "metadata": {},
   "outputs": [],
   "source": [
    "flat_area_mask  = fn.misc.where(0.2-slope, 1.0, 0.0 ) \n",
    "steep_area_mask = fn.misc.where(slope-0.8, 1.0, 0.0 )\n",
    "flat_area_mask.display()\n",
    "steep_area_mask.display()"
   ]
  },
  {
   "cell_type": "code",
   "execution_count": null,
   "metadata": {
    "lines_to_next_cell": 0
   },
   "outputs": [],
   "source": [
    "import lavavu\n",
    "\n",
    "xyz     = np.column_stack([mesh.tri.points, masked_height.evaluate(mesh)])\n",
    "\n",
    "lv = lavavu.Viewer(border=False, background=\"#FFFFFF\", resolution=[1000,600], near=-10.0)\n",
    "\n",
    "tris = lv.triangles(\"triangles\",  wireframe=False, colour=\"#77ff88\", opacity=1.0)\n",
    "tris.vertices(xyz)\n",
    "tris.indices(mesh.tri.simplices)\n",
    "tris.values(height.data, label=\"height\")\n",
    "tris.values(steep_area_mask.evaluate(mesh), label=\"steep\")\n",
    "tris.values(flat_area_mask.evaluate(mesh), label=\"flat\")\n",
    "\n",
    "\n",
    "tris.colourmap(\"elevation\")\n",
    "cb = tris.colourbar()\n",
    "\n",
    "lv.control.Panel()\n",
    "lv.control.Range('specular', range=(0,1), step=0.1, value=0.4)\n",
    "lv.control.Checkbox(property='axis')\n",
    "lv.control.ObjectList()\n",
    "tris.control.Checkbox(property=\"wireframe\")\n",
    "tris.control.List(options=[\"height\", \"steep\", \"flat\"], property=\"colourby\", value=\"flat\", command=\"redraw\", label=\"Display:\")\n",
    "lv.control.show()"
   ]
  },
  {
   "cell_type": "markdown",
   "metadata": {
    "lines_to_next_cell": 2
   },
   "source": [
    "Note how the derivative of the 'level set' functions works. We assume that the derivative of the \n",
    "masking function is zero everywhere so that the mask simply applies to the derivative of the masked \n",
    "function:"
   ]
  },
  {
   "cell_type": "code",
   "execution_count": null,
   "metadata": {},
   "outputs": [],
   "source": [
    "masked_height.derivative(1)"
   ]
  },
  {
   "cell_type": "code",
   "execution_count": null,
   "metadata": {},
   "outputs": [],
   "source": []
  }
 ],
 "metadata": {
  "jupytext": {
   "formats": "Notebooks/Tutorial//ipynb,Examples/Tutorial//py:light"
  },
  "kernelspec": {
   "display_name": "Python 3",
   "language": "python",
   "name": "python3"
  },
  "language_info": {
   "codemirror_mode": {
    "name": "ipython",
    "version": 3
   },
   "file_extension": ".py",
   "mimetype": "text/x-python",
   "name": "python",
   "nbconvert_exporter": "python",
   "pygments_lexer": "ipython3",
   "version": "3.7.0"
  }
 },
 "nbformat": 4,
 "nbformat_minor": 4
}
