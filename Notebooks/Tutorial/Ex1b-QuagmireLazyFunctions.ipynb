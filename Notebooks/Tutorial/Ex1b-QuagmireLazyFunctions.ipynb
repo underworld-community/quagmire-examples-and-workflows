{
 "cells": [
  {
   "cell_type": "markdown",
   "metadata": {},
   "source": [
    "## Quagmire.function\n",
    "\n",
    "Like Underworld, quagmire provides a function interface that can be used to compose data and operations on the fly in order to construct model equations independent of whatever approach is used for solution. \n",
    "\n",
    "Noteably, these are _lazy_ function that are only evaluated when needed. More importantly, when evaluated, they also use the current state of any variables in their definition and so can be placed within timestepping loops where they will always use the information of the current timestep.\n",
    "\n",
    "There are three kinds of lazy functions available in quagmire:\n",
    "\n",
    "  - `MeshVariable` data containers that hold information on the mesh and can return that information at any point by interpolation (or, less reliably by extrapolation) and can also provide the gradient of the data using a cubic spline interpolant (see the documentation for `stripy` for details).\n",
    "  \n",
    "  - `parameter` is a floating point value that can be used for coefficients in an equation. The value of the parameter can be updated.\n",
    "  \n",
    "  - `virtual` variables which are operations on `MeshVariables` and `parameters` and contain no data record. \n",
    "  \n",
    "  \n",
    "These lazy functions are members of the `LazyEvaluation` class that defines the following methods / data\n",
    "\n",
    "  - `evaluate(mesh | X, Y)` computes a snapshot of the value(s) at the mesh points of `mesh` or at the points given by X and Y\n",
    "  \n",
    "  - `fn_gradient(dir)` is a lazy function that can be evaluated to obtain the gradient in the direction `dir=(0|1)`\n",
    "  \n",
    "  - `description` is a string describing the result returned by `evaluate`. This is helpful because the function may be a cascade of operations. It very much helps to provide short, useful names for your mesh variables to get back reasonable descriptions. \n",
    "  \n",
    "Note: at present no error checking is done for consistency between the mesh provided to evaluate and the one used to store the original data. This is very bad on our part !"
   ]
  },
  {
   "cell_type": "code",
   "execution_count": null,
   "metadata": {},
   "outputs": [],
   "source": [
    "from quagmire.tools import meshtools\n",
    "from quagmire import QuagMesh\n",
    "from quagmire.mesh import MeshVariable\n",
    "from quagmire import function as fn\n",
    "import numpy as np"
   ]
  },
  {
   "cell_type": "markdown",
   "metadata": {},
   "source": [
    "### Working mesh\n",
    "\n",
    "First we create a basic mesh so that we can define mesh variables and obbtain gradients etc."
   ]
  },
  {
   "cell_type": "code",
   "execution_count": null,
   "metadata": {},
   "outputs": [],
   "source": [
    "minX, maxX = -5.0, 5.0\n",
    "minY, maxY = -5.0, 5.0,\n",
    "dx, dy = 0.02, 0.02\n",
    "\n",
    "x,y, bound = meshtools.generate_elliptical_points(minX, maxX, minY, maxY, dx, dy, 60000, 300)\n",
    "DM = meshtools.create_DMPlex_from_points(x, y, bmask=bound)\n",
    "mesh = QuagMesh(DM, downhill_neighbours=1)"
   ]
  },
  {
   "cell_type": "markdown",
   "metadata": {},
   "source": [
    "### Basic usage\n",
    "\n",
    "The functions can be demonstrated on the most basic example the `parameter` which is constant everywhere in the mesh. In fact, these operations work without any reference to the mesh since they are the same at all locations and their gradient is zero everywhere. "
   ]
  },
  {
   "cell_type": "code",
   "execution_count": null,
   "metadata": {},
   "outputs": [],
   "source": [
    "A = fn.parameter(10.0)\n",
    "B = fn.parameter(100.0)\n",
    "\n",
    "print(\"Exp({}) = {}\".format(A.value, fn.math.exp(A).evaluate(0.0,0.0)))\n",
    "print(\"Exp({}) = {}\".format(B.value, fn.math.exp(B).evaluate(0.0,0.0)))\n",
    "\n",
    "## A is a proper lazy variable too so this is required to work\n",
    "\n",
    "print(\"Exp({}) = {}\".format(A.evaluate(0.0,0.0), fn.math.exp(A).evaluate(0.0,0.0)))\n",
    "\n",
    "## And this is how to update A\n",
    "\n",
    "A.value = 100.0\n",
    "print(\"Exp({}) = {}\".format(A.evaluate(0.0,0.0), fn.math.exp(A).evaluate(0.0,0.0)))\n",
    "\n",
    "## This works too ... and note the floating point conversion\n",
    "A(101)\n",
    "print(\"Exp({}) = {}\".format(A.evaluate(0.0,0.0), fn.math.exp(A).evaluate(0.0,0.0)))\n",
    "\n",
    "## More complicated examples\n",
    "print((fn.math.sin(A)**2.0 + fn.math.cos(A)**2.0).evaluate(0.0,0.0))"
   ]
  },
  {
   "cell_type": "markdown",
   "metadata": {},
   "source": [
    "### Descriptions\n",
    "\n",
    "The lazy function carries a description string that tells you approximately what will happen when the function is evaluated. For example"
   ]
  },
  {
   "cell_type": "code",
   "execution_count": null,
   "metadata": {
    "lines_to_end_of_cell_marker": 2
   },
   "outputs": [],
   "source": [
    "print(A.description)\n",
    "print((fn.math.sin(A)+fn.math.cos(B)).description)\n",
    "print((fn.math.sin(A)**2.0 + fn.math.cos(A)**2.0).description)\n",
    "\n",
    "## the description is printed by default if you call print on the function \n",
    "\n",
    "print((fn.math.sin(A)**2.0 + fn.math.cos(A)**2.0))"
   ]
  },
  {
   "cell_type": "markdown",
   "metadata": {},
   "source": [
    "### Mesh Variables as functions\n",
    "\n",
    "Mesh variables (`MeshVariables`) are also members of the `LazyEvaluation` class. They can be evaluated exactly as the paramters can, but it is also possible to obtain derivatives. Of course, they also have other properties beyond those of simple functions (see the MeshVariables examples in the XXXXX notebook for details).\n",
    "\n",
    "Let us first define a mesh variable ... "
   ]
  },
  {
   "cell_type": "code",
   "execution_count": null,
   "metadata": {},
   "outputs": [],
   "source": [
    "height = mesh.add_variable(name=\"h(X,Y)\")\n",
    "height.data = np.ones(mesh.npoints)\n",
    "print(height)"
   ]
  },
  {
   "cell_type": "markdown",
   "metadata": {},
   "source": [
    "We might introduce a universal scaling for the height variable. This could be useful if, say, the offset is something that we might want to change programmatically within a timestepping loop. "
   ]
  },
  {
   "cell_type": "code",
   "execution_count": null,
   "metadata": {},
   "outputs": [],
   "source": [
    "h_scale = fn.parameter(2.0)\n",
    "h_offset = fn.parameter(1.0)\n",
    "\n",
    "scaled_height = height * h_scale + h_offset\n",
    "print(scaled_height.description)\n",
    "print(height.evaluate(mesh))\n",
    "print(scaled_height.evaluate(mesh))\n",
    "\n",
    "h_offset.value = 10.0\n",
    "print(scaled_height.evaluate(mesh))"
   ]
  },
  {
   "cell_type": "markdown",
   "metadata": {},
   "source": [
    "We might wish to define a rainfall parameter that is a function of height that can be passed in to some existing code. The use of functions is perfect for this. "
   ]
  },
  {
   "cell_type": "code",
   "execution_count": null,
   "metadata": {},
   "outputs": [],
   "source": [
    "rainfall_exponent = fn.parameter(2.2)\n",
    "rainfall = scaled_height**rainfall_exponent\n",
    "print(rainfall)\n",
    "print(rainfall.evaluate(mesh))"
   ]
  },
  {
   "cell_type": "markdown",
   "metadata": {},
   "source": [
    "The rainfall definition is live to any changes in the height but we can also adjust the rainfall parameters on the fly ... "
   ]
  },
  {
   "cell_type": "code",
   "execution_count": null,
   "metadata": {},
   "outputs": [],
   "source": [
    "height.data = np.sin(mesh.coords[:,0])\n",
    "print(\"Height:\", height.data)\n",
    "print(\"Rainfall Fn evaluation:\",rainfall.evaluate(mesh))\n",
    "print(\"Rainfall Direct       :\",(height.data*2.0+10.0)**2.2)\n",
    "\n",
    "# change definition of rainfall coefficient but not functional form\n",
    "\n",
    "rainfall_exponent.value = 1.0\n",
    "print(\"Rainfall Fn evaluation:\",rainfall.evaluate(mesh))\n",
    "print(\"Rainfall Direct       :\",(height.data*2.0+10.0)**2.2)"
   ]
  },
  {
   "cell_type": "markdown",
   "metadata": {},
   "source": [
    "While functions are most useful because they are not computed once and for all, it is also possible to compute their values and assign to a variable. Just be aware that, at this point, numpy has  a greater richness of operators than `quagmire.function`. We can rewrite the above assignment to the height variable using the `coord` function that extracts values of the x or y ( 0 or 1 ) coordinate direction from the locations given as arguments to `evaluate`."
   ]
  },
  {
   "cell_type": "code",
   "execution_count": null,
   "metadata": {},
   "outputs": [],
   "source": [
    "height.data = fn.math.sin(fn.misc.coord(0)).evaluate(mesh)\n",
    "print(\"Height:  \", height.data)\n",
    "print(\"Height = \", fn.math.sin(fn.misc.coord(0)).description)"
   ]
  },
  {
   "cell_type": "markdown",
   "metadata": {},
   "source": [
    "### Operator overloading for +, - , *, **, /\n",
    "\n",
    "We define addition / subtraction (negation), multiplication, division, and raising to arbitrary power for mesh variables and parameters and the meaning is carried over from `numpy` - i.e. generally these are element-by-element operations on the underlying data vector and require the data structures to have compatible sizes.\n",
    "\n",
    "It is common to compute a power law of the magnitude of the local slope. \n",
    "\n",
    "$$\n",
    " k = \\left| \\nabla h \\right|^a\n",
    "$$"
   ]
  },
  {
   "cell_type": "code",
   "execution_count": null,
   "metadata": {
    "lines_to_next_cell": 2
   },
   "outputs": [],
   "source": [
    "dhdx, dhdy = fn.math.grad(height)\n",
    "slope = (dhdx**2 + dhdy**2)**0.5\n",
    "a = fn.parameter(1.3)\n",
    "k = slope**a\n",
    "\n",
    "print(k)\n",
    "print(k.evaluate(mesh))"
   ]
  },
  {
   "cell_type": "markdown",
   "metadata": {},
   "source": [
    "### Gradients\n",
    "\n",
    "Variables associated with a mesh also have the capacity to form spatial derivatives anywhere. This is provided by the `stripy` gradient routines in the case of triangulations. The gradient can be formed from any lazy function by evaluating it at the mesh points and then obtaining values of derivatives anywhere via stripy. In the case of the spatially invariant `parameter` objects, the derivatives are identically zero.\n",
    "\n",
    "_Note: there is no symbolic differentiation in the functions module._"
   ]
  },
  {
   "cell_type": "code",
   "execution_count": null,
   "metadata": {},
   "outputs": [],
   "source": [
    "dhdx = height.fn_gradient[0]\n",
    "print(dhdx.description)\n",
    "dh1dy = scaled_height.fn_gradient[1]\n",
    "print(dh1dy.description)"
   ]
  },
  {
   "cell_type": "markdown",
   "metadata": {},
   "source": [
    "Gradients are also accessible through the `grad`, `div` and `curl` operators as follows"
   ]
  },
  {
   "cell_type": "code",
   "execution_count": null,
   "metadata": {},
   "outputs": [],
   "source": [
    "gradx, grady = fn.math.grad(height)\n",
    "div_grad_h = fn.math.div(gradx, grady)\n",
    "curl_grad_h = fn.math.curl(gradx, grady)\n",
    "print(\"Div.Grad(h)  = \", div_grad_h.description)\n",
    "print(\"Curl.Grad(h) = \", curl_grad_h.description)"
   ]
  },
  {
   "cell_type": "markdown",
   "metadata": {},
   "source": [
    "The following should all evaluate to zero everywhere and so act as a test on the accuracy of the gradient operator "
   ]
  },
  {
   "cell_type": "code",
   "execution_count": null,
   "metadata": {},
   "outputs": [],
   "source": [
    "print(\"dhdX (error) = \", (gradx-fn.math.cos(fn.misc.coord(0))).evaluate(mesh))\n",
    "print(\"dhdY (error) = \",  grady.evaluate(mesh))\n",
    "print(\"Curl.Grad(h) (error) = \", curl_grad_h.evaluate(mesh))"
   ]
  },
  {
   "cell_type": "code",
   "execution_count": null,
   "metadata": {},
   "outputs": [],
   "source": [
    "import lavavu\n",
    "\n",
    "xyz     = np.column_stack([mesh.tri.points, height.data])\n",
    "\n",
    "lv = lavavu.Viewer(border=False, background=\"#FFFFFF\", resolution=[1000,600], near=-10.0)\n",
    "\n",
    "tris = lv.triangles(\"triangles\",  wireframe=False, colour=\"#77ff88\", opacity=1.0)\n",
    "tris.vertices(xyz)\n",
    "tris.indices(mesh.tri.simplices)\n",
    "tris.values(height.data, label=\"height\")\n",
    "tris.values(slope.evaluate(mesh), label=\"slope\")\n",
    "tris.values(curl_grad_h.evaluate(mesh), label=\"curlgrad\")\n",
    "tris.values(grady.evaluate(mesh), label=\"dh/dy\")\n",
    "\n",
    "tris.colourmap(\"elevation\")\n",
    "cb = tris.colourbar()\n",
    "\n",
    "lv.control.Panel()\n",
    "lv.control.Range('specular', range=(0,1), step=0.1, value=0.4)\n",
    "lv.control.Checkbox(property='axis')\n",
    "lv.control.ObjectList()\n",
    "tris.control.Checkbox(property=\"wireframe\")\n",
    "tris.control.List(options=[\"height\", \"slope\", \"curlgrad\", \"dh/dy\"], property=\"colourby\", value=\"slope\", command=\"redraw\", label=\"Display:\")\n",
    "lv.control.show()"
   ]
  },
  {
   "cell_type": "markdown",
   "metadata": {},
   "source": [
    "### Level set functions for conditional behaviour\n",
    "\n",
    "We provide `quagmire.function.misc.levelset` to produce simple mask functions that can be used to create conditionals. \n",
    "\n",
    "```python\n",
    "flat_area_mask = fn.misc.levelset(mesh.slope, 0.01, invert=False)\n",
    "```\n",
    "\n",
    "The mesh has a mesh.mask variable that is used to identify boundary points. Others could be added (by you) to identify regions such as internal drainages that require special treatment or exclusion from some equations. The levelset function can be applied to a mask to ensure that interpolation does not produce anomalies. It could also be used to clip out a value in a field between certain ranges (e.g. to capture regions in a specific height interval or with a specific catchment identifier). \n"
   ]
  },
  {
   "cell_type": "code",
   "execution_count": null,
   "metadata": {},
   "outputs": [],
   "source": [
    "flat_area_mask = fn.misc.levelset(slope, 0.1, invert=False)\n",
    "steep_area_mask = fn.misc.levelset(slope, 0.9, invert=True)"
   ]
  },
  {
   "cell_type": "code",
   "execution_count": null,
   "metadata": {
    "lines_to_next_cell": 0
   },
   "outputs": [],
   "source": [
    "import lavavu\n",
    "\n",
    "xyz     = np.column_stack([mesh.tri.points, height.data])\n",
    "\n",
    "lv = lavavu.Viewer(border=False, background=\"#FFFFFF\", resolution=[1000,600], near=-10.0)\n",
    "\n",
    "tris = lv.triangles(\"triangles\",  wireframe=False, colour=\"#77ff88\", opacity=1.0)\n",
    "tris.vertices(xyz)\n",
    "tris.indices(mesh.tri.simplices)\n",
    "tris.values(height.data, label=\"height\")\n",
    "tris.values(steep_area_mask.evaluate(mesh), label=\"steep\")\n",
    "tris.values(flat_area_mask.evaluate(mesh), label=\"flat\")\n",
    "\n",
    "\n",
    "tris.colourmap(\"elevation\")\n",
    "cb = tris.colourbar()\n",
    "\n",
    "lv.control.Panel()\n",
    "lv.control.Range('specular', range=(0,1), step=0.1, value=0.4)\n",
    "lv.control.Checkbox(property='axis')\n",
    "lv.control.ObjectList()\n",
    "tris.control.Checkbox(property=\"wireframe\")\n",
    "tris.control.List(options=[\"height\", \"steep\", \"flat\"], property=\"colourby\", value=\"flat\", command=\"redraw\", label=\"Display:\")\n",
    "lv.control.show()"
   ]
  },
  {
   "cell_type": "code",
   "execution_count": null,
   "metadata": {},
   "outputs": [],
   "source": []
  },
  {
   "cell_type": "code",
   "execution_count": null,
   "metadata": {
    "lines_to_next_cell": 2
   },
   "outputs": [],
   "source": []
  }
 ],
 "metadata": {
  "jupytext": {
   "formats": "../../Notebooks/Tutorial//ipynb,py:light"
  },
  "kernelspec": {
   "display_name": "Python 3",
   "language": "python",
   "name": "python3"
  }
 },
 "nbformat": 4,
 "nbformat_minor": 4
}
