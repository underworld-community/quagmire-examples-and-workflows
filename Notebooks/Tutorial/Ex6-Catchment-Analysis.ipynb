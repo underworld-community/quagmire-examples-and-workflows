{
 "cells": [
  {
   "cell_type": "markdown",
   "metadata": {},
   "source": [
    "# Example 6- Catchment analysis from the matrix transpose.\n",
    "\n",
    "We start with \"Swamp Mountain\" from the previous notebooks. This is slightly modified so that there are no lakes / pits right at the boundary.\n",
    "\n",
    "The catchments are identified by first finding all the outflow points of the mesh (local minima that correspond to the boundary mask) and then using the transpose of the downhill-propagation matrix $D^T$ to run information (the unique ID of each outflow points) up to the top of the catchment. \n",
    "\n",
    "The stopping condition is that no further change occurs. \n",
    "\n",
    "*Note* in the context of multiple pathways, this operation produces a fuzzy catchment. The first thing we do in this notebook is to specify `downhill_neighbours=1`\n",
    "\n",
    "\n",
    "## Notebook contents\n",
    "\n",
    "- [1-2-3 downhill neighbours](#1-2-3-downhill-neighbours)\n",
    "- [Upstream propogation](#Set-neighbours-to-1-and-compute-\"uphill\"-connectivity)\n",
    "- [Dense downhill matrices](#Dense-downhill-matrices)\n"
   ]
  },
  {
   "cell_type": "code",
   "execution_count": null,
   "metadata": {},
   "outputs": [],
   "source": [
    "import matplotlib.pyplot as plt\n",
    "import numpy as np\n",
    "from quagmire import tools as meshtools\n",
    "%matplotlib inline"
   ]
  },
  {
   "cell_type": "markdown",
   "metadata": {},
   "source": [
    "## Construct the swamp-mountain mesh\n",
    "\n",
    "This time we take care to avoid lakes etc on the boundaries as this makes the catchment analysis more complicated. Visualise the mesh to make sure that this works."
   ]
  },
  {
   "cell_type": "code",
   "execution_count": null,
   "metadata": {},
   "outputs": [],
   "source": [
    "from quagmire import QuagMesh \n",
    "from quagmire import QuagMesh # all routines we need are within this class\n",
    "from quagmire import QuagMesh\n",
    "\n",
    "minX, maxX = -5.0, 5.0\n",
    "minY, maxY = -5.0, 5.0,\n",
    "\n",
    "spacingX = 0.05\n",
    "spacingY = 0.05\n",
    "\n",
    "x, y, simplices = meshtools.elliptical_mesh(minX, maxX, minY, maxY, spacingX, spacingY, 1.)\n",
    "\n",
    "DM = meshtools.create_DMPlex(x, y, simplices)\n",
    "DM = meshtools.refine_DM(DM, refinement_levels=2)\n",
    "\n",
    "mesh = QuagMesh(DM, downhill_neighbours=1)\n",
    "\n",
    "# Note ... this is what refinement does \n",
    "x = mesh.coords[:,0]\n",
    "y = mesh.coords[:,1]\n",
    "\n",
    "print( \"\\nNumber of points in the triangulation: {}\".format(mesh.npoints))"
   ]
  },
  {
   "cell_type": "code",
   "execution_count": null,
   "metadata": {
    "hide_input": false
   },
   "outputs": [],
   "source": [
    "radius  = np.sqrt((x**2 + y**2))\n",
    "theta   = np.arctan2(y,x)+0.1\n",
    "\n",
    "height  = np.exp(-0.025*(x**2 + y**2)**2) + 0.25 * (0.2*radius)**4  * np.cos(5.0*theta)**2 ## Less so\n",
    "height  += 0.5 * (1.0-0.2*radius)\n",
    "height  -= height.min()\n",
    "\n",
    "## Add smoothed random noise to make some \"lakes\" \n",
    "\n",
    "mesh._construct_rbf_weights(delta=mesh.delta*3.0)\n",
    "\n",
    "randpts1 = np.where(np.random.random(height.shape)>0.995, -1.0, 0.0)\n",
    "hrand1   = 20.0 * mesh.rbf_smoother(randpts1, iterations=10)\n",
    "heightn = height + hrand1 * np.exp(-radius**2/15.0) \n",
    "\n",
    "\n",
    "with mesh.deform_topography():\n",
    "    mesh.downhill_neighbours = 2\n",
    "    mesh.topography.data = heightn\n",
    "\n",
    "\n",
    "# let's use a rainfall proportional to height (any choice is ok)\n",
    "\n",
    "rainfall_fn  = mesh.topography ** 2.0\n",
    "flowrate_fn  = mesh.upstream_integral_fn(rainfall_fn)\n",
    "str_power_fn = mesh.upstream_integral_fn(rainfall_fn)**2.0 * mesh.slope ** 2.0"
   ]
  },
  {
   "cell_type": "markdown",
   "metadata": {},
   "source": [
    "## Process the surface to fill swamps and lakes"
   ]
  },
  {
   "cell_type": "code",
   "execution_count": null,
   "metadata": {
    "lines_to_next_cell": 2
   },
   "outputs": [],
   "source": [
    "## Quagmire also has a swamp filling algorithm\n",
    "\n",
    "mesh1s = QuagMesh(DM)\n",
    "with mesh1s.deform_topography():\n",
    "    mesh1s.topography.data = mesh.topography.data\n",
    "    \n",
    "mesh1s.low_points_local_patch_fill(its=5, smoothing_steps=1)\n",
    "\n",
    "for i in range(0,50):\n",
    "    mesh1s.low_points_swamp_fill(ref_height=-0.01)\n",
    "    \n",
    "    # In parallel, we can't break if ANY processor has work to do (barrier / sync issue)\n",
    "    low_points2 = mesh1s.identify_global_low_points()\n",
    "    \n",
    "    print(\"{} : {}\".format(i,low_points2[0]))\n",
    "    if low_points2[0] == 0:\n",
    "        break"
   ]
  },
  {
   "cell_type": "code",
   "execution_count": null,
   "metadata": {},
   "outputs": [],
   "source": [
    "       \n",
    "rainfall_fn_1s  = mesh1s.topography ** 2.0\n",
    "flowrate_fn_1s  = mesh1s.upstream_integral_fn(rainfall_fn_1s)\n",
    "str_power_fn_1s = mesh1s.upstream_integral_fn(rainfall_fn_1s)**2.0 * mesh.slope ** 2.0"
   ]
  },
  {
   "cell_type": "markdown",
   "metadata": {},
   "source": [
    "## Locating and viewing the outflow points\n",
    "\n",
    "`quagmire` provides a mechanism to find the outflow points of a domain and return the node values. *Note:* in parallel these are the local node numbers and are not a unique ID. To do this, we can obtain the global ID from PETSc but it does also help to have the indices all be small numbers so we can map colours effectively."
   ]
  },
  {
   "cell_type": "code",
   "execution_count": null,
   "metadata": {},
   "outputs": [],
   "source": [
    "outflows = mesh1s.identify_outflow_points()\n",
    "print(\"Mesh has {} outflows\".format(outflows.shape[0]))"
   ]
  },
  {
   "cell_type": "code",
   "execution_count": null,
   "metadata": {},
   "outputs": [],
   "source": [
    "import quagmire\n",
    "print(quagmire.mesh.check_object_is_a_q_mesh_and_raise(mesh1s))"
   ]
  },
  {
   "cell_type": "code",
   "execution_count": null,
   "metadata": {},
   "outputs": [],
   "source": [
    "import lavavu\n",
    "\n",
    "outpoints = np.column_stack([mesh.tri.points[outflows], heightn[outflows]])\n",
    "points = np.column_stack([mesh.tri.points, heightn])\n",
    "\n",
    "lv = lavavu.Viewer(border=False, background=\"#FFFFFF\", resolution=[600,600], near=-10.0)\n",
    "\n",
    "nodes = lv.points(\"nodes\", pointsize=10.0, pointtype=\"shiny\", colour=\"#FF0000\" )\n",
    "nodes.vertices(outpoints)\n",
    "\n",
    "tri1 = lv.triangles(\"triangles\", wireframe=False)\n",
    "tri1.vertices(points)\n",
    "tri1.indices(mesh.tri.simplices)\n",
    "\n",
    "tri1.values(np.log(flowrate_fn_1s.evaluate(mesh1s)), \"cum-rain-swamp\")\n",
    "tri1.values(np.log(flowrate_fn.evaluate(mesh)),     \"cumulative rain\")\n",
    "\n",
    "tri1.colourmap(\"#BBEEBB #889988 #000099\")\n",
    "tri1.colourbar()\n",
    "\n",
    "## Swamped\n",
    "\n",
    "points = np.column_stack([mesh1s.tri.points, mesh1s.topography.data-0.01])\n",
    "\n",
    "tri2 = lv.triangles(\"triangles2\", wireframe=False)\n",
    "tri2.vertices(points)\n",
    "tri2.indices(mesh1s.tri.simplices)\n",
    "\n",
    "tri2.values(mesh1s.topography.data-mesh.topography.data,   \"swamps\")\n",
    "tri2.values(np.ones_like(mesh1s.topography.data), \"blank\")\n",
    "tri2.values(np.log(flowrate_fn_1s.evaluate(mesh1s)), \"cum-rain-swamp\")\n",
    "\n",
    "tri2.colourmap(\"#003366:0.5, #000099:0.8, #000099\")\n",
    "tri2.colourbar()\n",
    "\n",
    "\n",
    "lv.control.Panel()\n",
    "lv.control.ObjectList()\n",
    "tri1.control.List(options=[\"cum-rain-swamp\",\n",
    "                   \"cumulative rain\", \n",
    "                   ], property=\"colourby\", command=\"redraw\")\n",
    "\n",
    "tri2.control.List(options=[\"blank\", \"swamps\", \n",
    "                   \"cum-rain-swamp\"], property=\"colourby\", command=\"redraw\")\n",
    "\n",
    "\n",
    "lv.control.show()"
   ]
  },
  {
   "cell_type": "code",
   "execution_count": null,
   "metadata": {},
   "outputs": [],
   "source": [
    "## Stream power / slope where the lakes / swamps are located:"
   ]
  },
  {
   "cell_type": "markdown",
   "metadata": {},
   "source": [
    "## Set neighbours to 1 and compute \"uphill\" connectivity\n",
    "\n",
    "In serial, i.e. for this demonstration, we number the outflow points by their order in the local mesh numbering. We can then use the `mesh.uphill_propagation` routine to propagate this information from the outflow to the top of the catchment. \n",
    "\n",
    "This routine returns the mesh data (for this processor) of a globally synchronised map of the information propagated from the selected points. \n",
    "\n",
    "The routine is used in the computation of flood fills for the swamp algorithm and should be polished up a bit (sorry)."
   ]
  },
  {
   "cell_type": "code",
   "execution_count": null,
   "metadata": {},
   "outputs": [],
   "source": [
    "## Unique catchments requires the downhill matrix with downhill_neighbours=1\n",
    "\n",
    "mesh1s.near_neighbours=1\n",
    "# mesh1s.update_height(mesh1s.heightVariable.data)"
   ]
  },
  {
   "cell_type": "code",
   "execution_count": null,
   "metadata": {
    "lines_to_next_cell": 2
   },
   "outputs": [],
   "source": [
    "## Need a unique ID that works in parallel ... global node number would work but \n",
    "## not that easy to map to colours in lavavu \n",
    "\n",
    "from petsc4py import PETSc\n",
    "outflows\n",
    "outflowID = mesh1s.lgmap_row.apply(outflows.astype(PETSc.IntType))\n",
    "\n",
    "# But on 1 proc, this is easier / better:\n",
    "\n",
    "outflowID = np.array(range(0, outflows.shape[0]))\n",
    "ctmt = mesh1s.uphill_propagation(outflows,  outflowID, its=99999, fill=-999999).astype(np.int)"
   ]
  },
  {
   "cell_type": "markdown",
   "metadata": {},
   "source": [
    "## Visualise the catchment information"
   ]
  },
  {
   "cell_type": "code",
   "execution_count": null,
   "metadata": {
    "lines_to_next_cell": 0
   },
   "outputs": [],
   "source": [
    "import lavavu\n",
    "\n",
    "outpoints = np.column_stack([mesh.tri.points[outflows], heightn[outflows]])\n",
    "points = np.column_stack([mesh.tri.points, mesh1s.topography.data])\n",
    "\n",
    "lv = lavavu.Viewer(border=False, background=\"#FFFFFF\", resolution=[900,600], near=-10.0)\n",
    "\n",
    "nodes = lv.points(\"nodes\", pointsize=10.0, pointtype=\"shiny\", colour=\"#FF0000\" )\n",
    "nodes.vertices(outpoints)\n",
    "\n",
    "tri1 = lv.triangles(\"triangles\", wireframe=False, opacity=1.0)\n",
    "tri1.vertices(points)\n",
    "tri1.indices(mesh.tri.simplices)\n",
    "tri1.values(np.log(flowrate_fn_1s.evaluate(mesh1s)),\"cum-rain-swamp\")\n",
    "\n",
    "tri1.colourmap(\"#BBEEBB:0.0, #889988:0.2, #889988:0.2, #0000FF:0.2, #0000FF\")\n",
    "tri1.colourbar(visible=False)\n",
    "\n",
    "## Swamped\n",
    "\n",
    "tri2 = lv.triangles(\"triangles2\", wireframe=False)\n",
    "tri2.vertices(points-(0.0,0.0,0.01))\n",
    "tri2.indices(mesh1s.tri.simplices)\n",
    "\n",
    "tri2.values(ctmt,   \"catchments\")\n",
    "\n",
    "tri2.colourmap(\"spectral\", discrete=True, range=[0, outflows.shape[0]-1])\n",
    "tri2.colourbar(visible=False)\n",
    "\n",
    "tri3 = lv.triangles(\"triangles3\", wireframe=False)\n",
    "tri3.vertices(points-(0.0,0.0,0.005))\n",
    "\n",
    "tri3.indices(mesh1s.tri.simplices)\n",
    "tri3.values(mesh1s.topography.data-mesh.topography.data,   \"swamps\")\n",
    "tri3.colourmap(\"#003366:0.0, #000099,  #000099, #000099, #0000FF\")\n",
    "tri3.colourbar(visible=False)\n",
    "\n",
    "\n",
    "lv.control.Panel()\n",
    "lv.control.ObjectList()\n",
    "\n",
    "lv.control.show()"
   ]
  },
  {
   "cell_type": "code",
   "execution_count": null,
   "metadata": {
    "lines_to_next_cell": 2
   },
   "outputs": [],
   "source": []
  }
 ],
 "metadata": {
  "jupytext": {
   "formats": "../../Notebooks/Tutorial//ipynb,py:light"
  },
  "kernelspec": {
   "display_name": "Python 3",
   "language": "python",
   "name": "python3"
  }
 },
 "nbformat": 4,
 "nbformat_minor": 4
}
