{
 "cells": [
  {
   "cell_type": "markdown",
   "metadata": {},
   "source": [
    "# Example 9 - Landscape Evolution\n",
    "\n",
    "The **local equilibrium** transport law from [Ex8-ErosionDeposition](./Ex8-ErosionDeposition.ipynb) is implemented in a time-varying loop."
   ]
  },
  {
   "cell_type": "code",
   "execution_count": null,
   "metadata": {},
   "outputs": [],
   "source": [
    "from quagmire import QuagMesh\n",
    "from quagmire import tools as meshtools\n",
    "from quagmire import function as fn\n",
    "from quagmire import equation_systems as systems\n",
    "import quagmire\n",
    "import numpy as np\n",
    "import matplotlib.pyplot as plt\n",
    "from time import time\n",
    "\n",
    "%matplotlib inline"
   ]
  },
  {
   "cell_type": "code",
   "execution_count": null,
   "metadata": {},
   "outputs": [],
   "source": [
    "minX, maxX = -5.0, 5.0\n",
    "minY, maxY = -5.0, 5.0,\n",
    "\n",
    "spacingX = 0.02\n",
    "spacingY = 0.02\n",
    "\n",
    "minX, maxX = -5.0, 5.0\n",
    "minY, maxY = -5.0, 5.0,\n",
    "dx, dy = 0.05, 0.05\n",
    "\n",
    "x1, y1, simplices = meshtools.elliptical_mesh(minX, maxX, minY, maxY, dx, dy, random_scale=0.0, refinement_levels=1)\n",
    "DM = meshtools.create_DMPlex(x1, y1, simplices, boundary_vertices=None)\n",
    "mesh = QuagMesh(DM, verbose=False, tree=True)\n",
    "\n",
    "print( \"\\nNumber of points in the triangulation: {}\".format(mesh.npoints))\n",
    "print( \"Downhill neighbour paths: {}\".format(mesh.downhill_neighbours))"
   ]
  },
  {
   "cell_type": "code",
   "execution_count": null,
   "metadata": {
    "lines_to_next_cell": 2
   },
   "outputs": [],
   "source": [
    "x = mesh.coords[:,0]\n",
    "y = mesh.coords[:,1]\n",
    "boundary_mask_fn = fn.misc.levelset(mesh.mask, 0.5)\n",
    "\n",
    "radius  = np.sqrt((x**2 + y**2))\n",
    "theta   = np.arctan2(y,x) + 0.1\n",
    "\n",
    "height  = np.exp(-0.025*(x**2 + y**2)**2)\n",
    "# height  += 0.5 * (1.0-0.2*radius)\n",
    "height -= height.min()\n",
    "\n",
    "with mesh.deform_topography():\n",
    "    mesh.downhill_neighbours = 2\n",
    "    mesh.topography.data = height\n",
    "\n",
    "rainfall_fn = mesh.topography ** 2.0"
   ]
  },
  {
   "cell_type": "code",
   "execution_count": null,
   "metadata": {},
   "outputs": [],
   "source": [
    "# vary these and visualise difference\n",
    "m = fn.parameter(1.0)\n",
    "n = fn.parameter(1.0)\n",
    "K = fn.parameter(1.0)\n",
    "\n",
    "# create stream power function\n",
    "upstream_precipitation_integral_fn = mesh.upstream_integral_fn(rainfall_fn)\n",
    "stream_power_fn = K*upstream_precipitation_integral_fn**m * mesh.slope**n * boundary_mask_fn\n",
    "\n",
    "# evaluate on the mesh\n",
    "sp = stream_power_fn.evaluate(mesh)"
   ]
  },
  {
   "cell_type": "code",
   "execution_count": null,
   "metadata": {},
   "outputs": [],
   "source": [
    "import lavavu\n",
    "\n",
    "verts = np.reshape(mesh.tri.points, (-1,2))\n",
    "verts = np.insert(verts, 2, values=mesh.topography.data, axis=1)\n",
    "\n",
    "# setup viewer\n",
    "lv = lavavu.Viewer(border=False, background=\"#FFFFFF\", resolution=[1000,600], near=-10.0)\n",
    "\n",
    "tri1 = lv.triangles(\"triangles\", wireframe=False)\n",
    "tri1.vertices(verts)\n",
    "tri1.indices(mesh.tri.simplices)\n",
    "\n",
    "tri1.values(sp, \"stream_power\")\n",
    "\n",
    "tri1.colourmap(\"drywet\")\n",
    "tri1.colourbar()\n",
    "lv.window()"
   ]
  },
  {
   "cell_type": "code",
   "execution_count": null,
   "metadata": {
    "lines_to_next_cell": 2
   },
   "outputs": [],
   "source": [
    "\n",
    "import quagmire.equation_systems as systems\n",
    "\n",
    "## Set up diffusion solver\n",
    "\n",
    "diffusion_solver = systems.DiffusionEquation(mesh=mesh)\n",
    "diffusion_solver.neumann_x_mask = fn.misc.levelset(mesh.mask, invert=True)\n",
    "diffusion_solver.neumann_y_mask = fn.misc.levelset(mesh.mask, invert=True)\n",
    "diffusion_solver.dirichlet_mask = fn.parameter(0.0)\n",
    "diffusion_solver.diffusivity = fn.parameter(1.0)\n",
    "diffusion_solver.verify() # Does nothing but is supposed to check we have everything necessary\n",
    "\n",
    "# not needed to run\n",
    "hillslope = diffusion_solver.phi\n",
    "hillslope.data = mesh.topography.data\n",
    "\n",
    "\n",
    "## Set up transport solver\n",
    "\n",
    "transport_solver = systems.ErosionDepositionEquation(mesh=mesh)\n",
    "transport_solver.rainfall = rainfall_fn\n",
    "transport_solver.verify()"
   ]
  },
  {
   "cell_type": "markdown",
   "metadata": {},
   "source": [
    "### Timestepping routine"
   ]
  },
  {
   "cell_type": "code",
   "execution_count": null,
   "metadata": {},
   "outputs": [],
   "source": [
    "import lavavu\n",
    "\n",
    "verts = np.reshape(mesh.tri.points, (-1,2))\n",
    "verts = np.insert(verts, 2, values=mesh.topography.data, axis=1)\n",
    "\n",
    "mesh.save_mesh_to_hdf5(\"mesh.h5\")\n",
    "\n",
    "# setup viewer\n",
    "lv = lavavu.Viewer(border=False, background=\"#FFFFFF\", resolution=[1000,600], near=-10.0)\n",
    "\n",
    "tri1 = lv.triangles(\"triangles\", wireframe=False)\n",
    "tri1.vertices(verts)\n",
    "tri1.indices(mesh.tri.simplices)"
   ]
  },
  {
   "cell_type": "code",
   "execution_count": null,
   "metadata": {},
   "outputs": [],
   "source": [
    "save_fields = False\n",
    "plot_lavavu = True\n",
    "\n",
    "efficiency = fn.parameter(1.0)\n",
    "\n",
    "# reset topography\n",
    "mesh.verbose = False\n",
    "with mesh.deform_topography():\n",
    "    mesh.topography.data = height.copy()\n",
    "    \n",
    "h5_filename = \"fields_{:06d}.h5\"\n",
    "stats = \"Step {:04d} | dt {:.5f} | time {:.4f} | min/mean/max height {:.3f}/{:.3f}/{:.3f} | step walltime {:.3f}\"\n",
    "sim_time = 0.0\n",
    "steps = 50\n",
    "\n",
    "\n",
    "for i in range(0, steps):\n",
    "    t = time()\n",
    "    \n",
    "    topography0 = mesh.topography.copy()\n",
    "    \n",
    "    # get timestep size\n",
    "    dt = min(diffusion_solver.diffusion_timestep(), transport_solver.erosion_deposition_timestep())\n",
    "    \n",
    "    # build diffusion, erosion + deposition\n",
    "    diffusion_rate = diffusion_solver.diffusion_rate_fn(mesh.topography).evaluate(mesh)\n",
    "    erosion_rate, deposition_rate = transport_solver.erosion_deposition_local_equilibrium(efficiency)\n",
    "    dhdt = diffusion_rate - erosion_rate #+ deposition_rate\n",
    "    \n",
    "    # do not rebuilt downhill matrix at half timestep\n",
    "    mesh.topography.unlock()\n",
    "    mesh.topography.data = mesh.topography.data + 0.5*dt*dhdt\n",
    "    mesh.topography.lock()\n",
    "    \n",
    "    \n",
    "    # get timestep size\n",
    "    dt = min(diffusion_solver.diffusion_timestep(), transport_solver.erosion_deposition_timestep())\n",
    "    \n",
    "    # build diffusion, erosion + deposition\n",
    "    diffusion_rate = diffusion_solver.diffusion_rate_fn(mesh.topography).evaluate(mesh)\n",
    "    erosion_rate, deposition_rate = transport_solver.erosion_deposition_local_equilibrium(efficiency)\n",
    "    dhdt = diffusion_rate - erosion_rate #+ deposition_rate\n",
    "    \n",
    "    # now take full timestep\n",
    "    with mesh.deform_topography():\n",
    "        mesh.topography.data = topography0.data + dt*dhdt\n",
    "    \n",
    "    # deal with local minima\n",
    "#     mesh.low_points_local_patch_fill()\n",
    "    \n",
    "    \n",
    "    # save fields\n",
    "    if save_fields:\n",
    "        mesh.save_mesh_to_hdf5(h5_filename.format(i))\n",
    "        mesh.save_field_to_hdf5(h5_filename.format(i), topo=mesh.topography.data)\n",
    "        # quagmire.tools.generate_xdmf(h5_filename.format(i))\n",
    "    \n",
    "    if plot_lavavu:\n",
    "        lv.addstep(i)\n",
    "        verts[:,2] = mesh.topography.data\n",
    "        tri1.vertices(verts)\n",
    "        tri1.indices(mesh.tri.simplices)\n",
    "        tri1.values(erosion_rate, \"incision\")\n",
    "        tri1.values(deposition_rate, \"deposition\")\n",
    "        tri1.values(diffusion_rate, \"diffusion\")\n",
    "    \n",
    "    \n",
    "    sim_time += dt\n",
    "    \n",
    "    if i/steps*100 in list(range(0,100,10)):\n",
    "        print(stats.format(i, dt, sim_time, mesh.topography.min(), mesh.topography.data.mean(),\n",
    "                           mesh.topography.max(), time() - t))"
   ]
  },
  {
   "cell_type": "code",
   "execution_count": null,
   "metadata": {},
   "outputs": [],
   "source": [
    "# change in topography\n",
    "\n",
    "delta_H = mesh.add_variable(\"dH\")\n",
    "delta_H.unlock()\n",
    "delta_H.data = mesh.topography.data - height\n",
    "delta_H.lock()"
   ]
  },
  {
   "cell_type": "code",
   "execution_count": null,
   "metadata": {},
   "outputs": [],
   "source": [
    "tri1.colourmap(\"drywet\")\n",
    "tri1.colourbar()\n",
    "tri1.control.List(options=\n",
    "                 [\"incision\", \"deposition\", \"diffusion\"], \n",
    "                  property=\"colourby\", value=\"kappa\", command=\"redraw\")\n",
    "\n",
    "# There are issues with lavavu here\n",
    "lv.control.TimeStepper()\n",
    "lv.window()"
   ]
  },
  {
   "cell_type": "code",
   "execution_count": null,
   "metadata": {
    "lines_to_next_cell": 0
   },
   "outputs": [],
   "source": [
    "# Plot the stream power, erosion and deposition rates\n",
    "fig, (ax1, ax2, ax3) = plt.subplots(1,3, figsize=(50,15))\n",
    "for ax in [ax1, ax2, ax3]:\n",
    "    ax.axis('equal')\n",
    "    ax.axis('off')\n",
    "\n",
    "\n",
    "dhmax = np.abs(delta_H.data).mean() * 3.0\n",
    "# ermax = np.abs(incision_rate.data).mean() * 3.0\n",
    "# depmax = np.abs(dhdt_fn.evaluate(mesh)).mean() * 3.0\n",
    "    \n",
    "#im1 = ax1.tripcolor(x, y, sp.tri.simplices, delta, cmap=plt.cm.RdBu, vmin=-dhmax, vmax=dhmax)    \n",
    "im1 = ax1.tripcolor(x, y, mesh.tri.simplices, mesh.topography.data, cmap=plt.cm.terrain)\n",
    "im2 = ax2.tripcolor(x, y, mesh.tri.simplices, delta_H.data, cmap='RdBu', vmin=-dhmax, vmax=dhmax)\n",
    "im3 = ax3.tripcolor(x, y, mesh.tri.simplices, dhdt, cmap='RdBu_r',)\n",
    "\n",
    "fig.colorbar(im1, ax=ax1)\n",
    "fig.colorbar(im2, ax=ax2)\n",
    "fig.colorbar(im3, ax=ax3)\n",
    "plt.show()"
   ]
  },
  {
   "cell_type": "code",
   "execution_count": null,
   "metadata": {},
   "outputs": [],
   "source": []
  },
  {
   "cell_type": "code",
   "execution_count": null,
   "metadata": {},
   "outputs": [],
   "source": []
  }
 ],
 "metadata": {
  "jupytext": {
   "formats": "../../Notebooks/Tutorial//ipynb,py:light"
  },
  "kernelspec": {
   "display_name": "Python 3",
   "language": "python",
   "name": "python3"
  }
 },
 "nbformat": 4,
 "nbformat_minor": 4
}
