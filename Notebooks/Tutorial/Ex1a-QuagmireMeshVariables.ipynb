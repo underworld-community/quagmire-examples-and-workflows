{
 "cells": [
  {
   "cell_type": "markdown",
   "metadata": {},
   "source": [
    "## quagmire.mesh MeshVariable\n",
    "\n",
    "Like Underworld, quagmire provides the concept of a \"variable\" which is associated with a mesh. These are parallel data structures on distributed meshes that support various capabilities such as interpolation, gradients, save and load, as well as supporting a number of mathematical operators through the `quagmire.function` interface (examples in the next notebook). \n",
    "\n"
   ]
  },
  {
   "cell_type": "code",
   "execution_count": 1,
   "metadata": {},
   "outputs": [
    {
     "name": "stderr",
     "output_type": "stream",
     "text": [
      "/Users/lmoresi/opt/anaconda3/envs/quagmire/lib/python3.7/site-packages/h5py/__init__.py:40: UserWarning: h5py is running against HDF5 1.10.6 when it was built against 1.10.5, this may cause problems\n",
      "  '{0}.{1}.{2}'.format(*version.hdf5_built_version_tuple)\n"
     ]
    }
   ],
   "source": [
    "from quagmire.tools import meshtools\n",
    "from quagmire import QuagMesh\n",
    "from quagmire.mesh import MeshVariable\n",
    "import numpy as np  "
   ]
  },
  {
   "cell_type": "markdown",
   "metadata": {},
   "source": [
    "### Working mesh\n",
    "\n",
    "First we create a basic mesh so that we can define mesh variables and obtain gradients etc."
   ]
  },
  {
   "cell_type": "code",
   "execution_count": 2,
   "metadata": {},
   "outputs": [
    {
     "name": "stdout",
     "output_type": "stream",
     "text": [
      "Origin =  0.0 0.0 Radius =  5.0 Aspect =  1.0\n",
      "Underlying Mesh type: TriMesh\n",
      "0 - Delaunay triangulation 0.12569633700000038s\n",
      "0 - Calculate node weights and area 0.005671790000000065s\n",
      "0 - Find boundaries 0.0016698059999997739s\n",
      "0 - cKDTree 0.007429907999999763s\n",
      "0 - Construct neighbour cloud arrays 0.35917390299999985s, (0.21463833199999982s + 0.1445002790000003s)\n",
      "0 - Construct rbf weights 0.05701790100000004s\n"
     ]
    }
   ],
   "source": [
    "minX, maxX = -5.0, 5.0\n",
    "minY, maxY = -5.0, 5.0,\n",
    "dx, dy = 0.02, 0.02\n",
    "\n",
    "x,y, bound = meshtools.generate_elliptical_points(minX, maxX, minY, maxY, dx, dy, 60000, 300)\n",
    "DM = meshtools.create_DMPlex_from_points(x, y, bmask=bound)\n",
    "mesh = QuagMesh(DM, downhill_neighbours=1)"
   ]
  },
  {
   "cell_type": "markdown",
   "metadata": {},
   "source": [
    "### Basic usage\n",
    "\n",
    "Mesh variables can be instantiated directly or by adding a new variable to an existing mesh. \n",
    "`print` will display and expanded description of the variable.\n",
    "\n",
    "Note, for use in jupyter notebooks (etc), you can add a latex description (see below)and it\n",
    "will be displayed \"nicely\". The coordinates are added automatically because many things depend\n",
    "on the geometrical context (spherical v. flat). Note that the use of rstrings (`r\"\\LaTeX\"`) to make sure the \n",
    "names are not corrupted due to unexpected special characters. "
   ]
  },
  {
   "cell_type": "code",
   "execution_count": 3,
   "metadata": {},
   "outputs": [
    {
     "name": "stdout",
     "output_type": "stream",
     "text": [
      "quagmire.MeshVariable: PSI(X,Y) - RW\n"
     ]
    }
   ],
   "source": [
    "phi = mesh.add_variable(name=\"PHI(X,Y)\", lname=r\"\\phi\")\n",
    "psi = mesh.add_variable(name=\"PSI(X,Y)\", lname=r\"\\psi\")\n",
    "\n",
    "# is equivalent to\n",
    "\n",
    "phi1 = MeshVariable(name=\"PSI(X,Y)\", mesh=mesh)\n",
    "psi1 = MeshVariable(name=\"PHI(X,Y)\", mesh=mesh)\n",
    "\n",
    "print(psi)"
   ]
  },
  {
   "cell_type": "code",
   "execution_count": 7,
   "metadata": {},
   "outputs": [
    {
     "data": {
      "text/latex": [
       "$\\displaystyle \\frac{ \\partial }{\\partial \\xi_0}\\left. \\nabla(\\phi\\left(x,y\\right))\\right|_0 \\, + \\, \\frac{\\partial}{\\partial \\xi_1}\\left. \\nabla(\\phi\\left(x,y\\right))\\right|_1$"
      ],
      "text/plain": [
       "<IPython.core.display.Math object>"
      ]
     },
     "metadata": {},
     "output_type": "display_data"
    }
   ],
   "source": []
  },
  {
   "cell_type": "code",
   "execution_count": 5,
   "metadata": {},
   "outputs": [
    {
     "ename": "SyntaxError",
     "evalue": "invalid syntax (<ipython-input-5-22f7253e1a55>, line 1)",
     "output_type": "error",
     "traceback": [
      "\u001b[0;36m  File \u001b[0;32m\"<ipython-input-5-22f7253e1a55>\"\u001b[0;36m, line \u001b[0;32m1\u001b[0m\n\u001b[0;31m    V.\u001b[0m\n\u001b[0m      ^\u001b[0m\n\u001b[0;31mSyntaxError\u001b[0m\u001b[0;31m:\u001b[0m invalid syntax\n"
     ]
    }
   ],
   "source": []
  },
  {
   "cell_type": "code",
   "execution_count": null,
   "metadata": {},
   "outputs": [],
   "source": [
    "3=1"
   ]
  },
  {
   "cell_type": "code",
   "execution_count": null,
   "metadata": {},
   "outputs": [],
   "source": [
    "## latex / jupyter additions:\n",
    "\n",
    "phi = mesh.add_variable(name=\"PHI(X,Y)\", lname=r\"\\phi\")\n",
    "psi = mesh.add_variable(name=\"PSI(X,Y)\", lname=r\"\\psi\")\n",
    "\n",
    "print(\"Printed version:\")\n",
    "print(phi)\n",
    "print(\"\\n\")\n",
    "print(\"Displayed version (latex)\")\n",
    "phi.display()\n",
    "print(\"\\n\")\n",
    "\n",
    "# Or just display the object using jupyter\n",
    "print(\"Automatically displayed version (latex in notebook, printed in python)\")\n",
    "phi"
   ]
  },
  {
   "cell_type": "markdown",
   "metadata": {},
   "source": [
    "Mesh variables store their data in a PETSc distributed vector with values on the local mesh accessible through a numpy interface (via to petsc4py). For consistency with `underworld`, the numpy array is accessed as the `data` property on the variable as follows"
   ]
  },
  {
   "cell_type": "code",
   "execution_count": null,
   "metadata": {},
   "outputs": [],
   "source": [
    "phi.data = np.sin(mesh.coords[:,0])**2.0 \n",
    "psi.data = np.cos(mesh.coords[:,0])**2.0 * np.sin(mesh.coords[:,1])**2.0 "
   ]
  },
  {
   "cell_type": "markdown",
   "metadata": {},
   "source": [
    "Note that the following is not allowed\n",
    "\n",
    "```python\n",
    "phi.data[0] = 1.0\n",
    "```\n",
    "\n",
    "and nor is any other change to a single value in the array. This is done so that we can be sure that\n",
    "the values in the array are always synchronised across processors at the end of an assignment. It is also\n",
    "done to control cases where there are dependencies on the variable that go beyond synchronisation (for example,\n",
    "changing the topography variable rebuilds the flow pathways in a surface process context). \n",
    "\n",
    "You can work with a local copy of the vector and update all at once if you need to build incremental changes to values, work without synchronisation across processors or avoid rebuilding of dependent quantities. "
   ]
  },
  {
   "cell_type": "markdown",
   "metadata": {},
   "source": [
    "A MeshVariable object responds to a `print` statement by stating what it is and its name. To print the contents of the variable (locally), access the values through the data property:"
   ]
  },
  {
   "cell_type": "code",
   "execution_count": null,
   "metadata": {},
   "outputs": [],
   "source": [
    "print(phi, \"|\", psi)\n",
    "print(phi.data)"
   ]
  },
  {
   "cell_type": "markdown",
   "metadata": {},
   "source": [
    "Mesh variables can be read only (locked). The RO (read only) and RW (read / write) markers are shown when the variable is printed. \n",
    "\n",
    "```python\n",
    "phi.lock()\n",
    "print(phi)\n",
    "phi.unlock()\n",
    "print(phi)\n",
    "```\n",
    "\n",
    "Generally locking is done to prevent changes to a variable's data because additional updates depend on controlling when changes are made. Access to `lock` and `unlock` is "
   ]
  },
  {
   "cell_type": "code",
   "execution_count": null,
   "metadata": {},
   "outputs": [],
   "source": [
    "phi.lock()\n",
    "print(phi)\n",
    "phi.unlock()\n",
    "print(phi)"
   ]
  },
  {
   "cell_type": "markdown",
   "metadata": {},
   "source": [
    "### Parallel support\n",
    "\n",
    "The `MeshVariable` class has a `sync` method that, when called, will replace shadow information with values from adjacent sections of the decomposition (or optionally, merge values in the shadow zone - an operation that should be used with caution for global reduction type operations). \n",
    "\n",
    "If you alter data in the shadow zone in a way that cannot be guaranteed to be the same on another processor, then some form of synchronisation is required when you are done. This is not fully automated as there may be several stages to your updates that you only want to synchronise at the end. But, still, be careful !\n"
   ]
  },
  {
   "cell_type": "code",
   "execution_count": null,
   "metadata": {},
   "outputs": [],
   "source": [
    "phi.sync()\n",
    "\n",
    "phi.sync(mergeShadow=True) # this will add the values from each processor in parallel"
   ]
  },
  {
   "cell_type": "markdown",
   "metadata": {},
   "source": [
    "These kinds of parallel operations must be called on every processor or they will block while waiting for everyone to finish. Be careful not to call sync inside a conditional which may be executed differently \n",
    "\n",
    "```python\n",
    "\n",
    "import quagmire\n",
    "\n",
    "# Don't do this (obviously)\n",
    "if quagmire.rank == 0:\n",
    "    phi.sync()   \n",
    "   \n",
    "# or something a little bit less obvious\n",
    "if delta_phi > 0.0:\n",
    "    phi.sync()\n",
    "    \n",
    "# This might be OK but it is not required\n",
    "if quagmire.size > 1:\n",
    "    phi.sync()\n",
    "\n",
    "```"
   ]
  },
  {
   "cell_type": "markdown",
   "metadata": {},
   "source": [
    "### Evaluate method and fn_gradient\n",
    "\n",
    "MeshVariables support the `evaluate` method (because they are `quagmire.functions`) which is useful as it generalises various interfaces that are available to access the data. If a mesh is supplied, then evaluate checks to see if this corresponds to the mesh associated with the mesh variable and returns the raw data if it does. Otherwise the mesh coordinates are used for interpolation. If two coordinate arrays are supplied then these are passed to the interpolator. \n",
    "\n",
    "NOTE: the interpolator will also extrapolate and may (is likely to) produce poor results for off-processor coordinates. If this is a problem, the `MeshVariable.interpolate` method can be accessed directly with the `err` optional argument. \n"
   ]
  },
  {
   "cell_type": "code",
   "execution_count": null,
   "metadata": {
    "lines_to_next_cell": 2
   },
   "outputs": [],
   "source": [
    "## Raw nodal point data for the local domain\n",
    "\n",
    "print(phi.data)\n",
    "print(phi.evaluate(mesh))\n",
    "print(phi.evaluate(phi._mesh)) \n",
    "print(phi.evaluate()) \n",
    "\n",
    "\n",
    "## interpolation at a point \n",
    "\n",
    "print(phi.interpolate(0.01,1.0))\n",
    "print(phi.evaluate((0.01, 1.0)))"
   ]
  },
  {
   "cell_type": "markdown",
   "metadata": {},
   "source": [
    "## Derivatives / gradients\n",
    "\n",
    "Mesh based variables can be differentiated in (X,Y). There is a `_gradient` method inherited from the `stripy` package that supplies the coefficients of the derivative surface at the nodal points (these may then need to be interpolated). A more general interface is also provided in the form of functions which not only compute the gradient but also handle interpolation between meshes and are also evaluated on demand (i.e. can be composed into functions)."
   ]
  },
  {
   "cell_type": "code",
   "execution_count": null,
   "metadata": {},
   "outputs": [],
   "source": [
    "dpsi = psi._gradient()\n",
    "dpsidx_nodes = dpsi[:,0]\n",
    "dpsidy_nodes = dpsi[:,1]\n",
    "print(\"dPSIdx - N: \",  dpsidx_nodes)\n",
    "print(\"dPSIdy - N: \",  dpsidy_nodes)\n",
    "\n",
    "dpsidx_fn = psi.fn_gradient(0) # (0) for X derivative, (1) for Y\n",
    "print(\"dPSIdx - F: \",  dpsidx_fn.evaluate(mesh))\n",
    "print(\"dPSIdx - point evaluation \",  dpsidx_fn.evaluate((0.01, 1.0)))"
   ]
  },
  {
   "cell_type": "markdown",
   "metadata": {},
   "source": [
    "## Higher derivatives\n",
    "\n",
    "The easiest way to form higher derivatives for a mesh variable is to use the nesting properties of the gradient functions. \n",
    "These form gradients and use the same mesh to find *their* gradients. However, the do so in a way that does not require\n",
    "defining and handling intermediary mesh variables. \n",
    "\n",
    "Let's take a look to see how these methods work:"
   ]
  },
  {
   "cell_type": "code",
   "execution_count": null,
   "metadata": {},
   "outputs": [],
   "source": [
    "## This way uses the underlying mesh structure to extract gradients and store the result\n",
    "\n",
    "dpsidx_var = mesh.add_variable(\"dpsidx\")\n",
    "dpsidx_var.data = dpsidx_nodes\n",
    "dpsidy_var = mesh.add_variable(\"dpsidy\")\n",
    "dpsidy_var.data = dpsidy_nodes\n",
    "\n",
    "\n",
    "print( dpsidx_var._gradient()[:,0] )\n",
    "\n",
    "\n",
    "## And this way is function based (two equivalent interfaces)\n",
    "\n",
    "d2psidx2_fn  = dpsidx_fn.fn_gradient(0)\n",
    "d2psidx2_fn2 = dpsidx_fn.derivative(0)\n",
    "\n",
    "print( d2psidx2_fn.evaluate(mesh))\n",
    "print( d2psidx2_fn2.evaluate(mesh))\n"
   ]
  },
  {
   "cell_type": "markdown",
   "metadata": {},
   "source": [
    "The function based method is more simple and has some advantages if the data in the original variable change - the gradient function \n",
    "handles those updates automatically. Note how the mesh variable version does not update whereas the function based version does. We will see\n",
    "in the next example notebook how the function system works in detail. For now, though, simply note that the function is not evaluated\n",
    "until it is needed and so can be defined in an abstract manner independent of the data in the variable."
   ]
  },
  {
   "cell_type": "code",
   "execution_count": null,
   "metadata": {},
   "outputs": [],
   "source": [
    "## change the data in the PSI variable:\n",
    "\n",
    "psi.data = 2.0 * np.cos(mesh.coords[:,0])**2.0 * np.sin(mesh.coords[:,1])**2.0 \n",
    "\n",
    "print( dpsidx_var._gradient()[:,0] )\n",
    "print(  0.5 * d2psidx2_fn.evaluate(mesh) )\n",
    "print( (0.5 * d2psidx2_fn).evaluate(mesh))"
   ]
  },
  {
   "cell_type": "markdown",
   "metadata": {},
   "source": [
    "This is how we can define a Laplacian of the variable (in Cartesian geometry) using the function interface. This approach allows\n",
    "the operator to be a self-updating variable that can be passed around as though it was a simple mesh variable. Note that the\n",
    "functions have some helpful associated descriptive text that explains what they are. \n",
    "\n",
    "Also note, this is not a generic operator as it is specific to this variable but more general operators can be constructed \n",
    "with very little overhead because the interface is very lightweight."
   ]
  },
  {
   "cell_type": "code",
   "execution_count": null,
   "metadata": {},
   "outputs": [],
   "source": [
    "laplace_phi_xy = phi.derivative(0).derivative(0) + phi.derivative(1).derivative(1)\n",
    "print(laplace_phi_xy)\n",
    "\n",
    "print(laplace_phi_xy.evaluate(mesh))"
   ]
  },
  {
   "cell_type": "markdown",
   "metadata": {},
   "source": [
    "### Visualisation"
   ]
  },
  {
   "cell_type": "markdown",
   "metadata": {},
   "source": [
    "The following should all evaluate to zero everywhere and so act as a test on the accuracy of the gradient operator "
   ]
  },
  {
   "cell_type": "code",
   "execution_count": null,
   "metadata": {
    "lines_to_next_cell": 0
   },
   "outputs": [],
   "source": [
    "import lavavu\n",
    "\n",
    "xyz = np.column_stack([mesh.tri.points, np.zeros_like(phi.data)])\n",
    "\n",
    "lv = lavavu.Viewer(border=False, background=\"#FFFFFF\", resolution=[1000,600], near=-10.0)\n",
    "\n",
    "tris = lv.triangles(\"triangles\",  wireframe=False, colour=\"#77ff88\", opacity=1.0)\n",
    "tris.vertices(xyz)\n",
    "tris.indices(mesh.tri.simplices)\n",
    "tris.values(phi.evaluate(mesh), label=\"phi\")\n",
    "tris.values(psi.evaluate(mesh), label=\"psi\")\n",
    "tris.values(dpsidx_nodes, label=\"dpsidx_nodes\")\n",
    "\n",
    "\n",
    "\n",
    "tris.colourmap(\"elevation\")\n",
    "cb = tris.colourbar()\n",
    "\n",
    "lv.control.Panel()\n",
    "lv.control.Range('specular', range=(0,1), step=0.1, value=0.4)\n",
    "lv.control.Checkbox(property='axis')\n",
    "lv.control.ObjectList()\n",
    "tris.control.Checkbox(property=\"wireframe\")\n",
    "tris.control.List(options = [\"phi\", \"psi\", \"dpsidx_nodes\"], property=\"colourby\", value=\"psi\", command=\"redraw\", label=\"Display:\")\n",
    "lv.control.show()"
   ]
  },
  {
   "cell_type": "markdown",
   "metadata": {
    "lines_to_next_cell": 2
   },
   "source": [
    "## Saving and loading mesh variables\n",
    "\n",
    "There are 2 equivalent ways to save a mesh (PETSc DM) to a file. The first is to call `meshtools.save_DM_to_hdf5` and the second is to call the mesh object's own method `mesh.save_mesh_to_hdf5(filename)`. Mesh variables have a similar save method\n"
   ]
  },
  {
   "cell_type": "code",
   "execution_count": null,
   "metadata": {
    "lines_to_next_cell": 2
   },
   "outputs": [],
   "source": [
    "mesh.save_mesh_to_hdf5(\"Ex1a-circular_mesh.h5\")\n",
    "psi.save(\"Ex1a-circular_mesh_psi.h5\")\n",
    "phi.save(\"Ex1a-circular_mesh_phi.h5\")"
   ]
  },
  {
   "cell_type": "markdown",
   "metadata": {},
   "source": [
    "We can then use these files to:\n",
    "  - Build a new copy of the mesh\n",
    "  - Add new mesh variables to that mesh\n",
    "  - read the values back in\n",
    "\n"
   ]
  },
  {
   "cell_type": "code",
   "execution_count": null,
   "metadata": {},
   "outputs": [],
   "source": [
    "DM2 = meshtools.create_DMPlex_from_hdf5(\"Ex1a-circular_mesh.h5\")\n",
    "mesh2 = QuagMesh(DM2)\n",
    "\n",
    "print(mesh.npoints, mesh2.npoints)\n",
    "\n",
    "phi2 = mesh2.add_variable(name=\"PHI(X,Y)\")\n",
    "psi2 = mesh2.add_variable(name=\"PSI(X,Y)\")\n",
    "\n",
    "psi2.load(\"Ex1a-circular_mesh_psi.h5\")\n",
    "phi2.load(\"Ex1a-circular_mesh_phi.h5\")\n"
   ]
  },
  {
   "cell_type": "markdown",
   "metadata": {},
   "source": [
    "### Mesh variable save / load and names\n",
    "\n",
    "The names that are stored in the mesh variable hdf5 file are needed to retrieve the information again. That means the mesh variable that is loaded needs to match the one that was saved *Exactly*. This will not work:\n",
    "\n",
    "``` python\n",
    "psi3 = mesh2.add_variable(name=\"PSI\")\n",
    "psi3.load(\"Ex1a-circular_mesh_psi.h5\")\n",
    "```\n",
    "\n",
    "but, as long as you know the name of the original MeshVariable, you can do this:\n",
    "\n",
    "\n",
    "``` python\n",
    "psi3.load(\"Ex1a-circular_mesh_psi.h5\", name=\"PSI(X,Y)\")\n",
    "```\n"
   ]
  },
  {
   "cell_type": "code",
   "execution_count": null,
   "metadata": {},
   "outputs": [],
   "source": [
    "psi3 = mesh2.add_variable(name=\"PSI\")\n",
    "psi3.load(\"Ex1a-circular_mesh_psi.h5\", name=\"PSI(X,Y)\")\n",
    "psi3.data"
   ]
  },
  {
   "cell_type": "code",
   "execution_count": null,
   "metadata": {},
   "outputs": [],
   "source": [
    "print(phi.data[0], psi.data[0])"
   ]
  },
  {
   "cell_type": "code",
   "execution_count": null,
   "metadata": {},
   "outputs": [],
   "source": []
  },
  {
   "cell_type": "code",
   "execution_count": null,
   "metadata": {},
   "outputs": [],
   "source": []
  },
  {
   "cell_type": "code",
   "execution_count": null,
   "metadata": {},
   "outputs": [],
   "source": []
  }
 ],
 "metadata": {
  "jupytext": {
   "formats": "Notebooks/Tutorial//ipynb,Examples/Tutorial//py:light"
  },
  "kernelspec": {
   "display_name": "Python 3",
   "language": "python",
   "name": "python3"
  },
  "language_info": {
   "codemirror_mode": {
    "name": "ipython",
    "version": 3
   },
   "file_extension": ".py",
   "mimetype": "text/x-python",
   "name": "python",
   "nbconvert_exporter": "python",
   "pygments_lexer": "ipython3",
   "version": "3.7.0"
  }
 },
 "nbformat": 4,
 "nbformat_minor": 4
}
