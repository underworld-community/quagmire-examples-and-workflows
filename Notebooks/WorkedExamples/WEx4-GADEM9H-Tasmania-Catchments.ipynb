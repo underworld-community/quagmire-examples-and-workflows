{
 "cells": [
  {
   "cell_type": "markdown",
   "metadata": {},
   "source": [
    "## Geoscience Australia 9s DEM Map of Tasmania\n",
    "\n",
    "Here we show a workflow for handling the higher resolution (9 arc second) DEM of Tasmania supplied by Geoscience Australia. This has been clipped using gdaltranslate to capture the area of interest and save it as a geotiff file. This has roughly 2.4 million points on the island of Tasmania. This DEM is hydrologically enforced at the outset and therefore serves as a consistency test for the `quagmire` flow algorithms etc. \n",
    "\n",
    "In this notebook, we read the original DEM, check it for consistency and (SPOILER !) make a few adjustments to account for peculiarities of the DEM associated with the various dams in the hydro-schemes. \n",
    "\n",
    "We then save the processed DEM ... \n",
    "(TODO: parallel HDF5 would be better)\n",
    "\n",
    "### Dependencies\n",
    "\n",
    "  - `quagmire` \n",
    "  - `gdal`     - used to read and write geotiff files\n",
    "  - `cartopy`  - to produce maps\n",
    "  - `lavavu`   - for 3D visualisations\n"
   ]
  },
  {
   "cell_type": "code",
   "execution_count": null,
   "metadata": {},
   "outputs": [],
   "source": [
    "import numpy as np\n",
    "import quagmire\n",
    "from quagmire import function as fn\n",
    "from quagmire import tools as meshtools\n",
    "\n",
    "import gdal\n",
    "\n",
    "%pylab inline"
   ]
  },
  {
   "cell_type": "code",
   "execution_count": null,
   "metadata": {
    "lines_to_next_cell": 2
   },
   "outputs": [],
   "source": [
    "file = \"data/dem9s-tassie-quagmire.tif\"\n",
    "ds = gdal.Open(file)\n",
    "band = ds.GetRasterBand(1)\n",
    "height = band.ReadAsArray()\n",
    "[cols, rows] = height.shape\n",
    "\n",
    "left, hres, n0, top, n1, vres  = ds.GetGeoTransform()\n",
    "right = left+rows*hres\n",
    "bottom = top+cols*vres\n",
    "x,y = np.meshgrid(np.arange(left, right, hres), np.arange(top,  bottom, vres))"
   ]
  },
  {
   "cell_type": "code",
   "execution_count": null,
   "metadata": {},
   "outputs": [],
   "source": [
    "ds = gdal.Open(file)\n",
    "ds.GetProjection()"
   ]
  },
  {
   "cell_type": "code",
   "execution_count": null,
   "metadata": {
    "lines_to_next_cell": 2
   },
   "outputs": [],
   "source": [
    "from scipy.ndimage.filters import gaussian_filter\n",
    "\n",
    "point_mask =  height > -0.5\n",
    "\n",
    "#corners\n",
    "point_mask[0,0] = 1.0\n",
    "point_mask[0,-1] = 1.0\n",
    "point_mask[-1,0] = 1.0\n",
    "point_mask[-1,-1] = 1.0\n",
    "\n",
    "xs = x[point_mask]\n",
    "ys = y[point_mask]\n",
    "heights = 0.001 * height[point_mask]  ## in km \n",
    "points = np.column_stack([xs, ys])\n",
    "\n",
    "submarine = (heights <  0.01 )\n",
    "subaerial = (heights >= 0.01 )"
   ]
  },
  {
   "cell_type": "code",
   "execution_count": null,
   "metadata": {},
   "outputs": [],
   "source": [
    "DM = meshtools.create_DMPlex_from_points(xs, ys, bmask=subaerial)\n",
    "mesh = quagmire.QuagMesh(DM, downhill_neighbours=2)"
   ]
  },
  {
   "cell_type": "code",
   "execution_count": null,
   "metadata": {},
   "outputs": [],
   "source": [
    "with mesh.deform_topography():\n",
    "    mesh.topography.data = heights                                                                 "
   ]
  },
  {
   "cell_type": "code",
   "execution_count": null,
   "metadata": {},
   "outputs": [],
   "source": [
    "low_points1 = mesh.identify_low_points()\n",
    "low_point_coords1 = mesh.coords[low_points1] \n",
    "print(low_points1.shape)\n",
    "\n",
    "cumulative_flow_1 = mesh.upstream_integral_fn(mesh.topography).evaluate(mesh)\n",
    "topography_1 = mesh.topography.data[:]\n",
    "\n",
    "outflow_points1 = np.unique(np.hstack(( mesh.identify_outflow_points(), mesh.identify_low_points())))\n",
    "upstream_area1  = mesh.upstream_integral_fn(fn.misc.levelset(mesh.topography, 0.0)).evaluate(mesh)\n",
    "print(mesh.identify_outflow_points().shape)"
   ]
  },
  {
   "cell_type": "code",
   "execution_count": null,
   "metadata": {},
   "outputs": [],
   "source": [
    "## plot the results\n",
    "\n",
    "import cartopy.crs as ccrs\n",
    "import cartopy.feature as cfeature\n",
    "\n",
    "coastline = cfeature.NaturalEarthFeature('physical', 'coastline', '10m',\n",
    "                           edgecolor=(1.0,0.8,0.0),\n",
    "                           facecolor=\"none\")\n",
    "\n",
    "ocean = cfeature.NaturalEarthFeature('physical', 'ocean', '10m',\n",
    "                           edgecolor=\"green\",\n",
    "                           facecolor=\"blue\")\n",
    "\n",
    "lakes = cfeature.NaturalEarthFeature('physical', 'lakes', '10m',\n",
    "                           edgecolor=\"green\",\n",
    "                           facecolor=\"blue\")\n",
    "\n",
    "rivers = cfeature.NaturalEarthFeature('physical', 'rivers_lake_centerlines', '10m',\n",
    "                           edgecolor=\"green\",\n",
    "                           facecolor=\"blue\")\n",
    "\n",
    "map_extent = ( left, right, bottom, top)\n",
    "\n",
    "logflow = np.log10(1.0e-3+upstream_area1)\n",
    "flows1 = logflow.min() * np.ones_like(height)\n",
    "flows1[point_mask] = logflow\n",
    "\n",
    "plt.figure(figsize=(15, 10))\n",
    "ax = plt.subplot(111, projection=ccrs.PlateCarree())\n",
    "ax.set_extent(map_extent)\n",
    "\n",
    "# ax.add_feature(coastline, edgecolor=\"black\", linewidth=1, zorder=3)\n",
    "\n",
    "ax.add_feature(lakes,     edgecolor=\"black\", facecolor=\"none\", linewidth=1, zorder=3)\n",
    "ax.add_feature(rivers   , edgecolor=\"black\", facecolor=\"none\", linewidth=1, zorder=3)\n",
    "\n",
    "# ax.scatter(xs[submarine],ys[submarine], color=\"#000044\", s=.1)\n",
    "\n",
    "plt.imshow(flows1, extent=map_extent, transform=ccrs.PlateCarree(),\n",
    "           cmap='Blues', origin='upper', vmin=-3.5, vmax=-1.5)\n",
    "\n",
    "ax.scatter(xs[outflow_points1], ys[outflow_points1], color=\"Green\", s=5)\n",
    "ax.scatter(xs[low_points1], ys[low_points1], color=\"Red\", s=5)\n",
    "\n",
    "\n",
    "plt.savefig(\"WEx4-Flowpath-1.png\", dpi=250)"
   ]
  },
  {
   "cell_type": "markdown",
   "metadata": {},
   "source": [
    "## Apply pit filling / local-flooding / swamp filling algorithm\n",
    "\n",
    "The pit filling is for very small local minima where the basin filling / swamp algorithm is not appropriate. The local flooding is a simple upward height propagation from a blockage with a limit on the distance that it can propagate. \n",
    "\n",
    "The swamp algorithm is for extensive regions that have only internal drainage. Some changes to the identification of \"erroneous\" low points is needed for cases where internal drainages are expected.\n",
    "\n",
    "At least one extra round of iteration is often helpful.\n",
    "\n",
    "In this case, the hydrologically enforced DEM should not have any local minima but there are some issues that are associated with water bodies that are dammed and this does, as a result, need a little modification which we compute here and analyse after the fact. "
   ]
  },
  {
   "cell_type": "code",
   "execution_count": null,
   "metadata": {
    "lines_to_next_cell": 2
   },
   "outputs": [],
   "source": [
    "# This should not be necessary but there can be some issues with very flat regions not having sufficient relief for the flow directions\n",
    "# to be recorded.\n",
    "\n",
    "mesh.low_points_local_patch_fill(its=3, smoothing_steps=1)\n",
    "topography_2 = mesh.topography.data[:]\n",
    "cumulative_flow_2 = mesh.upstream_integral_fn(mesh.topography**2).evaluate(mesh)\n",
    "low_points2 = mesh.identify_low_points()\n",
    "low_point_coords2 = mesh.coords[low_points2] \n",
    "print(\"Low points - {}\".format(low_points2.shape))\n",
    "\n",
    "\n",
    "for i in range(0,5):\n",
    "    mesh.low_points_swamp_fill(ref_height=0.0)\n",
    "    \n",
    "    # In parallel, we can't break if ANY processor has work to do (barrier / sync issue)\n",
    "    low_points3 = mesh.identify_global_low_points()\n",
    "    \n",
    "    print(\"{} : {}\".format(i,low_points3[0]))\n",
    "    if low_points3[0] == 0:\n",
    "        break"
   ]
  },
  {
   "cell_type": "code",
   "execution_count": null,
   "metadata": {
    "lines_to_next_cell": 2
   },
   "outputs": [],
   "source": [
    "cumulative_flow_3 = mesh.upstream_integral_fn(mesh.topography**2).evaluate(mesh)\n",
    "upstream_area3    = mesh.upstream_integral_fn(fn.misc.levelset(mesh.topography, 0.0)).evaluate(mesh)\n",
    "\n",
    "low_points3 = mesh.identify_low_points()\n",
    "topography_3 = mesh.topography.data[:]\n",
    "\n",
    "print(\"Low points - {}\".format(low_points3.shape))\n",
    "outflow_points3 = np.unique(np.hstack(( mesh.identify_outflow_points(), mesh.identify_low_points())))"
   ]
  },
  {
   "cell_type": "code",
   "execution_count": null,
   "metadata": {
    "lines_to_next_cell": 2
   },
   "outputs": [],
   "source": [
    "logflow = np.log10(1.0e-3+upstream_area3)\n",
    "flows3 = logflow.min() * np.ones_like(height)\n",
    "flows3[point_mask] = logflow\n",
    "\n",
    "plt.figure(figsize=(15, 10))\n",
    "ax = plt.subplot(111, projection=ccrs.PlateCarree())\n",
    "ax.set_extent(map_extent)\n",
    "\n",
    "\n",
    "ax.add_feature(coastline,     edgecolor=\"black\", facecolor=\"none\", linewidth=1, zorder=3)\n",
    "ax.add_feature(lakes,     edgecolor=\"black\", facecolor=\"none\", linewidth=1, zorder=3)\n",
    "ax.add_feature(rivers   , edgecolor=\"black\", facecolor=\"none\", linewidth=1, zorder=3)\n",
    "\n",
    "ax.scatter(xs[outflow_points3],ys[outflow_points3], color=\"#00FF44\", s=.5, zorder=2)\n",
    "ax.scatter(xs[low_points3],ys[low_points3], color=\"#00FF44\", s=.5, zorder=3)\n",
    "\n",
    "plt.imshow(flows3, extent=map_extent, transform=ccrs.PlateCarree(),\n",
    "           cmap='Blues', origin='upper', vmin=-3.5, vmax=-1.5, zorder=1)"
   ]
  },
  {
   "cell_type": "code",
   "execution_count": null,
   "metadata": {
    "lines_to_next_cell": 2
   },
   "outputs": [],
   "source": [
    "## Modify the downhill neighbour connectivity\n",
    "\n",
    "mesh1 = quagmire.QuagMesh(DM, downhill_neighbours=1)\n",
    "with mesh1.deform_topography():\n",
    "    mesh1.topography.data = mesh.topography.data \n",
    "    "
   ]
  },
  {
   "cell_type": "code",
   "execution_count": null,
   "metadata": {
    "lines_to_next_cell": 2
   },
   "outputs": [],
   "source": [
    "# We want to exclude from the catchments some of the triangles that go to edges or to other islands\n",
    "# as these really skew the area calculations\n",
    "\n",
    "topomask = mesh1.add_variable(\"topomask\")\n",
    "topomask.data = np.where(mesh1.topography.data > 0.001, 1.0, 0.0)\n",
    "\n",
    "# large triangles associated with boundaries need to be excluded (choose by inspection)\n",
    "topomask.data = np.where(mesh1.area < 0.01, topomask.data, 0.0)\n",
    "\n",
    "area = mesh1.upstream_integral_fn(topomask).evaluate(mesh1)\n",
    "\n",
    "outflow_points3 = np.unique(np.hstack(( mesh1.identify_outflow_points()))) # , mesh1.identify_low_points())))\n",
    "\n",
    "# log_catchment_areas = np.sort(1.0e-10+np.log(area[outflow_points3]))[::-1]\n",
    "catchment_areas = np.sort(area[outflow_points3])[::-1]\n",
    "cum_catchment_areas = np.cumsum(catchment_areas)\n",
    "total_area = mesh1.area.sum()\n",
    "\n",
    "plt.figure(figsize=(15, 10))\n",
    "ax = plt.subplot(111)\n",
    "ax.set_xlim(0,50)\n",
    "ax.plot(100.0*cum_catchment_areas/total_area)\n",
    "ax.bar(x=range(0,catchment_areas.shape[0]), height=100.0*catchment_areas/catchment_areas[0])"
   ]
  },
  {
   "cell_type": "code",
   "execution_count": null,
   "metadata": {},
   "outputs": [],
   "source": [
    "ordered_catchments = np.argsort(area[outflow_points3])[::-1]\n",
    "catchments = mesh1.add_variable(name=\"catchments\")\n",
    "catchments.data = mesh1.uphill_propagation(points = outflow_points3[ordered_catchments[0:100]], values=np.indices((100,)), fill=-1.0, its=1000)"
   ]
  },
  {
   "cell_type": "code",
   "execution_count": null,
   "metadata": {},
   "outputs": [],
   "source": [
    "catch = []\n",
    "for i in range(0,outflow_points3.shape[0]):\n",
    "    catch.append( np.where(catchments.data==i) )"
   ]
  },
  {
   "cell_type": "code",
   "execution_count": null,
   "metadata": {},
   "outputs": [],
   "source": [
    "for i in range(0,25):\n",
    "    print(catch[i][0].shape, area[outflow_points3[ordered_catchments[i]]])"
   ]
  },
  {
   "cell_type": "code",
   "execution_count": null,
   "metadata": {},
   "outputs": [],
   "source": [
    "# catch_img3 = -2.0 * np.ones_like(height)\n",
    "# catch_img3[point_mask] = catchments.data\n",
    "\n",
    "plt.figure(figsize=(15, 10))\n",
    "ax = plt.subplot(111, projection=ccrs.PlateCarree())\n",
    "ax.set_extent(map_extent)\n",
    "\n",
    "ax.add_feature(coastline, edgecolor=\"black\", linewidth=1, zorder=3)\n",
    "ax.add_feature(lakes,     edgecolor=\"black\", facecolor=\"none\", linewidth=1, zorder=3)\n",
    "ax.add_feature(rivers   , edgecolor=\"Yellow\", facecolor=\"none\", linewidth=1, zorder=3)\n",
    "\n",
    "for i in range(0,15):\n",
    "    ax.scatter(xs[catch[i]], ys[catch[i]], s=20, alpha=0.5)\n",
    "\n",
    "ax.scatter(xs[outflow_points3], ys[outflow_points3], color=\"Green\", s=1.0)\n",
    "ax.scatter(xs[low_points3],     ys[low_points3], color=\"Red\", s=25.0)\n",
    "\n",
    "plt.imshow(flows3, extent=map_extent, transform=ccrs.PlateCarree(),\n",
    "           cmap='Blues', origin='upper', vmin=-3.5, vmax=-2.5, alpha=0.5, zorder=10)\n",
    "\n",
    "plt.savefig(\"WEx4-15Catchments.png\", dpi=250)"
   ]
  },
  {
   "cell_type": "code",
   "execution_count": null,
   "metadata": {},
   "outputs": [],
   "source": [
    "# catch_img3 = -2.0 * np.ones_like(height)\n",
    "# catch_img3[point_mask] = catchments.data\n",
    "\n",
    "plt.figure(figsize=(15, 10))\n",
    "ax = plt.subplot(111, projection=ccrs.PlateCarree())\n",
    "ax.set_extent(map_extent)\n",
    "\n",
    "ax.add_feature(coastline, edgecolor=\"black\", linewidth=1, zorder=30)\n",
    "\n",
    "# for i in range(0,15):\n",
    "#     ax.scatter(xs[catch[i]], ys[catch[i]], s=20, alpha=0.5)\n",
    "\n",
    "plt.imshow(flows3, extent=map_extent, transform=ccrs.PlateCarree(),\n",
    "           cmap='Greys', origin='upper', vmin=-3.0, vmax=-2.5, alpha=1.0, zorder=10)\n",
    "\n",
    "plt.savefig(\"WEx4-RiversBW.png\", dpi=500)"
   ]
  },
  {
   "cell_type": "code",
   "execution_count": null,
   "metadata": {},
   "outputs": [],
   "source": [
    "plt.figure(figsize=(15, 10))\n",
    "ax = plt.subplot(111, projection=ccrs.PlateCarree())\n",
    "ax.set_extent(map_extent)\n",
    "\n",
    "ax.add_feature(coastline, edgecolor=\"black\", linewidth=1, zorder=30)\n",
    "\n",
    "for i in range(0,100):\n",
    "    ax.scatter(xs[catch[i]], ys[catch[i]], s=0.05, alpha=0.5)\n",
    "\n",
    "# plt.imshow(flows3, extent=map_extent, transform=ccrs.PlateCarree(),\n",
    "#            cmap='Blues', origin='upper', vmin=-3.5, vmax=-2.5, alpha=1.0, zorder=10)\n",
    "\n",
    "plt.savefig(\"WEx4-100Catchments-only.png\", dpi=500)"
   ]
  },
  {
   "cell_type": "code",
   "execution_count": null,
   "metadata": {},
   "outputs": [],
   "source": [
    "catch_img = np.zeros_like(height)\n",
    "catch_img[point_mask] = catchments.data\n",
    "catch_norm = matplotlib.colors.Normalize(vmin=0.0, vmax=5.0)\n",
    "\n",
    "logflow = np.log10(1.0e-3+upstream_area3)\n",
    "flows_img = logflow.min() * np.ones_like(height)\n",
    "flows_img[point_mask] = logflow\n",
    "flows_norm = matplotlib.colors.Normalize(vmin=-3.0, vmax=-2.5)"
   ]
  },
  {
   "cell_type": "code",
   "execution_count": null,
   "metadata": {},
   "outputs": [],
   "source": [
    "logflow.max()"
   ]
  },
  {
   "cell_type": "code",
   "execution_count": null,
   "metadata": {
    "lines_to_end_of_cell_marker": 2
   },
   "outputs": [],
   "source": [
    "\n",
    "norm = matplotlib.colors.Normalize(vmin=0.0, vmax=4.0)\n",
    "im = (0.5+0.5*cm.Greys_r(catch_norm(catch_img%5.0))) * (0.2+0.8*cm.Blues(flows_norm(flows_img)))\n",
    "im[..., 0:3][~point_mask] = (0.8,0.9,1.0)\n",
    "\n",
    "import lavavu\n",
    "\n",
    "points = np.column_stack([mesh.tri.points, 0.05*mesh.topography.data])\n",
    "\n",
    "low_point_coords3 = points[low_points3]\n",
    "outflow_point_coords3 = points[outflow_points3]\n",
    "\n",
    "low_point_coords1 = points[low_points1]\n",
    "\n",
    "lv = lavavu.Viewer(border=False, background=(0.8,0.9,1.0), resolution=[1200,600], near=-10.0, axis=False)\n",
    "\n",
    "tri1 = lv.triangles(\"triangles\", wireframe=False)\n",
    "tri1.vertices(points)\n",
    "tri1.indices(mesh.tri.simplices)\n",
    "tri1.texture(im)\n",
    "\n",
    "lv.control.Panel()\n",
    "lv.control.ObjectList()\n",
    "lv.control.show()"
   ]
  },
  {
   "cell_type": "code",
   "execution_count": null,
   "metadata": {},
   "outputs": [],
   "source": [
    "lv.image(filename=\"WEx4-3DFlowpathsCatchments.png\", resolution=(3000,1500), quality=100)"
   ]
  },
  {
   "cell_type": "code",
   "execution_count": null,
   "metadata": {},
   "outputs": [],
   "source": []
  }
 ],
 "metadata": {
  "jupytext": {
   "formats": "../../Notebooks/WorkedExamples//ipynb,py:light"
  },
  "kernelspec": {
   "display_name": "Python 3",
   "language": "python",
   "name": "python3"
  }
 },
 "nbformat": 4,
 "nbformat_minor": 4
}
