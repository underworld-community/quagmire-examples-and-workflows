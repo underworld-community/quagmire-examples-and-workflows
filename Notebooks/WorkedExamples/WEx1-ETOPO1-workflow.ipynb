{
 "cells": [
  {
   "cell_type": "markdown",
   "metadata": {},
   "source": [
    "# Meshing ETOPO1\n",
    "\n",
    "In this notebook we:\n",
    "\n",
    "1. Find the land surface in a region by filtering ETOPO1 \n",
    "2. Create a DM object for all the data points\n",
    "3. Save the mesh to HDF5 file"
   ]
  },
  {
   "cell_type": "code",
   "execution_count": 1,
   "metadata": {},
   "outputs": [],
   "source": [
    "from osgeo import gdal\n",
    "\n",
    "import numpy as np\n",
    "import matplotlib.pyplot as plt\n",
    "from matplotlib import cm\n",
    "%matplotlib inline\n",
    "\n",
    "import quagmire\n",
    "\n",
    "from scipy.ndimage.filters import gaussian_filter"
   ]
  },
  {
   "cell_type": "code",
   "execution_count": 2,
   "metadata": {},
   "outputs": [],
   "source": [
    "## Define region of interest (here NZ) \n",
    "\n",
    "japan_bounds = (129.0, 30.0, 148.0, 47.0)\n",
    "australia_bounds = (110, -45, 160, -10)\n",
    "tasmania_bounds = (144, -44, 149, -40)\n",
    "new_zealand_bounds = (166, -47.5, 179, -34)"
   ]
  },
  {
   "cell_type": "code",
   "execution_count": 4,
   "metadata": {},
   "outputs": [],
   "source": [
    "## Read ETOPO1 data from online service\n",
    "\n",
    "import xarray\n",
    "\n",
    "(left, bottom, right, top) = new_zealand_bounds\n",
    "map_extent = ( left, right, bottom, top)\n",
    "\n",
    "etopo_dataset = \"http://thredds.socib.es/thredds/dodsC/ancillary_data/bathymetry/ETOPO1_Bed_g_gmt4.nc\"\n",
    "etopo_data = xarray.open_dataset(etopo_dataset)\n",
    "regional_data = etopo_data.sel(x=slice(left,right), y=slice(bottom, top))\n",
    "\n",
    "\n",
    "lons = regional_data.coords.get('x')\n",
    "lats = regional_data.coords.get('y')\n",
    "vals = regional_data['z']\n",
    "\n",
    "x,y = np.meshgrid(lons.data, lats.data)\n",
    "height = vals.data"
   ]
  },
  {
   "cell_type": "code",
   "execution_count": null,
   "metadata": {
    "lines_to_next_cell": 2
   },
   "outputs": [],
   "source": [
    "## Here is how to clip the original tif and save a new file\n",
    "\n",
    "# opts = gdal.WarpOptions(outputBounds=japan_bounds)\n",
    "# gdalobj = gdal.Warp(destNameOrDestDS=\"JapanEtopo1.tif\", srcDSOrSrcDSTab=\"../../../ETOPO1/ETOPO1_Ice_c_geotiff.tif\", options=opts )\n",
    "# print(\"Japan - \", gdalobj.RasterXSize, gdalobj.RasterYSize)\n",
    "# gdalobj = None  # this closes the file and saves the data\n",
    "\n",
    "# opts = gdal.WarpOptions(outputBounds=australia_bounds)\n",
    "# gdalobj = gdal.Warp(destNameOrDestDS=\"AustraliaEtopo1.tif\", srcDSOrSrcDSTab=\"../../../ETOPO1/ETOPO1_Ice_c_geotiff.tif\", options=opts )\n",
    "# print(\"Australia - \", gdalobj.RasterXSize, gdalobj.RasterYSize)\n",
    "# gdalobj = None  # this closes the file and saves the data\n",
    "\n",
    "# opts = gdal.WarpOptions(outputBounds=tasmania_bounds)\n",
    "# gdalobj = gdal.Warp(destNameOrDestDS=\"TasmaniaEtopo1.tif\", srcDSOrSrcDSTab=\"../../../ETOPO1/ETOPO1_Ice_c_geotiff.tif\", options=opts )\n",
    "# print(\"Tasmania - \", gdalobj.RasterXSize, gdalobj.RasterYSize)\n",
    "# gdalobj = None  # this closes the file and saves the data\n",
    "\n",
    "# opts = gdal.WarpOptions(outputBounds=new_zealand_bounds)\n",
    "# gdalobj = gdal.Warp(destNameOrDestDS=\"NZEtopo1.tif\", srcDSOrSrcDSTab=\"../../../ETOPO1/ETOPO1_Ice_c_geotiff.tif\", options=opts )\n",
    "# print(\"NZ - \", gdalobj.RasterXSize, gdalobj.RasterYSize)\n",
    "# gdalobj = None  # this closes the file and saves the data"
   ]
  },
  {
   "cell_type": "code",
   "execution_count": null,
   "metadata": {},
   "outputs": [],
   "source": [
    "# file = \"NZEtopo1.tif\"\n",
    "\n",
    "# ds = gdal.Open(file)\n",
    "# band = ds.GetRasterBand(1)\n",
    "# height = band.ReadAsArray()\n",
    "# [cols, rows] = height.shape\n",
    "\n",
    "# left, hres, n0, top, n1, vres = ds.GetGeoTransform()\n",
    "# right = left+rows*hres\n",
    "# bottom = top+cols*vres\n",
    "# x,y = np.meshgrid(np.arange(left, right, hres), np.arange(top,  bottom, vres))\n",
    "\n",
    "# map_extent = ( left, right, bottom, top)"
   ]
  },
  {
   "cell_type": "code",
   "execution_count": null,
   "metadata": {},
   "outputs": [],
   "source": [
    "## Plot the heights as a contour map\n",
    "\n",
    "\n",
    "import cartopy.crs as ccrs\n",
    "import cartopy.feature as cfeature\n",
    "\n",
    "coastline = cfeature.NaturalEarthFeature('physical', 'coastline', '10m',\n",
    "                           edgecolor=(1.0,0.8,0.0),\n",
    "                           facecolor=\"none\")\n",
    "\n",
    "ocean = cfeature.NaturalEarthFeature('physical', 'ocean', '10m',\n",
    "                           edgecolor=\"green\",\n",
    "                           facecolor=\"blue\")\n",
    "\n",
    "lakes = cfeature.NaturalEarthFeature('physical', 'lakes', '10m',\n",
    "                           edgecolor=\"green\",\n",
    "                           facecolor=\"#4488FF\")\n",
    "\n",
    "rivers = cfeature.NaturalEarthFeature('physical', 'rivers_lake_centerlines', '10m',\n",
    "                           edgecolor=\"#4488FF\",\n",
    "                           facecolor=\"blue\")\n",
    "\n",
    "plt.figure(figsize=(15, 10))\n",
    "ax = plt.subplot(111, projection=ccrs.PlateCarree())\n",
    "ax.set_extent(map_extent)\n",
    "\n",
    "ax.add_feature(coastline, edgecolor=\"black\", linewidth=0.5, zorder=3)\n",
    "ax.add_feature(lakes,     edgecolor=\"black\", linewidth=1, zorder=3)\n",
    "ax.add_feature(rivers   , facecolor=\"none\", linewidth=1, zorder=3)\n",
    "\n",
    "plt.imshow(height, extent=map_extent, transform=ccrs.PlateCarree(),\n",
    "           cmap='terrain', origin='lower', vmin=-400., vmax=2000.)"
   ]
  },
  {
   "cell_type": "code",
   "execution_count": null,
   "metadata": {},
   "outputs": [],
   "source": [
    "## Filter out the points we don't want at all \n",
    "\n",
    "points = height > -100\n",
    "\n",
    "m1s = height[points]\n",
    "x1s = x[points]\n",
    "y1s = y[points]\n",
    "\n",
    "submarine = m1s < 0.0\n",
    "subaerial = m1s >= 0.0"
   ]
  },
  {
   "cell_type": "code",
   "execution_count": null,
   "metadata": {},
   "outputs": [],
   "source": [
    "fig = plt.figure(figsize=(15, 10))\n",
    "ax = plt.subplot(111, projection=ccrs.PlateCarree())\n",
    "ax.set_extent(map_extent)\n",
    "\n",
    "plt.imshow(height, extent=map_extent, transform=ccrs.PlateCarree(),\n",
    "           cmap='terrain', origin='lower', vmin=-400., vmax=2000.)\n",
    "\n",
    "ax.scatter(x1s[submarine], y1s[submarine],  s=0.1, color=\"Blue\", transform=ccrs.Geodetic())\n",
    "#ax.scatter(x1s[subaerial], y1s[subaerial], s=0.1, color=\"Red\", transform=ccrs.Geodetic())\n",
    "\n",
    "\n",
    "fig.show()"
   ]
  },
  {
   "cell_type": "code",
   "execution_count": null,
   "metadata": {},
   "outputs": [],
   "source": [
    "## triangulate\n",
    "\n",
    "import stripy\n",
    "mesh0 = stripy.cartesian.Triangulation(x1s, y1s, permute=True, tree=True)\n",
    "\n",
    "d, n = mesh0.nearest_vertices(mesh0.points[submarine][:,0], mesh0.points[submarine][:,1], k=25)\n",
    "\n",
    "candidates = np.where(np.any(subaerial[n],axis=1))\n",
    "keepers = n[candidates,0]\n",
    "\n",
    "boundary = np.zeros_like(subaerial)\n",
    "boundary[keepers] = True"
   ]
  },
  {
   "cell_type": "code",
   "execution_count": null,
   "metadata": {},
   "outputs": [],
   "source": [
    "fig = plt.figure(figsize=(15, 10))\n",
    "ax = plt.subplot(111, projection=ccrs.PlateCarree())\n",
    "ax.set_extent(map_extent)\n",
    "\n",
    "ax.scatter(x1s[submarine], y1s[submarine], s=0.01, color=\"Blue\", transform=ccrs.Geodetic() )\n",
    "ax.scatter(x1s[subaerial], y1s[subaerial], s=0.01, color=\"Red\",  transform=ccrs.Geodetic() )\n",
    "ax.scatter(x1s[boundary],  y1s[boundary],  s=0.25, color=\"Green\",transform=ccrs.Geodetic() )\n",
    "\n",
    "fig.show()"
   ]
  },
  {
   "cell_type": "code",
   "execution_count": null,
   "metadata": {},
   "outputs": [],
   "source": [
    "## Now re-define the various arrays on this subset of the data\n",
    "\n",
    "points2 = np.zeros_like(points)\n",
    "points2[points] = subaerial | boundary\n",
    "\n",
    "m2s = height[points2]\n",
    "x2s = x[points2]\n",
    "y2s = y[points2]\n",
    "bmask2 = subaerial[subaerial | boundary] "
   ]
  },
  {
   "cell_type": "code",
   "execution_count": null,
   "metadata": {},
   "outputs": [],
   "source": [
    "fig = plt.figure(figsize=(15, 10))\n",
    "ax = plt.subplot(111, projection=ccrs.PlateCarree())\n",
    "ax.set_extent(map_extent)\n",
    "\n",
    "ax.scatter(x2s[~bmask2],  y2s[~bmask2], s=0.05, color=\"blue\", transform=ccrs.Geodetic())\n",
    "ax.scatter(x2s[ bmask2],  y2s[ bmask2], s=0.01, color=\"Red\", transform=ccrs.Geodetic())\n",
    "\n",
    "fig.show()"
   ]
  },
  {
   "cell_type": "markdown",
   "metadata": {},
   "source": [
    "### 3. Create the DM\n",
    "\n",
    "The points are now read into a DM"
   ]
  },
  {
   "cell_type": "code",
   "execution_count": null,
   "metadata": {},
   "outputs": [],
   "source": [
    "DM = meshtools.create_DMPlex_from_points(x2s, y2s, bmask2, refinement_levels=0)"
   ]
  },
  {
   "cell_type": "code",
   "execution_count": null,
   "metadata": {},
   "outputs": [],
   "source": [
    "mesh = quagmire.QuagMesh(DM, verbose=True, permute=True, downhill_neighbours=2)"
   ]
  },
  {
   "cell_type": "code",
   "execution_count": null,
   "metadata": {},
   "outputs": [],
   "source": [
    "x2r = mesh.tri.x\n",
    "y2r = mesh.tri.y\n",
    "simplices = mesh.tri.simplices\n",
    "bmaskr = mesh.bmask"
   ]
  },
  {
   "cell_type": "code",
   "execution_count": null,
   "metadata": {},
   "outputs": [],
   "source": [
    "with mesh.deform_topography():\n",
    "    mesh.topography.data = m2s                       "
   ]
  },
  {
   "cell_type": "code",
   "execution_count": null,
   "metadata": {},
   "outputs": [],
   "source": [
    "low_points1 = mesh.identify_low_points()\n",
    "low_point_coords1 = mesh.coords[low_points1] \n",
    "print(low_points1.shape)\n",
    "\n",
    "cumulative_flow_1 = mesh.upstream_integral_fn(mesh.topography**2).evaluate(mesh)\n",
    "topography_1 = mesh.topography.data[:]"
   ]
  },
  {
   "cell_type": "code",
   "execution_count": null,
   "metadata": {},
   "outputs": [],
   "source": [
    "logflow = np.log10(1.0e-3+cumulative_flow_1)\n",
    "logflow.min(), logflow.max()"
   ]
  },
  {
   "cell_type": "code",
   "execution_count": null,
   "metadata": {},
   "outputs": [],
   "source": [
    "logflow = np.log10(1.0e-3+cumulative_flow_1)\n",
    "flows_img1 = logflow.min() * np.ones_like(points2)\n",
    "flows_img1[points2] = logflow\n",
    "\n",
    "plt.figure(figsize=(15, 10))\n",
    "ax = plt.subplot(111, projection=ccrs.PlateCarree())\n",
    "ax.set_extent(map_extent)\n",
    "\n",
    "ax.add_feature(coastline, edgecolor=\"black\", linewidth=1, zorder=3)\n",
    "ax.add_feature(lakes,     edgecolor=\"black\", linewidth=1, zorder=3)\n",
    "ax.add_feature(rivers   , edgecolor=\"black\", facecolor=\"none\", linewidth=1, zorder=3)\n",
    "\n",
    "# ax.scatter(x2s[~bmask2], y2s[~bmask2], color=\"#660000\", s=.1)\n",
    "\n",
    "plt.imshow(flows_img1, extent=map_extent, transform=ccrs.PlateCarree(),\n",
    "           cmap='Blues', origin='lower', vmin=0.0, vmax=4.0)\n",
    "\n",
    "plt.savefig(\"Flowpath-Wex1-1.png\", dpi=250)"
   ]
  },
  {
   "cell_type": "markdown",
   "metadata": {},
   "source": [
    "## Low-point -filling algorithm\n",
    "\n",
    "Most effective seems to be a little local patching followed by some iterations of the swamp fill. Repeat as necessary and check periodically to see what is actually happening."
   ]
  },
  {
   "cell_type": "code",
   "execution_count": null,
   "metadata": {},
   "outputs": [],
   "source": [
    "for repeat in range(0,2):\n",
    "\n",
    "    mesh.low_points_local_patch_fill(its=3, smoothing_steps=2)\n",
    "    topography_2 = mesh.topography.data[:]\n",
    "    cumulative_flow_2 = mesh.upstream_integral_fn(mesh.topography**2).evaluate(mesh)\n",
    "\n",
    "    low_points2 = mesh.identify_low_points()\n",
    "    low_point_coords2 = mesh.coords[low_points2] \n",
    "    print(\"Low points - {}\".format(low_points2.shape))\n",
    "\n",
    "    for i in range(0,10):\n",
    "        mesh.low_points_swamp_fill(ref_height=0.0, saddles=True)\n",
    "\n",
    "        # In parallel, we can't break if ANY processor has work to do (barrier / sync issue)\n",
    "        low_points3 = mesh.identify_global_low_points()\n",
    "\n",
    "        print(\"{} : {}\".format(i,low_points3[0]))\n",
    "        if low_points3[0] == 0:\n",
    "            break"
   ]
  },
  {
   "cell_type": "code",
   "execution_count": null,
   "metadata": {
    "lines_to_next_cell": 2
   },
   "outputs": [],
   "source": [
    "cumulative_flow_3 = mesh.upstream_integral_fn(mesh.topography**2).evaluate(mesh)\n",
    "topography_3 = mesh.topography.data[:]\n",
    "low_points3 = mesh.identify_low_points()\n",
    "print(\"Low points - {}\".format(low_points3.shape))"
   ]
  },
  {
   "cell_type": "code",
   "execution_count": null,
   "metadata": {},
   "outputs": [],
   "source": [
    "hdiff = height.copy()\n",
    "hdiff[points2]  =  mesh.topography.data - height[points2]\n",
    "hdiff[~points2] = 0.0"
   ]
  },
  {
   "cell_type": "code",
   "execution_count": null,
   "metadata": {},
   "outputs": [],
   "source": [
    "outflows = mesh.identify_outflow_points()"
   ]
  },
  {
   "cell_type": "code",
   "execution_count": null,
   "metadata": {},
   "outputs": [],
   "source": [
    "logflow = np.log10(1.0e-3+cumulative_flow_3)\n",
    "flows_img3 = logflow.min() * np.ones_like(points2)\n",
    "flows_img3[points2] = logflow\n",
    "\n",
    "\n",
    "plt.figure(figsize=(15, 10))\n",
    "ax = plt.subplot(111, projection=ccrs.PlateCarree())\n",
    "ax.set_extent(map_extent)\n",
    "\n",
    "ax.add_feature(coastline, edgecolor=\"black\", linewidth=1, zorder=3)\n",
    "ax.add_feature(lakes,     edgecolor=\"black\", facecolor=\"none\", linewidth=1, zorder=3)\n",
    "ax.add_feature(rivers   , edgecolor=\"Yellow\", facecolor=\"none\", linewidth=1, zorder=3)\n",
    "\n",
    "plt.imshow(flows_img3, extent=map_extent, transform=ccrs.PlateCarree(),\n",
    "           cmap='Blues', origin='lower', vmin=0.0, vmax=4.0)\n",
    "\n",
    "ax.scatter(x2s[outflows], y2s[outflows], color=\"Green\", s=1.0)\n",
    "ax.scatter(x2s[low_points3], y2s[low_points3], color=\"Red\", s=5.0)\n",
    "\n",
    "plt.imshow(hdiff, extent=map_extent, transform=ccrs.PlateCarree(),\n",
    "           cmap='Greens', origin='lower', vmin=0.0, vmax=200, alpha=0.25)\n",
    "\n",
    "plt.savefig(\"WEx1-Flowpath-3.png\", dpi=250)"
   ]
  },
  {
   "cell_type": "code",
   "execution_count": null,
   "metadata": {
    "lines_to_next_cell": 2
   },
   "outputs": [],
   "source": [
    "# ## We can also dump the modified topography to a geotiff matching the original\n",
    "\n",
    "# ## NOTE the vertical resolution of the ETOPO geotiff is 1m (int16) - not enough to\n",
    "# ## record the changes necessary for the hydrological flow connections.\n",
    "\n",
    "# hnew = np.zeros_like(height, dtype=float)\n",
    "# hnew[points2]  = mesh.topography.data\n",
    "# hnew[~points2] = height[~points2]\n",
    "\n",
    "# arr_out = hnew\n",
    "# ds = gdal.Open(file)\n",
    "# driver = gdal.GetDriverByName(\"GTiff\")\n",
    "# outdata = driver.Create(\"WEx1-ETOPO1-quagmire.tif\", rows, cols, 1, gdal.GDT_Float32)\n",
    "# outdata.SetGeoTransform(ds.GetGeoTransform())      ##sets same geotransform as input\n",
    "# outdata.SetProjection(ds.GetProjection())          ##sets same projection as input\n",
    "# outdata.GetRasterBand(1).WriteArray(arr_out)\n",
    "# outdata.FlushCache() ##saves to disk!!\n",
    "# outdata = None\n",
    "# band=None\n",
    "# ds=None"
   ]
  },
  {
   "cell_type": "code",
   "execution_count": null,
   "metadata": {},
   "outputs": [],
   "source": [
    "## verify\n",
    "\n",
    "ds = gdal.Open(\"WEx1-ETOPO1-quagmire.tif\")\n",
    "band = ds.GetRasterBand(1)\n",
    "height = band.ReadAsArray()\n",
    "[cols, rows] = height.shape\n",
    "\n",
    "left, hres, n0, top, n1, vres = ds.GetGeoTransform()\n",
    "right = left+rows*hres\n",
    "bottom = top+cols*vres\n",
    "x,y = np.meshgrid(np.arange(left, right, hres), np.arange(top,  bottom, vres))\n",
    "\n",
    "map_extent = ( left, right, bottom, top)\n",
    "\n",
    "point_mask = height > -10.0\n",
    "\n",
    "xs = x[point_mask]\n",
    "ys = y[point_mask]\n",
    "heights = height[point_mask]\n",
    "points = np.column_stack([xs, ys])\n",
    "\n",
    "submarine = (heights <  0.0 )\n",
    "subaerial = (heights >= 0.0 )\n",
    "\n",
    "DM1 = meshtools.create_DMPlex_from_points(xs, ys, bmask=subaerial, refinement_levels=0)\n",
    "mesh1 = quagmire.QuagMesh(DM1, verbose=True, permute=False, downhill_neighbours=2)\n",
    "with mesh1.deform_topography():\n",
    "    mesh1.topography.data = heights\n",
    "    \n",
    "mesh1.identify_low_points().shape"
   ]
  },
  {
   "cell_type": "code",
   "execution_count": null,
   "metadata": {},
   "outputs": [],
   "source": [
    "99 = 1\n",
    "\n",
    "## The hdf5 functionality may not work for conda installations due to limitations in the available petsc builds."
   ]
  },
  {
   "cell_type": "markdown",
   "metadata": {},
   "source": [
    "## 5. Save to HDF5\n",
    "\n",
    "Save the mesh to an HDF5 file so that it can be visualised in Paraview or read into Quagmire another time. There are two ways to do this:\n",
    "\n",
    "1. Using the `save_DM_to_hdf5` function in meshtools, or\n",
    "2. Directly from trimesh interface using `save_mesh_to_hdf5` method.\n",
    "\n",
    "Remember to execute `petsc_gen_xdmf.py austopo.h5` to create the XML file structure necessary to visualise the mesh in paraview."
   ]
  },
  {
   "cell_type": "code",
   "execution_count": null,
   "metadata": {
    "lines_to_next_cell": 0
   },
   "outputs": [],
   "source": [
    "filename = 'NZTopo.h5'\n",
    "\n",
    "mesh.save_mesh_to_hdf5(filename)\n",
    "mesh.save_field_to_hdf5(filename, height=mesh.height, \n",
    "                                  height0=raw_heights,\n",
    "                                  slope=mesh.slope, \n",
    "                                  flow1=np.sqrt(flowpaths1),\n",
    "                                  flow2=np.sqrt(flowpaths2),\n",
    "                                  lakes = lakes)\n",
    "\n",
    "# to view in Paraview\n",
    "meshtools.generate_xdmf(filename)"
   ]
  },
  {
   "cell_type": "code",
   "execution_count": null,
   "metadata": {
    "lines_to_next_cell": 2
   },
   "outputs": [],
   "source": []
  }
 ],
 "metadata": {
  "jupytext": {
   "formats": "../../Notebooks/WorkedExamples//ipynb,py:light"
  },
  "kernelspec": {
   "display_name": "Python 3",
   "language": "python",
   "name": "python3"
  },
  "language_info": {
   "codemirror_mode": {
    "name": "ipython",
    "version": 3
   },
   "file_extension": ".py",
   "mimetype": "text/x-python",
   "name": "python",
   "nbconvert_exporter": "python",
   "pygments_lexer": "ipython3",
   "version": "3.7.6"
  }
 },
 "nbformat": 4,
 "nbformat_minor": 4
}
