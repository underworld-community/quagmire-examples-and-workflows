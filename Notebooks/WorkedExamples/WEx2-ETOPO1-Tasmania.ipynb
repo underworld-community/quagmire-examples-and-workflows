{
 "cells": [
  {
   "cell_type": "markdown",
   "metadata": {},
   "source": [
    "## Etopo1 Map of Tasmania\n",
    "\n",
    "In the previous worked example, we showed how to grab a region from a global elevation dataset, postprocess it to eliminate local minima and save the result to a geotiff in the same form as the original dataset. \n",
    "\n",
    "Here we assume that we have been through this process for the island of Tasmania (the southernmost state of Australia). We will analyse the resulting elevation model and show how to locate catchments and various metrics for the topography.\n"
   ]
  },
  {
   "cell_type": "code",
   "execution_count": null,
   "metadata": {
    "lines_to_next_cell": 2
   },
   "outputs": [],
   "source": [
    "from osgeo import gdal\n",
    "\n",
    "import numpy as np\n",
    "import matplotlib.pyplot as plt\n",
    "from matplotlib import cm\n",
    "%matplotlib inline\n",
    "\n",
    "import quagmire\n",
    "from quagmire import tools as meshtools\n",
    "from quagmire import function as fn\n",
    "\n",
    "from scipy.ndimage.filters import gaussian_filter"
   ]
  },
  {
   "cell_type": "code",
   "execution_count": null,
   "metadata": {},
   "outputs": [],
   "source": [
    "file = \"data/TasmaniaETOPO1-quagmire.tif\"\n",
    "ds = gdal.Open(file)\n",
    "\n",
    "band = ds.GetRasterBand(1)\n",
    "height = band.ReadAsArray()\n",
    "[cols, rows] = height.shape\n",
    "\n",
    "left, hres, n0, top, n1, vres = ds.GetGeoTransform()\n",
    "right = left+rows*hres\n",
    "bottom = top+cols*vres\n",
    "x,y = np.meshgrid(np.arange(left, right, hres), np.arange(top,  bottom, vres))\n",
    "\n",
    "map_extent = ( left, right, bottom, top)"
   ]
  },
  {
   "cell_type": "code",
   "execution_count": null,
   "metadata": {},
   "outputs": [],
   "source": [
    "import cartopy.crs as ccrs\n",
    "import cartopy.feature as cfeature\n",
    "\n",
    "coastline = cfeature.NaturalEarthFeature('physical', 'coastline', '10m',\n",
    "                           edgecolor=(1.0,0.8,0.0),\n",
    "                           facecolor=\"none\")\n",
    "\n",
    "ocean = cfeature.NaturalEarthFeature('physical', 'ocean', '10m',\n",
    "                           edgecolor=\"green\",\n",
    "                           facecolor=\"blue\")\n",
    "\n",
    "lakes = cfeature.NaturalEarthFeature('physical', 'lakes', '10m',\n",
    "                           edgecolor=\"green\",\n",
    "                           facecolor=\"#4488FF\")\n",
    "\n",
    "rivers = cfeature.NaturalEarthFeature('physical', 'rivers_lake_centerlines', '10m',\n",
    "                           edgecolor=\"#4488FF\",\n",
    "                           facecolor=\"blue\")\n",
    "\n",
    "plt.figure(figsize=(15, 10))\n",
    "ax = plt.subplot(111, projection=ccrs.PlateCarree())\n",
    "ax.set_extent(map_extent)\n",
    "\n",
    "ax.add_feature(coastline, edgecolor=\"black\", linewidth=0.5, zorder=3)\n",
    "ax.add_feature(lakes,     edgecolor=\"black\", linewidth=1, zorder=3)\n",
    "ax.add_feature(rivers   , facecolor=\"none\", linewidth=1, zorder=3)\n",
    "\n",
    "plt.imshow(height, extent=map_extent, transform=ccrs.PlateCarree(),\n",
    "           cmap='terrain', origin='upper', vmin=-400., vmax=2000.)"
   ]
  },
  {
   "cell_type": "code",
   "execution_count": null,
   "metadata": {
    "lines_to_next_cell": 2
   },
   "outputs": [],
   "source": [
    "# filter out points we do not want\n",
    "\n",
    "point_mask = height > -100.0\n",
    "x1s = x[point_mask]\n",
    "y1s = y[point_mask]\n",
    "heights = height[point_mask]\n",
    "\n",
    "submarine = (heights <  0.0 )\n",
    "subaerial = (heights >= 0.0 )\n",
    "\n",
    "## now be more specific and locate points adjacent to the coastline\n",
    "\n",
    "import stripy\n",
    "mesh0 = stripy.cartesian.Triangulation(x1s, y1s, permute=True, tree=True)\n",
    "d, n  = mesh0.nearest_vertices(mesh0.points[submarine][:,0], mesh0.points[submarine][:,1], k=25)\n",
    "\n",
    "candidates = np.where(np.any(subaerial[n],axis=1))\n",
    "keepers = n[candidates,0]\n",
    "\n",
    "boundary = np.zeros_like(subaerial)\n",
    "boundary[keepers] = True\n",
    "\n",
    "## And now replace the filtered arrays \n",
    "\n",
    "point_mask2 = np.zeros_like(point_mask)\n",
    "point_mask2[point_mask] = subaerial | boundary\n",
    "\n",
    "heights = height[point_mask2]\n",
    "xs = x[point_mask2]\n",
    "ys = y[point_mask2]\n",
    "bmask2 = subaerial[subaerial | boundary] "
   ]
  },
  {
   "cell_type": "code",
   "execution_count": null,
   "metadata": {},
   "outputs": [],
   "source": [
    "DM = meshtools.create_DMPlex_from_points(xs, ys, bmask=bmask2)\n",
    "mesh = quagmire.QuagMesh(DM, downhill_neighbours=1)"
   ]
  },
  {
   "cell_type": "code",
   "execution_count": null,
   "metadata": {
    "lines_to_next_cell": 2
   },
   "outputs": [],
   "source": [
    "with mesh.deform_topography():\n",
    "    mesh.topography.data = heights"
   ]
  },
  {
   "cell_type": "code",
   "execution_count": null,
   "metadata": {},
   "outputs": [],
   "source": [
    "low_points1 = mesh.identify_low_points()\n",
    "low_point_coords1 = mesh.coords[low_points1] \n",
    "print(low_points1.shape)\n",
    "\n",
    "cumulative_flow_1 = mesh.upstream_integral_fn(mesh.topography**2).evaluate(mesh)\n",
    "topography_1 = mesh.topography.data[:]\n",
    "\n",
    "outflow_points1 = mesh.identify_outflow_points()\n",
    "upstream_area1 = mesh.upstream_integral_fn(fn.misc.levelset(mesh.topography, 0.0)).evaluate(mesh)"
   ]
  },
  {
   "cell_type": "code",
   "execution_count": null,
   "metadata": {},
   "outputs": [],
   "source": [
    "import cartopy.crs as ccrs\n",
    "import cartopy.feature as cfeature\n",
    "\n",
    "coastline = cfeature.NaturalEarthFeature('physical', 'coastline', '10m',\n",
    "                           edgecolor=(1.0,0.8,0.0),\n",
    "                           facecolor=\"none\")\n",
    "\n",
    "ocean = cfeature.NaturalEarthFeature('physical', 'ocean', '10m',\n",
    "                           edgecolor=\"green\",\n",
    "                           facecolor=\"blue\")\n",
    "\n",
    "lakes = cfeature.NaturalEarthFeature('physical', 'lakes', '10m',\n",
    "                           edgecolor=\"green\",\n",
    "                           facecolor=\"#4488FF\")\n",
    "\n",
    "rivers = cfeature.NaturalEarthFeature('physical', 'rivers_lake_centerlines', '10m',\n",
    "                           edgecolor=\"#4488FF\",\n",
    "                           facecolor=\"blue\")\n",
    "\n",
    "plt.figure(figsize=(15, 10))\n",
    "ax = plt.subplot(111, projection=ccrs.PlateCarree())\n",
    "ax.set_extent(map_extent)\n",
    "\n",
    "ax.add_feature(coastline, edgecolor=\"black\", linewidth=0.5, zorder=3)\n",
    "ax.add_feature(lakes,     edgecolor=\"black\", linewidth=1, zorder=3)\n",
    "ax.add_feature(rivers   , facecolor=\"none\", linewidth=1, zorder=3)\n",
    "\n",
    "ax.scatter(xs[low_points1], ys[low_points1], color=\"Red\")\n",
    "ax.scatter(xs[~bmask2], ys[~bmask2], color=\"Grey\", marker='x')\n",
    "\n",
    "plt.imshow(height, extent=map_extent, transform=ccrs.PlateCarree(),\n",
    "           cmap='terrain', origin='upper', vmin=-400., vmax=2000.)"
   ]
  },
  {
   "cell_type": "code",
   "execution_count": null,
   "metadata": {},
   "outputs": [],
   "source": [
    "cumulative_flow_3 = mesh.upstream_integral_fn(mesh.topography**2).evaluate(mesh)\n",
    "low_points3 = mesh.identify_low_points()\n",
    "topography_3 = mesh.topography.data[:]\n",
    "print(\"Low points - {}\".format(low_points3.shape))"
   ]
  },
  {
   "cell_type": "code",
   "execution_count": null,
   "metadata": {},
   "outputs": [],
   "source": [
    "outflow_points3 = np.unique(np.hstack(( mesh.identify_outflow_points(), mesh.identify_low_points())))\n",
    "upstream_area3 = mesh.upstream_integral_fn(fn.misc.levelset(mesh.topography, 0.0)).evaluate(mesh)"
   ]
  },
  {
   "cell_type": "code",
   "execution_count": null,
   "metadata": {},
   "outputs": [],
   "source": [
    "logplot = np.log10(upstream_area3)\n",
    "flows_img3 = logplot.min() * np.ones_like(point_mask2)\n",
    "flows_img3[point_mask2] = logplot\n",
    "\n",
    "plt.figure(figsize=(15, 10))\n",
    "ax = plt.subplot(111, projection=ccrs.PlateCarree())\n",
    "ax.set_extent(map_extent)\n",
    "\n",
    "ax.add_feature(coastline, edgecolor=\"black\", linewidth=1, zorder=3)\n",
    "ax.add_feature(lakes,     edgecolor=\"black\", facecolor=\"none\", linewidth=1, zorder=3)\n",
    "ax.add_feature(rivers   , edgecolor=\"Yellow\", facecolor=\"none\", linewidth=1, zorder=3)\n",
    "\n",
    "plt.imshow(flows_img3, extent=map_extent, transform=ccrs.PlateCarree(),\n",
    "           cmap='Blues', origin='upper', vmin=-3.5, vmax=-1.5)\n",
    "\n",
    "ax.scatter(xs[outflow_points3], ys[outflow_points3], color=\"Green\", s=1.0)\n",
    "ax.scatter(xs[low_points3], ys[low_points3], color=\"Red\", s=5.0)\n",
    "\n",
    "# plt.imshow(hdiff, extent=map_extent, transform=ccrs.PlateCarree(),\n",
    "#            cmap='Greens', origin='upper', vmin=0.0, vmax=200, alpha=0.25)\n",
    "\n",
    "plt.savefig(\"WEx2-Flowpath-3.png\", dpi=250)"
   ]
  },
  {
   "cell_type": "code",
   "execution_count": null,
   "metadata": {
    "lines_to_next_cell": 2
   },
   "outputs": [],
   "source": [
    "topomask = mesh.add_variable(\"topomask\")\n",
    "topomask.data = np.where(mesh.topography.data > 0.0, 1.0, 0.0)\n",
    "area = mesh.upstream_integral_fn(topomask).evaluate(mesh)\n",
    "\n",
    "# log_catchment_areas = np.sort(1.0e-10+np.log(area[outflow_points3]))[::-1]\n",
    "catchment_areas = np.sort(area[outflow_points3])[::-1]\n",
    "cum_catchment_areas = np.cumsum(catchment_areas)\n",
    "total_area = mesh.area.sum()\n",
    "\n",
    "plt.figure(figsize=(15, 10))\n",
    "ax = plt.subplot(111)\n",
    "ax.set_xlim(0,50)\n",
    "ax.plot(100.0*cum_catchment_areas/total_area)\n",
    "ax.bar(x=range(0,catchment_areas.shape[0]), height=100.0*catchment_areas/catchment_areas[0])"
   ]
  },
  {
   "cell_type": "code",
   "execution_count": null,
   "metadata": {},
   "outputs": [],
   "source": [
    "ordered_catchments = np.argsort(area[outflow_points3])[::-1]\n",
    "catchments = mesh.add_variable(name=\"catchments\")\n",
    "catchments.data = mesh.uphill_propagation(points = outflow_points3[ordered_catchments[0:100]], values=np.indices((100,)), fill=-1.0, its=500)"
   ]
  },
  {
   "cell_type": "code",
   "execution_count": null,
   "metadata": {},
   "outputs": [],
   "source": [
    "catch = []\n",
    "for i in range(0,100):\n",
    "    catch.append( np.where(catchments.data==i) )"
   ]
  },
  {
   "cell_type": "code",
   "execution_count": null,
   "metadata": {},
   "outputs": [],
   "source": [
    "for i in range(0,10):\n",
    "    print(catch[i][0].shape, area[outflow_points3[ordered_catchments[i]]])"
   ]
  },
  {
   "cell_type": "code",
   "execution_count": null,
   "metadata": {
    "lines_to_next_cell": 0
   },
   "outputs": [],
   "source": [
    "catch_img3 = -2.0 * np.ones_like(point_mask2)\n",
    "catch_img3[point_mask2] = catchments.data\n",
    "\n",
    "plt.figure(figsize=(15, 10))\n",
    "ax = plt.subplot(111, projection=ccrs.PlateCarree())\n",
    "ax.set_extent(map_extent)\n",
    "\n",
    "ax.add_feature(coastline, edgecolor=\"black\", linewidth=1, zorder=3)\n",
    "ax.add_feature(lakes,     edgecolor=\"black\", facecolor=\"none\", linewidth=1, zorder=3)\n",
    "ax.add_feature(rivers   , edgecolor=\"Yellow\", facecolor=\"none\", linewidth=1, zorder=3)\n",
    "\n",
    "for i in range(0,15):\n",
    "    ax.scatter(xs[catch[i]], ys[catch[i]], s=20, alpha=0.5)\n",
    "\n",
    "ax.scatter(xs[outflow_points3], ys[outflow_points3], color=\"Green\", s=1.0)\n",
    "ax.scatter(xs[low_points3], ys[low_points3], color=\"Red\", s=5.0)\n",
    "\n",
    "plt.imshow(flows_img3, extent=map_extent, transform=ccrs.PlateCarree(),\n",
    "           cmap='Blues', origin='upper', vmin=-3.5, vmax=-1.5, alpha=0.5, zorder=10)\n",
    "\n",
    "plt.savefig(\"WEx2-15Catchments.png\", dpi=250)"
   ]
  },
  {
   "cell_type": "code",
   "execution_count": null,
   "metadata": {
    "lines_to_next_cell": 2
   },
   "outputs": [],
   "source": []
  }
 ],
 "metadata": {
  "jupytext": {
   "formats": "../../Notebooks/WorkedExamples//ipynb,py:light"
  },
  "kernelspec": {
   "display_name": "Python 2",
   "language": "python",
   "name": "python2"
  }
 },
 "nbformat": 4,
 "nbformat_minor": 4
}
