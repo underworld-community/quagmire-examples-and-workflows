{
 "cells": [
  {
   "cell_type": "markdown",
   "metadata": {},
   "source": [
    "## Geoscience Australia 9s DEM Map of Tasmania\n",
    "\n",
    "Here we show a workflow for handling the higher resolution (9 arc second) DEM of Tasmania supplied by Geoscience Australia. This has been clipped using gdaltranslate to capture the area of interest and save it as a geotiff file. This has roughly 2.4 million points on the island of Tasmania. This DEM is hydrologically enforced at the outset and therefore serves as a consistency test for the `quagmire` flow algorithms etc. \n",
    "\n",
    "In this notebook, we read the original DEM, check it for consistency and (SPOILER !) make a few adjustments to account for peculiarities of the DEM associated with the various dams in the hydro-schemes. \n",
    "\n",
    "We then save the processed DEM ... \n",
    "(TODO: parallel HDF5 would be better)\n",
    "\n",
    "### Dependencies\n",
    "\n",
    "  - `quagmire` \n",
    "  - `gdal`     - used to read and write geotiff files\n",
    "  - `cartopy`  - to produce maps\n",
    "  - `lavavu`   - for 3D visualisations\n"
   ]
  },
  {
   "cell_type": "code",
   "execution_count": null,
   "metadata": {},
   "outputs": [],
   "source": [
    "import numpy as np\n",
    "import quagmire\n",
    "from quagmire import function as fn\n",
    "from quagmire import tools as meshtools\n",
    "%pylab inline"
   ]
  },
  {
   "cell_type": "markdown",
   "metadata": {},
   "source": [
    "# Retrieve Geoscience Australia 9s DEM using GA WCS service"
   ]
  },
  {
   "cell_type": "code",
   "execution_count": null,
   "metadata": {},
   "outputs": [],
   "source": [
    "from owslib.wcs import WebCoverageService\n",
    "\n",
    "file = \"Tasmania.tif\"\n",
    "format = 'geotiff'\n",
    "res = 9. / 3600\n",
    "bbox = (144, -44, 149, -40)\n",
    "crs = \"EPSG:4283\"\n",
    "\n",
    "url = \"http://gaservices.ga.gov.au/site_9/services/DEM_SRTM_1Second_Hydro_Enforced/MapServer/WCSServer\"\n",
    "wcs = WebCoverageService(url, version='1.0.0')\n",
    "for layer in list(wcs.contents):\n",
    "   print(\"Layer Name:\", layer)\n",
    "   print(\"Title:\", wcs[layer].title, '\\n')\n",
    "output = wcs.getCoverage(identifier=layer,\n",
    "                    bbox = bbox, service=\"WCS\",\n",
    "                    format=format, resx=res, resy=res,\n",
    "                    CRS=crs)\n",
    "\n",
    "with open(file, \"wb\") as f:\n",
    "    f.write(output.read())"
   ]
  },
  {
   "cell_type": "code",
   "execution_count": null,
   "metadata": {},
   "outputs": [],
   "source": [
    "import gdal"
   ]
  },
  {
   "cell_type": "code",
   "execution_count": null,
   "metadata": {
    "lines_to_next_cell": 2
   },
   "outputs": [],
   "source": [
    "ds = gdal.Open(file)\n",
    "band = ds.GetRasterBand(1)\n",
    "height = band.ReadAsArray()\n",
    "[cols, rows] = height.shape\n",
    "\n",
    "left, hres, n0, top, n1, vres  = ds.GetGeoTransform()\n",
    "right = left+rows*hres\n",
    "bottom = top+cols*vres\n",
    "x,y = np.meshgrid(np.arange(left, right, hres), np.arange(top,  bottom, vres))\n",
    "\n",
    "## Re-write without infinities !\n",
    "\n",
    "arr_out = np.where((height < 0.0), -10.0, height)\n",
    "driver = gdal.GetDriverByName(\"GTiff\")\n",
    "outdata = driver.Create(\"dem9s-Tassie-no_bath.tif\", rows, cols, 1, gdal.GDT_Float32)\n",
    "outdata.SetGeoTransform(ds.GetGeoTransform())      ##sets same geotransform as input\n",
    "outdata.SetProjection(ds.GetProjection())          ##sets same projection as input\n",
    "outdata.GetRasterBand(1).WriteArray(arr_out)\n",
    "outdata.GetRasterBand(1).SetNoDataValue(-10.0)     ##if you want these values transparent\n",
    "outdata.FlushCache() ##saves to disk!!\n",
    "outdata = None\n",
    "band=None\n",
    "ds=None"
   ]
  },
  {
   "cell_type": "code",
   "execution_count": null,
   "metadata": {
    "lines_to_next_cell": 2
   },
   "outputs": [],
   "source": [
    "import cartopy.crs as ccrs\n",
    "import cartopy.feature as cfeature\n",
    "\n",
    "coastline = cfeature.NaturalEarthFeature('physical', 'coastline', '10m',\n",
    "                           edgecolor=(1.0,0.8,0.0),\n",
    "                           facecolor=\"none\")\n",
    "\n",
    "ocean = cfeature.NaturalEarthFeature('physical', 'ocean', '10m',\n",
    "                           edgecolor=\"green\",\n",
    "                           facecolor=\"blue\")\n",
    "\n",
    "lakes = cfeature.NaturalEarthFeature('physical', 'lakes', '10m',\n",
    "                           edgecolor=\"green\",\n",
    "                           facecolor=\"blue\")\n",
    "\n",
    "rivers = cfeature.NaturalEarthFeature('physical', 'rivers_lake_centerlines', '10m',\n",
    "                           edgecolor=\"green\",\n",
    "                           facecolor=\"blue\")\n",
    "\n",
    "map_extent = ( left, right, bottom, top)\n",
    "\n",
    "plt.figure(figsize=(15, 10))\n",
    "ax = plt.subplot(111, projection=ccrs.PlateCarree())\n",
    "ax.set_extent(map_extent)\n",
    "\n",
    "ax.add_feature(coastline, edgecolor=\"black\", linewidth=0.5, zorder=3)\n",
    "ax.add_feature(lakes,     edgecolor=\"black\", linewidth=1, zorder=3)\n",
    "ax.add_feature(rivers   , edgecolor=\"black\", facecolor=\"none\", linewidth=1, zorder=3)\n",
    "\n",
    "plt.imshow(height, extent=map_extent, transform=ccrs.PlateCarree(),\n",
    "           cmap='terrain', origin='upper', vmin=-400., vmax=2000.)\n",
    "\n",
    "# cb = plt.colorbar(orientation='vertical')\n",
    "# cb.set_label('Altitude')\n",
    "# plt.title(\"SRTM Map\")\n",
    "# gl = ax.gridlines(draw_labels=True)\n",
    "# gl.xlabels_top = False\n",
    "# gl.ylabels_left = False"
   ]
  },
  {
   "cell_type": "code",
   "execution_count": null,
   "metadata": {
    "lines_to_next_cell": 2
   },
   "outputs": [],
   "source": [
    "# filter out the points off the coast that are all set to an elevation of -inf \n",
    "# create a smooth transition for points that are close to the coastline \n",
    "\n",
    "## This image is 1.0 on land, -1.0 in the water. Applying\n",
    "## a smoothing filter will turn that into a slope that\n",
    "## we can use \n",
    "\n",
    "from scipy.ndimage.filters import gaussian_filter\n",
    "\n",
    "landmask  = np.where((height < 0.0), -1.0, 1.0)\n",
    "smoothedmask = gaussian_filter(landmask, 0.75)\n",
    "point_mask =  smoothedmask > -0.9\n",
    "\n",
    "#corners\n",
    "point_mask[0,0] = 1.0\n",
    "point_mask[0,-1] = 1.0\n",
    "point_mask[-1,0] = 1.0\n",
    "point_mask[-1,-1] = 1.0\n",
    "\n",
    "\n",
    "xs = x[point_mask]\n",
    "ys = y[point_mask]\n",
    "heights = 0.001 * height[point_mask]  ## in km \n",
    "points = np.column_stack([xs, ys])\n",
    "\n",
    "submarine = (heights <  0.0 )\n",
    "subaerial = (heights >= 0.0 )\n",
    "\n",
    "heights[submarine] = 0.001 * smoothedmask[point_mask][submarine]"
   ]
  },
  {
   "cell_type": "code",
   "execution_count": null,
   "metadata": {},
   "outputs": [],
   "source": [
    "point_mask.shape"
   ]
  },
  {
   "cell_type": "code",
   "execution_count": null,
   "metadata": {
    "lines_to_next_cell": 2
   },
   "outputs": [],
   "source": [
    "import lavavu\n",
    "import stripy\n",
    "\n",
    "vertices = np.column_stack([xs, ys, 0.1 * heights])\n",
    "tri = stripy.Triangulation(xs, ys, permute=True)\n",
    "\n",
    "lv = lavavu.Viewer(border=False, background=\"#FFFFFF\", resolution=[600,600], near=-10.0)\n",
    "\n",
    "sa = lv.points(\"subaerial\", colour=\"red\", pointsize=0.2, opacity=0.75)\n",
    "sa.vertices(vertices[subaerial])\n",
    "\n",
    "tris = lv.triangles(\"mesh\",  wireframe=False, colour=\"#77ff88\", opacity=1.0)\n",
    "tris.vertices(vertices)\n",
    "tris.indices(tri.simplices)\n",
    "tris.values(heights, label=\"elevation\")\n",
    "tris.colourmap('dem3')\n",
    "cb = tris.colourbar()\n",
    "\n",
    "sm = lv.points(\"submarine\", colour=\"blue\", pointsize=0.5, opacity=0.75)\n",
    "sm.vertices(vertices[submarine])\n",
    "\n",
    "lv.control.Panel()\n",
    "lv.control.ObjectList()\n",
    "# tris.control.Checkbox(property=\"wireframe\")\n",
    "lv.control.show()"
   ]
  },
  {
   "cell_type": "code",
   "execution_count": null,
   "metadata": {},
   "outputs": [],
   "source": [
    "DM = meshtools.create_DMPlex_from_points(xs, ys, bmask=subaerial)\n",
    "mesh = quagmire.QuagMesh(DM, downhill_neighbours=3)"
   ]
  },
  {
   "cell_type": "code",
   "execution_count": null,
   "metadata": {
    "lines_to_next_cell": 2
   },
   "outputs": [],
   "source": [
    "with mesh.deform_topography():\n",
    "    mesh.topography.data = heights"
   ]
  },
  {
   "cell_type": "code",
   "execution_count": null,
   "metadata": {},
   "outputs": [],
   "source": [
    "low_points1 = mesh.identify_low_points()\n",
    "low_point_coords1 = mesh.coords[low_points1] \n",
    "print(low_points1.shape)\n",
    "\n",
    "cumulative_flow_1 = mesh.upstream_integral_fn(mesh.topography).evaluate(mesh)\n",
    "topography_1 = mesh.topography.data[:]\n",
    "\n",
    "outflow_points1 = np.unique(np.hstack(( mesh.identify_outflow_points(), mesh.identify_low_points())))\n",
    "upstream_area1  = mesh.upstream_integral_fn(fn.misc.levelset(mesh.topography, 0.0)).evaluate(mesh)"
   ]
  },
  {
   "cell_type": "code",
   "execution_count": null,
   "metadata": {},
   "outputs": [],
   "source": [
    "mesh.topography.data.min()"
   ]
  },
  {
   "cell_type": "code",
   "execution_count": null,
   "metadata": {},
   "outputs": [],
   "source": [
    "## plot the results\n",
    "\n",
    "logflow = np.log10(1.0e-3+upstream_area1)\n",
    "flows1 = logflow.min() * np.ones_like(height)\n",
    "flows1[point_mask] = logflow\n",
    "\n",
    "plt.figure(figsize=(15, 10))\n",
    "ax = plt.subplot(111, projection=ccrs.PlateCarree())\n",
    "ax.set_extent(map_extent)\n",
    "\n",
    "# ax.add_feature(coastline, edgecolor=\"black\", linewidth=1, zorder=3)\n",
    "\n",
    "ax.add_feature(lakes,     edgecolor=\"black\", facecolor=\"none\", linewidth=1, zorder=3)\n",
    "ax.add_feature(rivers   , edgecolor=\"black\", facecolor=\"none\", linewidth=1, zorder=3)\n",
    "\n",
    "ax.scatter(xs[submarine],ys[submarine], color=\"#000044\", s=.1)\n",
    "# ax.tricontour(xs,ys, 1000.0*heights, triangles=mesh.tri.simplices, levels=[100,500,1000,1500], linewidths=0.5, colors=\"Black\")\n",
    "\n",
    "plt.imshow(flows1, extent=map_extent, transform=ccrs.PlateCarree(),\n",
    "           cmap='Blues', origin='upper', vmin=-3.5, vmax=-1.5)\n",
    "\n",
    "ax.scatter(xs[outflow_points1], ys[outflow_points1], color=\"Green\", s=5)\n",
    "ax.scatter(xs[low_points1], ys[low_points1], color=\"Red\", s=5)\n",
    "\n",
    "\n",
    "plt.savefig(\"WEx3-Flowpath-1.png\", dpi=250)"
   ]
  },
  {
   "cell_type": "markdown",
   "metadata": {},
   "source": [
    "## Apply pit filling / local-flooding / swamp filling algorithm\n",
    "\n",
    "The pit filling is for very small local minima where the basin filling / swamp algorithm is not appropriate. The local flooding is a simple upward height propagation from a blockage with a limit on the distance that it can propagate. \n",
    "\n",
    "The swamp algorithm is for extensive regions that have only internal drainage. Some changes to the identification of \"erroneous\" low points is needed for cases where internal drainages are expected.\n",
    "\n",
    "At least one extra round of iteration is often helpful.\n",
    "\n",
    "In this case, the hydrologically enforced DEM should not have any local minima but there are some issues that are associated with water bodies that are dammed and this does, as a result, need a little modification which we compute here and analyse after the fact. "
   ]
  },
  {
   "cell_type": "code",
   "execution_count": null,
   "metadata": {
    "lines_to_next_cell": 2
   },
   "outputs": [],
   "source": [
    "for repeat in range(0,2):\n",
    "\n",
    "    mesh.low_points_local_patch_fill(its=2, smoothing_steps=2)\n",
    "    topography_2 = mesh.topography.data[:]\n",
    "    cumulative_flow_2 = mesh.upstream_integral_fn(mesh.topography**2).evaluate(mesh)\n",
    "    low_points2 = mesh.identify_low_points()\n",
    "    low_point_coords2 = mesh.coords[low_points2] \n",
    "    print(\"Low points - {}\".format(low_points2.shape))\n",
    "\n",
    "    for i in range(0,10):\n",
    "        mesh.low_points_swamp_fill(ref_height=-0.01, ref_gradient=0.001)\n",
    "\n",
    "        # In parallel, we can't break if ANY processor has work to do (barrier / sync issue)\n",
    "        low_points3 = mesh.identify_global_low_points()\n",
    "\n",
    "        print(\"{} : {}\".format(i,low_points3[0]))\n",
    "        if low_points3[0] == 0:\n",
    "            break"
   ]
  },
  {
   "cell_type": "code",
   "execution_count": null,
   "metadata": {},
   "outputs": [],
   "source": [
    "cumulative_flow_3 = mesh.upstream_integral_fn(mesh.topography**2).evaluate(mesh)\n",
    "low_points3 = mesh.identify_low_points()\n",
    "topography_3 = mesh.topography.data[:]\n",
    "print(\"Low points - {}\".format(low_points3.shape))"
   ]
  },
  {
   "cell_type": "code",
   "execution_count": null,
   "metadata": {},
   "outputs": [],
   "source": [
    "# Generally, there are no low points but sometimes on the boundaries these are not avoidable or worth fixing\n",
    "outflow_points3 = np.unique(np.hstack(( mesh.identify_outflow_points(), mesh.identify_low_points())))\n",
    "upstream_area3  = mesh.upstream_integral_fn(fn.misc.levelset(mesh.topography, 0.0)).evaluate(mesh)"
   ]
  },
  {
   "cell_type": "code",
   "execution_count": null,
   "metadata": {},
   "outputs": [],
   "source": [
    "hdiff = height.copy()\n",
    "hdiff[point_mask]  = 1000.0 * (mesh.topography.data - heights)\n",
    "hdiff[~point_mask] = 0.0"
   ]
  },
  {
   "cell_type": "code",
   "execution_count": null,
   "metadata": {},
   "outputs": [],
   "source": [
    "logflow = np.log10(1.0e-3+upstream_area3)\n",
    "flows3 = logflow.min() * np.ones_like(height)\n",
    "flows3[point_mask] = logflow\n",
    "\n",
    "plt.figure(figsize=(15, 10))\n",
    "ax = plt.subplot(111, projection=ccrs.PlateCarree())\n",
    "ax.set_extent(map_extent)\n",
    "\n",
    "ax.scatter(xs[submarine],ys[submarine], color=\"#000044\", s=.05)\n",
    "\n",
    "plt.imshow(flows3, extent=map_extent, transform=ccrs.PlateCarree(),\n",
    "           cmap='Blues', origin='upper', vmin=-3.5, vmax=-1.5)\n",
    "\n",
    "plt.imshow(hdiff, extent=map_extent, transform=ccrs.PlateCarree(),\n",
    "           cmap='Greens', origin='upper', vmin=0.0, vmax=10, alpha=0.333)\n",
    "\n",
    "ax.scatter(xs[outflow_points3], ys[outflow_points3], color=\"Green\", s=5)\n",
    "ax.scatter(xs[low_points3], ys[low_points3], color=\"Red\", s=5)\n",
    "\n",
    "\n",
    "plt.savefig(\"WEx3-Flowpath-3.png\", dpi=250)"
   ]
  },
  {
   "cell_type": "code",
   "execution_count": null,
   "metadata": {},
   "outputs": [],
   "source": [
    "logflow = np.log10(1.0e-3+upstream_area3)\n",
    "flows3 = logflow.min() * np.ones_like(height)\n",
    "flows3[point_mask] = logflow\n",
    "\n",
    "plt.figure(figsize=(15, 10))\n",
    "ax = plt.subplot(111, projection=ccrs.PlateCarree())\n",
    "ax.set_extent(map_extent)\n",
    "\n",
    "ax.add_feature(coastline, edgecolor=\"black\", linewidth=1, zorder=30)\n",
    "\n",
    "plt.imshow(flows3, extent=map_extent, transform=ccrs.PlateCarree(),\n",
    "           cmap='Greys', origin='upper', vmin=-3.0, vmax=-2.5)\n",
    "\n",
    "# plt.imshow(hdiff, extent=map_extent, transform=ccrs.PlateCarree(),\n",
    "#            cmap='Greens', origin='upper', vmin=0.0, vmax=10, alpha=0.333)\n",
    "\n",
    "\n",
    "\n",
    "plt.savefig(\"WEx3-Flowpath-BW.png\", dpi=500)"
   ]
  },
  {
   "cell_type": "code",
   "execution_count": null,
   "metadata": {},
   "outputs": [],
   "source": [
    "# Save post-processed topography / also without infinities !\n",
    "\n",
    "hnew = np.zeros_like(height, dtype=float)\n",
    "hnew[point_mask]  = 1000.0 * mesh.topography.data\n",
    "hnew[~point_mask] = -1.0\n",
    "\n",
    "ds = gdal.Open(file)\n",
    "arr_out = hnew\n",
    "\n",
    "driver = gdal.GetDriverByName(\"GTiff\")\n",
    "outdata = driver.Create(\"dem9s-tassie-quagmire.tif\", rows, cols, 1, gdal.GDT_Float32)\n",
    "outdata.SetGeoTransform(ds.GetGeoTransform())      ##sets same geotransform as input\n",
    "outdata.SetProjection(ds.GetProjection())          ##sets same projection as input\n",
    "outdata.GetRasterBand(1).WriteArray(arr_out)\n",
    "outdata.GetRasterBand(1).SetNoDataValue(-10.0)     ##if you want these values transparent\n",
    "outdata.FlushCache() ##saves to disk!!\n",
    "outdata = None\n",
    "band=None\n",
    "ds=None"
   ]
  },
  {
   "cell_type": "code",
   "execution_count": null,
   "metadata": {},
   "outputs": [],
   "source": [
    "norm = matplotlib.colors.Normalize(vmin=-3.5,vmax=-1.5)\n",
    "im = cm.Blues(norm(flows3))\n",
    "im[..., 0:3][~point_mask] = 1.0 "
   ]
  },
  {
   "cell_type": "code",
   "execution_count": null,
   "metadata": {},
   "outputs": [],
   "source": [
    "catch = np.zeroes_like(height)\n",
    "catch[point_mask] = \n",
    "im = cm.gist_rainbow(norm())\n",
    "im[..., 0:3][~point_mask] = 1.0 \n",
    "\n",
    "import lavavu\n",
    "\n",
    "points = np.column_stack([mesh.tri.points, 0.1*mesh.topography.data])\n",
    "\n",
    "low_point_coords3 = points[low_points3]\n",
    "outflow_point_coords3 = points[outflow_points3]\n",
    "\n",
    "low_point_coords1 = points[low_points1]\n",
    "\n",
    "lv = lavavu.Viewer(border=False, background=\"#FFFFFF\", resolution=[600,600], near=-10.0)\n",
    "\n",
    "tri1 = lv.triangles(\"triangles\", wireframe=False)\n",
    "tri1.vertices(points)\n",
    "tri1.indices(mesh.tri.simplices)\n",
    "tri1.texture(im)\n",
    "\n",
    "# lows1 = lv.points(\"lowsO\", colour=\"#550011\", pointsize=10.0, opacity=0.75)\n",
    "# lows1.vertices(low_point_coords1)\n",
    "\n",
    "# lows = lv.points(\"lows\", colour=\"red\", pointsize=10.0, opacity=0.75)\n",
    "# lows.vertices(low_point_coords3)\n",
    "\n",
    "# outflows = lv.points(\"outflows\", colour=\"green\", pointsize=10.0, opacity=0.75)\n",
    "# outflows.vertices(outflow_point_coords3)\n",
    "\n",
    "lv.control.Panel()\n",
    "lv.control.ObjectList()\n",
    "# tri1.control.List(options=[\"cum-flow-orig\",\n",
    "#                            \"cum-flow-pit\", \n",
    "#                            \"cum-flow-pit-swamp\"\n",
    "#                           ], property=\"colourby\", command=\"redraw\")\n",
    "\n",
    "# tri2.control.List(options=[\"blank\", \"swamps\", \n",
    "#                    \"cum-rain-swamp\"], property=\"colourby\", command=\"redraw\")\n",
    "\n",
    "\n",
    "lv.control.show()"
   ]
  },
  {
   "cell_type": "code",
   "execution_count": null,
   "metadata": {},
   "outputs": [],
   "source": []
  }
 ],
 "metadata": {
  "jupytext": {
   "formats": "../../Notebooks/WorkedExamples//ipynb,py:light"
  },
  "kernelspec": {
   "display_name": "Python 3",
   "language": "python",
   "name": "python3"
  }
 },
 "nbformat": 4,
 "nbformat_minor": 4
}
