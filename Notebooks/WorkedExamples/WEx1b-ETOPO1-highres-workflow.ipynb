{
 "cells": [
  {
   "cell_type": "markdown",
   "metadata": {},
   "source": [
    "# Meshing ETOPO1\n",
    "\n",
    "In this notebook we:\n",
    "\n",
    "1. Find the land surface in a region by filtering ETOPO1 \n",
    "2. Optionally correct for the geoid (important in low-gradient / low-lying areas)\n",
    "4. Create a DM object and refine a few times\n",
    "5. Save the mesh to HDF5 file"
   ]
  },
  {
   "cell_type": "code",
   "execution_count": 1,
   "metadata": {},
   "outputs": [
    {
     "ename": "ImportError",
     "evalue": "No module named 'osgeo'",
     "output_type": "error",
     "traceback": [
      "\u001b[0;31m---------------------------------------------------------------------------\u001b[0m",
      "\u001b[0;31mImportError\u001b[0m                               Traceback (most recent call last)",
      "\u001b[0;32m<ipython-input-1-f4605bfb590d>\u001b[0m in \u001b[0;36m<module>\u001b[0;34m\u001b[0m\n\u001b[0;32m----> 1\u001b[0;31m \u001b[0;32mfrom\u001b[0m \u001b[0mosgeo\u001b[0m \u001b[0;32mimport\u001b[0m \u001b[0mgdal\u001b[0m\u001b[0;34m\u001b[0m\u001b[0m\n\u001b[0m\u001b[1;32m      2\u001b[0m \u001b[0;34m\u001b[0m\u001b[0m\n\u001b[1;32m      3\u001b[0m \u001b[0;32mimport\u001b[0m \u001b[0mnumpy\u001b[0m \u001b[0;32mas\u001b[0m \u001b[0mnp\u001b[0m\u001b[0;34m\u001b[0m\u001b[0m\n\u001b[1;32m      4\u001b[0m \u001b[0;32mimport\u001b[0m \u001b[0mmatplotlib\u001b[0m\u001b[0;34m.\u001b[0m\u001b[0mpyplot\u001b[0m \u001b[0;32mas\u001b[0m \u001b[0mplt\u001b[0m\u001b[0;34m\u001b[0m\u001b[0m\n\u001b[1;32m      5\u001b[0m \u001b[0;32mfrom\u001b[0m \u001b[0mmatplotlib\u001b[0m \u001b[0;32mimport\u001b[0m \u001b[0mcm\u001b[0m\u001b[0;34m\u001b[0m\u001b[0m\n",
      "\u001b[0;31mImportError\u001b[0m: No module named 'osgeo'"
     ]
    }
   ],
   "source": [
    "from osgeo import gdal\n",
    "\n",
    "import numpy as np\n",
    "import matplotlib.pyplot as plt\n",
    "from matplotlib import cm\n",
    "%matplotlib inline\n",
    "\n",
    "import quagmire\n",
    "from quagmire import tools as meshtools\n",
    "\n",
    "from scipy.ndimage import imread\n",
    "from scipy.ndimage.filters import gaussian_filter\n",
    "from matplotlib.colors import LightSource"
   ]
  },
  {
   "cell_type": "markdown",
   "metadata": {},
   "source": [
    "## 1. Import coastline shapefile\n",
    "\n",
    "This requires pyshp to be installed. We scale the points to match the dimensions of the DEM we'll use later."
   ]
  },
  {
   "cell_type": "code",
   "execution_count": null,
   "metadata": {},
   "outputs": [],
   "source": [
    "# def remove_duplicates(a):\n",
    "#     \"\"\"\n",
    "#     find unique rows in numpy array \n",
    "#     <http://stackoverflow.com/questions/16970982/find-unique-rows-in-numpy-array>\n",
    "#     \"\"\"\n",
    "#     b = np.ascontiguousarray(a).view(np.dtype((np.void, a.dtype.itemsize * a.shape[1])))\n",
    "#     dedup = np.unique(b).view(a.dtype).reshape(-1, a.shape[1])\n",
    "#     return dedup\n",
    "\n",
    "# coast_shape = shapefile.Reader(\"data/AustCoast/AustCoast2.shp\")\n",
    "# shapeRecs = coast_shape.shapeRecords()\n",
    "# coords = []\n",
    "# for record in shapeRecs:\n",
    "#     coords.append(record.shape.points[:])\n",
    "    \n",
    "# coords = np.vstack(coords)\n",
    "\n",
    "# # Remove duplicates\n",
    "# points = remove_duplicates(coords)"
   ]
  },
  {
   "cell_type": "code",
   "execution_count": null,
   "metadata": {},
   "outputs": [],
   "source": [
    "## Define region of interest (here Japan) \n",
    "\n",
    "japan_bounds = (125.0, 30.0, 155.0, 42.0)\n",
    "\n",
    "aus_bounds = (110, -45, 160, -10)\n",
    "\n",
    "minX, minY, maxX, maxY = aus_bounds\n",
    "\n",
    "\n"
   ]
  },
  {
   "cell_type": "code",
   "execution_count": null,
   "metadata": {},
   "outputs": [],
   "source": [
    "xres = 1000\n",
    "yres = 1000\n",
    "\n",
    "xx = np.linspace(minX, maxX, xres)\n",
    "yy = np.linspace(minY, maxY, yres)\n",
    "x1, y1 = np.meshgrid(xx,yy)\n",
    "x1 += np.random.random(x1.shape) * 0.2 * (maxX-minX) / xres\n",
    "y1 += np.random.random(y1.shape) * 0.2 * (maxY-minY) / yres\n",
    "\n",
    "x1 = x1.flatten()\n",
    "y1 = y1.flatten()\n",
    "\n",
    "pts = np.stack((x1, y1)).T"
   ]
  },
  {
   "cell_type": "code",
   "execution_count": null,
   "metadata": {},
   "outputs": [],
   "source": [
    "gtiff = gdal.Open(\"../../data/ETOPO1_Ice_c_geotiff.tif\")\n",
    "\n",
    "width = gtiff.RasterXSize\n",
    "height = gtiff.RasterYSize\n",
    "gt = gtiff.GetGeoTransform()\n",
    "img = gtiff.GetRasterBand(1).ReadAsArray().T\n",
    "\n",
    "img = np.fliplr(img)\n",
    "\n",
    "sliceLeft   = int(180+minX) * 60\n",
    "sliceRight  = int(180+maxX) * 60\n",
    "sliceBottom = int(90+minY) * 60\n",
    "sliceTop    = int(90+maxY) * 60\n",
    "\n",
    "LandImg = img[ sliceLeft:sliceRight, sliceBottom:sliceTop].T\n",
    "LandImg = np.flipud(LandImg)"
   ]
  },
  {
   "cell_type": "code",
   "execution_count": null,
   "metadata": {},
   "outputs": [],
   "source": [
    "# np.savez_compressed(\"ETOPO.npz\", Description=\"Etopo1 Numpy Array 21600 x 10800\", ETOPO1=img)\n",
    "\n"
   ]
  },
  {
   "cell_type": "code",
   "execution_count": null,
   "metadata": {},
   "outputs": [],
   "source": [
    "fig = plt.figure(1, figsize=(5,4))\n",
    "ax = fig.add_subplot(111, xlim=(minX,maxX), ylim=(minY,maxY))\n",
    "# ax.axis('off')\n",
    "ls = LightSource(azdeg=315, altdeg=45)\n",
    "rgb = ls.shade(LandImg, cmap=cm.terrain, blend_mode='soft', vert_exag=2., dx=50, dy=50)\n",
    "im1 = ax.imshow(rgb, extent=[minX, maxX, minY, maxY], cmap=cm.terrain, origin='upper')\n",
    "plt.show()"
   ]
  },
  {
   "cell_type": "code",
   "execution_count": null,
   "metadata": {},
   "outputs": [],
   "source": [
    "coords = np.stack((y1, x1)).T\n",
    "\n",
    "im_coords = coords.copy()\n",
    "im_coords[:,0] -= minY\n",
    "im_coords[:,1] -= minX\n",
    "\n",
    "im_coords[:,0] *= LandImg.shape[0] / (maxY-minY) \n",
    "im_coords[:,1] *= LandImg.shape[1] / (maxX-minX) \n",
    "im_coords[:,0] =  LandImg.shape[0] - im_coords[:,0]"
   ]
  },
  {
   "cell_type": "code",
   "execution_count": null,
   "metadata": {},
   "outputs": [],
   "source": [
    "from scipy import ndimage\n",
    "\n",
    "meshheights = ndimage.map_coordinates(LandImg, im_coords.T, order=3, mode='nearest').astype(np.float)\n",
    "\n",
    "# Fake geoid for this particular region\n",
    "# meshheights -= 40.0 * (y1 - minY) / (maxY - minY)"
   ]
  },
  {
   "cell_type": "code",
   "execution_count": null,
   "metadata": {},
   "outputs": [],
   "source": [
    "## Filter out the points we don't want at all \n",
    "\n",
    "points = meshheights > -500 \n",
    "\n",
    "m1s = meshheights[points]\n",
    "x1s = x1[points]\n",
    "y1s = y1[points]\n",
    "\n",
    "submarine = m1s < 0.0\n",
    "subaerial = m1s >= 0.0"
   ]
  },
  {
   "cell_type": "code",
   "execution_count": null,
   "metadata": {},
   "outputs": [],
   "source": [
    "fig = plt.figure(1, figsize=(14,10))\n",
    "ax = fig.add_subplot(111, xlim=(minX,maxX), ylim=(minY,maxY))\n",
    "# ax.axis('off')\n",
    "\n",
    "ls = LightSource(azdeg=315, altdeg=45)\n",
    "rgb = ls.shade(LandImg, cmap=cm.terrain, blend_mode='soft', vert_exag=2., dx=50, dy=50)\n",
    "im1 = ax.imshow(rgb, extent=[minX, maxX, minY, maxY], cmap=cm.terrain, origin='upper')\n",
    "ax.scatter(x1s[submarine], y1s[submarine], s=0.5, color=\"Blue\")\n",
    "ax.scatter(x1s[subaerial], y1s[subaerial], s=1.0, color=\"Red\")\n",
    "\n",
    "fig.show()"
   ]
  },
  {
   "cell_type": "code",
   "execution_count": null,
   "metadata": {},
   "outputs": [],
   "source": [
    "## triangulate\n",
    "\n",
    "import stripy\n",
    "\n",
    "mesh0 = stripy.cartesian.Triangulation(x1s, y1s, permute=True, tree=True)\n",
    "\n",
    "## I think we only need the tree, not the triangulation"
   ]
  },
  {
   "cell_type": "code",
   "execution_count": null,
   "metadata": {},
   "outputs": [],
   "source": []
  },
  {
   "cell_type": "code",
   "execution_count": null,
   "metadata": {},
   "outputs": [],
   "source": [
    "d, n = mesh0.nearest_vertices(mesh0.points[submarine][:,0], mesh0.points[submarine][:,1], k=25)\n",
    "\n",
    "candidates = np.where(np.any(subaerial[n],axis=1))\n",
    "keepers = n[candidates,0]\n"
   ]
  },
  {
   "cell_type": "code",
   "execution_count": null,
   "metadata": {},
   "outputs": [],
   "source": [
    "boundary = np.zeros_like(subaerial)\n",
    "boundary[keepers] = True"
   ]
  },
  {
   "cell_type": "code",
   "execution_count": null,
   "metadata": {},
   "outputs": [],
   "source": [
    "fig = plt.figure(1, figsize=(14,10))\n",
    "ax = fig.add_subplot(111, xlim=(minX,maxX), ylim=(minY,maxY))\n",
    "# ax.axis('off')\n",
    "\n",
    "ls = LightSource(azdeg=315, altdeg=45)\n",
    "rgb = ls.shade(LandImg, cmap=cm.terrain, blend_mode='soft', vert_exag=2., dx=50, dy=50)\n",
    "im1 = ax.imshow(rgb, extent=[minX, maxX, minY, maxY], cmap=cm.terrain, origin='upper')\n",
    "\n",
    "ax.scatter(x1s[submarine], y1s[submarine], s=0.5, color=\"Blue\")\n",
    "ax.scatter(x1s[boundary],  y1s[boundary],  s=0.5, color=\"Green\")\n",
    "ax.scatter(x1s[subaerial], y1s[subaerial], s=0.25, color=\"Red\")\n",
    "\n",
    "fig.show()"
   ]
  },
  {
   "cell_type": "code",
   "execution_count": null,
   "metadata": {},
   "outputs": [],
   "source": [
    "x2s = x1s[subaerial | boundary]\n",
    "y2s = y1s[subaerial | boundary]\n",
    "bmask2 = subaerial[subaerial | boundary]\n"
   ]
  },
  {
   "cell_type": "code",
   "execution_count": null,
   "metadata": {},
   "outputs": [],
   "source": [
    "fig = plt.figure(1, figsize=(14,10))\n",
    "ax = fig.add_subplot(111, xlim=(minX,maxX), ylim=(minY,maxY))\n",
    "# ax.axis('off')\n",
    "\n",
    "ls = LightSource(azdeg=315, altdeg=45)\n",
    "rgb = ls.shade(LandImg, cmap=cm.terrain, blend_mode='soft', vert_exag=2., dx=50, dy=50)\n",
    "im1 = ax.imshow(rgb, extent=[minX, maxX, minY, maxY], cmap=cm.terrain, origin='upper')\n",
    "\n",
    "ax.scatter(x2s[~bmask2],  y2s[~bmask2],  s=0.5, color=\"blue\")\n",
    "ax.scatter(x2s[ bmask2],  y2s[ bmask2], s=1.0, color=\"Red\")\n",
    "\n",
    "fig.show()"
   ]
  },
  {
   "cell_type": "markdown",
   "metadata": {},
   "source": [
    "### 3. Create the DM\n",
    "\n",
    "The points are now read into a DM and refined so that we can achieve very high resolutions. Refinement is achieved by adding midpoints along line segments connecting each point."
   ]
  },
  {
   "cell_type": "code",
   "execution_count": null,
   "metadata": {},
   "outputs": [],
   "source": [
    "DM = meshtools.create_DMPlex_from_points(x2s, y2s, bmask2, refinement_levels=0)\n"
   ]
  },
  {
   "cell_type": "code",
   "execution_count": null,
   "metadata": {},
   "outputs": [],
   "source": [
    "mesh = quagmire.SurfaceProcessMesh(DM, verbose=True, permute=True)"
   ]
  },
  {
   "cell_type": "code",
   "execution_count": null,
   "metadata": {},
   "outputs": [],
   "source": [
    "x2r = mesh.tri.x\n",
    "y2r = mesh.tri.y\n",
    "simplices = mesh.tri.simplices\n",
    "bmaskr = mesh.bmask"
   ]
  },
  {
   "cell_type": "code",
   "execution_count": null,
   "metadata": {},
   "outputs": [],
   "source": [
    "## Now re-do the allocation of points to the surface.\n",
    "## In parallel this will be done process by process for a sub-set of points\n",
    "\n",
    "coords = np.stack((y2r, x2r)).T\n",
    "\n",
    "im_coords = coords.copy()\n",
    "im_coords[:,0] -= minY\n",
    "im_coords[:,1] -= minX\n",
    "\n",
    "im_coords[:,0] *= LandImg.shape[0] / (maxY-minY) \n",
    "im_coords[:,1] *= LandImg.shape[1] / (maxX-minX) \n",
    "im_coords[:,0] =  LandImg.shape[0] - im_coords[:,0]"
   ]
  },
  {
   "cell_type": "code",
   "execution_count": null,
   "metadata": {},
   "outputs": [],
   "source": [
    "from scipy import ndimage\n",
    "\n",
    "spacing = 1.0\n",
    "coords = np.stack((y2r, x2r)).T / spacing\n",
    "\n",
    "meshheights = ndimage.map_coordinates(LandImg, im_coords.T, order=3, mode='nearest')\n",
    "meshheights = mesh.rbf_smoother(meshheights, iterations=2)\n",
    "\n",
    "raw_height = meshheights.copy() * 0.001\n",
    "\n",
    "# meshheights -= 40.0 * (y2r - minY) / (maxY - minY)"
   ]
  },
  {
   "cell_type": "code",
   "execution_count": null,
   "metadata": {},
   "outputs": [],
   "source": []
  },
  {
   "cell_type": "code",
   "execution_count": null,
   "metadata": {},
   "outputs": [],
   "source": [
    "subaerial =  meshheights >= -0.02\n",
    "submarine = ~subaerial\n",
    "mesh.bmask = subaerial"
   ]
  },
  {
   "cell_type": "code",
   "execution_count": null,
   "metadata": {},
   "outputs": [],
   "source": [
    "fig = plt.figure(1, figsize=(14, 10))\n",
    "ax = fig.add_subplot(111)\n",
    "ax.axis('off')\n",
    "\n",
    "sc = ax.scatter(x2r[subaerial], y2r[subaerial], s=0.5,  c=meshheights[subaerial], cmap=cm.terrain, vmin=-1000.0, vmax=2500)\n",
    "sc = ax.scatter(x2r[submarine], y2r[submarine], s=0.25, c=\"Red\", alpha=1.0)\n",
    "# sc = ax.scatter(x2r[hmask], y2r[hmask], s=0.5, c=\"Blue\")\n",
    "\n",
    "\n",
    "#fig.colorbar(sc, ax=ax, label='height')\n",
    "fig.show()"
   ]
  },
  {
   "cell_type": "code",
   "execution_count": null,
   "metadata": {},
   "outputs": [],
   "source": [
    "# for i in range(0, 10):\n",
    "#     meshheights = mesh.handle_low_points(0.0, 20)\n",
    "#     mesh.update_height(meshheights)\n",
    "#     low_points = mesh.identify_low_points()\n",
    "#     print low_points.shape[0]\n",
    "  \n",
    "# m v km !\n",
    "\n",
    "mesh.update_height(meshheights*0.001)\n",
    "gradient_max = mesh.slope.max()\n",
    "gradient_mean = mesh.slope.mean()\n",
    "flat_spots = np.where(mesh.slope < gradient_mean*0.01)[0]\n",
    "low_points = mesh.identify_low_points()\n",
    "\n",
    "nodes = np.arange(0, mesh.npoints)\n",
    "lows =  np.where(mesh.down_neighbour[1] == nodes)[0]\n",
    "\n",
    "# print statistics\n",
    "print(\"mean gradient {}\\nnumber of flat spots {}\\nnumber of low points {}\".format(gradient_mean,\n",
    "                                                                                  flat_spots.size,\n",
    "                                                                                  low_points.shape[0]))  \n",
    "\n",
    "raw_heights = mesh.height.copy()"
   ]
  },
  {
   "cell_type": "code",
   "execution_count": null,
   "metadata": {},
   "outputs": [],
   "source": [
    "its, flowpaths1 = mesh.cumulative_flow_verbose(mesh.area, verbose=True)\n",
    "flowpaths1 = mesh.rbf_smoother(flowpaths1)"
   ]
  },
  {
   "cell_type": "markdown",
   "metadata": {},
   "source": [
    "## Low-point -filling algorithm\n",
    "\n",
    "Most effective seems to be a little local patching followed by some iterations of the swamp fill. Repeat as necessary and check periodically to see what is actually happening."
   ]
  },
  {
   "cell_type": "code",
   "execution_count": null,
   "metadata": {},
   "outputs": [],
   "source": [
    "## Local\n",
    "\n",
    "new_heights=mesh.low_points_local_patch_fill(its=2)\n",
    "mesh._update_height_partial(new_heights)\n",
    "low_points2 = mesh.identify_low_points()\n",
    "print low_points2.shape\n",
    "\n",
    "## Flooding\n",
    "\n",
    "for i in range(0,20):\n",
    "    new_heights = mesh.low_points_swamp_fill(ref_height=-0.02)\n",
    "    mesh._update_height_partial(new_heights)\n",
    "    low_points2 = mesh.identify_low_points()\n",
    "    if low_points2.shape[0] == 0:\n",
    "        break # Careful - not parallel !\n",
    "    print low_points2.shape"
   ]
  },
  {
   "cell_type": "code",
   "execution_count": null,
   "metadata": {},
   "outputs": [],
   "source": [
    "mesh.update_height(new_heights)\n",
    "lakes = mesh.height - raw_heights\n",
    "# lakes[~mesh.bmask] = 0.0\n",
    "\n",
    "print lakes.max(), mesh.height.max(), mesh.height.min()"
   ]
  },
  {
   "cell_type": "code",
   "execution_count": null,
   "metadata": {},
   "outputs": [],
   "source": [
    "its, flowpaths = mesh.cumulative_flow_verbose(np.ones_like(mesh.height), verbose=True)\n",
    "flowpaths2 = mesh.rbf_smoother(flowpaths, iterations=1)"
   ]
  },
  {
   "cell_type": "code",
   "execution_count": null,
   "metadata": {},
   "outputs": [],
   "source": []
  },
  {
   "cell_type": "code",
   "execution_count": null,
   "metadata": {},
   "outputs": [],
   "source": [
    "## Plane at zero height for visualization\n",
    "\n",
    "minx = mesh.tri.x.min()\n",
    "miny = mesh.tri.y.min()\n",
    "maxx = mesh.tri.x.max()\n",
    "maxy = mesh.tri.y.max()\n",
    "refheight = -0.0005\n",
    "\n",
    "bplanexy = np.array([ (minx, miny, refheight), \n",
    "                      (minx, maxy, refheight), \n",
    "                      (maxx, maxy, refheight), \n",
    "                      (maxx, miny, refheight)])\n",
    "\n",
    "bplane_tri = [ (0, 1, 2), (0, 2, 3)]\n",
    "\n"
   ]
  },
  {
   "cell_type": "code",
   "execution_count": null,
   "metadata": {},
   "outputs": [],
   "source": [
    "flowpaths1a = flowpaths1.copy()\n",
    "flowpaths1a[mesh.height < 0.0] = 0.00001\n",
    "\n",
    "flowpaths2a = flowpaths2.copy()\n",
    "flowpaths2a[mesh.height < 0.0] = 0.00001\n"
   ]
  },
  {
   "cell_type": "code",
   "execution_count": null,
   "metadata": {},
   "outputs": [],
   "source": [
    "manifold = np.reshape(mesh.coords, (-1,2))\n",
    "manifold = np.insert(manifold, 2, values=raw_heights*0.1, axis=1)\n",
    "\n",
    "import lavavu\n",
    "\n",
    "lv = lavavu.Viewer(border=False, background=\"#FFFFFF\", resolution=[1500,1000], near=-10.0)\n",
    "\n",
    "\n",
    "topo  = lv.triangles(\"topography\",  wireframe=False)\n",
    "topo.vertices(manifold)\n",
    "topo.indices(mesh.tri.simplices)\n",
    "topo.values(raw_heights, 'topography')\n",
    "topo[\"zmin\"] = -0.05\n",
    "\n",
    "topo.colourmap(\"(-1.0)#FFFFFF:1.0 (-0.01)#0099FF:1.0 (0.01)#AAAAAA:1.0 (0.5)#777777:1.0 (2.5)#555555:1.0\" , logscale=False)   # Apply a built in colourmap\n",
    "\n",
    "\n",
    "topo2  = lv.triangles(\"topography2\",  wireframe=False)\n",
    "topo2.vertices(manifold)\n",
    "topo2.indices(mesh.tri.simplices)\n",
    "topo2.values(mesh.height, 'topography')\n",
    "topo2[\"zmin\"] = -0.05\n",
    "\n",
    "topo2.colourmap(\"(-1.0)#FFFFFF:0.0 (-0.01)#0099FF:0.3 (0.01)#FFFF99:1.0 (0.5)#33AA11:1.0 (2.5)#886644:1.0\" , logscale=False, range=[0.0,1.0])   # Apply a built in colourmap\n",
    "\n",
    "manifold = np.reshape(mesh.coords, (-1,2))\n",
    "manifold = np.insert(manifold, 2, values=mesh.height*0.1, axis=1)\n",
    "\n",
    "\n",
    "flowpath2 = lv.triangles(\"flow\",  wireframe=False)\n",
    "flowpath2.vertices(manifold+(0.0,0.0,0.02))\n",
    "flowpath2.indices(mesh.tri.simplices)\n",
    "flowpath2.values(flowpaths1a, label='flow1')\n",
    "flowpath2.values(flowpaths2a, label='flow2')\n",
    "flowpath2[\"zmin\"] = -0.05\n",
    "flowpath2.colourmap([\"#FFFFFF:0.0 #0033FF:0.3 #000033\"], logscale=True)   \n",
    "\n",
    "## LAKES / SWAMPS\n",
    "\n",
    "lakeheight = lakes.copy()\n",
    "lakeheight[lakes > 0.0]  = mesh.height[lakes > 0.0]\n",
    "lakeheight[lakes <= 0.0] = 0.0 # raw_heights[lakes <= 0.0] - 0.1\n",
    "\n",
    "# manifold = np.reshape(mesh.coords, (-1,2))\n",
    "# manifold = np.insert(manifold, 2, values=lakeheight*0.25, axis=1)\n",
    "\n",
    "# lakeheight[lakes <= 0.0] = 0.0\n",
    "\n",
    "lakeview = lv.triangles(\"lakes\",  wireframe=False, colour=\"#00FFEE:0.5\")\n",
    "lakeview.vertices(manifold+(0.0,0.0,-0.002))\n",
    "lakeview.indices(mesh.tri.simplices)\n",
    "lakeview.values(lakeheight, 'lakes')\n",
    "lakeview[\"zmin\"] = -0.05\n",
    "\n",
    "# lakeview.colourmap(\"(-1.0)#FFFFFF:0.0 (0.0)#FFFFFF:0.5 (0.05)#55FFEE:1.0 (1.0)#00FFEE:1.0\" , logscale=False, range=[0.0,1.0])   # Apply a built in colourmap\n",
    "\n",
    "bplane = lv.triangles('bplane', wireframe=False, colour=(0.5,0.7,0.9,1.0))\n",
    "bplane.vertices(bplanexy)\n",
    "bplane.indices(bplane_tri)\n",
    "\n"
   ]
  },
  {
   "cell_type": "code",
   "execution_count": null,
   "metadata": {},
   "outputs": [],
   "source": [
    "\n",
    "# tris.control.Range(property='zmin', range=(-1,1), step=0.001)\n",
    "# lv.control.Range(command='background', range=(0,1), step=0.1, value=1)\n",
    "# lv.control.Range(property='near', range=[-10,10], step=2.0)\n",
    "lv.control.Panel()\n",
    "lv.control.Checkbox(property='axis')\n",
    "flowpath2.control.List([\"flow1\", \"flow2\"], property=\"colourby\", value=\"flow2\", command=\"reload\")\n",
    "lv.control.Command()\n",
    "lv.control.ObjectList()\n",
    "lv.control.show()"
   ]
  },
  {
   "cell_type": "code",
   "execution_count": null,
   "metadata": {},
   "outputs": [],
   "source": [
    "lv.display()"
   ]
  },
  {
   "cell_type": "code",
   "execution_count": null,
   "metadata": {},
   "outputs": [],
   "source": [
    "99 = 1"
   ]
  },
  {
   "cell_type": "code",
   "execution_count": null,
   "metadata": {},
   "outputs": [],
   "source": [
    "manifold = np.reshape(mesh.coords[mesh.bmask], (-1,2))\n",
    "manifold = np.insert(manifold, 2, values=mesh.height[mesh.bmask]*0.25, axis=1)\n"
   ]
  },
  {
   "cell_type": "code",
   "execution_count": null,
   "metadata": {},
   "outputs": [],
   "source": [
    "import lavavu\n",
    "\n",
    "lv = lavavu.Viewer(border=False, background=\"#FFFFFF\", resolution=[1000,600], near=-10.0)\n",
    "\n",
    "topo = lv.points(pointsize=2.0, pointtype=0)\n",
    "topo.vertices(manifold)\n",
    "topo.values(mesh.height[mesh.bmask], label='height')\n",
    "# topo.values(np.sqrt(flowpaths), label='flow')\n",
    "\n",
    "topo2 = lv.points(pointsize=2.0, pointtype=0)\n",
    "topo2.vertices(manifold+(0.0,0.0,0.1))\n",
    "# topo.values(mesh.height, label='height')\n",
    "topo2.values(np.sqrt(flowpaths2[mesh.bmask]), label='flow1')\n",
    "\n",
    "\n",
    "# topo3 = lv.points(pointsize=2.0, pointtype=0)\n",
    "# topo3.vertices(manifold+(0.0,0.0,0.1))\n",
    "# # topo.values(mesh.height, label='height')\n",
    "# topo3.values(np.sqrt(flowpathsG2[bmaskr]), label='flowG')\n",
    "\n",
    "\n",
    "topo.colourmap([\"#004420\", \"#FFFFFF\", \"#444444\"] , logscale=False, range=[-0.2, 1.0])   # Apply a built in colourmap\n",
    "# topo.colourmap([\"#FFFFFF:0.0\", \"#0033FF:0.3\", \"#000033\"], logscale=False)   # Apply a built in colourmap\n",
    "topo2.colourmap([\"#FFFFFF:0.0\", \"#0033FF:0.1\", \"#000033\"], logscale=True)   # Apply a built in colourmap\n",
    "\n",
    "pass\n",
    "\n",
    "\n"
   ]
  },
  {
   "cell_type": "code",
   "execution_count": null,
   "metadata": {},
   "outputs": [],
   "source": [
    "lv.window()\n",
    "\n",
    "# tris.control.Range(property='zmin', range=(-1,1), step=0.001)\n",
    "# lv.control.Range(command='background', range=(0,1), step=0.1, value=1)\n",
    "# lv.control.Range(property='near', range=[-10,10], step=2.0)\n",
    "lv.control.Checkbox(property='axis')\n",
    "lv.control.Command()\n",
    "lv.control.ObjectList()\n",
    "lv.control.show()"
   ]
  },
  {
   "cell_type": "code",
   "execution_count": null,
   "metadata": {},
   "outputs": [],
   "source": [
    "lv.display()"
   ]
  },
  {
   "cell_type": "markdown",
   "metadata": {},
   "source": [
    "## 5. Save to HDF5\n",
    "\n",
    "Save the mesh to an HDF5 file so that it can be visualised in Paraview or read into Quagmire another time. There are two ways to do this:\n",
    "\n",
    "1. Using the `save_DM_to_hdf5` function in meshtools, or\n",
    "2. Directly from trimesh interface using `save_mesh_to_hdf5` method.\n",
    "\n",
    "Remember to execute `petsc_gen_xdmf.py austopo.h5` to create the XML file structure necessary to visualise the mesh in paraview."
   ]
  },
  {
   "cell_type": "code",
   "execution_count": null,
   "metadata": {},
   "outputs": [],
   "source": [
    "filename = 'NZTopo.h5'\n",
    "\n",
    "mesh.save_mesh_to_hdf5(filename)\n",
    "mesh.save_field_to_hdf5(filename, height=mesh.height, \n",
    "                                  height0=raw_heights,\n",
    "                                  slope=mesh.slope, \n",
    "                                  flow1=np.sqrt(flowpaths1),\n",
    "                                  flow2=np.sqrt(flowpaths2),\n",
    "                                  lakes = lakes)\n",
    "\n",
    "# to view in Paraview\n",
    "meshtools.generate_xdmf(filename)"
   ]
  },
  {
   "cell_type": "code",
   "execution_count": null,
   "metadata": {},
   "outputs": [],
   "source": []
  }
 ],
 "metadata": {
  "kernelspec": {
   "display_name": "Python 3",
   "language": "python",
   "name": "python3"
  },
  "language_info": {
   "codemirror_mode": {
    "name": "ipython",
    "version": 3
   },
   "file_extension": ".py",
   "mimetype": "text/x-python",
   "name": "python",
   "nbconvert_exporter": "python",
   "pygments_lexer": "ipython3",
   "version": "3.7.6"
  }
 },
 "nbformat": 4,
 "nbformat_minor": 4
}
