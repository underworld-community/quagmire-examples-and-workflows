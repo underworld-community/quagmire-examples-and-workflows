{
 "cells": [
  {
   "cell_type": "code",
   "execution_count": 1,
   "metadata": {},
   "outputs": [
    {
     "name": "stderr",
     "output_type": "stream",
     "text": [
      "/Users/lmoresi/opt/anaconda3/envs/quagmire/lib/python3.7/site-packages/h5py/__init__.py:40: UserWarning: h5py is running against HDF5 1.10.6 when it was built against 1.10.5, this may cause problems\n",
      "  '{0}.{1}.{2}'.format(*version.hdf5_built_version_tuple)\n"
     ]
    }
   ],
   "source": [
    "import numpy as np\n",
    "from quagmire.function import display\n",
    "\n",
    "from quagmire import QuagMesh \n",
    "from quagmire import tools as meshtools\n",
    "from quagmire import function as fn\n",
    "from quagmire.function import display\n",
    "from mpi4py import MPI\n",
    "\n",
    "import lavavu\n",
    "import stripy\n",
    "comm = MPI.COMM_WORLD\n",
    "\n",
    "import matplotlib.pyplot as plt\n",
    "from matplotlib import cm\n",
    "%matplotlib inline"
   ]
  },
  {
   "cell_type": "code",
   "execution_count": 2,
   "metadata": {},
   "outputs": [],
   "source": [
    "A  = fn.parameter(1.0)\n",
    "B  = fn.parameter(2.0)\n",
    "S  = fn.math.sin(A)\n",
    "T  = fn.math.sin(S)\n",
    "X  = fn.misc.coord(0)\n",
    "Y  = fn.misc.coord(1)\n",
    "SX = fn.math.sin(X)\n",
    "CX = fn.math.cos(X)\n",
    "CY = fn.math.cos(Y)\n",
    "X2 = X**2\n",
    "XY = X*Y\n",
    "SX2 = fn.math.sin(X**2)\n",
    "CX2 = fn.math.cos(X**2)"
   ]
  },
  {
   "cell_type": "code",
   "execution_count": 3,
   "metadata": {},
   "outputs": [],
   "source": [
    "## Spatial coordinates 1) Cartesian\n",
    "\n",
    "from quagmire.function import LazyEvaluation, parameter\n",
    "\n",
    "x = LazyEvaluation()\n",
    "x.description = \"x\"\n",
    "x.latex = r\"x\"\n",
    "x.derivative = lambda ddirn : parameter(1.0) if str(ddirn) in '0' else parameter(0.0)\n",
    "\n",
    "y = LazyEvaluation()\n",
    "y.description = \"y\"\n",
    "y.latex = r\"y\"\n",
    "y.derivative = lambda ddirn : parameter(1.0) if str(ddirn) in '1' else parameter(0.0)\n",
    "\n",
    "z = LazyEvaluation()\n",
    "z.description = \"z\"\n",
    "z.latex = r\"z\"\n",
    "z.derivative = lambda ddirn : parameter(1.0) if str(ddirn) in '2' else parameter(0.0)\n",
    "\n",
    "\n",
    "## Spatial coordinates 2) Surface of a sphere\n",
    "\n",
    "from quagmire.function import LazyEvaluation, parameter\n",
    "\n",
    "r = LazyEvaluation()\n",
    "r.description = \"r\"\n",
    "r.latex = r\"r\"\n",
    "r.derivative = lambda ddirn : parameter(1.0) if str(ddirn) in '0' else parameter(0.0)\n",
    "\n",
    "phi = LazyEvaluation()\n",
    "phi.description = \"phi\"\n",
    "phi.latex = r\"\\phi\"\n",
    "phi.derivative = lambda ddirn : parameter(1.0) if str(ddirn) in '1' else parameter(0.0)\n",
    "\n",
    "theta = LazyEvaluation()\n",
    "theta.description = \"theta\"\n",
    "theta.latex = r\"\\theta\"\n",
    "theta.derivative = lambda ddirn : parameter(1.0) if str(ddirn) in '2' else parameter(0.0)"
   ]
  },
  {
   "cell_type": "code",
   "execution_count": 4,
   "metadata": {},
   "outputs": [],
   "source": [
    "from quagmire.function.coordinates import CartesianCoordinates2D, SphericalSurfaceLonLat2D"
   ]
  },
  {
   "cell_type": "code",
   "execution_count": 5,
   "metadata": {},
   "outputs": [
    {
     "data": {
      "text/latex": [
       "$\\displaystyle 2 \\;x \\;\\cos\\left(x^{2}\\right)$"
      ],
      "text/plain": [
       "<IPython.core.display.Math object>"
      ]
     },
     "metadata": {},
     "output_type": "display_data"
    },
    {
     "data": {
      "text/latex": [
       "$\\displaystyle -2 \\;y \\;\\sin\\left(y^{2}\\right)$"
      ],
      "text/plain": [
       "<IPython.core.display.Math object>"
      ]
     },
     "metadata": {},
     "output_type": "display_data"
    },
    {
     "data": {
      "text/latex": [
       "$\\displaystyle 2 \\;\\cos\\left(x^{2}\\right) \\, + \\, 2 \\;x \\;-2 \\;x \\;\\sin\\left(x^{2}\\right) \\, + \\, -2 \\;\\sin\\left(y^{2}\\right) \\, + \\, -2 \\;y \\;2 \\;y \\;\\cos\\left(y^{2}\\right)$"
      ],
      "text/plain": [
       "<IPython.core.display.Math object>"
      ]
     },
     "metadata": {},
     "output_type": "display_data"
    },
    {
     "data": {
      "text/latex": [
       "$\\displaystyle 0$"
      ],
      "text/plain": [
       "<IPython.core.display.Math object>"
      ]
     },
     "metadata": {},
     "output_type": "display_data"
    }
   ],
   "source": [
    "CartesianCoordinates = CartesianCoordinates2D()\n",
    "\n",
    "x = CartesianCoordinates.xi0\n",
    "y = CartesianCoordinates.xi1\n",
    "\n",
    "gradx, grady = CartesianCoordinates.grad(fn.math.sin(x**2) + fn.math.cos(y**2))\n",
    "gradx.display()\n",
    "grady.display()\n",
    "\n",
    "CartesianCoordinates.div(gradx, grady).display()\n",
    "\n",
    "CartesianCoordinates.laplacian(x, parameter(5)).display()\n"
   ]
  },
  {
   "cell_type": "code",
   "execution_count": 6,
   "metadata": {},
   "outputs": [
    {
     "data": {
      "text/latex": [
       "$\\displaystyle 0$"
      ],
      "text/plain": [
       "<IPython.core.display.Math object>"
      ]
     },
     "metadata": {},
     "output_type": "display_data"
    }
   ],
   "source": [
    "CartesianCoordinates.laplacian(x,1).display()\n",
    "\n"
   ]
  },
  {
   "cell_type": "code",
   "execution_count": 7,
   "metadata": {},
   "outputs": [
    {
     "data": {
      "text/latex": [
       "$\\displaystyle \\frac{ 2 \\;\\theta \\;\\cos\\left(\\theta^{2}\\right) }{ \\cos\\left(\\theta\\right)  }$"
      ],
      "text/plain": [
       "<IPython.core.display.Math object>"
      ]
     },
     "metadata": {},
     "output_type": "display_data"
    },
    {
     "data": {
      "text/latex": [
       "$\\displaystyle -2 \\;\\phi'  \\;\\sin\\left(\\phi' ^{2}\\right)$"
      ],
      "text/plain": [
       "<IPython.core.display.Math object>"
      ]
     },
     "metadata": {},
     "output_type": "display_data"
    },
    {
     "data": {
      "text/latex": [
       "$\\displaystyle \\nabla \\cdot \\left( \\frac{ 2 \\;\\theta \\;\\cos\\left(\\theta^{2}\\right) }{ \\cos\\left(\\theta\\right)  } , -2 \\;\\phi'  \\;\\sin\\left(\\phi' ^{2}\\right) \\right)$"
      ],
      "text/plain": [
       "<IPython.core.display.Math object>"
      ]
     },
     "metadata": {},
     "output_type": "display_data"
    },
    {
     "data": {
      "text/latex": [
       "$\\displaystyle \\nabla \\left( \\sin\\left(\\theta\\right) \\cdot \\nabla \\left(  \\sin\\left(\\theta^{2}\\right) \\, + \\, \\cos\\left(\\phi' ^{2}\\right) \\right)\\right)$"
      ],
      "text/plain": [
       "<IPython.core.display.Math object>"
      ]
     },
     "metadata": {},
     "output_type": "display_data"
    }
   ],
   "source": [
    "LatLonCoordinates = SphericalSurfaceLonLat2D()\n",
    "\n",
    "x_lo = LatLonCoordinates.xi0\n",
    "x_la = LatLonCoordinates.xi1\n",
    "\n",
    "grad0, grad1 = LatLonCoordinates.grad(fn.math.sin(x_lo**2) + fn.math.cos(x_la**2))\n",
    "grad0.display()\n",
    "grad1.display()\n",
    "\n",
    "LatLonCoordinates.div(grad0, grad1).display()\n",
    "\n",
    "LatLonCoordinates.laplacian(fn.math.sin(x_lo**2) + fn.math.cos(x_la**2), fn.math.sin(x_lo)).display()\n"
   ]
  },
  {
   "cell_type": "code",
   "execution_count": 8,
   "metadata": {},
   "outputs": [
    {
     "data": {
      "text/latex": [
       "$\\displaystyle  \\nabla^2 \\left( \\theta \\;\\cos\\left(\\phi' \\right) \\right)$"
      ],
      "text/plain": [
       "<IPython.core.display.Math object>"
      ]
     },
     "metadata": {},
     "output_type": "display_data"
    },
    {
     "data": {
      "text/latex": [
       "$\\displaystyle 0$"
      ],
      "text/plain": [
       "<IPython.core.display.Math object>"
      ]
     },
     "metadata": {},
     "output_type": "display_data"
    }
   ],
   "source": [
    "LatLonCoordinates.laplacian(x_lo*fn.math.cos(x_la),1).display()\n",
    "LatLonCoordinates.laplacian(x_la,1).display()"
   ]
  },
  {
   "cell_type": "code",
   "execution_count": 9,
   "metadata": {},
   "outputs": [
    {
     "data": {
      "text/latex": [
       "$\\displaystyle \\cos\\left(\\phi' \\right) \\, + \\, \\phi'  \\;-1 \\;\\sin\\left(\\phi' \\right)$"
      ],
      "text/plain": [
       "<IPython.core.display.Math object>"
      ]
     },
     "metadata": {},
     "output_type": "display_data"
    }
   ],
   "source": [
    "LatLonCoordinates.grad(x_la*fn.math.cos(x_la))[1].display()"
   ]
  },
  {
   "cell_type": "code",
   "execution_count": 10,
   "metadata": {},
   "outputs": [
    {
     "data": {
      "text/latex": [
       "$\\displaystyle \\nabla \\cdot \\left( 0 , 0 \\right)$"
      ],
      "text/plain": [
       "<IPython.core.display.Math object>"
      ]
     },
     "metadata": {},
     "output_type": "display_data"
    }
   ],
   "source": [
    "A = LatLonCoordinates.div((x_lo*LatLonCoordinates.grad(1)[0], x_lo * LatLonCoordinates.grad(1)[1]))\n",
    "A"
   ]
  },
  {
   "cell_type": "code",
   "execution_count": null,
   "metadata": {},
   "outputs": [],
   "source": []
  },
  {
   "cell_type": "code",
   "execution_count": 11,
   "metadata": {},
   "outputs": [
    {
     "name": "stdout",
     "output_type": "stream",
     "text": [
      "Underlying Mesh type: sTriMesh\n",
      "0 - Delaunay triangulation 0.6131068659999999s\n",
      "0 - Calculate node weights and area 0.06154818200000012s\n",
      "0 - Find boundaries 0.0031968880000006195s\n",
      "0 - cKDTree 0.024622298000000598s\n",
      "0 - Construct neighbour cloud arrays 1.6502070810000005s, (1.1896855689999999s + 0.4604144219999995s)\n",
      "0 - Construct rbf weights 0.16309629699999917s\n"
     ]
    }
   ],
   "source": [
    "st0 = stripy.spherical_meshes.icosahedral_mesh(refinement_levels=6, include_face_points=True)\n",
    "dm = meshtools.create_spherical_DMPlex(np.degrees(st0.lons), np.degrees(st0.lats), st0.simplices)\n",
    "mesh = QuagMesh(dm, downhill_neighbours=1, permute=True)\n"
   ]
  },
  {
   "cell_type": "code",
   "execution_count": 24,
   "metadata": {},
   "outputs": [
    {
     "data": {
      "text/plain": [
       "False"
      ]
     },
     "execution_count": 24,
     "metadata": {},
     "output_type": "execute_result"
    }
   ],
   "source": [
    "mesh.coordinates.grad(x_la)\n",
    "\n",
    "x_la.description\n",
    "\n",
    "mesh.coordinates.xi1 is x_la"
   ]
  },
  {
   "cell_type": "code",
   "execution_count": 12,
   "metadata": {},
   "outputs": [
    {
     "ename": "SyntaxError",
     "evalue": "can't assign to literal (<ipython-input-12-634e5ad1eebb>, line 1)",
     "output_type": "error",
     "traceback": [
      "\u001b[0;36m  File \u001b[0;32m\"<ipython-input-12-634e5ad1eebb>\"\u001b[0;36m, line \u001b[0;32m1\u001b[0m\n\u001b[0;31m    3=1\u001b[0m\n\u001b[0m       ^\u001b[0m\n\u001b[0;31mSyntaxError\u001b[0m\u001b[0;31m:\u001b[0m can't assign to literal\n"
     ]
    }
   ],
   "source": [
    "3=1"
   ]
  },
  {
   "cell_type": "code",
   "execution_count": null,
   "metadata": {},
   "outputs": [],
   "source": [
    "F = mesh.add_variable(\"F\", lname=\"\\cal{F}\")\n",
    "\n",
    "k1 = fn.parameter(5.0)\n",
    "k2 = fn.parameter(2.0)\n",
    "\n",
    "G = fn.math.cos(k1 * fn.math.radians(X)) * fn.math.sin(k2 * fn.math.radians(Y))\n",
    "F.data = G.evaluate(mesh)"
   ]
  },
  {
   "cell_type": "code",
   "execution_count": null,
   "metadata": {},
   "outputs": [],
   "source": [
    "G.display()\n",
    "G.derivative(0).display()\n",
    "G.derivative(1).display()"
   ]
  },
  {
   "cell_type": "code",
   "execution_count": null,
   "metadata": {},
   "outputs": [],
   "source": [
    "gradG0 = G.derivative(0)  / fn.math.cos(Y)\n",
    "gradG1 = G.derivative(1)"
   ]
  },
  {
   "cell_type": "code",
   "execution_count": null,
   "metadata": {},
   "outputs": [],
   "source": [
    "F.evaluate(mesh)"
   ]
  },
  {
   "cell_type": "code",
   "execution_count": null,
   "metadata": {},
   "outputs": [],
   "source": [
    "G.evaluate(mesh)"
   ]
  },
  {
   "cell_type": "code",
   "execution_count": null,
   "metadata": {},
   "outputs": [],
   "source": [
    "st0.lats.min()"
   ]
  },
  {
   "cell_type": "code",
   "execution_count": null,
   "metadata": {},
   "outputs": [],
   "source": [
    "import lavavu\n",
    "import stripy\n",
    "\n",
    "vertices = mesh.tri.points\n",
    "tri = mesh.tri\n",
    "\n",
    "\n",
    "A = gradG0.evaluate(mesh)\n",
    "B = F.derivative(0).evaluate(mesh)\n",
    "\n",
    "\n",
    "lv = lavavu.Viewer(border=False, axis=False, background=\"#FFFFFF\", resolution=[1200,600], near=-10.0)\n",
    "\n",
    "analytic = lv.points(\"analytic\", pointsize=5.0)\n",
    "analytic.vertices(vertices*1.01)\n",
    "analytic.values(A, label=\"ana\")\n",
    "analytic.colourmap('dem3')\n",
    "\n",
    "numerical = lv.points(\"numerical\", pointsize=5.0, opacity=1.0)\n",
    "numerical.vertices(vertices)\n",
    "numerical.values(B, label=\"num\")\n",
    "numerical.colourmap('dem3')\n",
    "\n",
    "err = lv.points(\"error\", pointsize=5.0, opacity=1.0)\n",
    "err.vertices(vertices)\n",
    "err.values(A-B, label=\"err\")\n",
    "err.colourmap('dem3')\n",
    "\n",
    "# lv.translation(-1.012, 2.245, -13.352)\n",
    "# lv.rotation(53.217, 18.104, 161.927)\n",
    "\n",
    "lv.control.Panel()\n",
    "lv.control.ObjectList()\n",
    "lv.control.show()"
   ]
  },
  {
   "cell_type": "code",
   "execution_count": null,
   "metadata": {},
   "outputs": [],
   "source": [
    "dxs0, dxs1 = stripy.spherical.dxyz2dlonlat(mesh.tri.x, mesh.tri.y, mesh.tri.z, dx, dy, dz)\n",
    "slope = np.hypot(dxs0, dxs1)\n",
    "slope"
   ]
  },
  {
   "cell_type": "code",
   "execution_count": null,
   "metadata": {},
   "outputs": [],
   "source": [
    "F.derivative(0).evaluate(mesh)"
   ]
  },
  {
   "cell_type": "code",
   "execution_count": null,
   "metadata": {},
   "outputs": [],
   "source": [
    "dx0, dx1 = mesh.tri.gradient_lonlat(F.data)\n",
    "dx0, dx1"
   ]
  },
  {
   "cell_type": "code",
   "execution_count": null,
   "metadata": {},
   "outputs": [],
   "source": [
    "mesh.derivative_grad(F.data)"
   ]
  },
  {
   "cell_type": "code",
   "execution_count": null,
   "metadata": {},
   "outputs": [],
   "source": [
    "mesh.coords"
   ]
  },
  {
   "cell_type": "code",
   "execution_count": null,
   "metadata": {},
   "outputs": [],
   "source": [
    "mesh.tri.x"
   ]
  },
  {
   "cell_type": "code",
   "execution_count": null,
   "metadata": {},
   "outputs": [],
   "source": [
    "st0.x"
   ]
  },
  {
   "cell_type": "code",
   "execution_count": null,
   "metadata": {},
   "outputs": [],
   "source": [
    "mesh.radius"
   ]
  },
  {
   "cell_type": "code",
   "execution_count": null,
   "metadata": {},
   "outputs": [],
   "source": [
    "import numpy as np\n",
    "\n",
    "def analytic(lons, lats, k1, k2):\n",
    "     return np.cos(k1*lons) * np.sin(k2*lats)\n",
    "\n",
    "def analytic_ddlon(lons, lats, k1, k2):\n",
    "     return -k1 * np.sin(k1*lons) * np.sin(k2*lats) / np.cos(lats)\n",
    "\n",
    "def analytic_ddlat(lons, lats, k1, k2):\n",
    "     return k2 * np.cos(k1*lons) * np.cos(k2*lats) \n",
    "\n",
    "analytic_sol = analytic(mesh.tri.lons, mesh.tri.lats, 5.0, 2.0)\n",
    "analytic_sol_ddlon = analytic_ddlon(mesh.tri.lons, mesh.tri.lats, 5.0, 2.0)\n",
    "analytic_sol_ddlat = analytic_ddlat(mesh.tri.lons, mesh.tri.lats, 5.0, 2.0)"
   ]
  },
  {
   "cell_type": "code",
   "execution_count": null,
   "metadata": {},
   "outputs": [],
   "source": [
    "analytic_sol_ddlat"
   ]
  },
  {
   "cell_type": "code",
   "execution_count": null,
   "metadata": {},
   "outputs": [],
   "source": [
    "from quagmire.function import symbol"
   ]
  },
  {
   "cell_type": "code",
   "execution_count": null,
   "metadata": {},
   "outputs": [],
   "source": [
    "psi = symbol(name=\"psi\", lname=r\"\\psi\")\n",
    "phi = symbol(name=\"phi\", lname=r\"\\phi\")\n"
   ]
  },
  {
   "cell_type": "code",
   "execution_count": null,
   "metadata": {},
   "outputs": [],
   "source": [
    "phi.derivative(0).derivative(1)"
   ]
  },
  {
   "cell_type": "code",
   "execution_count": null,
   "metadata": {},
   "outputs": [],
   "source": [
    "H = phi / psi\n",
    "H.math()\n",
    "H"
   ]
  },
  {
   "cell_type": "code",
   "execution_count": null,
   "metadata": {},
   "outputs": [],
   "source": [
    "H.derivative(1)"
   ]
  },
  {
   "cell_type": "code",
   "execution_count": null,
   "metadata": {},
   "outputs": [],
   "source": [
    "psi.display()\n",
    "psi.substitute(parameter(1))\n",
    "phi.substitute(fn.math.cos(X))\n",
    "# print(psi.math())\n",
    "psi.display()\n",
    "phi.display()"
   ]
  },
  {
   "cell_type": "code",
   "execution_count": null,
   "metadata": {},
   "outputs": [],
   "source": []
  },
  {
   "cell_type": "code",
   "execution_count": null,
   "metadata": {},
   "outputs": [],
   "source": [
    "print(psi.description, psi.latex )\n",
    "psi.display()\n",
    "print(psi.math())\n",
    "psi.display()\n",
    "from IPython.display import display, Math\n",
    "display(Math(psi.math()))"
   ]
  },
  {
   "cell_type": "code",
   "execution_count": null,
   "metadata": {},
   "outputs": [],
   "source": [
    "(phi+psi)"
   ]
  },
  {
   "cell_type": "code",
   "execution_count": null,
   "metadata": {},
   "outputs": [],
   "source": [
    "fn.math.sin(H).math()"
   ]
  },
  {
   "cell_type": "code",
   "execution_count": null,
   "metadata": {},
   "outputs": [],
   "source": [
    "H"
   ]
  },
  {
   "cell_type": "code",
   "execution_count": null,
   "metadata": {},
   "outputs": [],
   "source": [
    "psi.evaluate((0.0,0.0))"
   ]
  },
  {
   "cell_type": "code",
   "execution_count": null,
   "metadata": {},
   "outputs": [],
   "source": [
    "H.evaluate((0.0,0.0))"
   ]
  },
  {
   "cell_type": "code",
   "execution_count": null,
   "metadata": {},
   "outputs": [],
   "source": []
  }
 ],
 "metadata": {
  "kernelspec": {
   "display_name": "Python 3",
   "language": "python",
   "name": "python3"
  },
  "language_info": {
   "codemirror_mode": {
    "name": "ipython",
    "version": 3
   },
   "file_extension": ".py",
   "mimetype": "text/x-python",
   "name": "python",
   "nbconvert_exporter": "python",
   "pygments_lexer": "ipython3",
   "version": "3.7.0"
  }
 },
 "nbformat": 4,
 "nbformat_minor": 4
}
