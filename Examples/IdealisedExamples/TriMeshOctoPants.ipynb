{
 "cells": [
  {
   "cell_type": "markdown",
   "metadata": {},
   "source": [
    "# TriMeshes and the Octopants Landscape\n",
    "\n"
   ]
  },
  {
   "cell_type": "code",
   "execution_count": null,
   "metadata": {},
   "outputs": [],
   "source": [
    "import matplotlib.pyplot as plt\n",
    "import numpy as np\n",
    "\n",
    "from quagmire import tools as meshtools\n",
    "%matplotlib inline"
   ]
  },
  {
   "cell_type": "markdown",
   "metadata": {},
   "source": [
    "## TriMesh\n",
    "\n"
   ]
  },
  {
   "cell_type": "code",
   "execution_count": null,
   "metadata": {},
   "outputs": [],
   "source": [
    "from quagmire import QuagMesh \n",
    "\n",
    "minX, maxX = -5.0, 5.0\n",
    "minY, maxY = -5.0, 5.0,\n",
    "\n",
    "spacingX = 0.05\n",
    "spacingY = 0.05\n",
    "\n",
    "x, y, simplices = meshtools.elliptical_mesh(minX, maxX, minY, maxY, spacingX, spacingY, 1.)\n",
    "DM = meshtools.create_DMPlex(x, y, simplices, refinement_levels=2)\n",
    "\n",
    "mesh = QuagMesh(DM)\n",
    "\n",
    "print( \"\\nNumber of points in the triangulation: {}\".format(mesh.npoints))"
   ]
  },
  {
   "cell_type": "code",
   "execution_count": null,
   "metadata": {},
   "outputs": [],
   "source": [
    "x = mesh.coords[:,0]\n",
    "y = mesh.coords[:,1]\n",
    "bmask = mesh.bmask\n",
    "\n",
    "radius  = np.sqrt((x**2 + y**2))\n",
    "theta   = np.arctan2(y,x)\n",
    "\n",
    "height  = np.exp(-0.025*(x**2 + y**2)**2) + 0.25 * (0.2*radius)**4  * np.cos(10.0*theta)**2 ## Less so\n",
    "height  += 0.5 * (1.0-0.2*radius)\n",
    "\n",
    "rainfall = np.ones_like(height)\n",
    "rainfall[np.where( radius > 5.0)] = 0.0 \n",
    "\n",
    "with mesh.deform_topography():\n",
    "    mesh.topography.data = height"
   ]
  },
  {
   "cell_type": "code",
   "execution_count": null,
   "metadata": {},
   "outputs": [],
   "source": [
    "mo1 = mesh.identify_outflow_points()\n",
    "i = np.argsort(theta[mo1])\n",
    "outflows = mo1[i]"
   ]
  },
  {
   "cell_type": "code",
   "execution_count": null,
   "metadata": {},
   "outputs": [],
   "source": [
    "mesh.downhill_neighbours = 2\n",
    "flowpaths = mesh.cumulative_flow(rainfall*mesh.area)\n",
    "logpaths = np.log10(1e-10 + flowpaths)\n",
    "sqrtpaths = np.sqrt(flowpaths)\n",
    "\n",
    "mesh.downhill_neighbours = 3\n",
    "flowpaths3 = mesh.cumulative_flow(rainfall*mesh.area)\n",
    "logpaths3 = np.log10(1e-10 + flowpaths3)\n",
    "sqrtpaths3 = np.sqrt(flowpaths3)\n",
    "\n",
    "mesh.downhill_neighbours = 1\n",
    "flowpaths1 = mesh.cumulative_flow(rainfall*mesh.area)\n",
    "logpaths1 = np.log10(1e-10 + flowpaths1)\n",
    "sqrtpaths1 = np.sqrt(flowpaths1)\n"
   ]
  },
  {
   "cell_type": "code",
   "execution_count": null,
   "metadata": {},
   "outputs": [],
   "source": [
    "# Choose a scale to plot all six flow results\n",
    "fmax = 1.0"
   ]
  },
  {
   "cell_type": "code",
   "execution_count": null,
   "metadata": {},
   "outputs": [],
   "source": [
    "from scipy import ndimage\n",
    "\n",
    "fig = plt.figure(1, figsize=(10.0, 10.0))\n",
    "ax = fig.add_subplot(111)\n",
    "ax.axis('off')\n",
    "sc = ax.scatter(x[bmask], y[bmask], s=1, c=mesh.topography.data[bmask], vmin=0.0, vmax=1.0)\n",
    "sc = ax.scatter(x[~bmask], y[~bmask], s=5, c=mesh.topography.data[~bmask], vmin=0.0, vmax=1.0)\n",
    "\n",
    "# fig.colorbar(sc, ax=ax, label='height')\n",
    "plt.show()"
   ]
  },
  {
   "cell_type": "code",
   "execution_count": null,
   "metadata": {},
   "outputs": [],
   "source": [
    "fig, (ax1, ax2) = plt.subplots(1,2, figsize=(20,10))\n",
    "for ax in [ax1, ax2]:\n",
    "    ax.axis('equal')\n",
    "    ax.axis('off')\n",
    "    \n",
    "    \n",
    "im1 = ax1.tripcolor(x, y, mesh.tri.simplices, flowpaths1 ,     cmap='Blues')\n",
    "im2 = ax2.tripcolor(x, y, mesh.tri.simplices, flowpaths,       cmap=\"Blues\")\n",
    "\n",
    "fig.colorbar(im1, ax=ax1)\n",
    "fig.colorbar(im2, ax=ax2)\n",
    "plt.show()"
   ]
  }
 ],
 "metadata": {
  "kernelspec": {
   "display_name": "Python 3",
   "language": "python",
   "name": "python3"
  },
  "language_info": {
   "codemirror_mode": {
    "name": "ipython",
    "version": 3
   },
   "file_extension": ".py",
   "mimetype": "text/x-python",
   "name": "python",
   "nbconvert_exporter": "python",
   "pygments_lexer": "ipython3",
   "version": "3.6.9"
  }
 },
 "nbformat": 4,
 "nbformat_minor": 4
}
